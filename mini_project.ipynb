{
 "cells": [
  {
   "cell_type": "markdown",
   "metadata": {},
   "source": [
    "# Mini poject by Ludvig Flodin - ludflo-0\n",
    "\n",
    "In this project I will try ## on five datasets (Iris, Wine, Breast cancer, Madelon, Gas sensor array drift at different concentrations)\n",
    "\n",
    "\n",
    "Average accuracy SOM = "
   ]
  },
  {
   "cell_type": "markdown",
   "metadata": {},
   "source": [
    "## TODO\n",
    "\n",
    "Fix data imbalance car eval\n",
    "\n",
    "Try arrythmia using smote"
   ]
  },
  {
   "cell_type": "markdown",
   "metadata": {},
   "source": [
    "# Data"
   ]
  },
  {
   "cell_type": "markdown",
   "metadata": {},
   "source": [
    "## Load Iris (150 instances, 4 features)\n",
    "\n",
    "Three different iris classes"
   ]
  },
  {
   "cell_type": "code",
   "execution_count": 21,
   "metadata": {},
   "outputs": [
    {
     "name": "stdout",
     "output_type": "stream",
     "text": [
      "target\n",
      "0    50\n",
      "1    50\n",
      "2    50\n",
      "Name: count, dtype: int64\n",
      "(120, 4)\n",
      "(15, 4)\n"
     ]
    }
   ],
   "source": [
    "import numpy as np\n",
    "from sklearn.datasets import load_iris\n",
    "import pandas as pd\n",
    "from sklearn.model_selection import train_test_split\n",
    "\n",
    "iris = load_iris(as_frame=True)\n",
    "data, labels = iris.data, iris.target\n",
    "\n",
    "print(labels.value_counts())\n",
    "data = np.array(data)\n",
    "labels = np.array(labels)\n",
    "iris_x_train, X_temp, iris_y_train, y_temp = train_test_split(data, labels, test_size=0.2, random_state=42)\n",
    "iris_x_val, iris_x_test, iris_y_val, iris_y_test = train_test_split(X_temp, y_temp, test_size=0.5, random_state=42)\n",
    "\n",
    "#iris_x_train, iris_x_test, iris_y_train, iris_y_test = train_test_split(data, labels, test_size=0.2, random_state=1)\n",
    "\n",
    "print(iris_x_train.shape)\n",
    "print(iris_x_test.shape)\n"
   ]
  },
  {
   "cell_type": "code",
   "execution_count": 22,
   "metadata": {},
   "outputs": [
    {
     "name": "stdout",
     "output_type": "stream",
     "text": [
      "[0 0 2 2 1 2 2 1 0 0 2 2 0 2 1]\n",
      "[2 1 2 1 1 1 0 2 0 1 1 2 0 0 0]\n"
     ]
    }
   ],
   "source": [
    "sample = 120\n",
    "iris_x_train = iris_x_train.reshape(iris_x_train.shape[0],4).astype(float)[:sample,:]\n",
    "iris_y_train = np.array(iris_y_train.astype(int)[:sample])\n",
    "\n",
    "sample = 15\n",
    "iris_x_test = iris_x_test.reshape(iris_x_test.shape[0],4).astype(float)[:sample,:]\n",
    "iris_y_test = np.array(iris_y_test.astype(int)[:sample])\n",
    "\n",
    "sample = 15\n",
    "iris_x_val = iris_x_val.reshape(iris_x_test.shape[0],4).astype(float)[:sample,:]\n",
    "iris_y_val = np.array(iris_y_val.astype(int)[:sample])\n",
    "\n",
    "print(iris_y_val)\n",
    "print(iris_y_test)"
   ]
  },
  {
   "cell_type": "markdown",
   "metadata": {},
   "source": [
    "## Load Wine (178 instances, 13 features)\n",
    "\n",
    "The classes are three wine regions"
   ]
  },
  {
   "cell_type": "code",
   "execution_count": 33,
   "metadata": {},
   "outputs": [
    {
     "name": "stdout",
     "output_type": "stream",
     "text": [
      "target\n",
      "1    71\n",
      "0    59\n",
      "2    48\n",
      "Name: count, dtype: int64\n"
     ]
    }
   ],
   "source": [
    "from sklearn.datasets import load_wine\n",
    "import numpy as np\n",
    "import pandas as pd\n",
    "\n",
    "wine = load_wine(as_frame = True)\n",
    "data, labels = wine.data, wine.target\n",
    "print(labels.value_counts())\n",
    "\n",
    "data = np.array(data)\n",
    "labels = np.array(labels)\n",
    "\n",
    "wine_x_train, X_temp, wine_y_train, y_temp = train_test_split(data, labels, test_size=0.2, random_state=42)\n",
    "wine_x_val, wine_x_test, wine_y_val, wine_y_test = train_test_split(X_temp, y_temp, test_size=0.5, random_state=42)\n",
    "\n",
    "wine_x_train = wine_x_train.reshape(wine_x_train.shape[0],13).astype(float)\n",
    "wine_y_train = np.array(wine_y_train.astype(int))\n",
    "wine_x_test = wine_x_test.reshape(wine_x_test.shape[0],13).astype(float)\n",
    "wine_y_test = np.array(wine_y_test.astype(int))\n",
    "wine_x_val = wine_x_test.reshape(wine_x_val.shape[0],13).astype(float)\n",
    "wine_y_val = np.array(wine_y_val.astype(int))"
   ]
  },
  {
   "cell_type": "markdown",
   "metadata": {},
   "source": [
    "## Load breast cancer (569 instances, 30 features)\n",
    "\n",
    "Binary classification i guess"
   ]
  },
  {
   "cell_type": "code",
   "execution_count": 29,
   "metadata": {},
   "outputs": [
    {
     "name": "stdout",
     "output_type": "stream",
     "text": [
      "target\n",
      "1    357\n",
      "0    212\n",
      "Name: count, dtype: int64\n",
      "(569, 30)\n"
     ]
    }
   ],
   "source": [
    "from sklearn.datasets import load_breast_cancer\n",
    "import numpy as np\n",
    "import pandas as pd\n",
    "\n",
    "cancer = load_breast_cancer(as_frame = True)\n",
    "data, labels = cancer.data, cancer.target\n",
    "print(labels.value_counts())\n",
    "print(data.shape)\n",
    "data = np.array(data)\n",
    "labels = np.array(labels)\n",
    "\n",
    "cancer_x_train, X_temp, cancer_y_train, y_temp = train_test_split(data, labels, test_size=0.2, random_state=42)\n",
    "cancer_x_val, cancer_x_test, cancer_y_val, cancer_y_test = train_test_split(X_temp, y_temp, test_size=0.5, random_state=42)\n",
    "\n",
    "\n"
   ]
  },
  {
   "cell_type": "code",
   "execution_count": 30,
   "metadata": {},
   "outputs": [],
   "source": [
    "cancer_x_train = cancer_x_train.reshape(cancer_x_train.shape[0],30).astype(float)\n",
    "cancer_y_train = np.array(cancer_y_train.astype(int))\n",
    "cancer_x_test = cancer_x_test.reshape(cancer_x_test.shape[0],30).astype(float)\n",
    "cancer_y_test = np.array(cancer_y_test.astype(int))\n",
    "cancer_x_val = cancer_x_val.reshape(cancer_x_test.shape[0],30).astype(float)\n",
    "cancer_y_val = np.array(cancer_y_val.astype(int))"
   ]
  },
  {
   "cell_type": "markdown",
   "metadata": {},
   "source": [
    "## Load car eval (1728 instances, 6 features)\n",
    "\n",
    "\n",
    "evaulation level (unacceptable, acceptable, good, very good)"
   ]
  },
  {
   "cell_type": "code",
   "execution_count": 39,
   "metadata": {},
   "outputs": [
    {
     "name": "stdout",
     "output_type": "stream",
     "text": [
      "class\n",
      "unacc    1210\n",
      "acc       384\n",
      "good       69\n",
      "vgood      65\n",
      "Name: count, dtype: int64\n",
      "(1728, 6)\n"
     ]
    },
    {
     "name": "stderr",
     "output_type": "stream",
     "text": [
      "/opt/anaconda3/lib/python3.12/site-packages/sklearn/preprocessing/_label.py:114: DataConversionWarning: A column-vector y was passed when a 1d array was expected. Please change the shape of y to (n_samples, ), for example using ravel().\n",
      "  y = column_or_1d(y, warn=True)\n"
     ]
    }
   ],
   "source": [
    "from ucimlrepo import fetch_ucirepo \n",
    "from sklearn.preprocessing import LabelEncoder\n",
    "  \n",
    "# fetch dataset \n",
    "car_evaluation = fetch_ucirepo(id=19) \n",
    "\n",
    "data = car_evaluation.data.features\n",
    "labels = car_evaluation.data.targets\n",
    "\n",
    "data_encoded = data.copy()\n",
    "label_encoders = {} \n",
    "\n",
    "# encode str to float\n",
    "for col in data.columns:\n",
    "    if data[col].dtype == 'object':\n",
    "        le = LabelEncoder()\n",
    "        data_encoded[col] = le.fit_transform(data[col])\n",
    "        label_encoders[col] = le \n",
    "\n",
    "label_encoder = LabelEncoder()\n",
    "labels_encoded = label_encoder.fit_transform(labels)\n",
    "\n",
    "data_encoded = np.array(data_encoded)\n",
    "labels_encoded = np.array(labels_encoded)\n",
    "\n",
    "print(labels.value_counts())\n",
    "print(data.shape)\n",
    "data = np.array(data)\n",
    "labels = np.array(labels)\n",
    "\n",
    "car_x_train, X_temp, car_y_train, y_temp = train_test_split(data_encoded, labels_encoded, test_size=0.2, random_state=42)\n",
    "car_x_val, car_x_test, car_y_val, car_y_test = train_test_split(X_temp, y_temp, test_size=0.5, random_state=42)\n",
    "car_x_train = car_x_train.reshape(car_x_train.shape[0],6).astype(float)\n",
    "car_y_train = np.array(car_y_train.astype(int))\n",
    "car_x_test = car_x_test.reshape(car_x_test.shape[0],6).astype(float)\n",
    "car_y_test = np.array(car_y_test.astype(int))\n",
    "car_x_val = car_x_val.reshape(car_x_val.shape[0],6).astype(float)\n",
    "car_y_val = np.array(car_y_val.astype(int))\n"
   ]
  },
  {
   "cell_type": "markdown",
   "metadata": {},
   "source": [
    "## Load Connectionist bench\n"
   ]
  },
  {
   "cell_type": "code",
   "execution_count": 72,
   "metadata": {},
   "outputs": [
    {
     "name": "stdout",
     "output_type": "stream",
     "text": [
      "class\n",
      "M        111\n",
      "R         97\n",
      "Name: count, dtype: int64\n",
      "(208, 60)\n"
     ]
    },
    {
     "name": "stderr",
     "output_type": "stream",
     "text": [
      "/opt/anaconda3/lib/python3.12/site-packages/sklearn/preprocessing/_label.py:114: DataConversionWarning: A column-vector y was passed when a 1d array was expected. Please change the shape of y to (n_samples, ), for example using ravel().\n",
      "  y = column_or_1d(y, warn=True)\n"
     ]
    }
   ],
   "source": [
    "from ucimlrepo import fetch_ucirepo \n",
    "from sklearn.preprocessing import LabelEncoder\n",
    "  \n",
    "# fetch dataset \n",
    "connectionist_bench_sonar_mines_vs_rocks = fetch_ucirepo(id=151) \n",
    "\n",
    "data = connectionist_bench_sonar_mines_vs_rocks.data.features\n",
    "labels = connectionist_bench_sonar_mines_vs_rocks.data.targets\n",
    "\n",
    "data_encoded = data.copy()\n",
    "label_encoders = {} \n",
    "\n",
    "# encode str to \n",
    "for col in data.columns:\n",
    "    if data[col].dtype == 'object':\n",
    "        le = LabelEncoder()\n",
    "        data_encoded[col] = le.fit_transform(data[col])\n",
    "        label_encoders[col] = le \n",
    "\n",
    "label_encoder = LabelEncoder()\n",
    "labels_encoded = label_encoder.fit_transform(labels)\n",
    "\n",
    "data_encoded = np.array(data_encoded)\n",
    "labels_encoded = np.array(labels_encoded)\n",
    "\n",
    "print(labels.value_counts())\n",
    "print(data.shape)\n",
    "data = np.array(data)\n",
    "labels = np.array(labels)\n",
    "\n",
    "con_x_train, X_temp, con_y_train, y_temp = train_test_split(data_encoded, labels_encoded, test_size=0.2, random_state=4)\n",
    "con_x_val, con_x_test, con_y_val, con_y_test = train_test_split(X_temp, y_temp, test_size=0.5, random_state=4)\n",
    "\n",
    "con_x_train = con_x_train.reshape(con_x_train.shape[0],60).astype(float)\n",
    "con_y_train = np.array(con_y_train.astype(int))\n",
    "con_x_test = con_x_test.reshape(con_x_test.shape[0],60).astype(float)\n",
    "con_y_test = np.array(con_y_test.astype(int))\n",
    "con_x_val = con_x_val.reshape(con_x_val.shape[0],60).astype(float)\n",
    "con_y_val = np.array(con_y_val.astype(int))"
   ]
  },
  {
   "cell_type": "code",
   "execution_count": 73,
   "metadata": {},
   "outputs": [
    {
     "name": "stdout",
     "output_type": "stream",
     "text": [
      "[0 0 0 0 1 0 0 1 0 0 1 1 0 1 1 0 1 0 0 0 1]\n",
      "[[0.0129 0.0141 0.0309 ... 0.0017 0.0024 0.0029]\n",
      " [0.0221 0.0065 0.0164 ... 0.007  0.0074 0.0038]\n",
      " [0.0235 0.022  0.0167 ... 0.0052 0.0027 0.0021]\n",
      " ...\n",
      " [0.0201 0.0165 0.0344 ... 0.0105 0.0082 0.0036]\n",
      " [0.0635 0.0709 0.0453 ... 0.0085 0.004  0.0051]\n",
      " [0.0453 0.0523 0.0843 ... 0.0049 0.0052 0.0044]]\n"
     ]
    }
   ],
   "source": [
    "print(con_y_val)\n",
    "print(con_x_val)\n"
   ]
  },
  {
   "cell_type": "markdown",
   "metadata": {},
   "source": [
    "# Models"
   ]
  },
  {
   "cell_type": "markdown",
   "metadata": {},
   "source": [
    "### Import and functions"
   ]
  },
  {
   "cell_type": "code",
   "execution_count": 34,
   "metadata": {},
   "outputs": [],
   "source": [
    "import torch\n",
    "\n",
    "device = torch.device(\"cuda:0\" if torch.cuda.is_available() else \"cpu\")\n",
    "\n",
    "def train_model(model, criterion, optimizer, train_loader, val_loader, num_epochs):\n",
    "    best_val_loss = 1000\n",
    "    best_model = model\n",
    "    \n",
    "    for epoch in range(num_epochs):\n",
    "        model.train()\n",
    "        train_loss = 0.0\n",
    "        for inputs, labels in train_loader:\n",
    "            inputs = inputs.to(device)\n",
    "            labels = labels.to(device)\n",
    "            optimizer.zero_grad()\n",
    "            outputs = model(inputs)\n",
    "            loss = criterion(outputs, labels)\n",
    "            if device == \"cuda:0\":loss = loss.cuda()\n",
    "            loss.backward()\n",
    "            optimizer.step()\n",
    "            train_loss += loss.item() * inputs.size(0)\n",
    "        \n",
    "        train_loss /= len(train_loader.dataset)\n",
    "        \n",
    "        # Validation\n",
    "        model.eval()\n",
    "        val_loss = 0.0\n",
    "        with torch.no_grad():\n",
    "            for inputs, labels in val_loader:\n",
    "                inputs = inputs.to(device)\n",
    "                labels = labels.to(device)\n",
    "                outputs = model(inputs)\n",
    "            \n",
    "                loss = criterion(outputs, labels)\n",
    "                val_loss += loss.item() * inputs.size(0)\n",
    "        \n",
    "        val_loss /= len(val_loader.dataset)\n",
    "        \n",
    "        if (epoch + 1) % 10 == 0:\n",
    "            print(f'Epoch {epoch+1}/{num_epochs}, Train Loss: {train_loss:.4f}, Val Loss: {val_loss:.4f}')\n",
    "        \n",
    "        # Save the best model\n",
    "        if val_loss < best_val_loss:\n",
    "            best_val_loss = val_loss\n",
    "            best_model = model\n",
    "    return best_model"
   ]
  },
  {
   "cell_type": "markdown",
   "metadata": {},
   "source": [
    "### Runs"
   ]
  },
  {
   "cell_type": "markdown",
   "metadata": {},
   "source": [
    "#### Iris"
   ]
  },
  {
   "cell_type": "code",
   "execution_count": 42,
   "metadata": {},
   "outputs": [
    {
     "name": "stdout",
     "output_type": "stream",
     "text": [
      "Epoch 10/70, Train Loss: 0.5290, Val Loss: 0.4954\n",
      "Epoch 20/70, Train Loss: 0.3177, Val Loss: 0.3427\n",
      "Epoch 30/70, Train Loss: 0.1910, Val Loss: 0.1924\n",
      "Epoch 40/70, Train Loss: 0.1276, Val Loss: 0.1348\n",
      "Epoch 50/70, Train Loss: 0.1017, Val Loss: 0.1311\n",
      "Epoch 60/70, Train Loss: 0.0869, Val Loss: 0.1071\n",
      "Epoch 70/70, Train Loss: 0.0822, Val Loss: 0.1080\n"
     ]
    }
   ],
   "source": [
    "import torch\n",
    "import torch.nn as nn\n",
    "import optuna\n",
    "from torch.utils.data import DataLoader, TensorDataset\n",
    "\n",
    "device = torch.device(\"cuda:0\" if torch.cuda.is_available() else \"cpu\")\n",
    "\n",
    "model = nn.Sequential(\n",
    "nn.Linear(4,100),\n",
    "nn.ReLU(),\n",
    "nn.Linear(100, 100),\n",
    "nn.Sigmoid(),\n",
    "nn.Linear(100,3),\n",
    ")\n",
    "\n",
    "BATCH_SIZE = 20\n",
    "LEARNING_RATE = 0.001\n",
    "EPOCHS = 70\n",
    "WEIGHT_DECAY = 1e-5\n",
    "loss_function = nn.CrossEntropyLoss()\n",
    "optimizer = torch.optim.Adam(model.parameters(), lr=LEARNING_RATE, weight_decay=WEIGHT_DECAY)\n",
    "\n",
    "# convert numpy arrays to torch dataloader\n",
    "train_loader = DataLoader(TensorDataset(torch.FloatTensor(iris_x_train),torch.LongTensor(iris_y_train)),batch_size=BATCH_SIZE, shuffle=True)\n",
    "val_loader = DataLoader(TensorDataset(torch.FloatTensor(iris_x_val),torch.LongTensor(iris_y_val)),batch_size=BATCH_SIZE, shuffle=True)\n",
    "test_loader = DataLoader(TensorDataset(torch.FloatTensor(iris_x_test),torch.LongTensor(iris_y_test)),batch_size=BATCH_SIZE, shuffle=True)\n",
    "iris_mlp = train_model( model,\n",
    "                        loss_function,\n",
    "                        optimizer,\n",
    "                        train_loader,\n",
    "                        val_loader,\n",
    "                        EPOCHS)\n"
   ]
  },
  {
   "cell_type": "code",
   "execution_count": 43,
   "metadata": {},
   "outputs": [],
   "source": [
    "iris_mlp.eval()\n",
    "correct = 0\n",
    "total = 0\n",
    "with torch.no_grad():\n",
    "    for inputs, labels in test_loader:\n",
    "        inputs, labels = inputs.to(device), labels.to(device)\n",
    "        outputs = iris_mlp(inputs)\n",
    "        _, predicted = torch.max(outputs, 1)\n",
    "        total += labels.size(0)\n",
    "        correct += (predicted == labels).sum().item()\n",
    "\n",
    "accuracy = correct / total\n",
    "\n"
   ]
  },
  {
   "cell_type": "code",
   "execution_count": 41,
   "metadata": {},
   "outputs": [
    {
     "name": "stderr",
     "output_type": "stream",
     "text": [
      "[I 2025-01-03 17:17:36,255] A new study created in memory with name: no-name-30d4297f-f4a3-4cf5-8f99-a240d19dd2a4\n"
     ]
    },
    {
     "name": "stdout",
     "output_type": "stream",
     "text": [
      "Epoch 10/44, Train Loss: 0.1896, Val Loss: 0.2238\n",
      "Epoch 20/44, Train Loss: 0.0859, Val Loss: 0.0663\n",
      "Epoch 30/44, Train Loss: 0.0700, Val Loss: 0.1275\n"
     ]
    },
    {
     "name": "stderr",
     "output_type": "stream",
     "text": [
      "[I 2025-01-03 17:17:36,633] Trial 0 finished with value: 1.0 and parameters: {'BATCH SIZE': 36, 'LEARNING_RATE': 0.006801690523527771, 'EPOCHS': 44, 'WEIGHT_DECAY': 5.0553410136151856e-05}. Best is trial 0 with value: 1.0.\n"
     ]
    },
    {
     "name": "stdout",
     "output_type": "stream",
     "text": [
      "Epoch 40/44, Train Loss: 0.0952, Val Loss: 0.0695\n",
      "Epoch 10/78, Train Loss: 1.0166, Val Loss: 0.9930\n",
      "Epoch 20/78, Train Loss: 0.9088, Val Loss: 0.8769\n",
      "Epoch 30/78, Train Loss: 0.7868, Val Loss: 0.7498\n",
      "Epoch 40/78, Train Loss: 0.6701, Val Loss: 0.6545\n",
      "Epoch 50/78, Train Loss: 0.5753, Val Loss: 0.5665\n",
      "Epoch 60/78, Train Loss: 0.5065, Val Loss: 0.4950\n"
     ]
    },
    {
     "name": "stderr",
     "output_type": "stream",
     "text": [
      "[I 2025-01-03 17:17:37,373] Trial 1 finished with value: 1.0 and parameters: {'BATCH SIZE': 29, 'LEARNING_RATE': 0.00021545383253923078, 'EPOCHS': 78, 'WEIGHT_DECAY': 0.0005555366717204152}. Best is trial 0 with value: 1.0.\n"
     ]
    },
    {
     "name": "stdout",
     "output_type": "stream",
     "text": [
      "Epoch 70/78, Train Loss: 0.4536, Val Loss: 0.4573\n",
      "Epoch 10/76, Train Loss: 0.9817, Val Loss: 0.9705\n",
      "Epoch 20/76, Train Loss: 0.8525, Val Loss: 0.8377\n",
      "Epoch 30/76, Train Loss: 0.7180, Val Loss: 0.6979\n",
      "Epoch 40/76, Train Loss: 0.6112, Val Loss: 0.5984\n",
      "Epoch 50/76, Train Loss: 0.5380, Val Loss: 0.5308\n",
      "Epoch 60/76, Train Loss: 0.4862, Val Loss: 0.4847\n"
     ]
    },
    {
     "name": "stderr",
     "output_type": "stream",
     "text": [
      "[I 2025-01-03 17:17:38,275] Trial 2 finished with value: 1.0 and parameters: {'BATCH SIZE': 15, 'LEARNING_RATE': 0.00013215893533436742, 'EPOCHS': 76, 'WEIGHT_DECAY': 3.103970793742392e-05}. Best is trial 0 with value: 1.0.\n"
     ]
    },
    {
     "name": "stdout",
     "output_type": "stream",
     "text": [
      "Epoch 70/76, Train Loss: 0.4441, Val Loss: 0.4453\n",
      "Epoch 10/41, Train Loss: 0.9677, Val Loss: 0.9534\n",
      "Epoch 20/41, Train Loss: 0.7888, Val Loss: 0.7620\n"
     ]
    },
    {
     "name": "stderr",
     "output_type": "stream",
     "text": [
      "[I 2025-01-03 17:17:39,030] Trial 3 finished with value: 1.0 and parameters: {'BATCH SIZE': 8, 'LEARNING_RATE': 0.0001404073855083217, 'EPOCHS': 41, 'WEIGHT_DECAY': 0.0002672733592214505}. Best is trial 0 with value: 1.0.\n"
     ]
    },
    {
     "name": "stdout",
     "output_type": "stream",
     "text": [
      "Epoch 30/41, Train Loss: 0.6193, Val Loss: 0.5978\n",
      "Epoch 40/41, Train Loss: 0.5085, Val Loss: 0.5060\n"
     ]
    },
    {
     "name": "stderr",
     "output_type": "stream",
     "text": [
      "[I 2025-01-03 17:17:39,257] Trial 4 finished with value: 0.9333333333333333 and parameters: {'BATCH SIZE': 26, 'LEARNING_RATE': 0.004817782502710865, 'EPOCHS': 31, 'WEIGHT_DECAY': 2.103248017002711e-05}. Best is trial 0 with value: 1.0.\n"
     ]
    },
    {
     "name": "stdout",
     "output_type": "stream",
     "text": [
      "Epoch 10/31, Train Loss: 0.1791, Val Loss: 0.2198\n",
      "Epoch 20/31, Train Loss: 0.1442, Val Loss: 0.1297\n",
      "Epoch 30/31, Train Loss: 0.0769, Val Loss: 0.2509\n",
      "Epoch 10/78, Train Loss: 0.1208, Val Loss: 0.0691\n",
      "Epoch 20/78, Train Loss: 0.1075, Val Loss: 0.0429\n",
      "Epoch 30/78, Train Loss: 0.1006, Val Loss: 0.1171\n",
      "Epoch 40/78, Train Loss: 0.0827, Val Loss: 0.0267\n",
      "Epoch 50/78, Train Loss: 0.0686, Val Loss: 0.0238\n",
      "Epoch 60/78, Train Loss: 0.1108, Val Loss: 0.0862\n",
      "Epoch 70/78, Train Loss: 0.0823, Val Loss: 0.0339\n"
     ]
    },
    {
     "name": "stderr",
     "output_type": "stream",
     "text": [
      "[I 2025-01-03 17:17:41,161] Trial 5 finished with value: 0.9333333333333333 and parameters: {'BATCH SIZE': 6, 'LEARNING_RATE': 0.0088378666012493, 'EPOCHS': 78, 'WEIGHT_DECAY': 1.29393530894525e-05}. Best is trial 0 with value: 1.0.\n"
     ]
    },
    {
     "name": "stdout",
     "output_type": "stream",
     "text": [
      "Epoch 10/97, Train Loss: 0.1056, Val Loss: 0.5663\n",
      "Epoch 20/97, Train Loss: 0.0736, Val Loss: 0.0698\n",
      "Epoch 30/97, Train Loss: 0.0652, Val Loss: 0.1399\n",
      "Epoch 40/97, Train Loss: 0.0900, Val Loss: 0.0841\n",
      "Epoch 50/97, Train Loss: 0.0694, Val Loss: 0.0342\n",
      "Epoch 60/97, Train Loss: 0.0599, Val Loss: 0.0355\n",
      "Epoch 70/97, Train Loss: 0.1877, Val Loss: 0.0338\n",
      "Epoch 80/97, Train Loss: 0.0667, Val Loss: 0.0654\n"
     ]
    },
    {
     "name": "stderr",
     "output_type": "stream",
     "text": [
      "[I 2025-01-03 17:17:42,037] Trial 6 finished with value: 1.0 and parameters: {'BATCH SIZE': 23, 'LEARNING_RATE': 0.009252731321548182, 'EPOCHS': 97, 'WEIGHT_DECAY': 2.544519207128698e-05}. Best is trial 0 with value: 1.0.\n"
     ]
    },
    {
     "name": "stdout",
     "output_type": "stream",
     "text": [
      "Epoch 90/97, Train Loss: 0.1142, Val Loss: 0.2237\n",
      "Epoch 10/65, Train Loss: 0.1838, Val Loss: 0.2205\n",
      "Epoch 20/65, Train Loss: 0.0995, Val Loss: 0.1505\n"
     ]
    },
    {
     "name": "stderr",
     "output_type": "stream",
     "text": [
      "[I 2025-01-03 17:17:42,359] Trial 7 finished with value: 1.0 and parameters: {'BATCH SIZE': 43, 'LEARNING_RATE': 0.007561527926119895, 'EPOCHS': 65, 'WEIGHT_DECAY': 0.000269630254040204}. Best is trial 0 with value: 1.0.\n"
     ]
    },
    {
     "name": "stdout",
     "output_type": "stream",
     "text": [
      "Epoch 30/65, Train Loss: 0.0721, Val Loss: 0.0816\n",
      "Epoch 40/65, Train Loss: 0.0700, Val Loss: 0.1836\n",
      "Epoch 50/65, Train Loss: 0.0675, Val Loss: 0.0485\n",
      "Epoch 60/65, Train Loss: 0.0734, Val Loss: 0.0797\n",
      "Epoch 10/73, Train Loss: 0.2315, Val Loss: 0.2105\n",
      "Epoch 20/73, Train Loss: 0.1071, Val Loss: 0.1482\n",
      "Epoch 30/73, Train Loss: 0.0758, Val Loss: 0.0926\n",
      "Epoch 40/73, Train Loss: 0.0727, Val Loss: 0.0612\n",
      "Epoch 50/73, Train Loss: 0.0619, Val Loss: 0.0403\n",
      "Epoch 60/73, Train Loss: 0.0685, Val Loss: 0.0797\n"
     ]
    },
    {
     "name": "stderr",
     "output_type": "stream",
     "text": [
      "[I 2025-01-03 17:17:43,230] Trial 8 finished with value: 1.0 and parameters: {'BATCH SIZE': 16, 'LEARNING_RATE': 0.002312843784085609, 'EPOCHS': 73, 'WEIGHT_DECAY': 6.001371573451615e-05}. Best is trial 0 with value: 1.0.\n"
     ]
    },
    {
     "name": "stdout",
     "output_type": "stream",
     "text": [
      "Epoch 70/73, Train Loss: 0.0651, Val Loss: 0.0283\n",
      "Epoch 10/72, Train Loss: 0.8467, Val Loss: 0.8317\n",
      "Epoch 20/72, Train Loss: 0.5891, Val Loss: 0.5755\n",
      "Epoch 30/72, Train Loss: 0.4478, Val Loss: 0.4457\n",
      "Epoch 40/72, Train Loss: 0.3621, Val Loss: 0.3786\n",
      "Epoch 50/72, Train Loss: 0.2951, Val Loss: 0.3461\n",
      "Epoch 60/72, Train Loss: 0.2387, Val Loss: 0.2605\n"
     ]
    },
    {
     "name": "stderr",
     "output_type": "stream",
     "text": [
      "[I 2025-01-03 17:17:43,690] Trial 9 finished with value: 1.0 and parameters: {'BATCH SIZE': 36, 'LEARNING_RATE': 0.000554042536663257, 'EPOCHS': 72, 'WEIGHT_DECAY': 0.00015443671571193976}. Best is trial 0 with value: 1.0.\n"
     ]
    },
    {
     "name": "stdout",
     "output_type": "stream",
     "text": [
      "Epoch 70/72, Train Loss: 0.1948, Val Loss: 0.2483\n",
      "Best parameters: {'BATCH SIZE': 36, 'LEARNING_RATE': 0.006801690523527771, 'EPOCHS': 44, 'WEIGHT_DECAY': 5.0553410136151856e-05}\n",
      "Best accuracy: 1.0\n"
     ]
    }
   ],
   "source": [
    "import torch\n",
    "import torch.nn as nn\n",
    "import optuna\n",
    "from torch.utils.data import DataLoader, TensorDataset\n",
    "\n",
    "device = torch.device(\"cuda:0\" if torch.cuda.is_available() else \"cpu\")\n",
    "\n",
    "BATCH_SIZE = 20\n",
    "LEARNING_RATE = 0.001\n",
    "EPOCHS = 70\n",
    "\n",
    "\n",
    "def objective(trial):\n",
    "\n",
    "    model = nn.Sequential(\n",
    "    nn.Linear(4,100),\n",
    "    nn.ReLU(),\n",
    "    nn.Linear(100, 100),\n",
    "    nn.Sigmoid(),\n",
    "    nn.Linear(100,3),\n",
    ")\n",
    "\n",
    "    BATCH_SIZE = trial.suggest_int(\"BATCH SIZE\", 5, 50)\n",
    "    LEARNING_RATE = trial.suggest_float(\"LEARNING_RATE\", 1e-4, 1e-2, log = True)\n",
    "    EPOCHS = trial.suggest_int(\"EPOCHS\", 10, 100)\n",
    "    WEIGHT_DECAY = trial.suggest_float(\"WEIGHT_DECAY\",1e-5, 1e-3, log=True)\n",
    "\n",
    "    loss_function = nn.CrossEntropyLoss()\n",
    "    optimizer = torch.optim.Adam(model.parameters(), lr=LEARNING_RATE, weight_decay=WEIGHT_DECAY)\n",
    "\n",
    "    # convert numpy arrays to torch dataloader\n",
    "    train_loader = DataLoader(TensorDataset(torch.FloatTensor(iris_x_train),torch.LongTensor(iris_y_train)),batch_size=BATCH_SIZE, shuffle=True)\n",
    "    val_loader = DataLoader(TensorDataset(torch.FloatTensor(iris_x_val),torch.LongTensor(iris_y_val)),batch_size=BATCH_SIZE, shuffle=True)\n",
    "    test_loader = DataLoader(TensorDataset(torch.FloatTensor(iris_x_test),torch.LongTensor(iris_y_test)),batch_size=BATCH_SIZE, shuffle=True)\n",
    "    iris_mlp = train_model( model,\n",
    "                            loss_function,\n",
    "                            optimizer,\n",
    "                            train_loader,\n",
    "                            val_loader,\n",
    "                            EPOCHS)\n",
    "    \n",
    "    iris_mlp.eval()\n",
    "    correct = 0\n",
    "    total = 0\n",
    "    with torch.no_grad():\n",
    "        for inputs, labels in test_loader:\n",
    "            inputs, labels = inputs.to(device), labels.to(device)\n",
    "            outputs = iris_mlp(inputs)\n",
    "            _, predicted = torch.max(outputs, 1)\n",
    "            total += labels.size(0)\n",
    "            correct += (predicted == labels).sum().item()\n",
    "\n",
    "    accuracy = correct / total\n",
    "    return accuracy \n",
    "    \n",
    "study = optuna.create_study(direction=\"maximize\")\n",
    "study.optimize(objective, n_trials=10)\n",
    "    \n",
    "print(\"Best parameters:\", study.best_params)\n",
    "print(\"Best accuracy:\", study.best_value)\n",
    "    "
   ]
  },
  {
   "cell_type": "code",
   "execution_count": null,
   "metadata": {},
   "outputs": [],
   "source": []
  },
  {
   "cell_type": "markdown",
   "metadata": {},
   "source": [
    "## SOM"
   ]
  },
  {
   "cell_type": "markdown",
   "metadata": {},
   "source": [
    "### Import and functions"
   ]
  },
  {
   "cell_type": "code",
   "execution_count": 23,
   "metadata": {},
   "outputs": [],
   "source": [
    "import numpy as np\n",
    "import numpy.matlib\n",
    "from matplotlib import pyplot as plt\n",
    "import math\n",
    "import time\n",
    "import pandas as pd\n",
    "from sklearn.datasets import fetch_openml\n",
    "from sklearn.model_selection import train_test_split\n",
    "from tqdm import tqdm\n",
    "from sklearn.metrics import confusion_matrix, classification_report\n",
    "import seaborn as sns\n",
    "def getEuclideanDistance(single_point,array):\n",
    "    nrows, ncols, nfeatures=array.shape[0],array.shape[1], array.shape[2]\n",
    "    points=array.reshape((nrows*ncols,nfeatures))\n",
    "                         \n",
    "    dist = (points - single_point)**2\n",
    "    dist = np.sum(dist, axis=1)\n",
    "    dist = np.sqrt(dist)\n",
    "\n",
    "    dist=dist.reshape((nrows,ncols))\n",
    "    return dist\n",
    "\n",
    "def SOM(dispRes, trainingData, ndim=10, nepochs=10, eta0=0.1, etadecay=0.05, sgm0=20, sgmdecay=0.05, showMode=0):\n",
    "    nfeatures=trainingData.shape[1]\n",
    "    #nfeatures = 784\n",
    "    ntrainingvectors=trainingData.shape[0]\n",
    "    \n",
    "    nrows = ndim\n",
    "    ncols = ndim\n",
    "    \n",
    "    mu, sigma = 0, 0.1\n",
    "    numpy.random.seed(int(time.time()))\n",
    "    som = np.random.normal(mu, sigma, (nrows,ncols,nfeatures))\n",
    "\n",
    "    if showMode >= 1:\n",
    "        print(\"\\nSOM features BEFORE training:\")\n",
    "        fig, ax = plt.subplots(nrows=nrows, ncols=ncols, figsize=(15, 15))\n",
    "        for k in range(nrows):\n",
    "            for l in range(ncols):\n",
    "                A = som[k, l, :].reshape((dispRes[0], dispRes[1]))\n",
    "                ax[k, l].imshow(A, cmap=\"plasma\")\n",
    "                ax[k, l].set_yticks([])\n",
    "                ax[k, l].set_xticks([])\n",
    "        plt.show() \n",
    "    \n",
    "    #Generate coordinate system\n",
    "    x,y=np.meshgrid(range(ncols),range(nrows))\n",
    "    \n",
    "    for t in tqdm(range(1, nepochs + 1), desc=\"Training SOM\", unit=\"epoch\"):\n",
    "\n",
    "        #Compute the learning rate for the current epoch\n",
    "        eta = eta0 * math.exp(-t*etadecay);\n",
    "        \n",
    "        #Compute the variance of the Gaussian (Neighbourhood) function for the ucrrent epoch\n",
    "        sgm = sgm0 * math.exp(-t*sgmdecay);\n",
    "        \n",
    "        #Consider the width of the Gaussian function as 3 sigma\n",
    "        width = math.ceil(sgm*3);\n",
    "        \n",
    "        for ntraining in range(ntrainingvectors):\n",
    "            trainingVector = trainingData[ntraining,:];\n",
    "            \n",
    "            # Compute the Euclidean distance between the training vector and\n",
    "            # each neuron in the SOM map\n",
    "            dist = getEuclideanDistance(trainingVector, som);\n",
    "       \n",
    "            # Find 2D coordinates of the Best Matching Unit (bmu)\n",
    "            bmurow, bmucol =np.unravel_index(np.argmin(dist, axis=None), dist.shape) ;\n",
    "            \n",
    "            \n",
    "            #Generate a Gaussian function centered on the location of the bmu\n",
    "            g = np.exp(-((np.power(x - bmucol,2)) + (np.power(y - bmurow,2))) / (2*sgm*sgm));\n",
    "\n",
    "            #Determine the boundary of the local neighbourhood\n",
    "            fromrow = max(0,bmurow - width);\n",
    "            torow   = min(bmurow + width,nrows);\n",
    "            fromcol = max(0,bmucol - width);\n",
    "            tocol   = min(bmucol + width,ncols);\n",
    "\n",
    "            \n",
    "            #Get the neighbouring neurons and determine the size of the neighbourhood\n",
    "            neighbourNeurons = som[fromrow:torow,fromcol:tocol,:];\n",
    "            sz = neighbourNeurons.shape;\n",
    "            \n",
    "            #Transform the training vector and the Gaussian function into \n",
    "            # multi-dimensional to facilitate the computation of the neuron weights update\n",
    "            T = np.matlib.repmat(trainingVector,sz[0]*sz[1],1).reshape((sz[0],sz[1],nfeatures));                   \n",
    "            G = np.dstack([g[fromrow:torow,fromcol:tocol]]*nfeatures);\n",
    "\n",
    "            # Update the weights of the neurons that are in the neighbourhood of the bmu\n",
    "            neighbourNeurons = neighbourNeurons + eta * G * (T - neighbourNeurons);\n",
    "\n",
    "            \n",
    "            #Put the new weights of the BMU neighbouring neurons back to the\n",
    "            #entire SOM map\n",
    "            som[fromrow:torow,fromcol:tocol,:] = neighbourNeurons;\n",
    "        if showMode >= 1 and t == int(nepochs / 2):\n",
    "            print(\"\\nSOM features at half training:\")\n",
    "            fig, ax = plt.subplots(nrows=nrows, ncols=ncols, figsize=(15, 15))\n",
    "            for k in range(nrows):\n",
    "                for l in range(ncols):\n",
    "                    B = som[k, l, :].reshape((dispRes[0], dispRes[1]))\n",
    "                    ax[k, l].imshow(B, cmap=\"plasma\")\n",
    "                    ax[k, l].set_yticks([])\n",
    "                    ax[k, l].set_xticks([])\n",
    "            plt.show() \n",
    "\n",
    "    if showMode >= 1:\n",
    "        print(\"\\nSOM features AFTER training:\")\n",
    "        fig, ax = plt.subplots(nrows=nrows, ncols=ncols, figsize=(15, 15))\n",
    "        for k in range(nrows):\n",
    "            for l in range(ncols):\n",
    "                C = som[k, l, :].reshape((dispRes[0], dispRes[1]))\n",
    "                ax[k, l].imshow(C, cmap=\"plasma\")\n",
    "                ax[k, l].set_yticks([])\n",
    "                ax[k, l].set_xticks([])\n",
    "        plt.show()  \n",
    "    return som\n",
    "    \n",
    "\n",
    "# to be straight, i got some help from gpt here, but i do understand the concept\n",
    "\n",
    "def createLabelMap(som, trainingData, labels):\n",
    "\n",
    "    # make map\n",
    "    nrows, ncols,_ = som.shape\n",
    "    label_map = np.zeros((nrows, ncols), dtype=int)\n",
    "    label_counts = np.zeros((nrows, ncols), dtype=int)\n",
    "\n",
    "    # loop through dataset\n",
    "    for i in range(trainingData.shape[0]):\n",
    "\n",
    "        trainingVector = trainingData[i, :]\n",
    "        label = labels[i]\n",
    "        # get distance (or likeliness of vector)\n",
    "        dist = getEuclideanDistance(trainingVector, som)\n",
    "        bmurow, bmucol = np.unravel_index(np.argmin(dist, axis=None), dist.shape)\n",
    "        \n",
    "        # take label values for each BMU\n",
    "        label_map[bmurow, bmucol] += label\n",
    "        label_counts[bmurow, bmucol] += 1\n",
    "\n",
    "    # normalize?\n",
    "    for r in range(nrows):\n",
    "        for c in range(ncols):\n",
    "            if label_counts[r, c] > 0:\n",
    "                label_map[r, c] = round(label_map[r, c] / label_counts[r, c])\n",
    "    return label_map\n",
    "\n",
    "# classifies by taking BMU and checking label from data and map\n",
    "def classifySOM(som, label_map, testData):\n",
    "    predictions = []\n",
    "    for dataPoint in testData:\n",
    "        dist = getEuclideanDistance(dataPoint, som)\n",
    "        bmurow, bmucol = np.unravel_index(np.argmin(dist, axis=None), dist.shape)\n",
    "        predictions.append(label_map[bmurow, bmucol])\n",
    "    return predictions\n",
    "\n",
    "def plot_confusion_matrix(y_true, y_pred, title=\"Confusion Matrix\"):\n",
    "    cm = confusion_matrix(y_true, y_pred)\n",
    "    plt.figure(figsize=(10, 8))\n",
    "    sns.heatmap(cm, annot=True, fmt=\"d\", cmap=\"Blues\", xticklabels=np.unique(y_true), yticklabels=np.unique(y_true))\n",
    "    plt.xlabel(\"Predicted Labels\")\n",
    "    plt.ylabel(\"True Labels\")\n",
    "    plt.title(title)\n",
    "    plt.show()"
   ]
  },
  {
   "cell_type": "markdown",
   "metadata": {},
   "source": [
    "### Runs"
   ]
  },
  {
   "cell_type": "markdown",
   "metadata": {},
   "source": [
    "#### Iris"
   ]
  },
  {
   "cell_type": "code",
   "execution_count": 24,
   "metadata": {},
   "outputs": [
    {
     "name": "stderr",
     "output_type": "stream",
     "text": [
      "[I 2025-01-09 15:32:17,968] A new study created in memory with name: no-name-68bafd23-a924-4584-98d2-4cb85267a42f\n",
      "Training SOM: 100%|██████████| 111/111 [00:07<00:00, 15.24epoch/s]\n",
      "[I 2025-01-09 15:32:25,333] Trial 0 finished with value: 0.8666666666666667 and parameters: {'DIMENSION': 100, 'EPOCHS': 111, 'LEARNING_RATE': 0.00026850036499072473, 'LEARNING_RATE_DECAY': 0.0003160369595410162, 'SIGMA': 12, 'SIGMA_DECAY': 0.029005446252314576}. Best is trial 0 with value: 0.8666666666666667.\n",
      "Training SOM: 100%|██████████| 143/143 [00:03<00:00, 36.52epoch/s]\n",
      "[I 2025-01-09 15:32:29,281] Trial 1 finished with value: 0.8666666666666667 and parameters: {'DIMENSION': 55, 'EPOCHS': 143, 'LEARNING_RATE': 0.0004919118208607534, 'LEARNING_RATE_DECAY': 0.00015536884824491847, 'SIGMA': 15, 'SIGMA_DECAY': 0.035542422555945447}. Best is trial 0 with value: 0.8666666666666667.\n",
      "Training SOM: 100%|██████████| 162/162 [00:09<00:00, 16.42epoch/s]\n",
      "/opt/anaconda3/lib/python3.12/site-packages/sklearn/metrics/_classification.py:1531: UndefinedMetricWarning: Precision is ill-defined and being set to 0.0 in labels with no predicted samples. Use `zero_division` parameter to control this behavior.\n",
      "  _warn_prf(average, modifier, f\"{metric.capitalize()} is\", len(result))\n",
      "/opt/anaconda3/lib/python3.12/site-packages/sklearn/metrics/_classification.py:1531: UndefinedMetricWarning: Precision is ill-defined and being set to 0.0 in labels with no predicted samples. Use `zero_division` parameter to control this behavior.\n",
      "  _warn_prf(average, modifier, f\"{metric.capitalize()} is\", len(result))\n",
      "/opt/anaconda3/lib/python3.12/site-packages/sklearn/metrics/_classification.py:1531: UndefinedMetricWarning: Precision is ill-defined and being set to 0.0 in labels with no predicted samples. Use `zero_division` parameter to control this behavior.\n",
      "  _warn_prf(average, modifier, f\"{metric.capitalize()} is\", len(result))\n",
      "[I 2025-01-09 15:32:39,213] Trial 2 finished with value: 0.4666666666666667 and parameters: {'DIMENSION': 86, 'EPOCHS': 162, 'LEARNING_RATE': 0.0029171369232467836, 'LEARNING_RATE_DECAY': 0.004924514199246027, 'SIGMA': 15, 'SIGMA_DECAY': 0.013955055322654987}. Best is trial 0 with value: 0.8666666666666667.\n",
      "Training SOM: 100%|██████████| 165/165 [00:03<00:00, 47.49epoch/s]\n",
      "/opt/anaconda3/lib/python3.12/site-packages/sklearn/metrics/_classification.py:1531: UndefinedMetricWarning: Precision is ill-defined and being set to 0.0 in labels with no predicted samples. Use `zero_division` parameter to control this behavior.\n",
      "  _warn_prf(average, modifier, f\"{metric.capitalize()} is\", len(result))\n",
      "/opt/anaconda3/lib/python3.12/site-packages/sklearn/metrics/_classification.py:1531: UndefinedMetricWarning: Precision is ill-defined and being set to 0.0 in labels with no predicted samples. Use `zero_division` parameter to control this behavior.\n",
      "  _warn_prf(average, modifier, f\"{metric.capitalize()} is\", len(result))\n",
      "/opt/anaconda3/lib/python3.12/site-packages/sklearn/metrics/_classification.py:1531: UndefinedMetricWarning: Precision is ill-defined and being set to 0.0 in labels with no predicted samples. Use `zero_division` parameter to control this behavior.\n",
      "  _warn_prf(average, modifier, f\"{metric.capitalize()} is\", len(result))\n",
      "[I 2025-01-09 15:32:42,715] Trial 3 finished with value: 0.8 and parameters: {'DIMENSION': 40, 'EPOCHS': 165, 'LEARNING_RATE': 0.00025806577871371247, 'LEARNING_RATE_DECAY': 0.00027117534639205015, 'SIGMA': 20, 'SIGMA_DECAY': 0.06353072412450456}. Best is trial 0 with value: 0.8666666666666667.\n",
      "Training SOM: 100%|██████████| 136/136 [00:02<00:00, 48.72epoch/s]\n",
      "[I 2025-01-09 15:32:45,530] Trial 4 finished with value: 0.8 and parameters: {'DIMENSION': 40, 'EPOCHS': 136, 'LEARNING_RATE': 0.0010341576337584766, 'LEARNING_RATE_DECAY': 0.002515651223035968, 'SIGMA': 19, 'SIGMA_DECAY': 0.05004108633958594}. Best is trial 0 with value: 0.8666666666666667.\n",
      "Training SOM: 100%|██████████| 151/151 [00:03<00:00, 37.77epoch/s]\n",
      "/opt/anaconda3/lib/python3.12/site-packages/sklearn/metrics/_classification.py:1531: UndefinedMetricWarning: Precision is ill-defined and being set to 0.0 in labels with no predicted samples. Use `zero_division` parameter to control this behavior.\n",
      "  _warn_prf(average, modifier, f\"{metric.capitalize()} is\", len(result))\n",
      "/opt/anaconda3/lib/python3.12/site-packages/sklearn/metrics/_classification.py:1531: UndefinedMetricWarning: Precision is ill-defined and being set to 0.0 in labels with no predicted samples. Use `zero_division` parameter to control this behavior.\n",
      "  _warn_prf(average, modifier, f\"{metric.capitalize()} is\", len(result))\n",
      "/opt/anaconda3/lib/python3.12/site-packages/sklearn/metrics/_classification.py:1531: UndefinedMetricWarning: Precision is ill-defined and being set to 0.0 in labels with no predicted samples. Use `zero_division` parameter to control this behavior.\n",
      "  _warn_prf(average, modifier, f\"{metric.capitalize()} is\", len(result))\n",
      "[I 2025-01-09 15:32:49,557] Trial 5 finished with value: 0.5333333333333333 and parameters: {'DIMENSION': 50, 'EPOCHS': 151, 'LEARNING_RATE': 0.009397841033441996, 'LEARNING_RATE_DECAY': 0.00010335000615921023, 'SIGMA': 12, 'SIGMA_DECAY': 0.02389641461810733}. Best is trial 0 with value: 0.8666666666666667.\n",
      "Training SOM: 100%|██████████| 109/109 [00:04<00:00, 23.71epoch/s]\n",
      "/opt/anaconda3/lib/python3.12/site-packages/sklearn/metrics/_classification.py:1531: UndefinedMetricWarning: Precision is ill-defined and being set to 0.0 in labels with no predicted samples. Use `zero_division` parameter to control this behavior.\n",
      "  _warn_prf(average, modifier, f\"{metric.capitalize()} is\", len(result))\n",
      "/opt/anaconda3/lib/python3.12/site-packages/sklearn/metrics/_classification.py:1531: UndefinedMetricWarning: Precision is ill-defined and being set to 0.0 in labels with no predicted samples. Use `zero_division` parameter to control this behavior.\n",
      "  _warn_prf(average, modifier, f\"{metric.capitalize()} is\", len(result))\n",
      "/opt/anaconda3/lib/python3.12/site-packages/sklearn/metrics/_classification.py:1531: UndefinedMetricWarning: Precision is ill-defined and being set to 0.0 in labels with no predicted samples. Use `zero_division` parameter to control this behavior.\n",
      "  _warn_prf(average, modifier, f\"{metric.capitalize()} is\", len(result))\n",
      "[I 2025-01-09 15:32:54,192] Trial 6 finished with value: 0.2 and parameters: {'DIMENSION': 72, 'EPOCHS': 109, 'LEARNING_RATE': 0.00011533621700565227, 'LEARNING_RATE_DECAY': 0.00028421018296075236, 'SIGMA': 21, 'SIGMA_DECAY': 0.05750734458481882}. Best is trial 0 with value: 0.8666666666666667.\n",
      "Training SOM: 100%|██████████| 188/188 [00:07<00:00, 23.78epoch/s]\n",
      "/opt/anaconda3/lib/python3.12/site-packages/sklearn/metrics/_classification.py:1531: UndefinedMetricWarning: Precision is ill-defined and being set to 0.0 in labels with no predicted samples. Use `zero_division` parameter to control this behavior.\n",
      "  _warn_prf(average, modifier, f\"{metric.capitalize()} is\", len(result))\n",
      "/opt/anaconda3/lib/python3.12/site-packages/sklearn/metrics/_classification.py:1531: UndefinedMetricWarning: Precision is ill-defined and being set to 0.0 in labels with no predicted samples. Use `zero_division` parameter to control this behavior.\n",
      "  _warn_prf(average, modifier, f\"{metric.capitalize()} is\", len(result))\n",
      "/opt/anaconda3/lib/python3.12/site-packages/sklearn/metrics/_classification.py:1531: UndefinedMetricWarning: Precision is ill-defined and being set to 0.0 in labels with no predicted samples. Use `zero_division` parameter to control this behavior.\n",
      "  _warn_prf(average, modifier, f\"{metric.capitalize()} is\", len(result))\n",
      "[I 2025-01-09 15:33:02,137] Trial 7 finished with value: 0.7333333333333333 and parameters: {'DIMENSION': 68, 'EPOCHS': 188, 'LEARNING_RATE': 0.00033017494171248927, 'LEARNING_RATE_DECAY': 0.00020620705792620924, 'SIGMA': 14, 'SIGMA_DECAY': 0.010326397350771318}. Best is trial 0 with value: 0.8666666666666667.\n",
      "Training SOM: 100%|██████████| 115/115 [00:09<00:00, 12.20epoch/s]\n",
      "[I 2025-01-09 15:33:11,630] Trial 8 finished with value: 0.7333333333333333 and parameters: {'DIMENSION': 113, 'EPOCHS': 115, 'LEARNING_RATE': 0.0007430688309916735, 'LEARNING_RATE_DECAY': 0.0002310799761357535, 'SIGMA': 12, 'SIGMA_DECAY': 0.02793869697435537}. Best is trial 0 with value: 0.8666666666666667.\n",
      "Training SOM: 100%|██████████| 191/191 [00:16<00:00, 11.79epoch/s]\n",
      "/opt/anaconda3/lib/python3.12/site-packages/sklearn/metrics/_classification.py:1531: UndefinedMetricWarning: Precision is ill-defined and being set to 0.0 in labels with no predicted samples. Use `zero_division` parameter to control this behavior.\n",
      "  _warn_prf(average, modifier, f\"{metric.capitalize()} is\", len(result))\n",
      "/opt/anaconda3/lib/python3.12/site-packages/sklearn/metrics/_classification.py:1531: UndefinedMetricWarning: Precision is ill-defined and being set to 0.0 in labels with no predicted samples. Use `zero_division` parameter to control this behavior.\n",
      "  _warn_prf(average, modifier, f\"{metric.capitalize()} is\", len(result))\n",
      "/opt/anaconda3/lib/python3.12/site-packages/sklearn/metrics/_classification.py:1531: UndefinedMetricWarning: Precision is ill-defined and being set to 0.0 in labels with no predicted samples. Use `zero_division` parameter to control this behavior.\n",
      "  _warn_prf(average, modifier, f\"{metric.capitalize()} is\", len(result))\n",
      "[I 2025-01-09 15:33:27,902] Trial 9 finished with value: 0.5333333333333333 and parameters: {'DIMENSION': 119, 'EPOCHS': 191, 'LEARNING_RATE': 0.00014116965267420197, 'LEARNING_RATE_DECAY': 0.008954076094847978, 'SIGMA': 18, 'SIGMA_DECAY': 0.019100802058328835}. Best is trial 0 with value: 0.8666666666666667.\n",
      "Training SOM: 100%|██████████| 75/75 [00:09<00:00,  7.82epoch/s]\n",
      "/opt/anaconda3/lib/python3.12/site-packages/sklearn/metrics/_classification.py:1531: UndefinedMetricWarning: Precision is ill-defined and being set to 0.0 in labels with no predicted samples. Use `zero_division` parameter to control this behavior.\n",
      "  _warn_prf(average, modifier, f\"{metric.capitalize()} is\", len(result))\n",
      "/opt/anaconda3/lib/python3.12/site-packages/sklearn/metrics/_classification.py:1531: UndefinedMetricWarning: Precision is ill-defined and being set to 0.0 in labels with no predicted samples. Use `zero_division` parameter to control this behavior.\n",
      "  _warn_prf(average, modifier, f\"{metric.capitalize()} is\", len(result))\n",
      "/opt/anaconda3/lib/python3.12/site-packages/sklearn/metrics/_classification.py:1531: UndefinedMetricWarning: Precision is ill-defined and being set to 0.0 in labels with no predicted samples. Use `zero_division` parameter to control this behavior.\n",
      "  _warn_prf(average, modifier, f\"{metric.capitalize()} is\", len(result))\n",
      "[I 2025-01-09 15:33:37,616] Trial 10 finished with value: 0.4 and parameters: {'DIMENSION': 145, 'EPOCHS': 75, 'LEARNING_RATE': 0.0017343966455859315, 'LEARNING_RATE_DECAY': 0.0007679948262490642, 'SIGMA': 25, 'SIGMA_DECAY': 0.0393370117379643}. Best is trial 0 with value: 0.8666666666666667.\n",
      "Training SOM: 100%|██████████| 99/99 [00:01<00:00, 82.79epoch/s]\n",
      "/opt/anaconda3/lib/python3.12/site-packages/sklearn/metrics/_classification.py:1531: UndefinedMetricWarning: Precision is ill-defined and being set to 0.0 in labels with no predicted samples. Use `zero_division` parameter to control this behavior.\n",
      "  _warn_prf(average, modifier, f\"{metric.capitalize()} is\", len(result))\n",
      "/opt/anaconda3/lib/python3.12/site-packages/sklearn/metrics/_classification.py:1531: UndefinedMetricWarning: Precision is ill-defined and being set to 0.0 in labels with no predicted samples. Use `zero_division` parameter to control this behavior.\n",
      "  _warn_prf(average, modifier, f\"{metric.capitalize()} is\", len(result))\n",
      "/opt/anaconda3/lib/python3.12/site-packages/sklearn/metrics/_classification.py:1531: UndefinedMetricWarning: Precision is ill-defined and being set to 0.0 in labels with no predicted samples. Use `zero_division` parameter to control this behavior.\n",
      "  _warn_prf(average, modifier, f\"{metric.capitalize()} is\", len(result))\n",
      "[I 2025-01-09 15:33:38,856] Trial 11 finished with value: 0.8 and parameters: {'DIMENSION': 21, 'EPOCHS': 99, 'LEARNING_RATE': 0.0005057690833069365, 'LEARNING_RATE_DECAY': 0.0008090306840795306, 'SIGMA': 10, 'SIGMA_DECAY': 0.09566740268286097}. Best is trial 0 with value: 0.8666666666666667.\n",
      "Training SOM: 100%|██████████| 126/126 [00:07<00:00, 16.44epoch/s]\n",
      "[I 2025-01-09 15:33:46,605] Trial 12 finished with value: 0.9333333333333333 and parameters: {'DIMENSION': 97, 'EPOCHS': 126, 'LEARNING_RATE': 0.00030284312734334747, 'LEARNING_RATE_DECAY': 0.00011834773983903277, 'SIGMA': 15, 'SIGMA_DECAY': 0.03470632873911947}. Best is trial 12 with value: 0.9333333333333333.\n",
      "Training SOM: 100%|██████████| 87/87 [00:05<00:00, 15.41epoch/s]\n",
      "/opt/anaconda3/lib/python3.12/site-packages/sklearn/metrics/_classification.py:1531: UndefinedMetricWarning: Precision is ill-defined and being set to 0.0 in labels with no predicted samples. Use `zero_division` parameter to control this behavior.\n",
      "  _warn_prf(average, modifier, f\"{metric.capitalize()} is\", len(result))\n",
      "/opt/anaconda3/lib/python3.12/site-packages/sklearn/metrics/_classification.py:1531: UndefinedMetricWarning: Precision is ill-defined and being set to 0.0 in labels with no predicted samples. Use `zero_division` parameter to control this behavior.\n",
      "  _warn_prf(average, modifier, f\"{metric.capitalize()} is\", len(result))\n",
      "/opt/anaconda3/lib/python3.12/site-packages/sklearn/metrics/_classification.py:1531: UndefinedMetricWarning: Precision is ill-defined and being set to 0.0 in labels with no predicted samples. Use `zero_division` parameter to control this behavior.\n",
      "  _warn_prf(average, modifier, f\"{metric.capitalize()} is\", len(result))\n",
      "[I 2025-01-09 15:33:52,331] Trial 13 finished with value: 0.8 and parameters: {'DIMENSION': 100, 'EPOCHS': 87, 'LEARNING_RATE': 0.00022181870444418865, 'LEARNING_RATE_DECAY': 0.00046844484011423316, 'SIGMA': 10, 'SIGMA_DECAY': 0.02003288154399575}. Best is trial 12 with value: 0.9333333333333333.\n",
      "Training SOM: 100%|██████████| 122/122 [00:12<00:00,  9.80epoch/s]\n",
      "/opt/anaconda3/lib/python3.12/site-packages/sklearn/metrics/_classification.py:1531: UndefinedMetricWarning: Precision is ill-defined and being set to 0.0 in labels with no predicted samples. Use `zero_division` parameter to control this behavior.\n",
      "  _warn_prf(average, modifier, f\"{metric.capitalize()} is\", len(result))\n",
      "/opt/anaconda3/lib/python3.12/site-packages/sklearn/metrics/_classification.py:1531: UndefinedMetricWarning: Precision is ill-defined and being set to 0.0 in labels with no predicted samples. Use `zero_division` parameter to control this behavior.\n",
      "  _warn_prf(average, modifier, f\"{metric.capitalize()} is\", len(result))\n",
      "/opt/anaconda3/lib/python3.12/site-packages/sklearn/metrics/_classification.py:1531: UndefinedMetricWarning: Precision is ill-defined and being set to 0.0 in labels with no predicted samples. Use `zero_division` parameter to control this behavior.\n",
      "  _warn_prf(average, modifier, f\"{metric.capitalize()} is\", len(result))\n",
      "[I 2025-01-09 15:34:04,895] Trial 14 finished with value: 0.8 and parameters: {'DIMENSION': 133, 'EPOCHS': 122, 'LEARNING_RATE': 0.00018097702969100036, 'LEARNING_RATE_DECAY': 0.00010988420423929284, 'SIGMA': 16, 'SIGMA_DECAY': 0.039417450041254055}. Best is trial 12 with value: 0.9333333333333333.\n",
      "Training SOM: 100%|██████████| 126/126 [00:07<00:00, 16.72epoch/s]\n",
      "[I 2025-01-09 15:34:12,512] Trial 15 finished with value: 0.9333333333333333 and parameters: {'DIMENSION': 96, 'EPOCHS': 126, 'LEARNING_RATE': 0.00038940199899121597, 'LEARNING_RATE_DECAY': 0.00163154659204568, 'SIGMA': 13, 'SIGMA_DECAY': 0.029041908709884424}. Best is trial 12 with value: 0.9333333333333333.\n",
      "Training SOM: 100%|██████████| 129/129 [00:06<00:00, 18.64epoch/s]\n",
      "[I 2025-01-09 15:34:19,506] Trial 16 finished with value: 0.9333333333333333 and parameters: {'DIMENSION': 92, 'EPOCHS': 129, 'LEARNING_RATE': 0.0012942762744522888, 'LEARNING_RATE_DECAY': 0.0019755271181219596, 'SIGMA': 17, 'SIGMA_DECAY': 0.0845401313108682}. Best is trial 12 with value: 0.9333333333333333.\n",
      "Training SOM: 100%|██████████| 94/94 [00:08<00:00, 11.03epoch/s]\n",
      "[I 2025-01-09 15:34:28,131] Trial 17 finished with value: 0.8666666666666667 and parameters: {'DIMENSION': 118, 'EPOCHS': 94, 'LEARNING_RATE': 0.00046376318456942237, 'LEARNING_RATE_DECAY': 0.0016642711506145047, 'SIGMA': 22, 'SIGMA_DECAY': 0.016357300501425122}. Best is trial 12 with value: 0.9333333333333333.\n",
      "Training SOM: 100%|██████████| 173/173 [00:07<00:00, 24.47epoch/s]\n",
      "[I 2025-01-09 15:34:35,269] Trial 18 finished with value: 0.6 and parameters: {'DIMENSION': 76, 'EPOCHS': 173, 'LEARNING_RATE': 0.0027758314885078586, 'LEARNING_RATE_DECAY': 0.0035911323042084765, 'SIGMA': 13, 'SIGMA_DECAY': 0.04724387696555988}. Best is trial 12 with value: 0.9333333333333333.\n",
      "Training SOM: 100%|██████████| 149/149 [00:10<00:00, 14.26epoch/s]\n",
      "[I 2025-01-09 15:34:45,812] Trial 19 finished with value: 0.6 and parameters: {'DIMENSION': 105, 'EPOCHS': 149, 'LEARNING_RATE': 0.000692901226683762, 'LEARNING_RATE_DECAY': 0.0012835627561600528, 'SIGMA': 16, 'SIGMA_DECAY': 0.023200718673571}. Best is trial 12 with value: 0.9333333333333333.\n",
      "Training SOM: 100%|██████████| 131/131 [00:12<00:00, 10.38epoch/s]\n",
      "/opt/anaconda3/lib/python3.12/site-packages/sklearn/metrics/_classification.py:1531: UndefinedMetricWarning: Precision is ill-defined and being set to 0.0 in labels with no predicted samples. Use `zero_division` parameter to control this behavior.\n",
      "  _warn_prf(average, modifier, f\"{metric.capitalize()} is\", len(result))\n",
      "/opt/anaconda3/lib/python3.12/site-packages/sklearn/metrics/_classification.py:1531: UndefinedMetricWarning: Precision is ill-defined and being set to 0.0 in labels with no predicted samples. Use `zero_division` parameter to control this behavior.\n",
      "  _warn_prf(average, modifier, f\"{metric.capitalize()} is\", len(result))\n",
      "/opt/anaconda3/lib/python3.12/site-packages/sklearn/metrics/_classification.py:1531: UndefinedMetricWarning: Precision is ill-defined and being set to 0.0 in labels with no predicted samples. Use `zero_division` parameter to control this behavior.\n",
      "  _warn_prf(average, modifier, f\"{metric.capitalize()} is\", len(result))\n",
      "[I 2025-01-09 15:34:58,545] Trial 20 finished with value: 0.3333333333333333 and parameters: {'DIMENSION': 130, 'EPOCHS': 131, 'LEARNING_RATE': 0.00010814615275351018, 'LEARNING_RATE_DECAY': 0.0005868821419849164, 'SIGMA': 14, 'SIGMA_DECAY': 0.03167243582086752}. Best is trial 12 with value: 0.9333333333333333.\n",
      "Training SOM: 100%|██████████| 126/126 [00:06<00:00, 20.16epoch/s]\n",
      "[I 2025-01-09 15:35:04,874] Trial 21 finished with value: 0.8666666666666667 and parameters: {'DIMENSION': 87, 'EPOCHS': 126, 'LEARNING_RATE': 0.0014481045702692328, 'LEARNING_RATE_DECAY': 0.0017401923037343328, 'SIGMA': 17, 'SIGMA_DECAY': 0.08335315385571337}. Best is trial 12 with value: 0.9333333333333333.\n",
      "Training SOM: 100%|██████████| 138/138 [00:07<00:00, 19.04epoch/s]\n",
      "[I 2025-01-09 15:35:12,197] Trial 22 finished with value: 0.8666666666666667 and parameters: {'DIMENSION': 91, 'EPOCHS': 138, 'LEARNING_RATE': 0.0009837454740727453, 'LEARNING_RATE_DECAY': 0.0028621951653075867, 'SIGMA': 17, 'SIGMA_DECAY': 0.0802408174279634}. Best is trial 12 with value: 0.9333333333333333.\n",
      "Training SOM: 100%|██████████| 120/120 [00:07<00:00, 16.32epoch/s]\n",
      "[I 2025-01-09 15:35:19,640] Trial 23 finished with value: 0.8666666666666667 and parameters: {'DIMENSION': 101, 'EPOCHS': 120, 'LEARNING_RATE': 0.00037346735143449234, 'LEARNING_RATE_DECAY': 0.001084568289115304, 'SIGMA': 18, 'SIGMA_DECAY': 0.0674747444946802}. Best is trial 12 with value: 0.9333333333333333.\n",
      "Training SOM: 100%|██████████| 103/103 [00:03<00:00, 31.17epoch/s]\n",
      "/opt/anaconda3/lib/python3.12/site-packages/sklearn/metrics/_classification.py:1531: UndefinedMetricWarning: Precision is ill-defined and being set to 0.0 in labels with no predicted samples. Use `zero_division` parameter to control this behavior.\n",
      "  _warn_prf(average, modifier, f\"{metric.capitalize()} is\", len(result))\n",
      "/opt/anaconda3/lib/python3.12/site-packages/sklearn/metrics/_classification.py:1531: UndefinedMetricWarning: Precision is ill-defined and being set to 0.0 in labels with no predicted samples. Use `zero_division` parameter to control this behavior.\n",
      "  _warn_prf(average, modifier, f\"{metric.capitalize()} is\", len(result))\n",
      "/opt/anaconda3/lib/python3.12/site-packages/sklearn/metrics/_classification.py:1531: UndefinedMetricWarning: Precision is ill-defined and being set to 0.0 in labels with no predicted samples. Use `zero_division` parameter to control this behavior.\n",
      "  _warn_prf(average, modifier, f\"{metric.capitalize()} is\", len(result))\n",
      "[I 2025-01-09 15:35:23,007] Trial 24 finished with value: 0.4 and parameters: {'DIMENSION': 63, 'EPOCHS': 103, 'LEARNING_RATE': 0.005576742621651623, 'LEARNING_RATE_DECAY': 0.005516269926735253, 'SIGMA': 14, 'SIGMA_DECAY': 0.04745606901094692}. Best is trial 12 with value: 0.9333333333333333.\n",
      "Training SOM: 100%|██████████| 154/154 [00:07<00:00, 21.17epoch/s]\n",
      "/opt/anaconda3/lib/python3.12/site-packages/sklearn/metrics/_classification.py:1531: UndefinedMetricWarning: Precision is ill-defined and being set to 0.0 in labels with no predicted samples. Use `zero_division` parameter to control this behavior.\n",
      "  _warn_prf(average, modifier, f\"{metric.capitalize()} is\", len(result))\n",
      "/opt/anaconda3/lib/python3.12/site-packages/sklearn/metrics/_classification.py:1531: UndefinedMetricWarning: Precision is ill-defined and being set to 0.0 in labels with no predicted samples. Use `zero_division` parameter to control this behavior.\n",
      "  _warn_prf(average, modifier, f\"{metric.capitalize()} is\", len(result))\n",
      "/opt/anaconda3/lib/python3.12/site-packages/sklearn/metrics/_classification.py:1531: UndefinedMetricWarning: Precision is ill-defined and being set to 0.0 in labels with no predicted samples. Use `zero_division` parameter to control this behavior.\n",
      "  _warn_prf(average, modifier, f\"{metric.capitalize()} is\", len(result))\n",
      "[I 2025-01-09 15:35:30,355] Trial 25 finished with value: 0.4666666666666667 and parameters: {'DIMENSION': 81, 'EPOCHS': 154, 'LEARNING_RATE': 0.001981237266589651, 'LEARNING_RATE_DECAY': 0.0019413640340404923, 'SIGMA': 16, 'SIGMA_DECAY': 0.025384761786382094}. Best is trial 12 with value: 0.9333333333333333.\n",
      "Training SOM: 100%|██████████| 125/125 [00:07<00:00, 16.83epoch/s]\n",
      "/opt/anaconda3/lib/python3.12/site-packages/sklearn/metrics/_classification.py:1531: UndefinedMetricWarning: Precision is ill-defined and being set to 0.0 in labels with no predicted samples. Use `zero_division` parameter to control this behavior.\n",
      "  _warn_prf(average, modifier, f\"{metric.capitalize()} is\", len(result))\n",
      "/opt/anaconda3/lib/python3.12/site-packages/sklearn/metrics/_classification.py:1531: UndefinedMetricWarning: Precision is ill-defined and being set to 0.0 in labels with no predicted samples. Use `zero_division` parameter to control this behavior.\n",
      "  _warn_prf(average, modifier, f\"{metric.capitalize()} is\", len(result))\n",
      "/opt/anaconda3/lib/python3.12/site-packages/sklearn/metrics/_classification.py:1531: UndefinedMetricWarning: Precision is ill-defined and being set to 0.0 in labels with no predicted samples. Use `zero_division` parameter to control this behavior.\n",
      "  _warn_prf(average, modifier, f\"{metric.capitalize()} is\", len(result))\n",
      "[I 2025-01-09 15:35:37,860] Trial 26 finished with value: 0.6666666666666666 and parameters: {'DIMENSION': 92, 'EPOCHS': 125, 'LEARNING_RATE': 0.0006833159515790868, 'LEARNING_RATE_DECAY': 0.0005095012595058186, 'SIGMA': 13, 'SIGMA_DECAY': 0.014054251961769938}. Best is trial 12 with value: 0.9333333333333333.\n",
      "Training SOM: 100%|██████████| 133/133 [00:09<00:00, 13.49epoch/s]\n",
      "/opt/anaconda3/lib/python3.12/site-packages/sklearn/metrics/_classification.py:1531: UndefinedMetricWarning: Precision is ill-defined and being set to 0.0 in labels with no predicted samples. Use `zero_division` parameter to control this behavior.\n",
      "  _warn_prf(average, modifier, f\"{metric.capitalize()} is\", len(result))\n",
      "/opt/anaconda3/lib/python3.12/site-packages/sklearn/metrics/_classification.py:1531: UndefinedMetricWarning: Precision is ill-defined and being set to 0.0 in labels with no predicted samples. Use `zero_division` parameter to control this behavior.\n",
      "  _warn_prf(average, modifier, f\"{metric.capitalize()} is\", len(result))\n",
      "/opt/anaconda3/lib/python3.12/site-packages/sklearn/metrics/_classification.py:1531: UndefinedMetricWarning: Precision is ill-defined and being set to 0.0 in labels with no predicted samples. Use `zero_division` parameter to control this behavior.\n",
      "  _warn_prf(average, modifier, f\"{metric.capitalize()} is\", len(result))\n",
      "[I 2025-01-09 15:35:47,818] Trial 27 finished with value: 0.6 and parameters: {'DIMENSION': 113, 'EPOCHS': 133, 'LEARNING_RATE': 0.001112790272341789, 'LEARNING_RATE_DECAY': 0.0012693871069757237, 'SIGMA': 11, 'SIGMA_DECAY': 0.03625048999966853}. Best is trial 12 with value: 0.9333333333333333.\n",
      "Training SOM: 100%|██████████| 177/177 [00:16<00:00, 10.47epoch/s]\n",
      "/opt/anaconda3/lib/python3.12/site-packages/sklearn/metrics/_classification.py:1531: UndefinedMetricWarning: Precision is ill-defined and being set to 0.0 in labels with no predicted samples. Use `zero_division` parameter to control this behavior.\n",
      "  _warn_prf(average, modifier, f\"{metric.capitalize()} is\", len(result))\n",
      "/opt/anaconda3/lib/python3.12/site-packages/sklearn/metrics/_classification.py:1531: UndefinedMetricWarning: Precision is ill-defined and being set to 0.0 in labels with no predicted samples. Use `zero_division` parameter to control this behavior.\n",
      "  _warn_prf(average, modifier, f\"{metric.capitalize()} is\", len(result))\n",
      "/opt/anaconda3/lib/python3.12/site-packages/sklearn/metrics/_classification.py:1531: UndefinedMetricWarning: Precision is ill-defined and being set to 0.0 in labels with no predicted samples. Use `zero_division` parameter to control this behavior.\n",
      "  _warn_prf(average, modifier, f\"{metric.capitalize()} is\", len(result))\n",
      "[I 2025-01-09 15:36:04,844] Trial 28 finished with value: 0.3333333333333333 and parameters: {'DIMENSION': 134, 'EPOCHS': 177, 'LEARNING_RATE': 0.00018788414815086005, 'LEARNING_RATE_DECAY': 0.003987833463055716, 'SIGMA': 24, 'SIGMA_DECAY': 0.09644217572341535}. Best is trial 12 with value: 0.9333333333333333.\n",
      "Training SOM: 100%|██████████| 116/116 [00:08<00:00, 13.63epoch/s]\n",
      "/opt/anaconda3/lib/python3.12/site-packages/sklearn/metrics/_classification.py:1531: UndefinedMetricWarning: Precision is ill-defined and being set to 0.0 in labels with no predicted samples. Use `zero_division` parameter to control this behavior.\n",
      "  _warn_prf(average, modifier, f\"{metric.capitalize()} is\", len(result))\n",
      "/opt/anaconda3/lib/python3.12/site-packages/sklearn/metrics/_classification.py:1531: UndefinedMetricWarning: Precision is ill-defined and being set to 0.0 in labels with no predicted samples. Use `zero_division` parameter to control this behavior.\n",
      "  _warn_prf(average, modifier, f\"{metric.capitalize()} is\", len(result))\n",
      "/opt/anaconda3/lib/python3.12/site-packages/sklearn/metrics/_classification.py:1531: UndefinedMetricWarning: Precision is ill-defined and being set to 0.0 in labels with no predicted samples. Use `zero_division` parameter to control this behavior.\n",
      "  _warn_prf(average, modifier, f\"{metric.capitalize()} is\", len(result))\n",
      "[I 2025-01-09 15:36:13,458] Trial 29 finished with value: 0.8 and parameters: {'DIMENSION': 107, 'EPOCHS': 116, 'LEARNING_RATE': 0.00027134503330182965, 'LEARNING_RATE_DECAY': 0.00042395437709164734, 'SIGMA': 19, 'SIGMA_DECAY': 0.03112896056380666}. Best is trial 12 with value: 0.9333333333333333.\n"
     ]
    },
    {
     "name": "stdout",
     "output_type": "stream",
     "text": [
      "Best parameters: {'DIMENSION': 97, 'EPOCHS': 126, 'LEARNING_RATE': 0.00030284312734334747, 'LEARNING_RATE_DECAY': 0.00011834773983903277, 'SIGMA': 15, 'SIGMA_DECAY': 0.03470632873911947}\n",
      "Best accuracy: 0.9333333333333333\n"
     ]
    }
   ],
   "source": [
    "import optuna\n",
    "from sklearn.metrics import classification_report\n",
    "\n",
    "def objective(trial):\n",
    "    # Suggest parameters\n",
    "    DIMENSION = trial.suggest_int(\"DIMENSION\", 12, 150)\n",
    "    EPOCHS = trial.suggest_int(\"EPOCHS\", 70, 200)\n",
    "    LEARNING_RATE = trial.suggest_float(\"LEARNING_RATE\", 1e-4, 1e-2, log = True)\n",
    "    LEARNING_RATE_DECAY = trial.suggest_float(\"LEARNING_RATE_DECAY\", 1e-4, 1e-2, log = True)\n",
    "    SIGMA = trial.suggest_int(\"SIGMA\", 10, 25)\n",
    "    SIGMA_DECAY = trial.suggest_float(\"SIGMA_DECAY\", 1e-2, 1e-1, log=True)\n",
    "    \n",
    "    # Train SOM with suggested parameters\n",
    "    som_iris = SOM(\n",
    "        [28, 28],\n",
    "        iris_x_train,\n",
    "        DIMENSION,\n",
    "        EPOCHS,\n",
    "        LEARNING_RATE,\n",
    "        LEARNING_RATE_DECAY,\n",
    "        SIGMA,\n",
    "        SIGMA_DECAY,\n",
    "        showMode=0\n",
    "    )\n",
    "    \n",
    "    label_map = createLabelMap(som_iris, iris_x_train, iris_y_train)\n",
    "    test_predictions = classifySOM(som_iris, label_map, iris_x_val)\n",
    "    \n",
    "    # Evaluate performance\n",
    "    score = classification_report(iris_y_val, test_predictions, output_dict=True)[\"accuracy\"]\n",
    "    return score\n",
    "\n",
    "# Run Bayesian optimization\n",
    "study = optuna.create_study(direction=\"maximize\")\n",
    "study.optimize(objective, n_trials=30)\n",
    "\n",
    "print(\"Best parameters:\", study.best_params)\n",
    "print(\"Best accuracy:\", study.best_value)"
   ]
  },
  {
   "cell_type": "code",
   "execution_count": 25,
   "metadata": {},
   "outputs": [
    {
     "name": "stderr",
     "output_type": "stream",
     "text": [
      "Training SOM: 100%|██████████| 126/126 [00:08<00:00, 15.47epoch/s]\n"
     ]
    },
    {
     "name": "stdout",
     "output_type": "stream",
     "text": [
      "Classification Report for Test Set\n",
      "              precision    recall  f1-score   support\n",
      "\n",
      "           0       0.83      1.00      0.91         5\n",
      "           1       1.00      0.17      0.29         6\n",
      "           2       0.50      1.00      0.67         4\n",
      "\n",
      "    accuracy                           0.67        15\n",
      "   macro avg       0.78      0.72      0.62        15\n",
      "weighted avg       0.81      0.67      0.60        15\n",
      "\n"
     ]
    },
    {
     "data": {
      "image/png": "[encoded data removed]",
      "text/plain": [
       "<Figure size 1000x800 with 2 Axes>"
      ]
     },
     "metadata": {},
     "output_type": "display_data"
    }
   ],
   "source": [
    "DIMENSION = 97\n",
    "EPOCHS = 126\n",
    "LEARNING_RATE = 0.00030284312734334747\n",
    "LEARNING_RATE_DECAY = 0.00011834773983903277\n",
    "SIGMA = 25\n",
    "SIGMA_DECAY = 0.03470632873911947\n",
    "som_iris = SOM([28,28],iris_x_train, DIMENSION,EPOCHS,LEARNING_RATE,LEARNING_RATE_DECAY,SIGMA,SIGMA_DECAY, showMode=0)\n",
    "\n",
    "label_map = createLabelMap(som_iris, iris_x_train, iris_y_train)\n",
    "\n",
    "# Classify on test set\n",
    "test_predictions = classifySOM(som_iris, label_map, iris_x_test)\n",
    "\n",
    "print(\"Classification Report for Test Set\")\n",
    "print(classification_report(iris_y_test, test_predictions))\n",
    "plot_confusion_matrix(iris_y_test, test_predictions, title=\"Confusion Matrix - Test Set\")"
   ]
  },
  {
   "cell_type": "markdown",
   "metadata": {},
   "source": [
    "#### Breast cancer"
   ]
  },
  {
   "cell_type": "code",
   "execution_count": 31,
   "metadata": {},
   "outputs": [
    {
     "name": "stderr",
     "output_type": "stream",
     "text": [
      "[I 2025-01-09 15:43:43,835] A new study created in memory with name: no-name-5fe99f8d-df19-4737-ac52-d6dfdc3080a4\n",
      "Training SOM: 100%|██████████| 76/76 [00:10<00:00,  7.45epoch/s]\n",
      "[I 2025-01-09 15:43:54,132] Trial 0 finished with value: 0.8245614035087719 and parameters: {'DIMENSION': 37, 'EPOCHS': 76, 'LEARNING_RATE': 0.0010522007978804834, 'LEARNING_RATE_DECAY': 0.00014842582337210212, 'SIGMA': 25, 'SIGMA_DECAY': 0.09633849196572414}. Best is trial 0 with value: 0.8245614035087719.\n",
      "Training SOM: 100%|██████████| 56/56 [00:06<00:00,  8.08epoch/s]\n",
      "[I 2025-01-09 15:44:01,125] Trial 1 finished with value: 0.7543859649122807 and parameters: {'DIMENSION': 30, 'EPOCHS': 56, 'LEARNING_RATE': 0.002060954402837141, 'LEARNING_RATE_DECAY': 0.007300001942718647, 'SIGMA': 20, 'SIGMA_DECAY': 0.08670843525383065}. Best is trial 0 with value: 0.8245614035087719.\n",
      "Training SOM: 100%|██████████| 70/70 [01:07<00:00,  1.04epoch/s]\n",
      "[I 2025-01-09 15:45:09,189] Trial 2 finished with value: 0.5789473684210527 and parameters: {'DIMENSION': 107, 'EPOCHS': 70, 'LEARNING_RATE': 0.0008590724304237239, 'LEARNING_RATE_DECAY': 0.004842226734942478, 'SIGMA': 24, 'SIGMA_DECAY': 0.04256924478573827}. Best is trial 0 with value: 0.8245614035087719.\n",
      "Training SOM: 100%|██████████| 72/72 [00:12<00:00,  5.97epoch/s]\n",
      "[I 2025-01-09 15:45:21,312] Trial 3 finished with value: 0.7719298245614035 and parameters: {'DIMENSION': 33, 'EPOCHS': 72, 'LEARNING_RATE': 0.00024679697973621287, 'LEARNING_RATE_DECAY': 0.001433086106893694, 'SIGMA': 13, 'SIGMA_DECAY': 0.012175427201974398}. Best is trial 0 with value: 0.8245614035087719.\n",
      "Training SOM: 100%|██████████| 58/58 [00:05<00:00, 10.03epoch/s]\n",
      "[I 2025-01-09 15:45:27,143] Trial 4 finished with value: 0.8771929824561403 and parameters: {'DIMENSION': 21, 'EPOCHS': 58, 'LEARNING_RATE': 0.00019584497003123695, 'LEARNING_RATE_DECAY': 0.0003524715004128364, 'SIGMA': 20, 'SIGMA_DECAY': 0.018489207002569123}. Best is trial 4 with value: 0.8771929824561403.\n",
      "Training SOM: 100%|██████████| 96/96 [00:28<00:00,  3.40epoch/s]\n",
      "[I 2025-01-09 15:45:55,467] Trial 5 finished with value: 0.8596491228070176 and parameters: {'DIMENSION': 56, 'EPOCHS': 96, 'LEARNING_RATE': 0.00019706604243788329, 'LEARNING_RATE_DECAY': 0.0010621711651543429, 'SIGMA': 15, 'SIGMA_DECAY': 0.01901844531364105}. Best is trial 4 with value: 0.8771929824561403.\n",
      "Training SOM: 100%|██████████| 82/82 [00:59<00:00,  1.37epoch/s]\n",
      "[I 2025-01-09 15:46:55,617] Trial 6 finished with value: 0.43859649122807015 and parameters: {'DIMENSION': 106, 'EPOCHS': 82, 'LEARNING_RATE': 0.0041049849174982405, 'LEARNING_RATE_DECAY': 0.002029116744102408, 'SIGMA': 15, 'SIGMA_DECAY': 0.03552867335924339}. Best is trial 4 with value: 0.8771929824561403.\n",
      "Training SOM: 100%|██████████| 89/89 [01:49<00:00,  1.23s/epoch]\n",
      "[I 2025-01-09 15:48:45,734] Trial 7 finished with value: 0.543859649122807 and parameters: {'DIMENSION': 129, 'EPOCHS': 89, 'LEARNING_RATE': 0.0012376844741956437, 'LEARNING_RATE_DECAY': 0.00010172192003889846, 'SIGMA': 17, 'SIGMA_DECAY': 0.038797969699563034}. Best is trial 4 with value: 0.8771929824561403.\n",
      "Training SOM: 100%|██████████| 87/87 [03:03<00:00,  2.10s/epoch]\n",
      "[I 2025-01-09 15:51:49,913] Trial 8 finished with value: 0.49122807017543857 and parameters: {'DIMENSION': 141, 'EPOCHS': 87, 'LEARNING_RATE': 0.00239113549766342, 'LEARNING_RATE_DECAY': 0.0012691492413616648, 'SIGMA': 21, 'SIGMA_DECAY': 0.013151475640501271}. Best is trial 4 with value: 0.8771929824561403.\n",
      "Training SOM: 100%|██████████| 81/81 [00:20<00:00,  4.00epoch/s]\n",
      "[I 2025-01-09 15:52:10,285] Trial 9 finished with value: 0.5964912280701754 and parameters: {'DIMENSION': 49, 'EPOCHS': 81, 'LEARNING_RATE': 0.00134214999043816, 'LEARNING_RATE_DECAY': 0.0006132842550058785, 'SIGMA': 19, 'SIGMA_DECAY': 0.027768751004846746}. Best is trial 4 with value: 0.8771929824561403.\n",
      "Training SOM: 100%|██████████| 51/51 [00:23<00:00,  2.14epoch/s]\n",
      "[I 2025-01-09 15:52:34,418] Trial 10 finished with value: 0.9122807017543859 and parameters: {'DIMENSION': 77, 'EPOCHS': 51, 'LEARNING_RATE': 0.00010192125605021798, 'LEARNING_RATE_DECAY': 0.000327772632241111, 'SIGMA': 10, 'SIGMA_DECAY': 0.021892956028581146}. Best is trial 10 with value: 0.9122807017543859.\n",
      "Training SOM: 100%|██████████| 50/50 [00:18<00:00,  2.73epoch/s]\n",
      "[I 2025-01-09 15:52:53,023] Trial 11 finished with value: 0.9298245614035088 and parameters: {'DIMENSION': 73, 'EPOCHS': 50, 'LEARNING_RATE': 0.00010529878527941309, 'LEARNING_RATE_DECAY': 0.00037317252129830483, 'SIGMA': 10, 'SIGMA_DECAY': 0.020464247358442968}. Best is trial 11 with value: 0.9298245614035088.\n",
      "Training SOM: 100%|██████████| 50/50 [00:21<00:00,  2.28epoch/s]\n",
      "[I 2025-01-09 15:53:15,206] Trial 12 finished with value: 0.9122807017543859 and parameters: {'DIMENSION': 74, 'EPOCHS': 50, 'LEARNING_RATE': 0.0001061944540507199, 'LEARNING_RATE_DECAY': 0.00033040195438363925, 'SIGMA': 10, 'SIGMA_DECAY': 0.022613895475389615}. Best is trial 11 with value: 0.9298245614035088.\n",
      "Training SOM: 100%|██████████| 62/62 [00:33<00:00,  1.86epoch/s]\n",
      "[I 2025-01-09 15:53:49,040] Trial 13 finished with value: 0.7017543859649122 and parameters: {'DIMENSION': 81, 'EPOCHS': 62, 'LEARNING_RATE': 0.0003965486484769785, 'LEARNING_RATE_DECAY': 0.00024604714844239276, 'SIGMA': 10, 'SIGMA_DECAY': 0.014811740663496095}. Best is trial 11 with value: 0.9298245614035088.\n",
      "Training SOM: 100%|██████████| 51/51 [00:16<00:00,  3.07epoch/s]\n",
      "[I 2025-01-09 15:54:05,861] Trial 14 finished with value: 0.8947368421052632 and parameters: {'DIMENSION': 66, 'EPOCHS': 51, 'LEARNING_RATE': 0.0001062481202290977, 'LEARNING_RATE_DECAY': 0.0006089089119429244, 'SIGMA': 12, 'SIGMA_DECAY': 0.05895953264293091}. Best is trial 11 with value: 0.9298245614035088.\n",
      "Training SOM: 100%|██████████| 65/65 [00:40<00:00,  1.60epoch/s]\n",
      "[I 2025-01-09 15:54:46,932] Trial 15 finished with value: 0.5263157894736842 and parameters: {'DIMENSION': 99, 'EPOCHS': 65, 'LEARNING_RATE': 0.008103001613973813, 'LEARNING_RATE_DECAY': 0.0005782178749503357, 'SIGMA': 12, 'SIGMA_DECAY': 0.025205873137118036}. Best is trial 11 with value: 0.9298245614035088.\n",
      "Training SOM: 100%|██████████| 56/56 [00:57<00:00,  1.02s/epoch]\n",
      "[I 2025-01-09 15:55:44,482] Trial 16 finished with value: 0.6140350877192983 and parameters: {'DIMENSION': 93, 'EPOCHS': 56, 'LEARNING_RATE': 0.00045465702193746147, 'LEARNING_RATE_DECAY': 0.0001891446028319027, 'SIGMA': 15, 'SIGMA_DECAY': 0.01003333594754577}. Best is trial 11 with value: 0.9298245614035088.\n",
      "Training SOM: 100%|██████████| 64/64 [01:05<00:00,  1.03s/epoch]\n",
      "[I 2025-01-09 15:56:51,353] Trial 17 finished with value: 0.7192982456140351 and parameters: {'DIMENSION': 118, 'EPOCHS': 64, 'LEARNING_RATE': 0.0005079271014563601, 'LEARNING_RATE_DECAY': 0.0024558691145364444, 'SIGMA': 10, 'SIGMA_DECAY': 0.016724285583077352}. Best is trial 11 with value: 0.9298245614035088.\n",
      "Training SOM: 100%|██████████| 52/52 [00:15<00:00,  3.38epoch/s]\n",
      "[I 2025-01-09 15:57:06,968] Trial 18 finished with value: 0.9473684210526315 and parameters: {'DIMENSION': 67, 'EPOCHS': 52, 'LEARNING_RATE': 0.00014486277599668487, 'LEARNING_RATE_DECAY': 0.0004499099311483718, 'SIGMA': 13, 'SIGMA_DECAY': 0.05387345319244747}. Best is trial 18 with value: 0.9473684210526315.\n",
      "Training SOM: 100%|██████████| 59/59 [00:13<00:00,  4.25epoch/s]\n",
      "[I 2025-01-09 15:57:21,027] Trial 19 finished with value: 0.9298245614035088 and parameters: {'DIMENSION': 59, 'EPOCHS': 59, 'LEARNING_RATE': 0.00027844950381222973, 'LEARNING_RATE_DECAY': 0.0005598143991184975, 'SIGMA': 13, 'SIGMA_DECAY': 0.05297790574998605}. Best is trial 18 with value: 0.9473684210526315.\n",
      "Training SOM: 100%|██████████| 66/66 [00:31<00:00,  2.08epoch/s]\n",
      "[I 2025-01-09 15:57:53,146] Trial 20 finished with value: 0.9473684210526315 and parameters: {'DIMENSION': 92, 'EPOCHS': 66, 'LEARNING_RATE': 0.0001337462098076393, 'LEARNING_RATE_DECAY': 0.0008683446281680088, 'SIGMA': 17, 'SIGMA_DECAY': 0.06928650480838557}. Best is trial 18 with value: 0.9473684210526315.\n",
      "Training SOM: 100%|██████████| 68/68 [00:30<00:00,  2.23epoch/s]\n",
      "[I 2025-01-09 15:58:23,938] Trial 21 finished with value: 0.9298245614035088 and parameters: {'DIMENSION': 88, 'EPOCHS': 68, 'LEARNING_RATE': 0.00015423546004476093, 'LEARNING_RATE_DECAY': 0.0007577855045565671, 'SIGMA': 17, 'SIGMA_DECAY': 0.06775662013252026}. Best is trial 18 with value: 0.9473684210526315.\n",
      "Training SOM: 100%|██████████| 54/54 [00:15<00:00,  3.46epoch/s]\n",
      "[I 2025-01-09 15:58:39,775] Trial 22 finished with value: 0.9298245614035088 and parameters: {'DIMENSION': 69, 'EPOCHS': 54, 'LEARNING_RATE': 0.00013717836407310473, 'LEARNING_RATE_DECAY': 0.000413450386384243, 'SIGMA': 12, 'SIGMA_DECAY': 0.07764155972004975}. Best is trial 18 with value: 0.9473684210526315.\n",
      "Training SOM: 100%|██████████| 61/61 [00:11<00:00,  5.35epoch/s]\n",
      "[I 2025-01-09 15:58:51,295] Trial 23 finished with value: 0.8771929824561403 and parameters: {'DIMENSION': 47, 'EPOCHS': 61, 'LEARNING_RATE': 0.0003339505965056709, 'LEARNING_RATE_DECAY': 0.002097622358041235, 'SIGMA': 15, 'SIGMA_DECAY': 0.05249973851367249}. Best is trial 18 with value: 0.9473684210526315.\n",
      "Training SOM: 100%|██████████| 53/53 [00:25<00:00,  2.10epoch/s]\n",
      "[I 2025-01-09 15:59:16,862] Trial 24 finished with value: 0.8947368421052632 and parameters: {'DIMENSION': 91, 'EPOCHS': 53, 'LEARNING_RATE': 0.00017281326444056242, 'LEARNING_RATE_DECAY': 0.0008978157618766048, 'SIGMA': 13, 'SIGMA_DECAY': 0.047518004321158734}. Best is trial 18 with value: 0.9473684210526315.\n",
      "Training SOM: 100%|██████████| 66/66 [00:24<00:00,  2.72epoch/s]\n",
      "[I 2025-01-09 15:59:41,327] Trial 25 finished with value: 0.5263157894736842 and parameters: {'DIMENSION': 62, 'EPOCHS': 66, 'LEARNING_RATE': 0.0006174541315909141, 'LEARNING_RATE_DECAY': 0.00020056339732374794, 'SIGMA': 22, 'SIGMA_DECAY': 0.03376636062529402}. Best is trial 18 with value: 0.9473684210526315.\n",
      "Training SOM: 100%|██████████| 74/74 [00:27<00:00,  2.71epoch/s]\n",
      "[I 2025-01-09 16:00:08,886] Trial 26 finished with value: 0.9122807017543859 and parameters: {'DIMENSION': 82, 'EPOCHS': 74, 'LEARNING_RATE': 0.0002398414410070699, 'LEARNING_RATE_DECAY': 0.00040428199718327946, 'SIGMA': 18, 'SIGMA_DECAY': 0.07734935007093731}. Best is trial 18 with value: 0.9473684210526315.\n",
      "Training SOM: 100%|██████████| 59/59 [00:48<00:00,  1.22epoch/s]\n",
      "[I 2025-01-09 16:00:57,974] Trial 27 finished with value: 0.9298245614035088 and parameters: {'DIMENSION': 119, 'EPOCHS': 59, 'LEARNING_RATE': 0.0001520557282347202, 'LEARNING_RATE_DECAY': 0.000262564041266302, 'SIGMA': 16, 'SIGMA_DECAY': 0.06559694654435434}. Best is trial 18 with value: 0.9473684210526315.\n",
      "Training SOM: 100%|██████████| 78/78 [00:14<00:00,  5.38epoch/s]\n",
      "[I 2025-01-09 16:01:12,612] Trial 28 finished with value: 0.8947368421052632 and parameters: {'DIMENSION': 48, 'EPOCHS': 78, 'LEARNING_RATE': 0.0003124159655676795, 'LEARNING_RATE_DECAY': 0.0001240857049011698, 'SIGMA': 11, 'SIGMA_DECAY': 0.030891651412148113}. Best is trial 18 with value: 0.9473684210526315.\n",
      "Training SOM: 100%|██████████| 100/100 [00:57<00:00,  1.73epoch/s]\n",
      "[I 2025-01-09 16:02:10,802] Trial 29 finished with value: 0.7543859649122807 and parameters: {'DIMENSION': 101, 'EPOCHS': 100, 'LEARNING_RATE': 0.0007566993314051016, 'LEARNING_RATE_DECAY': 0.003472153146713414, 'SIGMA': 14, 'SIGMA_DECAY': 0.04474713052317818}. Best is trial 18 with value: 0.9473684210526315.\n"
     ]
    },
    {
     "name": "stdout",
     "output_type": "stream",
     "text": [
      "Best parameters: {'DIMENSION': 67, 'EPOCHS': 52, 'LEARNING_RATE': 0.00014486277599668487, 'LEARNING_RATE_DECAY': 0.0004499099311483718, 'SIGMA': 13, 'SIGMA_DECAY': 0.05387345319244747}\n",
      "Best accuracy: 0.9473684210526315\n"
     ]
    }
   ],
   "source": [
    "import optuna\n",
    "from sklearn.metrics import classification_report\n",
    "\n",
    "def objective(trial):\n",
    "    # Suggest parameters\n",
    "    DIMENSION = trial.suggest_int(\"DIMENSION\", 20, 150)\n",
    "    EPOCHS = trial.suggest_int(\"EPOCHS\", 50, 100)\n",
    "    LEARNING_RATE = trial.suggest_float(\"LEARNING_RATE\", 1e-4, 1e-2, log = True)\n",
    "    LEARNING_RATE_DECAY = trial.suggest_float(\"LEARNING_RATE_DECAY\", 1e-4, 1e-2, log = True)\n",
    "    SIGMA = trial.suggest_int(\"SIGMA\", 10, 25)\n",
    "    SIGMA_DECAY = trial.suggest_float(\"SIGMA_DECAY\", 1e-2, 1e-1, log=True)\n",
    "    \n",
    "    # Train SOM with suggested parameters\n",
    "    som = SOM(\n",
    "        [28, 28],\n",
    "        cancer_x_train,\n",
    "        DIMENSION,\n",
    "        EPOCHS,\n",
    "        LEARNING_RATE,\n",
    "        LEARNING_RATE_DECAY,\n",
    "        SIGMA,\n",
    "        SIGMA_DECAY,\n",
    "        showMode=0\n",
    "    )\n",
    "    \n",
    "    label_map = createLabelMap(som, cancer_x_train, cancer_y_train)\n",
    "    test_predictions = classifySOM(som, label_map, cancer_x_val)\n",
    "    \n",
    "    # Evaluate performance\n",
    "    score = classification_report(cancer_y_val, test_predictions, output_dict=True)[\"accuracy\"]\n",
    "    return score\n",
    "\n",
    "# Run Bayesian optimization\n",
    "study = optuna.create_study(direction=\"maximize\")\n",
    "study.optimize(objective, n_trials=30)\n",
    "\n",
    "print(\"Best parameters:\", study.best_params)\n",
    "print(\"Best accuracy:\", study.best_value)"
   ]
  },
  {
   "cell_type": "code",
   "execution_count": 32,
   "metadata": {},
   "outputs": [
    {
     "name": "stderr",
     "output_type": "stream",
     "text": [
      "Training SOM:   0%|          | 0/52 [00:00<?, ?epoch/s]"
     ]
    },
    {
     "name": "stderr",
     "output_type": "stream",
     "text": [
      "Training SOM: 100%|██████████| 52/52 [00:17<00:00,  2.97epoch/s]\n"
     ]
    },
    {
     "name": "stdout",
     "output_type": "stream",
     "text": [
      "Classification Report for Test Set\n",
      "              precision    recall  f1-score   support\n",
      "\n",
      "           0       0.80      1.00      0.89        16\n",
      "           1       1.00      0.90      0.95        41\n",
      "\n",
      "    accuracy                           0.93        57\n",
      "   macro avg       0.90      0.95      0.92        57\n",
      "weighted avg       0.94      0.93      0.93        57\n",
      "\n"
     ]
    },
    {
     "data": {
      "image/png": "[encoded data removed]",
      "text/plain": [
       "<Figure size 1000x800 with 2 Axes>"
      ]
     },
     "metadata": {},
     "output_type": "display_data"
    }
   ],
   "source": [
    "DIMENSION = 67\n",
    "EPOCHS = 52\n",
    "LEARNING_RATE = 0.00014486277599668487\n",
    "LEARNING_RATE_DECAY = 0.0004499099311483718\n",
    "SIGMA = 13\n",
    "SIGMA_DECAY = 0.05387345319244747\n",
    "\n",
    "cancer_som = SOM([28,28],cancer_x_train, DIMENSION,EPOCHS,LEARNING_RATE,LEARNING_RATE_DECAY,SIGMA,SIGMA_DECAY, showMode=0)\n",
    "\n",
    "label_map = createLabelMap(cancer_som, cancer_x_train, cancer_y_train)\n",
    "\n",
    "# Classify on test set\n",
    "test_predictions = classifySOM(cancer_som, label_map, cancer_x_test)\n",
    "\n",
    "print(\"Classification Report for Test Set\")\n",
    "print(classification_report(cancer_y_test, test_predictions))\n",
    "plot_confusion_matrix(cancer_y_test, test_predictions, title=\"Confusion Matrix - Test Set\")"
   ]
  },
  {
   "cell_type": "markdown",
   "metadata": {},
   "source": [
    "#### Wine"
   ]
  },
  {
   "cell_type": "code",
   "execution_count": 34,
   "metadata": {},
   "outputs": [
    {
     "name": "stderr",
     "output_type": "stream",
     "text": [
      "[I 2025-01-09 16:07:30,859] A new study created in memory with name: no-name-a18bde34-77bd-43c5-b983-ae7d01f2d64e\n",
      "Training SOM: 100%|██████████| 73/73 [00:07<00:00,  9.61epoch/s]\n",
      "/opt/anaconda3/lib/python3.12/site-packages/sklearn/metrics/_classification.py:1531: UndefinedMetricWarning: Precision is ill-defined and being set to 0.0 in labels with no predicted samples. Use `zero_division` parameter to control this behavior.\n",
      "  _warn_prf(average, modifier, f\"{metric.capitalize()} is\", len(result))\n",
      "/opt/anaconda3/lib/python3.12/site-packages/sklearn/metrics/_classification.py:1531: UndefinedMetricWarning: Precision is ill-defined and being set to 0.0 in labels with no predicted samples. Use `zero_division` parameter to control this behavior.\n",
      "  _warn_prf(average, modifier, f\"{metric.capitalize()} is\", len(result))\n",
      "/opt/anaconda3/lib/python3.12/site-packages/sklearn/metrics/_classification.py:1531: UndefinedMetricWarning: Precision is ill-defined and being set to 0.0 in labels with no predicted samples. Use `zero_division` parameter to control this behavior.\n",
      "  _warn_prf(average, modifier, f\"{metric.capitalize()} is\", len(result))\n",
      "[I 2025-01-09 16:07:38,546] Trial 0 finished with value: 0.3888888888888889 and parameters: {'DIMENSION': 86, 'EPOCHS': 73, 'LEARNING_RATE': 0.0011399057596419618, 'LEARNING_RATE_DECAY': 0.0009554820953938637, 'SIGMA': 10, 'SIGMA_DECAY': 0.014639285134749965}. Best is trial 0 with value: 0.3888888888888889.\n",
      "Training SOM: 100%|██████████| 72/72 [00:02<00:00, 28.37epoch/s]\n",
      "/opt/anaconda3/lib/python3.12/site-packages/sklearn/metrics/_classification.py:1531: UndefinedMetricWarning: Precision is ill-defined and being set to 0.0 in labels with no predicted samples. Use `zero_division` parameter to control this behavior.\n",
      "  _warn_prf(average, modifier, f\"{metric.capitalize()} is\", len(result))\n",
      "/opt/anaconda3/lib/python3.12/site-packages/sklearn/metrics/_classification.py:1531: UndefinedMetricWarning: Precision is ill-defined and being set to 0.0 in labels with no predicted samples. Use `zero_division` parameter to control this behavior.\n",
      "  _warn_prf(average, modifier, f\"{metric.capitalize()} is\", len(result))\n",
      "/opt/anaconda3/lib/python3.12/site-packages/sklearn/metrics/_classification.py:1531: UndefinedMetricWarning: Precision is ill-defined and being set to 0.0 in labels with no predicted samples. Use `zero_division` parameter to control this behavior.\n",
      "  _warn_prf(average, modifier, f\"{metric.capitalize()} is\", len(result))\n",
      "[I 2025-01-09 16:07:41,111] Trial 1 finished with value: 0.2222222222222222 and parameters: {'DIMENSION': 32, 'EPOCHS': 72, 'LEARNING_RATE': 0.0044341416003276955, 'LEARNING_RATE_DECAY': 0.0009108676334741357, 'SIGMA': 24, 'SIGMA_DECAY': 0.015056823057103628}. Best is trial 0 with value: 0.3888888888888889.\n",
      "Training SOM: 100%|██████████| 94/94 [00:09<00:00,  9.75epoch/s]\n",
      "/opt/anaconda3/lib/python3.12/site-packages/sklearn/metrics/_classification.py:1531: UndefinedMetricWarning: Precision is ill-defined and being set to 0.0 in labels with no predicted samples. Use `zero_division` parameter to control this behavior.\n",
      "  _warn_prf(average, modifier, f\"{metric.capitalize()} is\", len(result))\n",
      "/opt/anaconda3/lib/python3.12/site-packages/sklearn/metrics/_classification.py:1531: UndefinedMetricWarning: Precision is ill-defined and being set to 0.0 in labels with no predicted samples. Use `zero_division` parameter to control this behavior.\n",
      "  _warn_prf(average, modifier, f\"{metric.capitalize()} is\", len(result))\n",
      "/opt/anaconda3/lib/python3.12/site-packages/sklearn/metrics/_classification.py:1531: UndefinedMetricWarning: Precision is ill-defined and being set to 0.0 in labels with no predicted samples. Use `zero_division` parameter to control this behavior.\n",
      "  _warn_prf(average, modifier, f\"{metric.capitalize()} is\", len(result))\n",
      "[I 2025-01-09 16:07:50,829] Trial 2 finished with value: 0.3888888888888889 and parameters: {'DIMENSION': 87, 'EPOCHS': 94, 'LEARNING_RATE': 0.006101257708893189, 'LEARNING_RATE_DECAY': 0.00039229401247863445, 'SIGMA': 12, 'SIGMA_DECAY': 0.013276581083137751}. Best is trial 0 with value: 0.3888888888888889.\n",
      "Training SOM: 100%|██████████| 92/92 [00:02<00:00, 39.49epoch/s]\n",
      "/opt/anaconda3/lib/python3.12/site-packages/sklearn/metrics/_classification.py:1531: UndefinedMetricWarning: Precision is ill-defined and being set to 0.0 in labels with no predicted samples. Use `zero_division` parameter to control this behavior.\n",
      "  _warn_prf(average, modifier, f\"{metric.capitalize()} is\", len(result))\n",
      "/opt/anaconda3/lib/python3.12/site-packages/sklearn/metrics/_classification.py:1531: UndefinedMetricWarning: Precision is ill-defined and being set to 0.0 in labels with no predicted samples. Use `zero_division` parameter to control this behavior.\n",
      "  _warn_prf(average, modifier, f\"{metric.capitalize()} is\", len(result))\n",
      "/opt/anaconda3/lib/python3.12/site-packages/sklearn/metrics/_classification.py:1531: UndefinedMetricWarning: Precision is ill-defined and being set to 0.0 in labels with no predicted samples. Use `zero_division` parameter to control this behavior.\n",
      "  _warn_prf(average, modifier, f\"{metric.capitalize()} is\", len(result))\n",
      "[I 2025-01-09 16:07:53,190] Trial 3 finished with value: 0.3888888888888889 and parameters: {'DIMENSION': 31, 'EPOCHS': 92, 'LEARNING_RATE': 0.006735509075804434, 'LEARNING_RATE_DECAY': 0.0003416862917974195, 'SIGMA': 13, 'SIGMA_DECAY': 0.0681736560192501}. Best is trial 0 with value: 0.3888888888888889.\n",
      "Training SOM: 100%|██████████| 74/74 [00:03<00:00, 19.01epoch/s]\n",
      "/opt/anaconda3/lib/python3.12/site-packages/sklearn/metrics/_classification.py:1531: UndefinedMetricWarning: Precision is ill-defined and being set to 0.0 in labels with no predicted samples. Use `zero_division` parameter to control this behavior.\n",
      "  _warn_prf(average, modifier, f\"{metric.capitalize()} is\", len(result))\n",
      "/opt/anaconda3/lib/python3.12/site-packages/sklearn/metrics/_classification.py:1531: UndefinedMetricWarning: Precision is ill-defined and being set to 0.0 in labels with no predicted samples. Use `zero_division` parameter to control this behavior.\n",
      "  _warn_prf(average, modifier, f\"{metric.capitalize()} is\", len(result))\n",
      "/opt/anaconda3/lib/python3.12/site-packages/sklearn/metrics/_classification.py:1531: UndefinedMetricWarning: Precision is ill-defined and being set to 0.0 in labels with no predicted samples. Use `zero_division` parameter to control this behavior.\n",
      "  _warn_prf(average, modifier, f\"{metric.capitalize()} is\", len(result))\n",
      "[I 2025-01-09 16:07:57,127] Trial 4 finished with value: 0.16666666666666666 and parameters: {'DIMENSION': 62, 'EPOCHS': 74, 'LEARNING_RATE': 0.0006900145227810125, 'LEARNING_RATE_DECAY': 0.0006485408350583773, 'SIGMA': 22, 'SIGMA_DECAY': 0.0970883390733568}. Best is trial 0 with value: 0.3888888888888889.\n",
      "Training SOM: 100%|██████████| 53/53 [00:03<00:00, 16.14epoch/s]\n",
      "/opt/anaconda3/lib/python3.12/site-packages/sklearn/metrics/_classification.py:1531: UndefinedMetricWarning: Precision is ill-defined and being set to 0.0 in labels with no predicted samples. Use `zero_division` parameter to control this behavior.\n",
      "  _warn_prf(average, modifier, f\"{metric.capitalize()} is\", len(result))\n",
      "/opt/anaconda3/lib/python3.12/site-packages/sklearn/metrics/_classification.py:1531: UndefinedMetricWarning: Precision is ill-defined and being set to 0.0 in labels with no predicted samples. Use `zero_division` parameter to control this behavior.\n",
      "  _warn_prf(average, modifier, f\"{metric.capitalize()} is\", len(result))\n",
      "/opt/anaconda3/lib/python3.12/site-packages/sklearn/metrics/_classification.py:1531: UndefinedMetricWarning: Precision is ill-defined and being set to 0.0 in labels with no predicted samples. Use `zero_division` parameter to control this behavior.\n",
      "  _warn_prf(average, modifier, f\"{metric.capitalize()} is\", len(result))\n",
      "[I 2025-01-09 16:08:00,459] Trial 5 finished with value: 0.2222222222222222 and parameters: {'DIMENSION': 65, 'EPOCHS': 53, 'LEARNING_RATE': 0.00012884155584380955, 'LEARNING_RATE_DECAY': 0.0007177011479182023, 'SIGMA': 15, 'SIGMA_DECAY': 0.051644386334235876}. Best is trial 0 with value: 0.3888888888888889.\n",
      "Training SOM: 100%|██████████| 57/57 [00:04<00:00, 12.86epoch/s]\n",
      "/opt/anaconda3/lib/python3.12/site-packages/sklearn/metrics/_classification.py:1531: UndefinedMetricWarning: Precision is ill-defined and being set to 0.0 in labels with no predicted samples. Use `zero_division` parameter to control this behavior.\n",
      "  _warn_prf(average, modifier, f\"{metric.capitalize()} is\", len(result))\n",
      "/opt/anaconda3/lib/python3.12/site-packages/sklearn/metrics/_classification.py:1531: UndefinedMetricWarning: Precision is ill-defined and being set to 0.0 in labels with no predicted samples. Use `zero_division` parameter to control this behavior.\n",
      "  _warn_prf(average, modifier, f\"{metric.capitalize()} is\", len(result))\n",
      "/opt/anaconda3/lib/python3.12/site-packages/sklearn/metrics/_classification.py:1531: UndefinedMetricWarning: Precision is ill-defined and being set to 0.0 in labels with no predicted samples. Use `zero_division` parameter to control this behavior.\n",
      "  _warn_prf(average, modifier, f\"{metric.capitalize()} is\", len(result))\n",
      "[I 2025-01-09 16:08:04,949] Trial 6 finished with value: 0.2777777777777778 and parameters: {'DIMENSION': 75, 'EPOCHS': 57, 'LEARNING_RATE': 0.00018956914801181258, 'LEARNING_RATE_DECAY': 0.004703742052483969, 'SIGMA': 25, 'SIGMA_DECAY': 0.09586901885037243}. Best is trial 0 with value: 0.3888888888888889.\n",
      "Training SOM: 100%|██████████| 77/77 [00:02<00:00, 32.97epoch/s]\n",
      "[I 2025-01-09 16:08:07,310] Trial 7 finished with value: 0.3888888888888889 and parameters: {'DIMENSION': 35, 'EPOCHS': 77, 'LEARNING_RATE': 0.0025126263629349334, 'LEARNING_RATE_DECAY': 0.0011705164600277805, 'SIGMA': 16, 'SIGMA_DECAY': 0.06389882528847278}. Best is trial 0 with value: 0.3888888888888889.\n",
      "Training SOM: 100%|██████████| 52/52 [00:04<00:00, 12.25epoch/s]\n",
      "/opt/anaconda3/lib/python3.12/site-packages/sklearn/metrics/_classification.py:1531: UndefinedMetricWarning: Precision is ill-defined and being set to 0.0 in labels with no predicted samples. Use `zero_division` parameter to control this behavior.\n",
      "  _warn_prf(average, modifier, f\"{metric.capitalize()} is\", len(result))\n",
      "/opt/anaconda3/lib/python3.12/site-packages/sklearn/metrics/_classification.py:1531: UndefinedMetricWarning: Precision is ill-defined and being set to 0.0 in labels with no predicted samples. Use `zero_division` parameter to control this behavior.\n",
      "  _warn_prf(average, modifier, f\"{metric.capitalize()} is\", len(result))\n",
      "/opt/anaconda3/lib/python3.12/site-packages/sklearn/metrics/_classification.py:1531: UndefinedMetricWarning: Precision is ill-defined and being set to 0.0 in labels with no predicted samples. Use `zero_division` parameter to control this behavior.\n",
      "  _warn_prf(average, modifier, f\"{metric.capitalize()} is\", len(result))\n",
      "[I 2025-01-09 16:08:11,609] Trial 8 finished with value: 0.4444444444444444 and parameters: {'DIMENSION': 63, 'EPOCHS': 52, 'LEARNING_RATE': 0.002311169108643126, 'LEARNING_RATE_DECAY': 0.00014677360026687782, 'SIGMA': 21, 'SIGMA_DECAY': 0.01937109508679687}. Best is trial 8 with value: 0.4444444444444444.\n",
      "Training SOM: 100%|██████████| 79/79 [00:03<00:00, 23.26epoch/s]\n",
      "[I 2025-01-09 16:08:15,042] Trial 9 finished with value: 0.1111111111111111 and parameters: {'DIMENSION': 47, 'EPOCHS': 79, 'LEARNING_RATE': 0.00029929247501308843, 'LEARNING_RATE_DECAY': 0.0055077025046693494, 'SIGMA': 24, 'SIGMA_DECAY': 0.06241395199923803}. Best is trial 8 with value: 0.4444444444444444.\n",
      "Training SOM: 100%|██████████| 62/62 [00:09<00:00,  6.38epoch/s]\n",
      "/opt/anaconda3/lib/python3.12/site-packages/sklearn/metrics/_classification.py:1531: UndefinedMetricWarning: Precision is ill-defined and being set to 0.0 in labels with no predicted samples. Use `zero_division` parameter to control this behavior.\n",
      "  _warn_prf(average, modifier, f\"{metric.capitalize()} is\", len(result))\n",
      "/opt/anaconda3/lib/python3.12/site-packages/sklearn/metrics/_classification.py:1531: UndefinedMetricWarning: Precision is ill-defined and being set to 0.0 in labels with no predicted samples. Use `zero_division` parameter to control this behavior.\n",
      "  _warn_prf(average, modifier, f\"{metric.capitalize()} is\", len(result))\n",
      "/opt/anaconda3/lib/python3.12/site-packages/sklearn/metrics/_classification.py:1531: UndefinedMetricWarning: Precision is ill-defined and being set to 0.0 in labels with no predicted samples. Use `zero_division` parameter to control this behavior.\n",
      "  _warn_prf(average, modifier, f\"{metric.capitalize()} is\", len(result))\n",
      "[I 2025-01-09 16:08:24,865] Trial 10 finished with value: 0.3888888888888889 and parameters: {'DIMENSION': 98, 'EPOCHS': 62, 'LEARNING_RATE': 0.0012774784186567903, 'LEARNING_RATE_DECAY': 0.00010273901324349534, 'SIGMA': 20, 'SIGMA_DECAY': 0.026995298356885314}. Best is trial 8 with value: 0.4444444444444444.\n",
      "Training SOM: 100%|██████████| 64/64 [00:05<00:00, 11.62epoch/s]\n",
      "/opt/anaconda3/lib/python3.12/site-packages/sklearn/metrics/_classification.py:1531: UndefinedMetricWarning: Precision is ill-defined and being set to 0.0 in labels with no predicted samples. Use `zero_division` parameter to control this behavior.\n",
      "  _warn_prf(average, modifier, f\"{metric.capitalize()} is\", len(result))\n",
      "/opt/anaconda3/lib/python3.12/site-packages/sklearn/metrics/_classification.py:1531: UndefinedMetricWarning: Precision is ill-defined and being set to 0.0 in labels with no predicted samples. Use `zero_division` parameter to control this behavior.\n",
      "  _warn_prf(average, modifier, f\"{metric.capitalize()} is\", len(result))\n",
      "/opt/anaconda3/lib/python3.12/site-packages/sklearn/metrics/_classification.py:1531: UndefinedMetricWarning: Precision is ill-defined and being set to 0.0 in labels with no predicted samples. Use `zero_division` parameter to control this behavior.\n",
      "  _warn_prf(average, modifier, f\"{metric.capitalize()} is\", len(result))\n",
      "[I 2025-01-09 16:08:30,462] Trial 11 finished with value: 0.3888888888888889 and parameters: {'DIMENSION': 79, 'EPOCHS': 64, 'LEARNING_RATE': 0.0011501281964711907, 'LEARNING_RATE_DECAY': 0.0001018728113130535, 'SIGMA': 10, 'SIGMA_DECAY': 0.02023619820714052}. Best is trial 8 with value: 0.4444444444444444.\n",
      "Training SOM: 100%|██████████| 50/50 [00:03<00:00, 14.18epoch/s]\n",
      "/opt/anaconda3/lib/python3.12/site-packages/sklearn/metrics/_classification.py:1531: UndefinedMetricWarning: Precision is ill-defined and being set to 0.0 in labels with no predicted samples. Use `zero_division` parameter to control this behavior.\n",
      "  _warn_prf(average, modifier, f\"{metric.capitalize()} is\", len(result))\n",
      "/opt/anaconda3/lib/python3.12/site-packages/sklearn/metrics/_classification.py:1531: UndefinedMetricWarning: Precision is ill-defined and being set to 0.0 in labels with no predicted samples. Use `zero_division` parameter to control this behavior.\n",
      "  _warn_prf(average, modifier, f\"{metric.capitalize()} is\", len(result))\n",
      "/opt/anaconda3/lib/python3.12/site-packages/sklearn/metrics/_classification.py:1531: UndefinedMetricWarning: Precision is ill-defined and being set to 0.0 in labels with no predicted samples. Use `zero_division` parameter to control this behavior.\n",
      "  _warn_prf(average, modifier, f\"{metric.capitalize()} is\", len(result))\n",
      "[I 2025-01-09 16:08:34,057] Trial 12 finished with value: 0.2777777777777778 and parameters: {'DIMENSION': 55, 'EPOCHS': 50, 'LEARNING_RATE': 0.002299118627204499, 'LEARNING_RATE_DECAY': 0.003155930343419655, 'SIGMA': 19, 'SIGMA_DECAY': 0.010929923999295986}. Best is trial 8 with value: 0.4444444444444444.\n",
      "Training SOM: 100%|██████████| 86/86 [00:07<00:00, 10.99epoch/s]\n",
      "[I 2025-01-09 16:08:41,970] Trial 13 finished with value: 0.3333333333333333 and parameters: {'DIMENSION': 76, 'EPOCHS': 86, 'LEARNING_RATE': 0.0005057670148624139, 'LEARNING_RATE_DECAY': 0.0018943742099694048, 'SIGMA': 18, 'SIGMA_DECAY': 0.02077100549145609}. Best is trial 8 with value: 0.4444444444444444.\n",
      "Training SOM: 100%|██████████| 66/66 [00:09<00:00,  7.19epoch/s]\n",
      "/opt/anaconda3/lib/python3.12/site-packages/sklearn/metrics/_classification.py:1531: UndefinedMetricWarning: Precision is ill-defined and being set to 0.0 in labels with no predicted samples. Use `zero_division` parameter to control this behavior.\n",
      "  _warn_prf(average, modifier, f\"{metric.capitalize()} is\", len(result))\n",
      "/opt/anaconda3/lib/python3.12/site-packages/sklearn/metrics/_classification.py:1531: UndefinedMetricWarning: Precision is ill-defined and being set to 0.0 in labels with no predicted samples. Use `zero_division` parameter to control this behavior.\n",
      "  _warn_prf(average, modifier, f\"{metric.capitalize()} is\", len(result))\n",
      "/opt/anaconda3/lib/python3.12/site-packages/sklearn/metrics/_classification.py:1531: UndefinedMetricWarning: Precision is ill-defined and being set to 0.0 in labels with no predicted samples. Use `zero_division` parameter to control this behavior.\n",
      "  _warn_prf(average, modifier, f\"{metric.capitalize()} is\", len(result))\n",
      "[I 2025-01-09 16:08:51,261] Trial 14 finished with value: 0.3888888888888889 and parameters: {'DIMENSION': 96, 'EPOCHS': 66, 'LEARNING_RATE': 0.0025295600068368893, 'LEARNING_RATE_DECAY': 0.00019625858531483096, 'SIGMA': 21, 'SIGMA_DECAY': 0.034768952511267236}. Best is trial 8 with value: 0.4444444444444444.\n",
      "Training SOM: 100%|██████████| 100/100 [00:05<00:00, 19.24epoch/s]\n",
      "/opt/anaconda3/lib/python3.12/site-packages/sklearn/metrics/_classification.py:1531: UndefinedMetricWarning: Precision is ill-defined and being set to 0.0 in labels with no predicted samples. Use `zero_division` parameter to control this behavior.\n",
      "  _warn_prf(average, modifier, f\"{metric.capitalize()} is\", len(result))\n",
      "/opt/anaconda3/lib/python3.12/site-packages/sklearn/metrics/_classification.py:1531: UndefinedMetricWarning: Precision is ill-defined and being set to 0.0 in labels with no predicted samples. Use `zero_division` parameter to control this behavior.\n",
      "  _warn_prf(average, modifier, f\"{metric.capitalize()} is\", len(result))\n",
      "/opt/anaconda3/lib/python3.12/site-packages/sklearn/metrics/_classification.py:1531: UndefinedMetricWarning: Precision is ill-defined and being set to 0.0 in labels with no predicted samples. Use `zero_division` parameter to control this behavior.\n",
      "  _warn_prf(average, modifier, f\"{metric.capitalize()} is\", len(result))\n",
      "[I 2025-01-09 16:08:56,519] Trial 15 finished with value: 0.3888888888888889 and parameters: {'DIMENSION': 51, 'EPOCHS': 100, 'LEARNING_RATE': 0.0015562520549637477, 'LEARNING_RATE_DECAY': 0.009552750148961424, 'SIGMA': 16, 'SIGMA_DECAY': 0.017874699488275036}. Best is trial 8 with value: 0.4444444444444444.\n",
      "Training SOM: 100%|██████████| 82/82 [00:06<00:00, 11.85epoch/s]\n",
      "[I 2025-01-09 16:09:03,534] Trial 16 finished with value: 0.2777777777777778 and parameters: {'DIMENSION': 85, 'EPOCHS': 82, 'LEARNING_RATE': 0.0005931481842698292, 'LEARNING_RATE_DECAY': 0.0002177904715066004, 'SIGMA': 10, 'SIGMA_DECAY': 0.030056619012538307}. Best is trial 8 with value: 0.4444444444444444.\n",
      "Training SOM: 100%|██████████| 70/70 [00:07<00:00,  9.50epoch/s]\n",
      "/opt/anaconda3/lib/python3.12/site-packages/sklearn/metrics/_classification.py:1531: UndefinedMetricWarning: Precision is ill-defined and being set to 0.0 in labels with no predicted samples. Use `zero_division` parameter to control this behavior.\n",
      "  _warn_prf(average, modifier, f\"{metric.capitalize()} is\", len(result))\n",
      "/opt/anaconda3/lib/python3.12/site-packages/sklearn/metrics/_classification.py:1531: UndefinedMetricWarning: Precision is ill-defined and being set to 0.0 in labels with no predicted samples. Use `zero_division` parameter to control this behavior.\n",
      "  _warn_prf(average, modifier, f\"{metric.capitalize()} is\", len(result))\n",
      "/opt/anaconda3/lib/python3.12/site-packages/sklearn/metrics/_classification.py:1531: UndefinedMetricWarning: Precision is ill-defined and being set to 0.0 in labels with no predicted samples. Use `zero_division` parameter to control this behavior.\n",
      "  _warn_prf(average, modifier, f\"{metric.capitalize()} is\", len(result))\n",
      "[I 2025-01-09 16:09:10,979] Trial 17 finished with value: 0.3888888888888889 and parameters: {'DIMENSION': 69, 'EPOCHS': 70, 'LEARNING_RATE': 0.0037146601591097205, 'LEARNING_RATE_DECAY': 0.001429830074143391, 'SIGMA': 22, 'SIGMA_DECAY': 0.010079569149756417}. Best is trial 8 with value: 0.4444444444444444.\n",
      "Training SOM: 100%|██████████| 60/60 [00:02<00:00, 23.22epoch/s]\n",
      "[I 2025-01-09 16:09:13,633] Trial 18 finished with value: 0.3888888888888889 and parameters: {'DIMENSION': 43, 'EPOCHS': 60, 'LEARNING_RATE': 0.0008474647834506709, 'LEARNING_RATE_DECAY': 0.00044882825108184327, 'SIGMA': 13, 'SIGMA_DECAY': 0.02413487109171636}. Best is trial 8 with value: 0.4444444444444444.\n",
      "Training SOM: 100%|██████████| 57/57 [00:03<00:00, 17.18epoch/s]\n",
      "[I 2025-01-09 16:09:17,030] Trial 19 finished with value: 0.3333333333333333 and parameters: {'DIMENSION': 60, 'EPOCHS': 57, 'LEARNING_RATE': 0.0003501520165272115, 'LEARNING_RATE_DECAY': 0.002455198377606325, 'SIGMA': 18, 'SIGMA_DECAY': 0.03765294790199108}. Best is trial 8 with value: 0.4444444444444444.\n",
      "Training SOM: 100%|██████████| 69/69 [00:08<00:00,  7.69epoch/s]\n",
      "/opt/anaconda3/lib/python3.12/site-packages/sklearn/metrics/_classification.py:1531: UndefinedMetricWarning: Precision is ill-defined and being set to 0.0 in labels with no predicted samples. Use `zero_division` parameter to control this behavior.\n",
      "  _warn_prf(average, modifier, f\"{metric.capitalize()} is\", len(result))\n",
      "/opt/anaconda3/lib/python3.12/site-packages/sklearn/metrics/_classification.py:1531: UndefinedMetricWarning: Precision is ill-defined and being set to 0.0 in labels with no predicted samples. Use `zero_division` parameter to control this behavior.\n",
      "  _warn_prf(average, modifier, f\"{metric.capitalize()} is\", len(result))\n",
      "/opt/anaconda3/lib/python3.12/site-packages/sklearn/metrics/_classification.py:1531: UndefinedMetricWarning: Precision is ill-defined and being set to 0.0 in labels with no predicted samples. Use `zero_division` parameter to control this behavior.\n",
      "  _warn_prf(average, modifier, f\"{metric.capitalize()} is\", len(result))\n",
      "[I 2025-01-09 16:09:26,102] Trial 20 finished with value: 0.4444444444444444 and parameters: {'DIMENSION': 86, 'EPOCHS': 69, 'LEARNING_RATE': 0.001797399061596511, 'LEARNING_RATE_DECAY': 0.00022479088314468376, 'SIGMA': 15, 'SIGMA_DECAY': 0.014264557019949296}. Best is trial 8 with value: 0.4444444444444444.\n",
      "Training SOM: 100%|██████████| 69/69 [00:07<00:00,  8.77epoch/s]\n",
      "/opt/anaconda3/lib/python3.12/site-packages/sklearn/metrics/_classification.py:1531: UndefinedMetricWarning: Precision is ill-defined and being set to 0.0 in labels with no predicted samples. Use `zero_division` parameter to control this behavior.\n",
      "  _warn_prf(average, modifier, f\"{metric.capitalize()} is\", len(result))\n",
      "/opt/anaconda3/lib/python3.12/site-packages/sklearn/metrics/_classification.py:1531: UndefinedMetricWarning: Precision is ill-defined and being set to 0.0 in labels with no predicted samples. Use `zero_division` parameter to control this behavior.\n",
      "  _warn_prf(average, modifier, f\"{metric.capitalize()} is\", len(result))\n",
      "/opt/anaconda3/lib/python3.12/site-packages/sklearn/metrics/_classification.py:1531: UndefinedMetricWarning: Precision is ill-defined and being set to 0.0 in labels with no predicted samples. Use `zero_division` parameter to control this behavior.\n",
      "  _warn_prf(average, modifier, f\"{metric.capitalize()} is\", len(result))\n",
      "[I 2025-01-09 16:09:34,076] Trial 21 finished with value: 0.3888888888888889 and parameters: {'DIMENSION': 87, 'EPOCHS': 69, 'LEARNING_RATE': 0.0019025684251662072, 'LEARNING_RATE_DECAY': 0.00017948121024168192, 'SIGMA': 15, 'SIGMA_DECAY': 0.014378719410103387}. Best is trial 8 with value: 0.4444444444444444.\n",
      "Training SOM: 100%|██████████| 83/83 [00:06<00:00, 13.40epoch/s]\n",
      "/opt/anaconda3/lib/python3.12/site-packages/sklearn/metrics/_classification.py:1531: UndefinedMetricWarning: Precision is ill-defined and being set to 0.0 in labels with no predicted samples. Use `zero_division` parameter to control this behavior.\n",
      "  _warn_prf(average, modifier, f\"{metric.capitalize()} is\", len(result))\n",
      "/opt/anaconda3/lib/python3.12/site-packages/sklearn/metrics/_classification.py:1531: UndefinedMetricWarning: Precision is ill-defined and being set to 0.0 in labels with no predicted samples. Use `zero_division` parameter to control this behavior.\n",
      "  _warn_prf(average, modifier, f\"{metric.capitalize()} is\", len(result))\n",
      "/opt/anaconda3/lib/python3.12/site-packages/sklearn/metrics/_classification.py:1531: UndefinedMetricWarning: Precision is ill-defined and being set to 0.0 in labels with no predicted samples. Use `zero_division` parameter to control this behavior.\n",
      "  _warn_prf(average, modifier, f\"{metric.capitalize()} is\", len(result))\n",
      "[I 2025-01-09 16:09:40,356] Trial 22 finished with value: 0.4444444444444444 and parameters: {'DIMENSION': 71, 'EPOCHS': 83, 'LEARNING_RATE': 0.0038250061514409238, 'LEARNING_RATE_DECAY': 0.00025106783314980213, 'SIGMA': 12, 'SIGMA_DECAY': 0.01670268559468063}. Best is trial 8 with value: 0.4444444444444444.\n",
      "Training SOM: 100%|██████████| 85/85 [00:06<00:00, 12.42epoch/s]\n",
      "/opt/anaconda3/lib/python3.12/site-packages/sklearn/metrics/_classification.py:1531: UndefinedMetricWarning: Precision is ill-defined and being set to 0.0 in labels with no predicted samples. Use `zero_division` parameter to control this behavior.\n",
      "  _warn_prf(average, modifier, f\"{metric.capitalize()} is\", len(result))\n",
      "/opt/anaconda3/lib/python3.12/site-packages/sklearn/metrics/_classification.py:1531: UndefinedMetricWarning: Precision is ill-defined and being set to 0.0 in labels with no predicted samples. Use `zero_division` parameter to control this behavior.\n",
      "  _warn_prf(average, modifier, f\"{metric.capitalize()} is\", len(result))\n",
      "/opt/anaconda3/lib/python3.12/site-packages/sklearn/metrics/_classification.py:1531: UndefinedMetricWarning: Precision is ill-defined and being set to 0.0 in labels with no predicted samples. Use `zero_division` parameter to control this behavior.\n",
      "  _warn_prf(average, modifier, f\"{metric.capitalize()} is\", len(result))\n",
      "[I 2025-01-09 16:09:47,286] Trial 23 finished with value: 0.3888888888888889 and parameters: {'DIMENSION': 72, 'EPOCHS': 85, 'LEARNING_RATE': 0.00379931780079512, 'LEARNING_RATE_DECAY': 0.00026299370292915433, 'SIGMA': 13, 'SIGMA_DECAY': 0.018381748499921496}. Best is trial 8 with value: 0.4444444444444444.\n",
      "Training SOM: 100%|██████████| 89/89 [00:08<00:00, 10.77epoch/s]\n",
      "/opt/anaconda3/lib/python3.12/site-packages/sklearn/metrics/_classification.py:1531: UndefinedMetricWarning: Precision is ill-defined and being set to 0.0 in labels with no predicted samples. Use `zero_division` parameter to control this behavior.\n",
      "  _warn_prf(average, modifier, f\"{metric.capitalize()} is\", len(result))\n",
      "/opt/anaconda3/lib/python3.12/site-packages/sklearn/metrics/_classification.py:1531: UndefinedMetricWarning: Precision is ill-defined and being set to 0.0 in labels with no predicted samples. Use `zero_division` parameter to control this behavior.\n",
      "  _warn_prf(average, modifier, f\"{metric.capitalize()} is\", len(result))\n",
      "/opt/anaconda3/lib/python3.12/site-packages/sklearn/metrics/_classification.py:1531: UndefinedMetricWarning: Precision is ill-defined and being set to 0.0 in labels with no predicted samples. Use `zero_division` parameter to control this behavior.\n",
      "  _warn_prf(average, modifier, f\"{metric.capitalize()} is\", len(result))\n",
      "[I 2025-01-09 16:09:55,648] Trial 24 finished with value: 0.4444444444444444 and parameters: {'DIMENSION': 80, 'EPOCHS': 89, 'LEARNING_RATE': 0.00975569560558713, 'LEARNING_RATE_DECAY': 0.00014401198494916846, 'SIGMA': 12, 'SIGMA_DECAY': 0.01182448740085915}. Best is trial 8 with value: 0.4444444444444444.\n",
      "Training SOM: 100%|██████████| 80/80 [00:05<00:00, 13.58epoch/s]\n",
      "/opt/anaconda3/lib/python3.12/site-packages/sklearn/metrics/_classification.py:1531: UndefinedMetricWarning: Precision is ill-defined and being set to 0.0 in labels with no predicted samples. Use `zero_division` parameter to control this behavior.\n",
      "  _warn_prf(average, modifier, f\"{metric.capitalize()} is\", len(result))\n",
      "/opt/anaconda3/lib/python3.12/site-packages/sklearn/metrics/_classification.py:1531: UndefinedMetricWarning: Precision is ill-defined and being set to 0.0 in labels with no predicted samples. Use `zero_division` parameter to control this behavior.\n",
      "  _warn_prf(average, modifier, f\"{metric.capitalize()} is\", len(result))\n",
      "/opt/anaconda3/lib/python3.12/site-packages/sklearn/metrics/_classification.py:1531: UndefinedMetricWarning: Precision is ill-defined and being set to 0.0 in labels with no predicted samples. Use `zero_division` parameter to control this behavior.\n",
      "  _warn_prf(average, modifier, f\"{metric.capitalize()} is\", len(result))\n",
      "[I 2025-01-09 16:10:01,624] Trial 25 finished with value: 0.4444444444444444 and parameters: {'DIMENSION': 66, 'EPOCHS': 80, 'LEARNING_RATE': 0.0027023657559088433, 'LEARNING_RATE_DECAY': 0.0002933409757241627, 'SIGMA': 16, 'SIGMA_DECAY': 0.023473668964802945}. Best is trial 8 with value: 0.4444444444444444.\n",
      "Training SOM: 100%|██████████| 50/50 [00:06<00:00,  8.09epoch/s]\n",
      "/opt/anaconda3/lib/python3.12/site-packages/sklearn/metrics/_classification.py:1531: UndefinedMetricWarning: Precision is ill-defined and being set to 0.0 in labels with no predicted samples. Use `zero_division` parameter to control this behavior.\n",
      "  _warn_prf(average, modifier, f\"{metric.capitalize()} is\", len(result))\n",
      "/opt/anaconda3/lib/python3.12/site-packages/sklearn/metrics/_classification.py:1531: UndefinedMetricWarning: Precision is ill-defined and being set to 0.0 in labels with no predicted samples. Use `zero_division` parameter to control this behavior.\n",
      "  _warn_prf(average, modifier, f\"{metric.capitalize()} is\", len(result))\n",
      "/opt/anaconda3/lib/python3.12/site-packages/sklearn/metrics/_classification.py:1531: UndefinedMetricWarning: Precision is ill-defined and being set to 0.0 in labels with no predicted samples. Use `zero_division` parameter to control this behavior.\n",
      "  _warn_prf(average, modifier, f\"{metric.capitalize()} is\", len(result))\n",
      "[I 2025-01-09 16:10:07,928] Trial 26 finished with value: 0.3333333333333333 and parameters: {'DIMENSION': 93, 'EPOCHS': 50, 'LEARNING_RATE': 0.005542399160372282, 'LEARNING_RATE_DECAY': 0.00015495387342377912, 'SIGMA': 14, 'SIGMA_DECAY': 0.017230342686713328}. Best is trial 8 with value: 0.4444444444444444.\n",
      "Training SOM: 100%|██████████| 68/68 [00:07<00:00,  8.76epoch/s]\n",
      "/opt/anaconda3/lib/python3.12/site-packages/sklearn/metrics/_classification.py:1531: UndefinedMetricWarning: Precision is ill-defined and being set to 0.0 in labels with no predicted samples. Use `zero_division` parameter to control this behavior.\n",
      "  _warn_prf(average, modifier, f\"{metric.capitalize()} is\", len(result))\n",
      "/opt/anaconda3/lib/python3.12/site-packages/sklearn/metrics/_classification.py:1531: UndefinedMetricWarning: Precision is ill-defined and being set to 0.0 in labels with no predicted samples. Use `zero_division` parameter to control this behavior.\n",
      "  _warn_prf(average, modifier, f\"{metric.capitalize()} is\", len(result))\n",
      "/opt/anaconda3/lib/python3.12/site-packages/sklearn/metrics/_classification.py:1531: UndefinedMetricWarning: Precision is ill-defined and being set to 0.0 in labels with no predicted samples. Use `zero_division` parameter to control this behavior.\n",
      "  _warn_prf(average, modifier, f\"{metric.capitalize()} is\", len(result))\n",
      "[I 2025-01-09 16:10:15,788] Trial 27 finished with value: 0.3888888888888889 and parameters: {'DIMENSION': 80, 'EPOCHS': 68, 'LEARNING_RATE': 0.0017200069047987895, 'LEARNING_RATE_DECAY': 0.0005178291841809895, 'SIGMA': 17, 'SIGMA_DECAY': 0.016246242755377956}. Best is trial 8 with value: 0.4444444444444444.\n",
      "Training SOM: 100%|██████████| 55/55 [00:06<00:00,  8.15epoch/s]\n",
      "/opt/anaconda3/lib/python3.12/site-packages/sklearn/metrics/_classification.py:1531: UndefinedMetricWarning: Precision is ill-defined and being set to 0.0 in labels with no predicted samples. Use `zero_division` parameter to control this behavior.\n",
      "  _warn_prf(average, modifier, f\"{metric.capitalize()} is\", len(result))\n",
      "/opt/anaconda3/lib/python3.12/site-packages/sklearn/metrics/_classification.py:1531: UndefinedMetricWarning: Precision is ill-defined and being set to 0.0 in labels with no predicted samples. Use `zero_division` parameter to control this behavior.\n",
      "  _warn_prf(average, modifier, f\"{metric.capitalize()} is\", len(result))\n",
      "/opt/anaconda3/lib/python3.12/site-packages/sklearn/metrics/_classification.py:1531: UndefinedMetricWarning: Precision is ill-defined and being set to 0.0 in labels with no predicted samples. Use `zero_division` parameter to control this behavior.\n",
      "  _warn_prf(average, modifier, f\"{metric.capitalize()} is\", len(result))\n",
      "[I 2025-01-09 16:10:22,646] Trial 28 finished with value: 0.3888888888888889 and parameters: {'DIMENSION': 92, 'EPOCHS': 55, 'LEARNING_RATE': 0.003317861549801748, 'LEARNING_RATE_DECAY': 0.00013659144901093096, 'SIGMA': 11, 'SIGMA_DECAY': 0.012701849078965896}. Best is trial 8 with value: 0.4444444444444444.\n",
      "Training SOM: 100%|██████████| 76/76 [00:04<00:00, 17.97epoch/s]\n",
      "[I 2025-01-09 16:10:26,947] Trial 29 finished with value: 0.3888888888888889 and parameters: {'DIMENSION': 58, 'EPOCHS': 76, 'LEARNING_RATE': 0.0009924557057600083, 'LEARNING_RATE_DECAY': 0.0002448952702979685, 'SIGMA': 20, 'SIGMA_DECAY': 0.040350785600118066}. Best is trial 8 with value: 0.4444444444444444.\n"
     ]
    },
    {
     "name": "stdout",
     "output_type": "stream",
     "text": [
      "Best parameters: {'DIMENSION': 63, 'EPOCHS': 52, 'LEARNING_RATE': 0.002311169108643126, 'LEARNING_RATE_DECAY': 0.00014677360026687782, 'SIGMA': 21, 'SIGMA_DECAY': 0.01937109508679687}\n",
      "Best accuracy: 0.4444444444444444\n"
     ]
    }
   ],
   "source": [
    "import optuna\n",
    "from sklearn.metrics import classification_report\n",
    "\n",
    "def objective(trial):\n",
    "    \n",
    "    DIMENSION = trial.suggest_int(\"DIMENSION\", 30, 100)\n",
    "    EPOCHS = trial.suggest_int(\"EPOCHS\", 50, 100)\n",
    "    LEARNING_RATE = trial.suggest_float(\"LEARNING_RATE\", 1e-4, 1e-2, log = True)\n",
    "    LEARNING_RATE_DECAY = trial.suggest_float(\"LEARNING_RATE_DECAY\", 1e-4, 1e-2, log = True)\n",
    "    SIGMA = trial.suggest_int(\"SIGMA\", 10, 25)\n",
    "    SIGMA_DECAY = trial.suggest_float(\"SIGMA_DECAY\", 1e-2, 1e-1, log=True)\n",
    "    \n",
    "    \n",
    "    som_wine = SOM(\n",
    "        [28, 28],\n",
    "        wine_x_train,\n",
    "        DIMENSION,\n",
    "        EPOCHS,\n",
    "        LEARNING_RATE,\n",
    "        LEARNING_RATE_DECAY,\n",
    "        SIGMA,\n",
    "        SIGMA_DECAY,\n",
    "        showMode=0\n",
    "    )\n",
    "    \n",
    "    label_map = createLabelMap(som_wine, wine_x_train, wine_y_train)\n",
    "    test_predictions = classifySOM(som_wine, label_map, wine_x_val)\n",
    "\n",
    "    score = classification_report(wine_y_val, test_predictions, output_dict=True)[\"accuracy\"]\n",
    "    return score\n",
    "\n",
    "study = optuna.create_study(direction=\"maximize\")\n",
    "study.optimize(objective, n_trials=30)\n",
    "\n",
    "print(\"Best parameters:\", study.best_params)\n",
    "print(\"Best accuracy:\", study.best_value)\n"
   ]
  },
  {
   "cell_type": "code",
   "execution_count": 35,
   "metadata": {},
   "outputs": [
    {
     "name": "stderr",
     "output_type": "stream",
     "text": [
      "Training SOM: 100%|██████████| 52/52 [00:04<00:00, 11.72epoch/s]\n",
      "/opt/anaconda3/lib/python3.12/site-packages/sklearn/metrics/_classification.py:1531: UndefinedMetricWarning: Precision is ill-defined and being set to 0.0 in labels with no predicted samples. Use `zero_division` parameter to control this behavior.\n",
      "  _warn_prf(average, modifier, f\"{metric.capitalize()} is\", len(result))\n",
      "/opt/anaconda3/lib/python3.12/site-packages/sklearn/metrics/_classification.py:1531: UndefinedMetricWarning: Precision is ill-defined and being set to 0.0 in labels with no predicted samples. Use `zero_division` parameter to control this behavior.\n",
      "  _warn_prf(average, modifier, f\"{metric.capitalize()} is\", len(result))\n",
      "/opt/anaconda3/lib/python3.12/site-packages/sklearn/metrics/_classification.py:1531: UndefinedMetricWarning: Precision is ill-defined and being set to 0.0 in labels with no predicted samples. Use `zero_division` parameter to control this behavior.\n",
      "  _warn_prf(average, modifier, f\"{metric.capitalize()} is\", len(result))\n"
     ]
    },
    {
     "name": "stdout",
     "output_type": "stream",
     "text": [
      "Classification Report for Test Set\n",
      "              precision    recall  f1-score   support\n",
      "\n",
      "           0       0.47      1.00      0.64         7\n",
      "           1       1.00      0.30      0.46        10\n",
      "           2       0.00      0.00      0.00         1\n",
      "\n",
      "    accuracy                           0.56        18\n",
      "   macro avg       0.49      0.43      0.37        18\n",
      "weighted avg       0.74      0.56      0.50        18\n",
      "\n"
     ]
    },
    {
     "data": {
      "image/png": "[encoded data removed]",
      "text/plain": [
       "<Figure size 1000x800 with 2 Axes>"
      ]
     },
     "metadata": {},
     "output_type": "display_data"
    }
   ],
   "source": [
    "from scipy.stats import uniform\n",
    "from sklearn.model_selection import RandomizedSearchCV\n",
    "DIMENSION = 63\n",
    "EPOCHS = 52\n",
    "LEARNING_RATE = 0.002311169108643126\n",
    "LEARNING_RATE_DECAY = 0.00014677360026687782\n",
    "SIGMA = 21\n",
    "SIGMA_DECAY = 0.01937109508679687\n",
    "\n",
    "\n",
    "som_wine = SOM([28,28],wine_x_train, DIMENSION,EPOCHS,LEARNING_RATE,LEARNING_RATE_DECAY,SIGMA,SIGMA_DECAY, showMode=0)\n",
    "\n",
    "label_map = createLabelMap(som_wine, wine_x_train, wine_y_train)\n",
    "# Classify test data\n",
    "predictions = classifySOM(som_wine, label_map, wine_x_train)\n",
    "\n",
    "\n",
    "# Classify on training set\n",
    "train_predictions = classifySOM(som_wine, label_map, wine_x_train)\n",
    "\n",
    "# Classify on test set\n",
    "test_predictions = classifySOM(som_wine, label_map, wine_x_test)\n",
    "\n",
    "print(\"Classification Report for Test Set\")\n",
    "print(classification_report(wine_y_test, test_predictions))\n",
    "plot_confusion_matrix(wine_y_test, test_predictions, title=\"Confusion Matrix - Test Set\")\n"
   ]
  },
  {
   "cell_type": "markdown",
   "metadata": {},
   "source": [
    "#### Car eval"
   ]
  },
  {
   "cell_type": "code",
   "execution_count": 41,
   "metadata": {},
   "outputs": [
    {
     "name": "stderr",
     "output_type": "stream",
     "text": [
      "[I 2025-01-09 16:16:25,198] A new study created in memory with name: no-name-6da5e5f1-6efb-41c1-83be-e3a275a77f88\n",
      "Training SOM: 100%|██████████| 92/92 [02:23<00:00,  1.56s/epoch]\n",
      "[I 2025-01-09 16:18:50,032] Trial 0 finished with value: 0.3815028901734104 and parameters: {'DIMENSION': 144, 'EPOCHS': 92, 'LEARNING_RATE': 0.007156537874204413, 'LEARNING_RATE_DECAY': 0.0005158546618063361, 'SIGMA': 10, 'SIGMA_DECAY': 0.011162368832936484}. Best is trial 0 with value: 0.3815028901734104.\n",
      "Training SOM: 100%|██████████| 75/75 [01:04<00:00,  1.16epoch/s]\n",
      "[I 2025-01-09 16:19:55,231] Trial 1 finished with value: 0.5722543352601156 and parameters: {'DIMENSION': 103, 'EPOCHS': 75, 'LEARNING_RATE': 0.0012332401732195054, 'LEARNING_RATE_DECAY': 0.003351223737467828, 'SIGMA': 22, 'SIGMA_DECAY': 0.05544060970168969}. Best is trial 1 with value: 0.5722543352601156.\n",
      "Training SOM: 100%|██████████| 92/92 [02:11<00:00,  1.43s/epoch]\n",
      "[I 2025-01-09 16:22:07,925] Trial 2 finished with value: 0.5722543352601156 and parameters: {'DIMENSION': 143, 'EPOCHS': 92, 'LEARNING_RATE': 0.006255570333711777, 'LEARNING_RATE_DECAY': 0.0016791426303355609, 'SIGMA': 14, 'SIGMA_DECAY': 0.04773068407510638}. Best is trial 1 with value: 0.5722543352601156.\n",
      "Training SOM: 100%|██████████| 112/112 [03:48<00:00,  2.04s/epoch]\n",
      "/opt/anaconda3/lib/python3.12/site-packages/sklearn/metrics/_classification.py:1531: UndefinedMetricWarning: Precision is ill-defined and being set to 0.0 in labels with no predicted samples. Use `zero_division` parameter to control this behavior.\n",
      "  _warn_prf(average, modifier, f\"{metric.capitalize()} is\", len(result))\n",
      "/opt/anaconda3/lib/python3.12/site-packages/sklearn/metrics/_classification.py:1531: UndefinedMetricWarning: Precision is ill-defined and being set to 0.0 in labels with no predicted samples. Use `zero_division` parameter to control this behavior.\n",
      "  _warn_prf(average, modifier, f\"{metric.capitalize()} is\", len(result))\n",
      "/opt/anaconda3/lib/python3.12/site-packages/sklearn/metrics/_classification.py:1531: UndefinedMetricWarning: Precision is ill-defined and being set to 0.0 in labels with no predicted samples. Use `zero_division` parameter to control this behavior.\n",
      "  _warn_prf(average, modifier, f\"{metric.capitalize()} is\", len(result))\n",
      "[I 2025-01-09 16:25:57,597] Trial 3 finished with value: 0.3930635838150289 and parameters: {'DIMENSION': 165, 'EPOCHS': 112, 'LEARNING_RATE': 0.0015779481361528642, 'LEARNING_RATE_DECAY': 0.007256745412607975, 'SIGMA': 15, 'SIGMA_DECAY': 0.010879446271166883}. Best is trial 1 with value: 0.5722543352601156.\n",
      "Training SOM: 100%|██████████| 158/158 [03:42<00:00,  1.41s/epoch]\n",
      "[I 2025-01-09 16:29:40,715] Trial 4 finished with value: 0.5375722543352601 and parameters: {'DIMENSION': 144, 'EPOCHS': 158, 'LEARNING_RATE': 0.008512929285515378, 'LEARNING_RATE_DECAY': 0.00027168578059002244, 'SIGMA': 10, 'SIGMA_DECAY': 0.034966716662081815}. Best is trial 1 with value: 0.5722543352601156.\n",
      "Training SOM: 100%|██████████| 84/84 [00:42<00:00,  1.99epoch/s]\n",
      "[I 2025-01-09 16:30:23,217] Trial 5 finished with value: 0.4913294797687861 and parameters: {'DIMENSION': 71, 'EPOCHS': 84, 'LEARNING_RATE': 0.0004357988749031966, 'LEARNING_RATE_DECAY': 0.003261734464619284, 'SIGMA': 23, 'SIGMA_DECAY': 0.05840979461190905}. Best is trial 1 with value: 0.5722543352601156.\n",
      "Training SOM: 100%|██████████| 101/101 [02:37<00:00,  1.56s/epoch]\n",
      "[I 2025-01-09 16:33:01,556] Trial 6 finished with value: 0.37572254335260113 and parameters: {'DIMENSION': 137, 'EPOCHS': 101, 'LEARNING_RATE': 0.0030970705550257575, 'LEARNING_RATE_DECAY': 0.000536048792313163, 'SIGMA': 22, 'SIGMA_DECAY': 0.01592918205539906}. Best is trial 1 with value: 0.5722543352601156.\n",
      "Training SOM: 100%|██████████| 77/77 [02:26<00:00,  1.90s/epoch]\n",
      "[I 2025-01-09 16:35:29,343] Trial 7 finished with value: 0.48554913294797686 and parameters: {'DIMENSION': 161, 'EPOCHS': 77, 'LEARNING_RATE': 0.002228673232762491, 'LEARNING_RATE_DECAY': 0.001957639886943697, 'SIGMA': 10, 'SIGMA_DECAY': 0.02596030722900679}. Best is trial 1 with value: 0.5722543352601156.\n",
      "Training SOM: 100%|██████████| 80/80 [01:42<00:00,  1.28s/epoch]\n",
      "[I 2025-01-09 16:37:12,246] Trial 8 finished with value: 0.49710982658959535 and parameters: {'DIMENSION': 131, 'EPOCHS': 80, 'LEARNING_RATE': 0.0005597865686377016, 'LEARNING_RATE_DECAY': 0.00012371590317472884, 'SIGMA': 23, 'SIGMA_DECAY': 0.06681577830577765}. Best is trial 1 with value: 0.5722543352601156.\n",
      "Training SOM: 100%|██████████| 141/141 [02:52<00:00,  1.23s/epoch]\n",
      "/opt/anaconda3/lib/python3.12/site-packages/sklearn/metrics/_classification.py:1531: UndefinedMetricWarning: Precision is ill-defined and being set to 0.0 in labels with no predicted samples. Use `zero_division` parameter to control this behavior.\n",
      "  _warn_prf(average, modifier, f\"{metric.capitalize()} is\", len(result))\n",
      "/opt/anaconda3/lib/python3.12/site-packages/sklearn/metrics/_classification.py:1531: UndefinedMetricWarning: Precision is ill-defined and being set to 0.0 in labels with no predicted samples. Use `zero_division` parameter to control this behavior.\n",
      "  _warn_prf(average, modifier, f\"{metric.capitalize()} is\", len(result))\n",
      "/opt/anaconda3/lib/python3.12/site-packages/sklearn/metrics/_classification.py:1531: UndefinedMetricWarning: Precision is ill-defined and being set to 0.0 in labels with no predicted samples. Use `zero_division` parameter to control this behavior.\n",
      "  _warn_prf(average, modifier, f\"{metric.capitalize()} is\", len(result))\n",
      "[I 2025-01-09 16:40:05,834] Trial 9 finished with value: 0.49710982658959535 and parameters: {'DIMENSION': 132, 'EPOCHS': 141, 'LEARNING_RATE': 0.00022675880606890905, 'LEARNING_RATE_DECAY': 0.00020847726933683868, 'SIGMA': 19, 'SIGMA_DECAY': 0.06260460040509729}. Best is trial 1 with value: 0.5722543352601156.\n",
      "Training SOM: 100%|██████████| 196/196 [01:59<00:00,  1.64epoch/s]\n",
      "/opt/anaconda3/lib/python3.12/site-packages/sklearn/metrics/_classification.py:1531: UndefinedMetricWarning: Precision is ill-defined and being set to 0.0 in labels with no predicted samples. Use `zero_division` parameter to control this behavior.\n",
      "  _warn_prf(average, modifier, f\"{metric.capitalize()} is\", len(result))\n",
      "/opt/anaconda3/lib/python3.12/site-packages/sklearn/metrics/_classification.py:1531: UndefinedMetricWarning: Precision is ill-defined and being set to 0.0 in labels with no predicted samples. Use `zero_division` parameter to control this behavior.\n",
      "  _warn_prf(average, modifier, f\"{metric.capitalize()} is\", len(result))\n",
      "/opt/anaconda3/lib/python3.12/site-packages/sklearn/metrics/_classification.py:1531: UndefinedMetricWarning: Precision is ill-defined and being set to 0.0 in labels with no predicted samples. Use `zero_division` parameter to control this behavior.\n",
      "  _warn_prf(average, modifier, f\"{metric.capitalize()} is\", len(result))\n",
      "[I 2025-01-09 16:42:05,820] Trial 10 finished with value: 0.5144508670520231 and parameters: {'DIMENSION': 90, 'EPOCHS': 196, 'LEARNING_RATE': 0.00012520518086737455, 'LEARNING_RATE_DECAY': 0.009619373782039694, 'SIGMA': 20, 'SIGMA_DECAY': 0.09840473019007748}. Best is trial 1 with value: 0.5722543352601156.\n",
      "Training SOM: 100%|██████████| 113/113 [05:08<00:00,  2.73s/epoch]\n",
      "[I 2025-01-09 16:47:16,147] Trial 11 finished with value: 0.5838150289017341 and parameters: {'DIMENSION': 195, 'EPOCHS': 113, 'LEARNING_RATE': 0.004314097468747011, 'LEARNING_RATE_DECAY': 0.0018310977524759232, 'SIGMA': 16, 'SIGMA_DECAY': 0.03500432189383683}. Best is trial 11 with value: 0.5838150289017341.\n",
      "Training SOM: 100%|██████████| 120/120 [05:44<00:00,  2.87s/epoch]\n",
      "[I 2025-01-09 16:53:03,118] Trial 12 finished with value: 0.5028901734104047 and parameters: {'DIMENSION': 200, 'EPOCHS': 120, 'LEARNING_RATE': 0.000999584873284253, 'LEARNING_RATE_DECAY': 0.0037612791258287586, 'SIGMA': 16, 'SIGMA_DECAY': 0.02777010151040345}. Best is trial 11 with value: 0.5838150289017341.\n",
      "Training SOM: 100%|██████████| 136/136 [01:48<00:00,  1.25epoch/s]\n",
      "[I 2025-01-09 16:54:52,226] Trial 13 finished with value: 0.630057803468208 and parameters: {'DIMENSION': 100, 'EPOCHS': 136, 'LEARNING_RATE': 0.004351296120040492, 'LEARNING_RATE_DECAY': 0.0008729026481156649, 'SIGMA': 25, 'SIGMA_DECAY': 0.04010048993836959}. Best is trial 13 with value: 0.630057803468208.\n",
      "Training SOM: 100%|██████████| 148/148 [07:01<00:00,  2.85s/epoch]\n",
      "[I 2025-01-09 17:01:56,065] Trial 14 finished with value: 0.6705202312138728 and parameters: {'DIMENSION': 198, 'EPOCHS': 148, 'LEARNING_RATE': 0.003769054096251761, 'LEARNING_RATE_DECAY': 0.0009083837770866104, 'SIGMA': 25, 'SIGMA_DECAY': 0.035830045720833543}. Best is trial 14 with value: 0.6705202312138728.\n",
      "Training SOM: 100%|██████████| 162/162 [02:35<00:00,  1.04epoch/s]\n",
      "[I 2025-01-09 17:04:32,576] Trial 15 finished with value: 0.4624277456647399 and parameters: {'DIMENSION': 103, 'EPOCHS': 162, 'LEARNING_RATE': 0.0038128209562299582, 'LEARNING_RATE_DECAY': 0.0007985480450607405, 'SIGMA': 25, 'SIGMA_DECAY': 0.019260690093623137}. Best is trial 14 with value: 0.6705202312138728.\n",
      "Training SOM: 100%|██████████| 140/140 [01:03<00:00,  2.21epoch/s]\n",
      "[I 2025-01-09 17:05:36,334] Trial 16 finished with value: 0.653179190751445 and parameters: {'DIMENSION': 66, 'EPOCHS': 140, 'LEARNING_RATE': 0.0020079716617604037, 'LEARNING_RATE_DECAY': 0.000977212329445071, 'SIGMA': 25, 'SIGMA_DECAY': 0.04221116153038136}. Best is trial 14 with value: 0.6705202312138728.\n",
      "Training SOM: 100%|██████████| 172/172 [01:02<00:00,  2.73epoch/s]\n",
      "[I 2025-01-09 17:06:39,463] Trial 17 finished with value: 0.5086705202312138 and parameters: {'DIMENSION': 56, 'EPOCHS': 172, 'LEARNING_RATE': 0.000815442851262995, 'LEARNING_RATE_DECAY': 0.0004004387308809238, 'SIGMA': 20, 'SIGMA_DECAY': 0.021603350366192525}. Best is trial 14 with value: 0.6705202312138728.\n",
      "Training SOM: 100%|██████████| 146/146 [04:32<00:00,  1.86s/epoch]\n",
      "[I 2025-01-09 17:11:12,838] Trial 18 finished with value: 0.5664739884393064 and parameters: {'DIMENSION': 167, 'EPOCHS': 146, 'LEARNING_RATE': 0.002384633044809771, 'LEARNING_RATE_DECAY': 0.0011250156810562665, 'SIGMA': 25, 'SIGMA_DECAY': 0.08594382253921394}. Best is trial 14 with value: 0.6705202312138728.\n",
      "Training SOM: 100%|██████████| 187/187 [01:37<00:00,  1.92epoch/s]\n",
      "[I 2025-01-09 17:12:50,519] Trial 19 finished with value: 0.5722543352601156 and parameters: {'DIMENSION': 79, 'EPOCHS': 187, 'LEARNING_RATE': 0.0019504606928694135, 'LEARNING_RATE_DECAY': 0.001240817398783146, 'SIGMA': 18, 'SIGMA_DECAY': 0.045708713308035796}. Best is trial 14 with value: 0.6705202312138728.\n",
      "Training SOM: 100%|██████████| 128/128 [00:40<00:00,  3.14epoch/s]\n",
      "[I 2025-01-09 17:13:31,539] Trial 20 finished with value: 0.5028901734104047 and parameters: {'DIMENSION': 52, 'EPOCHS': 128, 'LEARNING_RATE': 0.0006602979347990359, 'LEARNING_RATE_DECAY': 0.000253113959106187, 'SIGMA': 13, 'SIGMA_DECAY': 0.028597464109966567}. Best is trial 14 with value: 0.6705202312138728.\n",
      "Training SOM: 100%|██████████| 150/150 [02:01<00:00,  1.24epoch/s]\n",
      "[I 2025-01-09 17:15:33,248] Trial 21 finished with value: 0.7225433526011561 and parameters: {'DIMENSION': 101, 'EPOCHS': 150, 'LEARNING_RATE': 0.004989277370672391, 'LEARNING_RATE_DECAY': 0.0007711547195547213, 'SIGMA': 25, 'SIGMA_DECAY': 0.04041592149989701}. Best is trial 21 with value: 0.7225433526011561.\n",
      "Training SOM: 100%|██████████| 149/149 [02:35<00:00,  1.04s/epoch]\n",
      "[I 2025-01-09 17:18:09,152] Trial 22 finished with value: 0.630057803468208 and parameters: {'DIMENSION': 116, 'EPOCHS': 149, 'LEARNING_RATE': 0.0056778111669232864, 'LEARNING_RATE_DECAY': 0.0006805333654941727, 'SIGMA': 23, 'SIGMA_DECAY': 0.04026079481182555}. Best is trial 21 with value: 0.7225433526011561.\n",
      "Training SOM: 100%|██████████| 173/173 [01:15<00:00,  2.28epoch/s]\n",
      "[I 2025-01-09 17:19:25,306] Trial 23 finished with value: 0.6127167630057804 and parameters: {'DIMENSION': 68, 'EPOCHS': 173, 'LEARNING_RATE': 0.009371316740491088, 'LEARNING_RATE_DECAY': 0.0003829715904203874, 'SIGMA': 24, 'SIGMA_DECAY': 0.04788392353037754}. Best is trial 21 with value: 0.7225433526011561.\n",
      "Training SOM: 100%|██████████| 129/129 [02:02<00:00,  1.05epoch/s]\n",
      "[I 2025-01-09 17:21:28,942] Trial 24 finished with value: 0.5953757225433526 and parameters: {'DIMENSION': 116, 'EPOCHS': 129, 'LEARNING_RATE': 0.003253748541904381, 'LEARNING_RATE_DECAY': 0.0013179478816360295, 'SIGMA': 21, 'SIGMA_DECAY': 0.0733873541942694}. Best is trial 21 with value: 0.7225433526011561.\n",
      "Training SOM:  53%|█████▎    | 82/155 [03:32<03:09,  2.60s/epoch]\n",
      "[W 2025-01-09 17:25:01,930] Trial 25 failed with parameters: {'DIMENSION': 182, 'EPOCHS': 155, 'LEARNING_RATE': 0.0014714133759468808, 'LEARNING_RATE_DECAY': 0.002446951776834443, 'SIGMA': 24, 'SIGMA_DECAY': 0.03315536538839899} because of the following error: KeyboardInterrupt().\n",
      "Traceback (most recent call last):\n",
      "  File \"/opt/anaconda3/lib/python3.12/site-packages/optuna/study/_optimize.py\", line 197, in _run_trial\n",
      "    value_or_values = func(trial)\n",
      "                      ^^^^^^^^^^^\n",
      "  File \"/var/folders/v6/pl0_dkns3pdd4gyq5whvz4nr0000gn/T/ipykernel_24530/3362081538.py\", line 14, in objective\n",
      "    som_car = SOM(\n",
      "              ^^^^\n",
      "  File \"/var/folders/v6/pl0_dkns3pdd4gyq5whvz4nr0000gn/T/ipykernel_24530/2152228980.py\", line 76, in SOM\n",
      "    torow   = min(bmurow + width,nrows);\n",
      "              ^^^^^^^^^^^^^^^^^^^^^^^^^\n",
      "KeyboardInterrupt\n",
      "[W 2025-01-09 17:25:01,931] Trial 25 failed with value None.\n"
     ]
    },
    {
     "ename": "KeyboardInterrupt",
     "evalue": "",
     "output_type": "error",
     "traceback": [
      "\u001b[0;31m---------------------------------------------------------------------------\u001b[0m",
      "\u001b[0;31mKeyboardInterrupt\u001b[0m                         Traceback (most recent call last)",
      "Cell \u001b[0;32mIn[41], line 35\u001b[0m\n\u001b[1;32m     33\u001b[0m \u001b[38;5;66;03m# Run Bayesian optimization\u001b[39;00m\n\u001b[1;32m     34\u001b[0m study \u001b[38;5;241m=\u001b[39m optuna\u001b[38;5;241m.\u001b[39mcreate_study(direction\u001b[38;5;241m=\u001b[39m\u001b[38;5;124m\"\u001b[39m\u001b[38;5;124mmaximize\u001b[39m\u001b[38;5;124m\"\u001b[39m)\n\u001b[0;32m---> 35\u001b[0m study\u001b[38;5;241m.\u001b[39moptimize(objective, n_trials\u001b[38;5;241m=\u001b[39m\u001b[38;5;241m30\u001b[39m)\n\u001b[1;32m     37\u001b[0m \u001b[38;5;28mprint\u001b[39m(\u001b[38;5;124m\"\u001b[39m\u001b[38;5;124mBest parameters:\u001b[39m\u001b[38;5;124m\"\u001b[39m, study\u001b[38;5;241m.\u001b[39mbest_params)\n\u001b[1;32m     38\u001b[0m \u001b[38;5;28mprint\u001b[39m(\u001b[38;5;124m\"\u001b[39m\u001b[38;5;124mBest accuracy:\u001b[39m\u001b[38;5;124m\"\u001b[39m, study\u001b[38;5;241m.\u001b[39mbest_value)\n",
      "File \u001b[0;32m/opt/anaconda3/lib/python3.12/site-packages/optuna/study/study.py:475\u001b[0m, in \u001b[0;36mStudy.optimize\u001b[0;34m(self, func, n_trials, timeout, n_jobs, catch, callbacks, gc_after_trial, show_progress_bar)\u001b[0m\n\u001b[1;32m    373\u001b[0m \u001b[38;5;28;01mdef\u001b[39;00m \u001b[38;5;21moptimize\u001b[39m(\n\u001b[1;32m    374\u001b[0m     \u001b[38;5;28mself\u001b[39m,\n\u001b[1;32m    375\u001b[0m     func: ObjectiveFuncType,\n\u001b[0;32m   (...)\u001b[0m\n\u001b[1;32m    382\u001b[0m     show_progress_bar: \u001b[38;5;28mbool\u001b[39m \u001b[38;5;241m=\u001b[39m \u001b[38;5;28;01mFalse\u001b[39;00m,\n\u001b[1;32m    383\u001b[0m ) \u001b[38;5;241m-\u001b[39m\u001b[38;5;241m>\u001b[39m \u001b[38;5;28;01mNone\u001b[39;00m:\n\u001b[1;32m    384\u001b[0m \u001b[38;5;250m    \u001b[39m\u001b[38;5;124;03m\"\"\"Optimize an objective function.\u001b[39;00m\n\u001b[1;32m    385\u001b[0m \n\u001b[1;32m    386\u001b[0m \u001b[38;5;124;03m    Optimization is done by choosing a suitable set of hyperparameter values from a given\u001b[39;00m\n\u001b[0;32m   (...)\u001b[0m\n\u001b[1;32m    473\u001b[0m \u001b[38;5;124;03m            If nested invocation of this method occurs.\u001b[39;00m\n\u001b[1;32m    474\u001b[0m \u001b[38;5;124;03m    \"\"\"\u001b[39;00m\n\u001b[0;32m--> 475\u001b[0m     _optimize(\n\u001b[1;32m    476\u001b[0m         study\u001b[38;5;241m=\u001b[39m\u001b[38;5;28mself\u001b[39m,\n\u001b[1;32m    477\u001b[0m         func\u001b[38;5;241m=\u001b[39mfunc,\n\u001b[1;32m    478\u001b[0m         n_trials\u001b[38;5;241m=\u001b[39mn_trials,\n\u001b[1;32m    479\u001b[0m         timeout\u001b[38;5;241m=\u001b[39mtimeout,\n\u001b[1;32m    480\u001b[0m         n_jobs\u001b[38;5;241m=\u001b[39mn_jobs,\n\u001b[1;32m    481\u001b[0m         catch\u001b[38;5;241m=\u001b[39m\u001b[38;5;28mtuple\u001b[39m(catch) \u001b[38;5;28;01mif\u001b[39;00m \u001b[38;5;28misinstance\u001b[39m(catch, Iterable) \u001b[38;5;28;01melse\u001b[39;00m (catch,),\n\u001b[1;32m    482\u001b[0m         callbacks\u001b[38;5;241m=\u001b[39mcallbacks,\n\u001b[1;32m    483\u001b[0m         gc_after_trial\u001b[38;5;241m=\u001b[39mgc_after_trial,\n\u001b[1;32m    484\u001b[0m         show_progress_bar\u001b[38;5;241m=\u001b[39mshow_progress_bar,\n\u001b[1;32m    485\u001b[0m     )\n",
      "File \u001b[0;32m/opt/anaconda3/lib/python3.12/site-packages/optuna/study/_optimize.py:63\u001b[0m, in \u001b[0;36m_optimize\u001b[0;34m(study, func, n_trials, timeout, n_jobs, catch, callbacks, gc_after_trial, show_progress_bar)\u001b[0m\n\u001b[1;32m     61\u001b[0m \u001b[38;5;28;01mtry\u001b[39;00m:\n\u001b[1;32m     62\u001b[0m     \u001b[38;5;28;01mif\u001b[39;00m n_jobs \u001b[38;5;241m==\u001b[39m \u001b[38;5;241m1\u001b[39m:\n\u001b[0;32m---> 63\u001b[0m         _optimize_sequential(\n\u001b[1;32m     64\u001b[0m             study,\n\u001b[1;32m     65\u001b[0m             func,\n\u001b[1;32m     66\u001b[0m             n_trials,\n\u001b[1;32m     67\u001b[0m             timeout,\n\u001b[1;32m     68\u001b[0m             catch,\n\u001b[1;32m     69\u001b[0m             callbacks,\n\u001b[1;32m     70\u001b[0m             gc_after_trial,\n\u001b[1;32m     71\u001b[0m             reseed_sampler_rng\u001b[38;5;241m=\u001b[39m\u001b[38;5;28;01mFalse\u001b[39;00m,\n\u001b[1;32m     72\u001b[0m             time_start\u001b[38;5;241m=\u001b[39m\u001b[38;5;28;01mNone\u001b[39;00m,\n\u001b[1;32m     73\u001b[0m             progress_bar\u001b[38;5;241m=\u001b[39mprogress_bar,\n\u001b[1;32m     74\u001b[0m         )\n\u001b[1;32m     75\u001b[0m     \u001b[38;5;28;01melse\u001b[39;00m:\n\u001b[1;32m     76\u001b[0m         \u001b[38;5;28;01mif\u001b[39;00m n_jobs \u001b[38;5;241m==\u001b[39m \u001b[38;5;241m-\u001b[39m\u001b[38;5;241m1\u001b[39m:\n",
      "File \u001b[0;32m/opt/anaconda3/lib/python3.12/site-packages/optuna/study/_optimize.py:160\u001b[0m, in \u001b[0;36m_optimize_sequential\u001b[0;34m(study, func, n_trials, timeout, catch, callbacks, gc_after_trial, reseed_sampler_rng, time_start, progress_bar)\u001b[0m\n\u001b[1;32m    157\u001b[0m         \u001b[38;5;28;01mbreak\u001b[39;00m\n\u001b[1;32m    159\u001b[0m \u001b[38;5;28;01mtry\u001b[39;00m:\n\u001b[0;32m--> 160\u001b[0m     frozen_trial \u001b[38;5;241m=\u001b[39m _run_trial(study, func, catch)\n\u001b[1;32m    161\u001b[0m \u001b[38;5;28;01mfinally\u001b[39;00m:\n\u001b[1;32m    162\u001b[0m     \u001b[38;5;66;03m# The following line mitigates memory problems that can be occurred in some\u001b[39;00m\n\u001b[1;32m    163\u001b[0m     \u001b[38;5;66;03m# environments (e.g., services that use computing containers such as GitHub Actions).\u001b[39;00m\n\u001b[1;32m    164\u001b[0m     \u001b[38;5;66;03m# Please refer to the following PR for further details:\u001b[39;00m\n\u001b[1;32m    165\u001b[0m     \u001b[38;5;66;03m# https://github.com/optuna/optuna/pull/325.\u001b[39;00m\n\u001b[1;32m    166\u001b[0m     \u001b[38;5;28;01mif\u001b[39;00m gc_after_trial:\n",
      "File \u001b[0;32m/opt/anaconda3/lib/python3.12/site-packages/optuna/study/_optimize.py:248\u001b[0m, in \u001b[0;36m_run_trial\u001b[0;34m(study, func, catch)\u001b[0m\n\u001b[1;32m    241\u001b[0m         \u001b[38;5;28;01massert\u001b[39;00m \u001b[38;5;28;01mFalse\u001b[39;00m, \u001b[38;5;124m\"\u001b[39m\u001b[38;5;124mShould not reach.\u001b[39m\u001b[38;5;124m\"\u001b[39m\n\u001b[1;32m    243\u001b[0m \u001b[38;5;28;01mif\u001b[39;00m (\n\u001b[1;32m    244\u001b[0m     frozen_trial\u001b[38;5;241m.\u001b[39mstate \u001b[38;5;241m==\u001b[39m TrialState\u001b[38;5;241m.\u001b[39mFAIL\n\u001b[1;32m    245\u001b[0m     \u001b[38;5;129;01mand\u001b[39;00m func_err \u001b[38;5;129;01mis\u001b[39;00m \u001b[38;5;129;01mnot\u001b[39;00m \u001b[38;5;28;01mNone\u001b[39;00m\n\u001b[1;32m    246\u001b[0m     \u001b[38;5;129;01mand\u001b[39;00m \u001b[38;5;129;01mnot\u001b[39;00m \u001b[38;5;28misinstance\u001b[39m(func_err, catch)\n\u001b[1;32m    247\u001b[0m ):\n\u001b[0;32m--> 248\u001b[0m     \u001b[38;5;28;01mraise\u001b[39;00m func_err\n\u001b[1;32m    249\u001b[0m \u001b[38;5;28;01mreturn\u001b[39;00m frozen_trial\n",
      "File \u001b[0;32m/opt/anaconda3/lib/python3.12/site-packages/optuna/study/_optimize.py:197\u001b[0m, in \u001b[0;36m_run_trial\u001b[0;34m(study, func, catch)\u001b[0m\n\u001b[1;32m    195\u001b[0m \u001b[38;5;28;01mwith\u001b[39;00m get_heartbeat_thread(trial\u001b[38;5;241m.\u001b[39m_trial_id, study\u001b[38;5;241m.\u001b[39m_storage):\n\u001b[1;32m    196\u001b[0m     \u001b[38;5;28;01mtry\u001b[39;00m:\n\u001b[0;32m--> 197\u001b[0m         value_or_values \u001b[38;5;241m=\u001b[39m func(trial)\n\u001b[1;32m    198\u001b[0m     \u001b[38;5;28;01mexcept\u001b[39;00m exceptions\u001b[38;5;241m.\u001b[39mTrialPruned \u001b[38;5;28;01mas\u001b[39;00m e:\n\u001b[1;32m    199\u001b[0m         \u001b[38;5;66;03m# TODO(mamu): Handle multi-objective cases.\u001b[39;00m\n\u001b[1;32m    200\u001b[0m         state \u001b[38;5;241m=\u001b[39m TrialState\u001b[38;5;241m.\u001b[39mPRUNED\n",
      "Cell \u001b[0;32mIn[41], line 14\u001b[0m, in \u001b[0;36mobjective\u001b[0;34m(trial)\u001b[0m\n\u001b[1;32m     11\u001b[0m SIGMA_DECAY \u001b[38;5;241m=\u001b[39m trial\u001b[38;5;241m.\u001b[39msuggest_float(\u001b[38;5;124m\"\u001b[39m\u001b[38;5;124mSIGMA_DECAY\u001b[39m\u001b[38;5;124m\"\u001b[39m, \u001b[38;5;241m1e-2\u001b[39m, \u001b[38;5;241m1e-1\u001b[39m, log\u001b[38;5;241m=\u001b[39m\u001b[38;5;28;01mTrue\u001b[39;00m)\n\u001b[1;32m     13\u001b[0m \u001b[38;5;66;03m# Train SOM with suggested parameters\u001b[39;00m\n\u001b[0;32m---> 14\u001b[0m som_car \u001b[38;5;241m=\u001b[39m SOM(\n\u001b[1;32m     15\u001b[0m     [\u001b[38;5;241m28\u001b[39m, \u001b[38;5;241m28\u001b[39m],\n\u001b[1;32m     16\u001b[0m     car_x_train,\n\u001b[1;32m     17\u001b[0m     DIMENSION,\n\u001b[1;32m     18\u001b[0m     EPOCHS,\n\u001b[1;32m     19\u001b[0m     LEARNING_RATE,\n\u001b[1;32m     20\u001b[0m     LEARNING_RATE_DECAY,\n\u001b[1;32m     21\u001b[0m     SIGMA,\n\u001b[1;32m     22\u001b[0m     SIGMA_DECAY,\n\u001b[1;32m     23\u001b[0m     showMode\u001b[38;5;241m=\u001b[39m\u001b[38;5;241m0\u001b[39m\n\u001b[1;32m     24\u001b[0m )\n\u001b[1;32m     26\u001b[0m label_map \u001b[38;5;241m=\u001b[39m createLabelMap(som_car, car_x_train, car_y_train)\n\u001b[1;32m     27\u001b[0m test_predictions \u001b[38;5;241m=\u001b[39m classifySOM(som_car, label_map, car_x_val)\n",
      "Cell \u001b[0;32mIn[23], line 76\u001b[0m, in \u001b[0;36mSOM\u001b[0;34m(dispRes, trainingData, ndim, nepochs, eta0, etadecay, sgm0, sgmdecay, showMode)\u001b[0m\n\u001b[1;32m     74\u001b[0m \u001b[38;5;66;03m#Determine the boundary of the local neighbourhood\u001b[39;00m\n\u001b[1;32m     75\u001b[0m fromrow \u001b[38;5;241m=\u001b[39m \u001b[38;5;28mmax\u001b[39m(\u001b[38;5;241m0\u001b[39m,bmurow \u001b[38;5;241m-\u001b[39m width);\n\u001b[0;32m---> 76\u001b[0m torow   \u001b[38;5;241m=\u001b[39m \u001b[38;5;28mmin\u001b[39m(bmurow \u001b[38;5;241m+\u001b[39m width,nrows);\n\u001b[1;32m     77\u001b[0m fromcol \u001b[38;5;241m=\u001b[39m \u001b[38;5;28mmax\u001b[39m(\u001b[38;5;241m0\u001b[39m,bmucol \u001b[38;5;241m-\u001b[39m width);\n\u001b[1;32m     78\u001b[0m tocol   \u001b[38;5;241m=\u001b[39m \u001b[38;5;28mmin\u001b[39m(bmucol \u001b[38;5;241m+\u001b[39m width,ncols);\n",
      "\u001b[0;31mKeyboardInterrupt\u001b[0m: "
     ]
    }
   ],
   "source": [
    "import optuna\n",
    "from sklearn.metrics import classification_report\n",
    "\n",
    "def objective(trial):\n",
    "    # Suggest parameters\n",
    "    DIMENSION = trial.suggest_int(\"DIMENSION\", 50, 200)\n",
    "    EPOCHS = trial.suggest_int(\"EPOCHS\", 70, 200)\n",
    "    LEARNING_RATE = trial.suggest_float(\"LEARNING_RATE\", 1e-4, 1e-2, log = True)\n",
    "    LEARNING_RATE_DECAY = trial.suggest_float(\"LEARNING_RATE_DECAY\", 1e-4, 1e-2, log = True)\n",
    "    SIGMA = trial.suggest_int(\"SIGMA\", 10, 25)\n",
    "    SIGMA_DECAY = trial.suggest_float(\"SIGMA_DECAY\", 1e-2, 1e-1, log=True)\n",
    "    \n",
    "    # Train SOM with suggested parameters\n",
    "    som_car = SOM(\n",
    "        [28, 28],\n",
    "        car_x_train,\n",
    "        DIMENSION,\n",
    "        EPOCHS,\n",
    "        LEARNING_RATE,\n",
    "        LEARNING_RATE_DECAY,\n",
    "        SIGMA,\n",
    "        SIGMA_DECAY,\n",
    "        showMode=0\n",
    "    )\n",
    "    \n",
    "    label_map = createLabelMap(som_car, car_x_train, car_y_train)\n",
    "    test_predictions = classifySOM(som_car, label_map, car_x_val)\n",
    "    \n",
    "    # Evaluate performance\n",
    "    score = classification_report(car_y_val, test_predictions, output_dict=True)[\"accuracy\"]\n",
    "    return score\n",
    "\n",
    "# Run Bayesian optimization\n",
    "study = optuna.create_study(direction=\"maximize\")\n",
    "study.optimize(objective, n_trials=30)\n",
    "\n",
    "print(\"Best parameters:\", study.best_params)\n",
    "print(\"Best accuracy:\", study.best_value)\n"
   ]
  },
  {
   "cell_type": "markdown",
   "metadata": {},
   "source": [
    "DIMENSION': 101, 'EPOCHS': 150, 'LEARNING_RATE': 0.004989277370672391, 'LEARNING_RATE_DECAY': 0.0007711547195547213, 'SIGMA': 25, 'SIGMA_DECAY': 0.04041592149989701}. Best is trial 21 with value: 0.7225433526011561."
   ]
  },
  {
   "cell_type": "code",
   "execution_count": 42,
   "metadata": {},
   "outputs": [
    {
     "name": "stderr",
     "output_type": "stream",
     "text": [
      "Training SOM: 100%|██████████| 150/150 [02:19<00:00,  1.07epoch/s]\n"
     ]
    },
    {
     "name": "stdout",
     "output_type": "stream",
     "text": [
      "Classification Report for Test Set\n",
      "              precision    recall  f1-score   support\n",
      "\n",
      "           0       0.32      0.45      0.37        38\n",
      "           1       0.20      0.33      0.25         3\n",
      "           2       0.85      0.77      0.81       125\n",
      "           3       0.00      0.00      0.00         7\n",
      "\n",
      "    accuracy                           0.66       173\n",
      "   macro avg       0.34      0.39      0.36       173\n",
      "weighted avg       0.69      0.66      0.67       173\n",
      "\n"
     ]
    },
    {
     "data": {
      "image/png": "[encoded data removed]",
      "text/plain": [
       "<Figure size 1000x800 with 2 Axes>"
      ]
     },
     "metadata": {},
     "output_type": "display_data"
    }
   ],
   "source": [
    "from scipy.stats import uniform\n",
    "from sklearn.model_selection import RandomizedSearchCV\n",
    "DIMENSION = 101\n",
    "EPOCHS = 150\n",
    "LEARNING_RATE = 0.004989277370672391\n",
    "LEARNING_RATE_DECAY = 0.0007711547195547213\n",
    "SIGMA = 25\n",
    "SIGMA_DECAY = 0.04041592149989701\n",
    "\n",
    "\n",
    "som_car = SOM([28,28],car_x_train, DIMENSION,EPOCHS,LEARNING_RATE,LEARNING_RATE_DECAY,SIGMA,SIGMA_DECAY, showMode=0)\n",
    "\n",
    "label_map = createLabelMap(som_car, car_x_train, car_y_train)\n",
    "\n",
    "# Classify test data\n",
    "predictions = classifySOM(som_car, label_map, car_x_train)\n",
    "\n",
    "# Classify on test set\n",
    "test_predictions = classifySOM(som_car, label_map, car_x_test)\n",
    "\n",
    "print(\"Classification Report for Test Set\")\n",
    "print(classification_report(car_y_test, test_predictions))\n",
    "plot_confusion_matrix(car_y_test, test_predictions, title=\"Confusion Matrix - Test Set\")\n"
   ]
  },
  {
   "cell_type": "markdown",
   "metadata": {},
   "source": [
    "### Con"
   ]
  },
  {
   "cell_type": "code",
   "execution_count": 74,
   "metadata": {},
   "outputs": [
    {
     "name": "stderr",
     "output_type": "stream",
     "text": [
      "[I 2025-01-09 18:46:07,099] A new study created in memory with name: no-name-5cf6c07c-5773-4cb8-a00c-a8ec19b7a375\n",
      "Training SOM: 100%|██████████| 68/68 [00:27<00:00,  2.51epoch/s]\n",
      "[I 2025-01-09 18:46:34,388] Trial 0 finished with value: 0.5238095238095238 and parameters: {'DIMENSION': 59, 'EPOCHS': 68, 'LEARNING_RATE': 0.00013298932171858048, 'LEARNING_RATE_DECAY': 0.0006008237304277455, 'SIGMA': 17, 'SIGMA_DECAY': 0.014504755129798862}. Best is trial 0 with value: 0.5238095238095238.\n",
      "Training SOM: 100%|██████████| 43/43 [00:10<00:00,  4.10epoch/s]\n",
      "[I 2025-01-09 18:46:45,024] Trial 1 finished with value: 0.6666666666666666 and parameters: {'DIMENSION': 70, 'EPOCHS': 43, 'LEARNING_RATE': 0.002425796171602923, 'LEARNING_RATE_DECAY': 0.0018544475492557632, 'SIGMA': 11, 'SIGMA_DECAY': 0.03957033153168382}. Best is trial 1 with value: 0.6666666666666666.\n",
      "Training SOM: 100%|██████████| 42/42 [00:02<00:00, 15.57epoch/s]\n",
      "[I 2025-01-09 18:46:47,755] Trial 2 finished with value: 0.5238095238095238 and parameters: {'DIMENSION': 28, 'EPOCHS': 42, 'LEARNING_RATE': 0.0003546790236887019, 'LEARNING_RATE_DECAY': 0.0021833214763789122, 'SIGMA': 20, 'SIGMA_DECAY': 0.0845870395063859}. Best is trial 1 with value: 0.6666666666666666.\n",
      "Training SOM: 100%|██████████| 55/55 [00:25<00:00,  2.20epoch/s]\n",
      "[I 2025-01-09 18:47:12,900] Trial 3 finished with value: 0.5238095238095238 and parameters: {'DIMENSION': 69, 'EPOCHS': 55, 'LEARNING_RATE': 0.00010403850644192354, 'LEARNING_RATE_DECAY': 0.0008291185544425347, 'SIGMA': 21, 'SIGMA_DECAY': 0.02441844785568991}. Best is trial 1 with value: 0.6666666666666666.\n",
      "Training SOM: 100%|██████████| 66/66 [00:26<00:00,  2.47epoch/s]\n",
      "[I 2025-01-09 18:47:39,807] Trial 4 finished with value: 0.6666666666666666 and parameters: {'DIMENSION': 70, 'EPOCHS': 66, 'LEARNING_RATE': 0.0028795306340565845, 'LEARNING_RATE_DECAY': 0.00045363035944831357, 'SIGMA': 20, 'SIGMA_DECAY': 0.023869830474125976}. Best is trial 1 with value: 0.6666666666666666.\n",
      "Training SOM: 100%|██████████| 66/66 [00:07<00:00,  8.99epoch/s]\n",
      "[I 2025-01-09 18:47:47,229] Trial 5 finished with value: 0.7619047619047619 and parameters: {'DIMENSION': 53, 'EPOCHS': 66, 'LEARNING_RATE': 0.002708745583559234, 'LEARNING_RATE_DECAY': 0.00021465630012188, 'SIGMA': 13, 'SIGMA_DECAY': 0.09126589581878453}. Best is trial 5 with value: 0.7619047619047619.\n",
      "Training SOM: 100%|██████████| 46/46 [00:17<00:00,  2.62epoch/s]\n",
      "/opt/anaconda3/lib/python3.12/site-packages/sklearn/metrics/_classification.py:1531: UndefinedMetricWarning: Precision is ill-defined and being set to 0.0 in labels with no predicted samples. Use `zero_division` parameter to control this behavior.\n",
      "  _warn_prf(average, modifier, f\"{metric.capitalize()} is\", len(result))\n",
      "/opt/anaconda3/lib/python3.12/site-packages/sklearn/metrics/_classification.py:1531: UndefinedMetricWarning: Precision is ill-defined and being set to 0.0 in labels with no predicted samples. Use `zero_division` parameter to control this behavior.\n",
      "  _warn_prf(average, modifier, f\"{metric.capitalize()} is\", len(result))\n",
      "/opt/anaconda3/lib/python3.12/site-packages/sklearn/metrics/_classification.py:1531: UndefinedMetricWarning: Precision is ill-defined and being set to 0.0 in labels with no predicted samples. Use `zero_division` parameter to control this behavior.\n",
      "  _warn_prf(average, modifier, f\"{metric.capitalize()} is\", len(result))\n",
      "[I 2025-01-09 18:48:04,865] Trial 6 finished with value: 0.6190476190476191 and parameters: {'DIMENSION': 60, 'EPOCHS': 46, 'LEARNING_RATE': 0.0009490593691821492, 'LEARNING_RATE_DECAY': 0.00010274254849971864, 'SIGMA': 15, 'SIGMA_DECAY': 0.019300743168348403}. Best is trial 5 with value: 0.7619047619047619.\n",
      "Training SOM: 100%|██████████| 62/62 [00:08<00:00,  7.65epoch/s]\n",
      "[I 2025-01-09 18:48:13,032] Trial 7 finished with value: 0.6190476190476191 and parameters: {'DIMENSION': 39, 'EPOCHS': 62, 'LEARNING_RATE': 0.0042218102021051316, 'LEARNING_RATE_DECAY': 0.0005657295985993928, 'SIGMA': 16, 'SIGMA_DECAY': 0.028115610615715762}. Best is trial 5 with value: 0.7619047619047619.\n",
      "Training SOM: 100%|██████████| 49/49 [00:38<00:00,  1.27epoch/s]\n",
      "[I 2025-01-09 18:48:51,843] Trial 8 finished with value: 0.7142857142857143 and parameters: {'DIMENSION': 80, 'EPOCHS': 49, 'LEARNING_RATE': 0.00015851734610184125, 'LEARNING_RATE_DECAY': 0.0013382452255485439, 'SIGMA': 22, 'SIGMA_DECAY': 0.0215010883640381}. Best is trial 5 with value: 0.7619047619047619.\n",
      "Training SOM: 100%|██████████| 69/69 [00:02<00:00, 26.38epoch/s]\n",
      "[I 2025-01-09 18:48:54,488] Trial 9 finished with value: 0.7619047619047619 and parameters: {'DIMENSION': 12, 'EPOCHS': 69, 'LEARNING_RATE': 0.0001027974991691957, 'LEARNING_RATE_DECAY': 0.0032193328657959897, 'SIGMA': 19, 'SIGMA_DECAY': 0.02791879599954161}. Best is trial 5 with value: 0.7619047619047619.\n"
     ]
    },
    {
     "name": "stdout",
     "output_type": "stream",
     "text": [
      "Best parameters: {'DIMENSION': 53, 'EPOCHS': 66, 'LEARNING_RATE': 0.002708745583559234, 'LEARNING_RATE_DECAY': 0.00021465630012188, 'SIGMA': 13, 'SIGMA_DECAY': 0.09126589581878453}\n",
      "Best accuracy: 0.7619047619047619\n"
     ]
    }
   ],
   "source": [
    "import optuna\n",
    "from sklearn.metrics import classification_report\n",
    "\n",
    "def objective(trial):\n",
    "    # Suggest parameters\n",
    "    DIMENSION = trial.suggest_int(\"DIMENSION\", 12, 80)\n",
    "    EPOCHS = trial.suggest_int(\"EPOCHS\", 40, 70)\n",
    "    LEARNING_RATE = trial.suggest_float(\"LEARNING_RATE\", 1e-4, 1e-2, log = True)\n",
    "    LEARNING_RATE_DECAY = trial.suggest_float(\"LEARNING_RATE_DECAY\", 1e-4, 1e-2, log = True)\n",
    "    SIGMA = trial.suggest_int(\"SIGMA\", 10, 25)\n",
    "    SIGMA_DECAY = trial.suggest_float(\"SIGMA_DECAY\", 1e-2, 1e-1, log=True)\n",
    "    \n",
    "    # Train SOM with suggested parameters\n",
    "    som_con = SOM(\n",
    "        [28, 28],\n",
    "        con_x_train,\n",
    "        DIMENSION,\n",
    "        EPOCHS,\n",
    "        LEARNING_RATE,\n",
    "        LEARNING_RATE_DECAY,\n",
    "        SIGMA,\n",
    "        SIGMA_DECAY,\n",
    "        showMode=0\n",
    "    )\n",
    "    \n",
    "    label_map = createLabelMap(som_con, con_x_train, con_y_train)\n",
    "    test_predictions = classifySOM(som_con, label_map, con_x_val)\n",
    "    \n",
    "    # Evaluate performance\n",
    "    score = classification_report(con_y_val, test_predictions, output_dict=True)[\"accuracy\"]\n",
    "    return score\n",
    "\n",
    "# Run Bayesian optimization\n",
    "study = optuna.create_study(direction=\"maximize\")\n",
    "study.optimize(objective, n_trials=10)\n",
    "\n",
    "print(\"Best parameters:\", study.best_params)\n",
    "print(\"Best accuracy:\", study.best_value)"
   ]
  },
  {
   "cell_type": "code",
   "execution_count": 77,
   "metadata": {},
   "outputs": [
    {
     "name": "stderr",
     "output_type": "stream",
     "text": [
      "Training SOM: 100%|██████████| 66/66 [00:07<00:00,  9.18epoch/s]\n"
     ]
    },
    {
     "name": "stdout",
     "output_type": "stream",
     "text": [
      "Classification Report for Test Set\n",
      "              precision    recall  f1-score   support\n",
      "\n",
      "           0       0.86      1.00      0.92        12\n",
      "           1       1.00      0.78      0.88         9\n",
      "\n",
      "    accuracy                           0.90        21\n",
      "   macro avg       0.93      0.89      0.90        21\n",
      "weighted avg       0.92      0.90      0.90        21\n",
      "\n"
     ]
    },
    {
     "data": {
      "image/png": "[encoded data removed]",
      "text/plain": [
       "<Figure size 1000x800 with 2 Axes>"
      ]
     },
     "metadata": {},
     "output_type": "display_data"
    }
   ],
   "source": [
    "DIMENSION = 53\n",
    "EPOCHS = 66\n",
    "LEARNING_RATE = 0.002708745583559234\n",
    "LEARNING_RATE_DECAY = 0.00021465630012188\n",
    "SIGMA = 13\n",
    "SIGMA_DECAY = 0.09126589581878453\n",
    "from sklearn.metrics import classification_report\n",
    "\n",
    "\n",
    "som_con = SOM([28,28],con_x_train, DIMENSION,EPOCHS,LEARNING_RATE,LEARNING_RATE_DECAY,SIGMA,SIGMA_DECAY, showMode=0)\n",
    "\n",
    "label_map = createLabelMap(som_con , con_x_train, con_y_train)\n",
    "\n",
    "# Classify on test set\n",
    "test_predictions = classifySOM(som_con, label_map, con_x_test)\n",
    "\n",
    "print(\"Classification Report for Test Set\")\n",
    "print(classification_report(con_y_test, test_predictions))\n",
    "plot_confusion_matrix(con_y_test, test_predictions, title=\"Confusion Matrix - Arrythmia SMOTE\")"
   ]
  },
  {
   "cell_type": "code",
   "execution_count": null,
   "metadata": {},
   "outputs": [],
   "source": []
  },
  {
   "cell_type": "code",
   "execution_count": null,
   "metadata": {},
   "outputs": [],
   "source": [
    "import optuna\n",
    "from sklearn.metrics import classification_report\n",
    "\n",
    "def objective(trial):\n",
    "    # Suggest parameters\n",
    "    DIMENSION = trial.suggest_int(\"DIMENSION\", 12, 150)\n",
    "    EPOCHS = trial.suggest_int(\"EPOCHS\", 70, 200)\n",
    "    LEARNING_RATE = trial.suggest_float(\"LEARNING_RATE\", 1e-4, 1e-2, log = True)\n",
    "    LEARNING_RATE_DECAY = trial.suggest_float(\"LEARNING_RATE_DECAY\", 1e-4, 1e-2, log = True)\n",
    "    SIGMA = trial.suggest_int(\"SIGMA\", 10, 25)\n",
    "    SIGMA_DECAY = trial.suggest_float(\"SIGMA_DECAY\", 1e-2, 1e-1, log=True)\n",
    "    \n",
    "    # Train SOM with suggested parameters\n",
    "    som_iris = SOM(\n",
    "        [28, 28],\n",
    "        iris_x_train,\n",
    "        DIMENSION,\n",
    "        EPOCHS,\n",
    "        LEARNING_RATE,\n",
    "        LEARNING_RATE_DECAY,\n",
    "        SIGMA,\n",
    "        SIGMA_DECAY,\n",
    "        showMode=0\n",
    "    )\n",
    "    \n",
    "    label_map = createLabelMap(som_iris, iris_x_train, iris_y_train)\n",
    "    test_predictions = classifySOM(som_iris, label_map, iris_x_test)\n",
    "    \n",
    "    # Evaluate performance\n",
    "    score = classification_report(iris_y_test, test_predictions, output_dict=True)[\"accuracy\"]\n",
    "    return score\n",
    "\n",
    "# Run Bayesian optimization\n",
    "study = optuna.create_study(direction=\"maximize\")\n",
    "study.optimize(objective, n_trials=30)\n",
    "\n",
    "print(\"Best parameters:\", study.best_params)\n",
    "print(\"Best accuracy:\", study.best_value)"
   ]
  }
 ],
 "metadata": {
  "kernelspec": {
   "display_name": "base",
   "language": "python",
   "name": "python3"
  },
  "language_info": {
   "codemirror_mode": {
    "name": "ipython",
    "version": 3
   },
   "file_extension": ".py",
   "mimetype": "text/x-python",
   "name": "python",
   "nbconvert_exporter": "python",
   "pygments_lexer": "ipython3",
   "version": "3.12.7"
  }
 },
 "nbformat": 4,
 "nbformat_minor": 2
}
