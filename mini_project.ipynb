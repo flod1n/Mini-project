{
 "cells": [
  {
   "cell_type": "markdown",
   "metadata": {},
   "source": [
    "# Mini poject by Ludvig Flodin - ludflo-0\n",
    "\n",
    "In this project I will try ## on five datasets (Iris, Wine, Breast cancer, Madelon, Gas sensor array drift at different concentrations)\n",
    "\n",
    "\n",
    "Average accuracy SOM = "
   ]
  },
  {
   "cell_type": "markdown",
   "metadata": {},
   "source": [
    "## TODO\n",
    "\n",
    "Fix data imbalance car eval\n",
    "\n",
    "Try arrythmia using smote"
   ]
  },
  {
   "cell_type": "markdown",
   "metadata": {},
   "source": [
    "# Data"
   ]
  },
  {
   "cell_type": "markdown",
   "metadata": {},
   "source": [
    "## Load Iris (150 instances, 4 features)\n",
    "\n",
    "Three different iris classes"
   ]
  },
  {
   "cell_type": "code",
   "execution_count": 47,
   "metadata": {},
   "outputs": [
    {
     "name": "stdout",
     "output_type": "stream",
     "text": [
      "target\n",
      "0    50\n",
      "1    50\n",
      "2    50\n",
      "Name: count, dtype: int64\n",
      "(120, 4)\n",
      "(15, 4)\n"
     ]
    }
   ],
   "source": [
    "import numpy as np\n",
    "from sklearn.datasets import load_iris\n",
    "import pandas as pd\n",
    "from sklearn.model_selection import train_test_split\n",
    "\n",
    "iris = load_iris(as_frame=True)\n",
    "data, labels = iris.data, iris.target\n",
    "\n",
    "print(labels.value_counts())\n",
    "data = np.array(data)\n",
    "labels = np.array(labels)\n",
    "iris_x_train, X_temp, iris_y_train, y_temp = train_test_split(data, labels, test_size=0.2, random_state=42)\n",
    "iris_x_val, iris_x_test, iris_y_val, iris_y_test = train_test_split(X_temp, y_temp, test_size=0.5, random_state=42)\n",
    "\n",
    "#iris_x_train, iris_x_test, iris_y_train, iris_y_test = train_test_split(data, labels, test_size=0.2, random_state=1)\n",
    "\n",
    "print(iris_x_train.shape)\n",
    "print(iris_x_test.shape)\n"
   ]
  },
  {
   "cell_type": "code",
   "execution_count": 48,
   "metadata": {},
   "outputs": [],
   "source": [
    "sample = 120\n",
    "iris_x_train = iris_x_train.reshape(iris_x_train.shape[0],4).astype(float)[:sample,:]\n",
    "iris_y_train = np.array(iris_y_train.astype(int)[:sample])\n",
    "\n",
    "sample = 30\n",
    "iris_x_test = iris_x_test.reshape(iris_x_test.shape[0],4).astype(float)[:sample,:]\n",
    "iris_y_test = np.array(iris_y_test.astype(int)[:sample])"
   ]
  },
  {
   "cell_type": "markdown",
   "metadata": {},
   "source": [
    "## Load Wine (178 instances, 13 features)\n",
    "\n",
    "The classes are three wine regions"
   ]
  },
  {
   "cell_type": "code",
   "execution_count": 3,
   "metadata": {},
   "outputs": [
    {
     "name": "stdout",
     "output_type": "stream",
     "text": [
      "target\n",
      "1    71\n",
      "0    59\n",
      "2    48\n",
      "Name: count, dtype: int64\n"
     ]
    }
   ],
   "source": [
    "from sklearn.datasets import load_wine\n",
    "import numpy as np\n",
    "import pandas as pd\n",
    "\n",
    "wine = load_wine(as_frame = True)\n",
    "data, labels = wine.data, wine.target\n",
    "print(labels.value_counts())\n",
    "\n",
    "data = np.array(data)\n",
    "labels = np.array(labels)\n",
    "\n",
    "wine_x_train, wine_x_test, wine_y_train, wine_y_test = train_test_split(data, labels, test_size=0.2, random_state=1)\n",
    "wine_x_train = wine_x_train.reshape(wine_x_train.shape[0],13).astype(float)\n",
    "wine_y_train = np.array(wine_y_train.astype(int))\n",
    "wine_x_test = wine_x_test.reshape(wine_x_test.shape[0],13).astype(float)\n",
    "wine_y_test = np.array(wine_y_test.astype(int))"
   ]
  },
  {
   "cell_type": "markdown",
   "metadata": {},
   "source": [
    "## Load breast cancer (569 instances, 30 features)\n",
    "\n",
    "Binary classification i guess"
   ]
  },
  {
   "cell_type": "code",
   "execution_count": 6,
   "metadata": {},
   "outputs": [
    {
     "name": "stdout",
     "output_type": "stream",
     "text": [
      "target\n",
      "1    357\n",
      "0    212\n",
      "Name: count, dtype: int64\n",
      "(569, 30)\n"
     ]
    }
   ],
   "source": [
    "from sklearn.datasets import load_breast_cancer\n",
    "import numpy as np\n",
    "import pandas as pd\n",
    "\n",
    "cancer = load_breast_cancer(as_frame = True)\n",
    "data, labels = cancer.data, cancer.target\n",
    "print(labels.value_counts())\n",
    "print(data.shape)\n",
    "data = np.array(data)\n",
    "labels = np.array(labels)\n",
    "\n"
   ]
  },
  {
   "cell_type": "code",
   "execution_count": 7,
   "metadata": {},
   "outputs": [],
   "source": [
    "cancer_x_train, cancer_x_test, cancer_y_train, cancer_y_test = train_test_split(data, labels, test_size=0.2, random_state=1)\n",
    "cancer_x_train = cancer_x_train.reshape(cancer_x_train.shape[0],30).astype(float)\n",
    "cancer_y_train = np.array(cancer_y_train.astype(int))\n",
    "cancer_x_test = cancer_x_test.reshape(cancer_x_test.shape[0],30).astype(float)\n",
    "cancer_y_test = np.array(cancer_y_test.astype(int))"
   ]
  },
  {
   "cell_type": "markdown",
   "metadata": {},
   "source": [
    "## Load car eval (1728 instances, 6 features)\n",
    "\n",
    "\n",
    "evaulation level (unacceptable, acceptable, good, very good)"
   ]
  },
  {
   "cell_type": "code",
   "execution_count": 33,
   "metadata": {},
   "outputs": [
    {
     "name": "stdout",
     "output_type": "stream",
     "text": [
      "class\n",
      "unacc    1210\n",
      "acc       384\n",
      "good       69\n",
      "vgood      65\n",
      "Name: count, dtype: int64\n",
      "(1728, 6)\n"
     ]
    },
    {
     "name": "stderr",
     "output_type": "stream",
     "text": [
      "/opt/anaconda3/lib/python3.12/site-packages/sklearn/preprocessing/_label.py:114: DataConversionWarning: A column-vector y was passed when a 1d array was expected. Please change the shape of y to (n_samples, ), for example using ravel().\n",
      "  y = column_or_1d(y, warn=True)\n"
     ]
    }
   ],
   "source": [
    "from ucimlrepo import fetch_ucirepo \n",
    "from sklearn.preprocessing import LabelEncoder\n",
    "  \n",
    "# fetch dataset \n",
    "car_evaluation = fetch_ucirepo(id=19) \n",
    "\n",
    "data = car_evaluation.data.features\n",
    "labels = car_evaluation.data.targets\n",
    "\n",
    "data_encoded = data.copy()\n",
    "label_encoders = {} \n",
    "\n",
    "# encode str to \n",
    "for col in data.columns:\n",
    "    if data[col].dtype == 'object':\n",
    "        le = LabelEncoder()\n",
    "        data_encoded[col] = le.fit_transform(data[col])\n",
    "        label_encoders[col] = le \n",
    "\n",
    "label_encoder = LabelEncoder()\n",
    "labels_encoded = label_encoder.fit_transform(labels)\n",
    "\n",
    "data_encoded = np.array(data_encoded)\n",
    "labels_encoded = np.array(labels_encoded)\n",
    "\n",
    "print(labels.value_counts())\n",
    "print(data.shape)\n",
    "data = np.array(data)\n",
    "labels = np.array(labels)\n"
   ]
  },
  {
   "cell_type": "code",
   "execution_count": 49,
   "metadata": {},
   "outputs": [],
   "source": [
    "car_x_train, car_x_test, car_y_train, car_y_test = train_test_split(data_encoded, labels_encoded, test_size=0.2, random_state=1)\n",
    "car_x_train = car_x_train.reshape(car_x_train.shape[0],6).astype(float)\n",
    "car_y_train = np.array(car_y_train.astype(int))\n",
    "car_x_test = car_x_test.reshape(car_x_test.shape[0],6).astype(float)\n",
    "car_y_test = np.array(car_y_test.astype(int))"
   ]
  },
  {
   "cell_type": "markdown",
   "metadata": {},
   "source": [
    "## Load arrhythmia (452 instances, 262 features)\n",
    "\n",
    "Heavily imbalanced dataset"
   ]
  },
  {
   "cell_type": "code",
   "execution_count": 55,
   "metadata": {},
   "outputs": [
    {
     "name": "stdout",
     "output_type": "stream",
     "text": [
      "    0  1    2   3    4    5    6    7    8   9  ...  270   271  272  273  274  \\\n",
      "0  75  0  190  80   91  193  371  174  121 -16  ...  0.0   9.0 -0.9  0.0  0.0   \n",
      "1  56  1  165  64   81  174  401  149   39  25  ...  0.0   8.5  0.0  0.0  0.0   \n",
      "2  54  0  172  95  138  163  386  185  102  96  ...  0.0   9.5 -2.4  0.0  0.0   \n",
      "3  55  0  175  94  100  202  380  179  143  28  ...  0.0  12.2 -2.2  0.0  0.0   \n",
      "4  75  0  190  80   88  181  360  177  103 -16  ...  0.0  13.1 -3.6  0.0  0.0   \n",
      "\n",
      "   275  276   277   278  class  \n",
      "0  0.9  2.9  23.3  49.4      8  \n",
      "1  0.2  2.1  20.4  38.8      6  \n",
      "2  0.3  3.4  12.3  49.0     10  \n",
      "3  0.4  2.6  34.6  61.6      1  \n",
      "4 -0.1  3.9  25.4  62.8      7  \n",
      "\n",
      "[5 rows x 280 columns]\n",
      "class\n",
      "1     245\n",
      "10     50\n",
      "2      44\n",
      "6      25\n",
      "16     22\n",
      "3      15\n",
      "4      15\n",
      "5      13\n",
      "9       9\n",
      "15      5\n",
      "14      4\n",
      "7       3\n",
      "8       2\n",
      "Name: count, dtype: int64\n",
      "(452, 279)\n"
     ]
    },
    {
     "name": "stderr",
     "output_type": "stream",
     "text": [
      "/var/folders/v6/pl0_dkns3pdd4gyq5whvz4nr0000gn/T/ipykernel_69391/1400647156.py:15: SettingWithCopyWarning: \n",
      "A value is trying to be set on a copy of a slice from a DataFrame\n",
      "\n",
      "See the caveats in the documentation: https://pandas.pydata.org/pandas-docs/stable/user_guide/indexing.html#returning-a-view-versus-a-copy\n",
      "  data.replace(\"?\", np.nan, inplace=True)\n",
      "/var/folders/v6/pl0_dkns3pdd4gyq5whvz4nr0000gn/T/ipykernel_69391/1400647156.py:18: SettingWithCopyWarning: \n",
      "A value is trying to be set on a copy of a slice from a DataFrame.\n",
      "Try using .loc[row_indexer,col_indexer] = value instead\n",
      "\n",
      "See the caveats in the documentation: https://pandas.pydata.org/pandas-docs/stable/user_guide/indexing.html#returning-a-view-versus-a-copy\n",
      "  data[col] = data[col].fillna(data[col].median())\n"
     ]
    }
   ],
   "source": [
    "import numpy as np\n",
    "import pandas as pd\n",
    "\n",
    "arrythmia_path = '/Users/ludvigflodin/Documents/Courses/D7041E/Mini project/arrhythmia/arrhythmia.data'\n",
    "arr_df = pd.read_csv(arrythmia_path,sep=',',header=None)\n",
    "arr_df.rename(columns={arr_df.columns[-1]: \"class\"}, inplace=True)\n",
    "print(arr_df.head())\n",
    "\n",
    "labels = arr_df['class']\n",
    "data = arr_df[range(0,279)]\n",
    "print(labels.value_counts())\n",
    "print(data.shape)\n",
    "\n",
    "# fix missing values and insert median\n",
    "data.replace(\"?\", np.nan, inplace=True)\n",
    "numerical_cols = data.select_dtypes(include=['float64', 'int64']).columns\n",
    "for col in numerical_cols:\n",
    "    data[col] = data[col].fillna(data[col].median())\n",
    "\n"
   ]
  },
  {
   "cell_type": "code",
   "execution_count": 12,
   "metadata": {},
   "outputs": [],
   "source": [
    "data = np.array(data)\n",
    "labels = np.array(labels)\n",
    "\n",
    "arr_x_train, arr_x_test, arr_y_train, arr_y_test = train_test_split(data, labels, test_size=0.2, random_state=1)\n",
    "arr_x_train = arr_x_train.reshape(arr_x_train.shape[0],arr_x_train.shape[1]).astype(float)\n",
    "arr_y_train = np.array(arr_y_train.astype(int))\n",
    "arr_x_test = arr_x_test.reshape(arr_x_test.shape[0],arr_x_train.shape[1]).astype(float)\n",
    "arr_y_test = np.array(arr_y_test.astype(int))"
   ]
  },
  {
   "cell_type": "markdown",
   "metadata": {},
   "source": [
    "GPT implementation of SMOTE and undersampling"
   ]
  },
  {
   "cell_type": "code",
   "execution_count": 56,
   "metadata": {},
   "outputs": [
    {
     "name": "stderr",
     "output_type": "stream",
     "text": [
      "/var/folders/v6/pl0_dkns3pdd4gyq5whvz4nr0000gn/T/ipykernel_69391/1656357054.py:25: FutureWarning: A value is trying to be set on a copy of a DataFrame or Series through chained assignment using an inplace method.\n",
      "The behavior will change in pandas 3.0. This inplace method will never work because the intermediate object on which we are setting values always behaves as a copy.\n",
      "\n",
      "For example, when doing 'df[col].method(value, inplace=True)', try using 'df.method({col: value}, inplace=True)' or df[col] = df[col].method(value) instead, to perform the operation inplace on the original object.\n",
      "\n",
      "\n",
      "  data[col].fillna(data[col].median(), inplace=True)\n",
      "/opt/anaconda3/lib/python3.12/site-packages/threadpoolctl.py:1214: RuntimeWarning: \n",
      "Found Intel OpenMP ('libiomp') and LLVM OpenMP ('libomp') loaded at\n",
      "the same time. Both libraries are known to be incompatible and this\n",
      "can cause random crashes or deadlocks on Linux when loaded in the\n",
      "same Python program.\n",
      "Using threadpoolctl may cause crashes or deadlocks. For more\n",
      "information and possible workarounds, please see\n",
      "    https://github.com/joblib/threadpoolctl/blob/master/multiple_openmp.md\n",
      "\n",
      "  warnings.warn(msg, RuntimeWarning)\n"
     ]
    },
    {
     "name": "stdout",
     "output_type": "stream",
     "text": [
      "Original Data Class Distribution:\n",
      "1     193\n",
      "10     40\n",
      "2      36\n",
      "6      22\n",
      "16     16\n",
      "4      14\n",
      "5      11\n",
      "3      11\n",
      "9       7\n",
      "15      5\n",
      "8       2\n",
      "14      2\n",
      "7       2\n",
      "Name: count, dtype: int64\n",
      "\n",
      "After Undersampling:\n",
      "1     2\n",
      "2     2\n",
      "3     2\n",
      "4     2\n",
      "5     2\n",
      "6     2\n",
      "7     2\n",
      "8     2\n",
      "9     2\n",
      "10    2\n",
      "14    2\n",
      "15    2\n",
      "16    2\n",
      "Name: count, dtype: int64\n",
      "\n",
      "After SMOTE:\n",
      "6     193\n",
      "1     193\n",
      "10    193\n",
      "5     193\n",
      "9     193\n",
      "3     193\n",
      "2     193\n",
      "16    193\n",
      "4     193\n",
      "15    193\n",
      "8     193\n",
      "14    193\n",
      "7     193\n",
      "Name: count, dtype: int64\n"
     ]
    }
   ],
   "source": [
    "import numpy as np\n",
    "import pandas as pd\n",
    "from sklearn.model_selection import train_test_split\n",
    "from imblearn.over_sampling import SMOTE\n",
    "from imblearn.under_sampling import RandomUnderSampler\n",
    "from imblearn.combine import SMOTEENN\n",
    "\n",
    "# Ladda datasetet\n",
    "arrythmia_path = '/Users/ludvigflodin/Documents/Courses/D7041E/Mini project/arrhythmia/arrhythmia.data'\n",
    "arr_df = pd.read_csv(arrythmia_path, sep=',', header=None)\n",
    "arr_df.rename(columns={arr_df.columns[-1]: \"class\"}, inplace=True)\n",
    "\n",
    "# Hantera saknade värden och använd median\n",
    "data = arr_df.iloc[:, :-1]\n",
    "labels = arr_df['class']\n",
    "# Ersätt \"?\" med NaN\n",
    "data.replace(\"?\", np.nan, inplace=True)\n",
    "\n",
    "# Omvandla alla kolumner till numeriska om möjligt\n",
    "data = data.apply(pd.to_numeric, errors='coerce')\n",
    "\n",
    "# Fyll NaN med median för varje kolumn\n",
    "for col in data.columns:\n",
    "    if data[col].isnull().any():  # Kontrollera om det finns NaN i kolumnen\n",
    "        data[col].fillna(data[col].median(), inplace=True)\n",
    "\n",
    "# Konvertera till numpy-arrayer\n",
    "data = np.array(data).astype(float)\n",
    "labels = np.array(labels).astype(int)\n",
    "\n",
    "# Dela upp i träning och test\n",
    "arr_x_train, arr_x_test, arr_y_train, arr_y_test = train_test_split(data, labels, test_size=0.2, random_state=1)\n",
    "\n",
    "# Undersampling\n",
    "undersampler = RandomUnderSampler(random_state=42)\n",
    "x_train_under, y_train_under = undersampler.fit_resample(arr_x_train, arr_y_train)\n",
    "\n",
    "# SMOTE\n",
    "smote = SMOTE(random_state=42, k_neighbors=1)\n",
    "arr_x_train_smote, arr_y_train_smote = smote.fit_resample(arr_x_train, arr_y_train)\n",
    "\n",
    "# Kontrollera balansen efter varje steg\n",
    "print(\"Original Data Class Distribution:\")\n",
    "print(pd.Series(arr_y_train).value_counts())\n",
    "print(\"\\nAfter Undersampling:\")\n",
    "print(pd.Series(y_train_under).value_counts())\n",
    "print(\"\\nAfter SMOTE:\")\n",
    "print(pd.Series(arr_y_train_smote).value_counts())\n",
    "\n"
   ]
  },
  {
   "cell_type": "code",
   "execution_count": 38,
   "metadata": {},
   "outputs": [
    {
     "name": "stdout",
     "output_type": "stream",
     "text": [
      "\n",
      "After SMOTE:\n",
      "6     193\n",
      "1     193\n",
      "10    193\n",
      "5     193\n",
      "9     193\n",
      "3     193\n",
      "2     193\n",
      "16    193\n",
      "4     193\n",
      "15    193\n",
      "8     193\n",
      "14    193\n",
      "7     193\n",
      "Name: count, dtype: int64\n"
     ]
    }
   ],
   "source": [
    "print(\"\\nAfter SMOTE:\")\n",
    "print(pd.Series(arr_y_train_smote).value_counts())"
   ]
  },
  {
   "cell_type": "markdown",
   "metadata": {},
   "source": [
    "# Models"
   ]
  },
  {
   "cell_type": "markdown",
   "metadata": {},
   "source": [
    "## ANN MLP"
   ]
  },
  {
   "cell_type": "markdown",
   "metadata": {},
   "source": [
    "### Import and functions"
   ]
  },
  {
   "cell_type": "code",
   "execution_count": 34,
   "metadata": {},
   "outputs": [],
   "source": [
    "import torch\n",
    "\n",
    "device = torch.device(\"cuda:0\" if torch.cuda.is_available() else \"cpu\")\n",
    "\n",
    "def train_model(model, criterion, optimizer, train_loader, val_loader, num_epochs):\n",
    "    best_val_loss = 1000\n",
    "    best_model = model\n",
    "    \n",
    "    for epoch in range(num_epochs):\n",
    "        model.train()\n",
    "        train_loss = 0.0\n",
    "        for inputs, labels in train_loader:\n",
    "            inputs = inputs.to(device)\n",
    "            labels = labels.to(device)\n",
    "            optimizer.zero_grad()\n",
    "            outputs = model(inputs)\n",
    "            loss = criterion(outputs, labels)\n",
    "            if device == \"cuda:0\":loss = loss.cuda()\n",
    "            loss.backward()\n",
    "            optimizer.step()\n",
    "            train_loss += loss.item() * inputs.size(0)\n",
    "        \n",
    "        train_loss /= len(train_loader.dataset)\n",
    "        \n",
    "        # Validation\n",
    "        model.eval()\n",
    "        val_loss = 0.0\n",
    "        with torch.no_grad():\n",
    "            for inputs, labels in val_loader:\n",
    "                inputs = inputs.to(device)\n",
    "                labels = labels.to(device)\n",
    "                outputs = model(inputs)\n",
    "            \n",
    "                loss = criterion(outputs, labels)\n",
    "                val_loss += loss.item() * inputs.size(0)\n",
    "        \n",
    "        val_loss /= len(val_loader.dataset)\n",
    "        \n",
    "        if (epoch + 1) % 10 == 0:\n",
    "            print(f'Epoch {epoch+1}/{num_epochs}, Train Loss: {train_loss:.4f}, Val Loss: {val_loss:.4f}')\n",
    "        \n",
    "        # Save the best model\n",
    "        if val_loss < best_val_loss:\n",
    "            best_val_loss = val_loss\n",
    "            best_model = model\n",
    "    return best_model"
   ]
  },
  {
   "cell_type": "markdown",
   "metadata": {},
   "source": [
    "### Runs"
   ]
  },
  {
   "cell_type": "markdown",
   "metadata": {},
   "source": [
    "#### Iris"
   ]
  },
  {
   "cell_type": "code",
   "execution_count": 42,
   "metadata": {},
   "outputs": [
    {
     "name": "stdout",
     "output_type": "stream",
     "text": [
      "Epoch 10/70, Train Loss: 0.5290, Val Loss: 0.4954\n",
      "Epoch 20/70, Train Loss: 0.3177, Val Loss: 0.3427\n",
      "Epoch 30/70, Train Loss: 0.1910, Val Loss: 0.1924\n",
      "Epoch 40/70, Train Loss: 0.1276, Val Loss: 0.1348\n",
      "Epoch 50/70, Train Loss: 0.1017, Val Loss: 0.1311\n",
      "Epoch 60/70, Train Loss: 0.0869, Val Loss: 0.1071\n",
      "Epoch 70/70, Train Loss: 0.0822, Val Loss: 0.1080\n"
     ]
    }
   ],
   "source": [
    "import torch\n",
    "import torch.nn as nn\n",
    "import optuna\n",
    "from torch.utils.data import DataLoader, TensorDataset\n",
    "\n",
    "device = torch.device(\"cuda:0\" if torch.cuda.is_available() else \"cpu\")\n",
    "\n",
    "model = nn.Sequential(\n",
    "nn.Linear(4,100),\n",
    "nn.ReLU(),\n",
    "nn.Linear(100, 100),\n",
    "nn.Sigmoid(),\n",
    "nn.Linear(100,3),\n",
    ")\n",
    "\n",
    "BATCH_SIZE = 20\n",
    "LEARNING_RATE = 0.001\n",
    "EPOCHS = 70\n",
    "WEIGHT_DECAY = 1e-5\n",
    "loss_function = nn.CrossEntropyLoss()\n",
    "optimizer = torch.optim.Adam(model.parameters(), lr=LEARNING_RATE, weight_decay=WEIGHT_DECAY)\n",
    "\n",
    "# convert numpy arrays to torch dataloader\n",
    "train_loader = DataLoader(TensorDataset(torch.FloatTensor(iris_x_train),torch.LongTensor(iris_y_train)),batch_size=BATCH_SIZE, shuffle=True)\n",
    "val_loader = DataLoader(TensorDataset(torch.FloatTensor(iris_x_val),torch.LongTensor(iris_y_val)),batch_size=BATCH_SIZE, shuffle=True)\n",
    "test_loader = DataLoader(TensorDataset(torch.FloatTensor(iris_x_test),torch.LongTensor(iris_y_test)),batch_size=BATCH_SIZE, shuffle=True)\n",
    "iris_mlp = train_model( model,\n",
    "                        loss_function,\n",
    "                        optimizer,\n",
    "                        train_loader,\n",
    "                        val_loader,\n",
    "                        EPOCHS)\n"
   ]
  },
  {
   "cell_type": "code",
   "execution_count": 43,
   "metadata": {},
   "outputs": [],
   "source": [
    "iris_mlp.eval()\n",
    "correct = 0\n",
    "total = 0\n",
    "with torch.no_grad():\n",
    "    for inputs, labels in test_loader:\n",
    "        inputs, labels = inputs.to(device), labels.to(device)\n",
    "        outputs = iris_mlp(inputs)\n",
    "        _, predicted = torch.max(outputs, 1)\n",
    "        total += labels.size(0)\n",
    "        correct += (predicted == labels).sum().item()\n",
    "\n",
    "accuracy = correct / total\n",
    "\n"
   ]
  },
  {
   "cell_type": "code",
   "execution_count": 41,
   "metadata": {},
   "outputs": [
    {
     "name": "stderr",
     "output_type": "stream",
     "text": [
      "[I 2025-01-03 17:17:36,255] A new study created in memory with name: no-name-30d4297f-f4a3-4cf5-8f99-a240d19dd2a4\n"
     ]
    },
    {
     "name": "stdout",
     "output_type": "stream",
     "text": [
      "Epoch 10/44, Train Loss: 0.1896, Val Loss: 0.2238\n",
      "Epoch 20/44, Train Loss: 0.0859, Val Loss: 0.0663\n",
      "Epoch 30/44, Train Loss: 0.0700, Val Loss: 0.1275\n"
     ]
    },
    {
     "name": "stderr",
     "output_type": "stream",
     "text": [
      "[I 2025-01-03 17:17:36,633] Trial 0 finished with value: 1.0 and parameters: {'BATCH SIZE': 36, 'LEARNING_RATE': 0.006801690523527771, 'EPOCHS': 44, 'WEIGHT_DECAY': 5.0553410136151856e-05}. Best is trial 0 with value: 1.0.\n"
     ]
    },
    {
     "name": "stdout",
     "output_type": "stream",
     "text": [
      "Epoch 40/44, Train Loss: 0.0952, Val Loss: 0.0695\n",
      "Epoch 10/78, Train Loss: 1.0166, Val Loss: 0.9930\n",
      "Epoch 20/78, Train Loss: 0.9088, Val Loss: 0.8769\n",
      "Epoch 30/78, Train Loss: 0.7868, Val Loss: 0.7498\n",
      "Epoch 40/78, Train Loss: 0.6701, Val Loss: 0.6545\n",
      "Epoch 50/78, Train Loss: 0.5753, Val Loss: 0.5665\n",
      "Epoch 60/78, Train Loss: 0.5065, Val Loss: 0.4950\n"
     ]
    },
    {
     "name": "stderr",
     "output_type": "stream",
     "text": [
      "[I 2025-01-03 17:17:37,373] Trial 1 finished with value: 1.0 and parameters: {'BATCH SIZE': 29, 'LEARNING_RATE': 0.00021545383253923078, 'EPOCHS': 78, 'WEIGHT_DECAY': 0.0005555366717204152}. Best is trial 0 with value: 1.0.\n"
     ]
    },
    {
     "name": "stdout",
     "output_type": "stream",
     "text": [
      "Epoch 70/78, Train Loss: 0.4536, Val Loss: 0.4573\n",
      "Epoch 10/76, Train Loss: 0.9817, Val Loss: 0.9705\n",
      "Epoch 20/76, Train Loss: 0.8525, Val Loss: 0.8377\n",
      "Epoch 30/76, Train Loss: 0.7180, Val Loss: 0.6979\n",
      "Epoch 40/76, Train Loss: 0.6112, Val Loss: 0.5984\n",
      "Epoch 50/76, Train Loss: 0.5380, Val Loss: 0.5308\n",
      "Epoch 60/76, Train Loss: 0.4862, Val Loss: 0.4847\n"
     ]
    },
    {
     "name": "stderr",
     "output_type": "stream",
     "text": [
      "[I 2025-01-03 17:17:38,275] Trial 2 finished with value: 1.0 and parameters: {'BATCH SIZE': 15, 'LEARNING_RATE': 0.00013215893533436742, 'EPOCHS': 76, 'WEIGHT_DECAY': 3.103970793742392e-05}. Best is trial 0 with value: 1.0.\n"
     ]
    },
    {
     "name": "stdout",
     "output_type": "stream",
     "text": [
      "Epoch 70/76, Train Loss: 0.4441, Val Loss: 0.4453\n",
      "Epoch 10/41, Train Loss: 0.9677, Val Loss: 0.9534\n",
      "Epoch 20/41, Train Loss: 0.7888, Val Loss: 0.7620\n"
     ]
    },
    {
     "name": "stderr",
     "output_type": "stream",
     "text": [
      "[I 2025-01-03 17:17:39,030] Trial 3 finished with value: 1.0 and parameters: {'BATCH SIZE': 8, 'LEARNING_RATE': 0.0001404073855083217, 'EPOCHS': 41, 'WEIGHT_DECAY': 0.0002672733592214505}. Best is trial 0 with value: 1.0.\n"
     ]
    },
    {
     "name": "stdout",
     "output_type": "stream",
     "text": [
      "Epoch 30/41, Train Loss: 0.6193, Val Loss: 0.5978\n",
      "Epoch 40/41, Train Loss: 0.5085, Val Loss: 0.5060\n"
     ]
    },
    {
     "name": "stderr",
     "output_type": "stream",
     "text": [
      "[I 2025-01-03 17:17:39,257] Trial 4 finished with value: 0.9333333333333333 and parameters: {'BATCH SIZE': 26, 'LEARNING_RATE': 0.004817782502710865, 'EPOCHS': 31, 'WEIGHT_DECAY': 2.103248017002711e-05}. Best is trial 0 with value: 1.0.\n"
     ]
    },
    {
     "name": "stdout",
     "output_type": "stream",
     "text": [
      "Epoch 10/31, Train Loss: 0.1791, Val Loss: 0.2198\n",
      "Epoch 20/31, Train Loss: 0.1442, Val Loss: 0.1297\n",
      "Epoch 30/31, Train Loss: 0.0769, Val Loss: 0.2509\n",
      "Epoch 10/78, Train Loss: 0.1208, Val Loss: 0.0691\n",
      "Epoch 20/78, Train Loss: 0.1075, Val Loss: 0.0429\n",
      "Epoch 30/78, Train Loss: 0.1006, Val Loss: 0.1171\n",
      "Epoch 40/78, Train Loss: 0.0827, Val Loss: 0.0267\n",
      "Epoch 50/78, Train Loss: 0.0686, Val Loss: 0.0238\n",
      "Epoch 60/78, Train Loss: 0.1108, Val Loss: 0.0862\n",
      "Epoch 70/78, Train Loss: 0.0823, Val Loss: 0.0339\n"
     ]
    },
    {
     "name": "stderr",
     "output_type": "stream",
     "text": [
      "[I 2025-01-03 17:17:41,161] Trial 5 finished with value: 0.9333333333333333 and parameters: {'BATCH SIZE': 6, 'LEARNING_RATE': 0.0088378666012493, 'EPOCHS': 78, 'WEIGHT_DECAY': 1.29393530894525e-05}. Best is trial 0 with value: 1.0.\n"
     ]
    },
    {
     "name": "stdout",
     "output_type": "stream",
     "text": [
      "Epoch 10/97, Train Loss: 0.1056, Val Loss: 0.5663\n",
      "Epoch 20/97, Train Loss: 0.0736, Val Loss: 0.0698\n",
      "Epoch 30/97, Train Loss: 0.0652, Val Loss: 0.1399\n",
      "Epoch 40/97, Train Loss: 0.0900, Val Loss: 0.0841\n",
      "Epoch 50/97, Train Loss: 0.0694, Val Loss: 0.0342\n",
      "Epoch 60/97, Train Loss: 0.0599, Val Loss: 0.0355\n",
      "Epoch 70/97, Train Loss: 0.1877, Val Loss: 0.0338\n",
      "Epoch 80/97, Train Loss: 0.0667, Val Loss: 0.0654\n"
     ]
    },
    {
     "name": "stderr",
     "output_type": "stream",
     "text": [
      "[I 2025-01-03 17:17:42,037] Trial 6 finished with value: 1.0 and parameters: {'BATCH SIZE': 23, 'LEARNING_RATE': 0.009252731321548182, 'EPOCHS': 97, 'WEIGHT_DECAY': 2.544519207128698e-05}. Best is trial 0 with value: 1.0.\n"
     ]
    },
    {
     "name": "stdout",
     "output_type": "stream",
     "text": [
      "Epoch 90/97, Train Loss: 0.1142, Val Loss: 0.2237\n",
      "Epoch 10/65, Train Loss: 0.1838, Val Loss: 0.2205\n",
      "Epoch 20/65, Train Loss: 0.0995, Val Loss: 0.1505\n"
     ]
    },
    {
     "name": "stderr",
     "output_type": "stream",
     "text": [
      "[I 2025-01-03 17:17:42,359] Trial 7 finished with value: 1.0 and parameters: {'BATCH SIZE': 43, 'LEARNING_RATE': 0.007561527926119895, 'EPOCHS': 65, 'WEIGHT_DECAY': 0.000269630254040204}. Best is trial 0 with value: 1.0.\n"
     ]
    },
    {
     "name": "stdout",
     "output_type": "stream",
     "text": [
      "Epoch 30/65, Train Loss: 0.0721, Val Loss: 0.0816\n",
      "Epoch 40/65, Train Loss: 0.0700, Val Loss: 0.1836\n",
      "Epoch 50/65, Train Loss: 0.0675, Val Loss: 0.0485\n",
      "Epoch 60/65, Train Loss: 0.0734, Val Loss: 0.0797\n",
      "Epoch 10/73, Train Loss: 0.2315, Val Loss: 0.2105\n",
      "Epoch 20/73, Train Loss: 0.1071, Val Loss: 0.1482\n",
      "Epoch 30/73, Train Loss: 0.0758, Val Loss: 0.0926\n",
      "Epoch 40/73, Train Loss: 0.0727, Val Loss: 0.0612\n",
      "Epoch 50/73, Train Loss: 0.0619, Val Loss: 0.0403\n",
      "Epoch 60/73, Train Loss: 0.0685, Val Loss: 0.0797\n"
     ]
    },
    {
     "name": "stderr",
     "output_type": "stream",
     "text": [
      "[I 2025-01-03 17:17:43,230] Trial 8 finished with value: 1.0 and parameters: {'BATCH SIZE': 16, 'LEARNING_RATE': 0.002312843784085609, 'EPOCHS': 73, 'WEIGHT_DECAY': 6.001371573451615e-05}. Best is trial 0 with value: 1.0.\n"
     ]
    },
    {
     "name": "stdout",
     "output_type": "stream",
     "text": [
      "Epoch 70/73, Train Loss: 0.0651, Val Loss: 0.0283\n",
      "Epoch 10/72, Train Loss: 0.8467, Val Loss: 0.8317\n",
      "Epoch 20/72, Train Loss: 0.5891, Val Loss: 0.5755\n",
      "Epoch 30/72, Train Loss: 0.4478, Val Loss: 0.4457\n",
      "Epoch 40/72, Train Loss: 0.3621, Val Loss: 0.3786\n",
      "Epoch 50/72, Train Loss: 0.2951, Val Loss: 0.3461\n",
      "Epoch 60/72, Train Loss: 0.2387, Val Loss: 0.2605\n"
     ]
    },
    {
     "name": "stderr",
     "output_type": "stream",
     "text": [
      "[I 2025-01-03 17:17:43,690] Trial 9 finished with value: 1.0 and parameters: {'BATCH SIZE': 36, 'LEARNING_RATE': 0.000554042536663257, 'EPOCHS': 72, 'WEIGHT_DECAY': 0.00015443671571193976}. Best is trial 0 with value: 1.0.\n"
     ]
    },
    {
     "name": "stdout",
     "output_type": "stream",
     "text": [
      "Epoch 70/72, Train Loss: 0.1948, Val Loss: 0.2483\n",
      "Best parameters: {'BATCH SIZE': 36, 'LEARNING_RATE': 0.006801690523527771, 'EPOCHS': 44, 'WEIGHT_DECAY': 5.0553410136151856e-05}\n",
      "Best accuracy: 1.0\n"
     ]
    }
   ],
   "source": [
    "import torch\n",
    "import torch.nn as nn\n",
    "import optuna\n",
    "from torch.utils.data import DataLoader, TensorDataset\n",
    "\n",
    "device = torch.device(\"cuda:0\" if torch.cuda.is_available() else \"cpu\")\n",
    "\n",
    "BATCH_SIZE = 20\n",
    "LEARNING_RATE = 0.001\n",
    "EPOCHS = 70\n",
    "\n",
    "\n",
    "def objective(trial):\n",
    "\n",
    "    model = nn.Sequential(\n",
    "    nn.Linear(4,100),\n",
    "    nn.ReLU(),\n",
    "    nn.Linear(100, 100),\n",
    "    nn.Sigmoid(),\n",
    "    nn.Linear(100,3),\n",
    ")\n",
    "\n",
    "    BATCH_SIZE = trial.suggest_int(\"BATCH SIZE\", 5, 50)\n",
    "    LEARNING_RATE = trial.suggest_float(\"LEARNING_RATE\", 1e-4, 1e-2, log = True)\n",
    "    EPOCHS = trial.suggest_int(\"EPOCHS\", 10, 100)\n",
    "    WEIGHT_DECAY = trial.suggest_float(\"WEIGHT_DECAY\",1e-5, 1e-3, log=True)\n",
    "\n",
    "    loss_function = nn.CrossEntropyLoss()\n",
    "    optimizer = torch.optim.Adam(model.parameters(), lr=LEARNING_RATE, weight_decay=WEIGHT_DECAY)\n",
    "\n",
    "    # convert numpy arrays to torch dataloader\n",
    "    train_loader = DataLoader(TensorDataset(torch.FloatTensor(iris_x_train),torch.LongTensor(iris_y_train)),batch_size=BATCH_SIZE, shuffle=True)\n",
    "    val_loader = DataLoader(TensorDataset(torch.FloatTensor(iris_x_val),torch.LongTensor(iris_y_val)),batch_size=BATCH_SIZE, shuffle=True)\n",
    "    test_loader = DataLoader(TensorDataset(torch.FloatTensor(iris_x_test),torch.LongTensor(iris_y_test)),batch_size=BATCH_SIZE, shuffle=True)\n",
    "    iris_mlp = train_model( model,\n",
    "                            loss_function,\n",
    "                            optimizer,\n",
    "                            train_loader,\n",
    "                            val_loader,\n",
    "                            EPOCHS)\n",
    "    \n",
    "    iris_mlp.eval()\n",
    "    correct = 0\n",
    "    total = 0\n",
    "    with torch.no_grad():\n",
    "        for inputs, labels in test_loader:\n",
    "            inputs, labels = inputs.to(device), labels.to(device)\n",
    "            outputs = iris_mlp(inputs)\n",
    "            _, predicted = torch.max(outputs, 1)\n",
    "            total += labels.size(0)\n",
    "            correct += (predicted == labels).sum().item()\n",
    "\n",
    "    accuracy = correct / total\n",
    "    return accuracy \n",
    "    \n",
    "study = optuna.create_study(direction=\"maximize\")\n",
    "study.optimize(objective, n_trials=10)\n",
    "    \n",
    "print(\"Best parameters:\", study.best_params)\n",
    "print(\"Best accuracy:\", study.best_value)\n",
    "    "
   ]
  },
  {
   "cell_type": "code",
   "execution_count": null,
   "metadata": {},
   "outputs": [],
   "source": []
  },
  {
   "cell_type": "markdown",
   "metadata": {},
   "source": [
    "## SOM"
   ]
  },
  {
   "cell_type": "markdown",
   "metadata": {},
   "source": [
    "### Import and functions"
   ]
  },
  {
   "cell_type": "code",
   "execution_count": 45,
   "metadata": {},
   "outputs": [],
   "source": [
    "import numpy as np\n",
    "import numpy.matlib\n",
    "from matplotlib import pyplot as plt\n",
    "import math\n",
    "import time\n",
    "import pandas as pd\n",
    "from sklearn.datasets import fetch_openml\n",
    "from sklearn.model_selection import train_test_split\n",
    "from tqdm import tqdm\n",
    "from sklearn.metrics import confusion_matrix, classification_report\n",
    "import seaborn as sns\n",
    "def getEuclideanDistance(single_point,array):\n",
    "    nrows, ncols, nfeatures=array.shape[0],array.shape[1], array.shape[2]\n",
    "    points=array.reshape((nrows*ncols,nfeatures))\n",
    "                         \n",
    "    dist = (points - single_point)**2\n",
    "    dist = np.sum(dist, axis=1)\n",
    "    dist = np.sqrt(dist)\n",
    "\n",
    "    dist=dist.reshape((nrows,ncols))\n",
    "    return dist\n",
    "\n",
    "def SOM(dispRes, trainingData, ndim=10, nepochs=10, eta0=0.1, etadecay=0.05, sgm0=20, sgmdecay=0.05, showMode=0):\n",
    "    nfeatures=trainingData.shape[1]\n",
    "    #nfeatures = 784\n",
    "    ntrainingvectors=trainingData.shape[0]\n",
    "    \n",
    "    nrows = ndim\n",
    "    ncols = ndim\n",
    "    \n",
    "    mu, sigma = 0, 0.1\n",
    "    numpy.random.seed(int(time.time()))\n",
    "    som = np.random.normal(mu, sigma, (nrows,ncols,nfeatures))\n",
    "\n",
    "    if showMode >= 1:\n",
    "        print(\"\\nSOM features BEFORE training:\")\n",
    "        fig, ax = plt.subplots(nrows=nrows, ncols=ncols, figsize=(15, 15))\n",
    "        for k in range(nrows):\n",
    "            for l in range(ncols):\n",
    "                A = som[k, l, :].reshape((dispRes[0], dispRes[1]))\n",
    "                ax[k, l].imshow(A, cmap=\"plasma\")\n",
    "                ax[k, l].set_yticks([])\n",
    "                ax[k, l].set_xticks([])\n",
    "        plt.show() \n",
    "    \n",
    "    #Generate coordinate system\n",
    "    x,y=np.meshgrid(range(ncols),range(nrows))\n",
    "    \n",
    "    for t in tqdm(range(1, nepochs + 1), desc=\"Training SOM\", unit=\"epoch\"):\n",
    "\n",
    "        #Compute the learning rate for the current epoch\n",
    "        eta = eta0 * math.exp(-t*etadecay);\n",
    "        \n",
    "        #Compute the variance of the Gaussian (Neighbourhood) function for the ucrrent epoch\n",
    "        sgm = sgm0 * math.exp(-t*sgmdecay);\n",
    "        \n",
    "        #Consider the width of the Gaussian function as 3 sigma\n",
    "        width = math.ceil(sgm*3);\n",
    "        \n",
    "        for ntraining in range(ntrainingvectors):\n",
    "            trainingVector = trainingData[ntraining,:];\n",
    "            \n",
    "            # Compute the Euclidean distance between the training vector and\n",
    "            # each neuron in the SOM map\n",
    "            dist = getEuclideanDistance(trainingVector, som);\n",
    "       \n",
    "            # Find 2D coordinates of the Best Matching Unit (bmu)\n",
    "            bmurow, bmucol =np.unravel_index(np.argmin(dist, axis=None), dist.shape) ;\n",
    "            \n",
    "            \n",
    "            #Generate a Gaussian function centered on the location of the bmu\n",
    "            g = np.exp(-((np.power(x - bmucol,2)) + (np.power(y - bmurow,2))) / (2*sgm*sgm));\n",
    "\n",
    "            #Determine the boundary of the local neighbourhood\n",
    "            fromrow = max(0,bmurow - width);\n",
    "            torow   = min(bmurow + width,nrows);\n",
    "            fromcol = max(0,bmucol - width);\n",
    "            tocol   = min(bmucol + width,ncols);\n",
    "\n",
    "            \n",
    "            #Get the neighbouring neurons and determine the size of the neighbourhood\n",
    "            neighbourNeurons = som[fromrow:torow,fromcol:tocol,:];\n",
    "            sz = neighbourNeurons.shape;\n",
    "            \n",
    "            #Transform the training vector and the Gaussian function into \n",
    "            # multi-dimensional to facilitate the computation of the neuron weights update\n",
    "            T = np.matlib.repmat(trainingVector,sz[0]*sz[1],1).reshape((sz[0],sz[1],nfeatures));                   \n",
    "            G = np.dstack([g[fromrow:torow,fromcol:tocol]]*nfeatures);\n",
    "\n",
    "            # Update the weights of the neurons that are in the neighbourhood of the bmu\n",
    "            neighbourNeurons = neighbourNeurons + eta * G * (T - neighbourNeurons);\n",
    "\n",
    "            \n",
    "            #Put the new weights of the BMU neighbouring neurons back to the\n",
    "            #entire SOM map\n",
    "            som[fromrow:torow,fromcol:tocol,:] = neighbourNeurons;\n",
    "        if showMode >= 1 and t == int(nepochs / 2):\n",
    "            print(\"\\nSOM features at half training:\")\n",
    "            fig, ax = plt.subplots(nrows=nrows, ncols=ncols, figsize=(15, 15))\n",
    "            for k in range(nrows):\n",
    "                for l in range(ncols):\n",
    "                    B = som[k, l, :].reshape((dispRes[0], dispRes[1]))\n",
    "                    ax[k, l].imshow(B, cmap=\"plasma\")\n",
    "                    ax[k, l].set_yticks([])\n",
    "                    ax[k, l].set_xticks([])\n",
    "            plt.show() \n",
    "\n",
    "    if showMode >= 1:\n",
    "        print(\"\\nSOM features AFTER training:\")\n",
    "        fig, ax = plt.subplots(nrows=nrows, ncols=ncols, figsize=(15, 15))\n",
    "        for k in range(nrows):\n",
    "            for l in range(ncols):\n",
    "                C = som[k, l, :].reshape((dispRes[0], dispRes[1]))\n",
    "                ax[k, l].imshow(C, cmap=\"plasma\")\n",
    "                ax[k, l].set_yticks([])\n",
    "                ax[k, l].set_xticks([])\n",
    "        plt.show()  \n",
    "    return som\n",
    "    \n",
    "\n",
    "# to be straight, i got some help from gpt here, but i do understand the concept\n",
    "\n",
    "def createLabelMap(som, trainingData, labels):\n",
    "\n",
    "    # make map\n",
    "    nrows, ncols,_ = som.shape\n",
    "    label_map = np.zeros((nrows, ncols), dtype=int)\n",
    "    label_counts = np.zeros((nrows, ncols), dtype=int)\n",
    "\n",
    "    # loop through dataset\n",
    "    for i in range(trainingData.shape[0]):\n",
    "\n",
    "        trainingVector = trainingData[i, :]\n",
    "        label = labels[i]\n",
    "        # get distance (or likeliness of vector)\n",
    "        dist = getEuclideanDistance(trainingVector, som)\n",
    "        bmurow, bmucol = np.unravel_index(np.argmin(dist, axis=None), dist.shape)\n",
    "        \n",
    "        # take label values for each BMU\n",
    "        label_map[bmurow, bmucol] += label\n",
    "        label_counts[bmurow, bmucol] += 1\n",
    "\n",
    "    # normalize?\n",
    "    for r in range(nrows):\n",
    "        for c in range(ncols):\n",
    "            if label_counts[r, c] > 0:\n",
    "                label_map[r, c] = round(label_map[r, c] / label_counts[r, c])\n",
    "    return label_map\n",
    "\n",
    "# classifies by taking BMU and checking label from data and map\n",
    "def classifySOM(som, label_map, testData):\n",
    "    predictions = []\n",
    "    for dataPoint in testData:\n",
    "        dist = getEuclideanDistance(dataPoint, som)\n",
    "        bmurow, bmucol = np.unravel_index(np.argmin(dist, axis=None), dist.shape)\n",
    "        predictions.append(label_map[bmurow, bmucol])\n",
    "    return predictions\n",
    "\n",
    "def plot_confusion_matrix(y_true, y_pred, title=\"Confusion Matrix\"):\n",
    "    cm = confusion_matrix(y_true, y_pred)\n",
    "    plt.figure(figsize=(10, 8))\n",
    "    sns.heatmap(cm, annot=True, fmt=\"d\", cmap=\"Blues\", xticklabels=np.unique(y_true), yticklabels=np.unique(y_true))\n",
    "    plt.xlabel(\"Predicted Labels\")\n",
    "    plt.ylabel(\"True Labels\")\n",
    "    plt.title(title)\n",
    "    plt.show()"
   ]
  },
  {
   "cell_type": "markdown",
   "metadata": {},
   "source": [
    "### Runs"
   ]
  },
  {
   "cell_type": "markdown",
   "metadata": {},
   "source": [
    "#### Iris"
   ]
  },
  {
   "cell_type": "code",
   "execution_count": 53,
   "metadata": {},
   "outputs": [
    {
     "name": "stderr",
     "output_type": "stream",
     "text": [
      "[I 2025-01-07 11:30:03,419] A new study created in memory with name: no-name-20e9cc7a-1932-41ef-82bd-602e87eded06\n",
      "Training SOM: 100%|██████████| 87/87 [00:04<00:00, 17.73epoch/s]\n",
      "[I 2025-01-07 11:30:08,634] Trial 0 finished with value: 0.8666666666666667 and parameters: {'DIMENSION': 82, 'EPOCHS': 87, 'LEARNING_RATE': 0.0036909568098455305, 'LEARNING_RATE_DECAY': 0.000249946823775394, 'SIGMA': 10, 'SIGMA_DECAY': 0.07395836670716842}. Best is trial 0 with value: 0.8666666666666667.\n",
      "Training SOM: 100%|██████████| 82/82 [00:12<00:00,  6.74epoch/s]\n",
      "[I 2025-01-07 11:30:20,933] Trial 1 finished with value: 0.6666666666666666 and parameters: {'DIMENSION': 140, 'EPOCHS': 82, 'LEARNING_RATE': 0.0005393892497916057, 'LEARNING_RATE_DECAY': 0.00015646113421499596, 'SIGMA': 18, 'SIGMA_DECAY': 0.021498905741066554}. Best is trial 0 with value: 0.8666666666666667.\n",
      "Training SOM: 100%|██████████| 191/191 [00:26<00:00,  7.13epoch/s]\n",
      "/opt/anaconda3/lib/python3.12/site-packages/sklearn/metrics/_classification.py:1531: UndefinedMetricWarning: Precision is ill-defined and being set to 0.0 in labels with no predicted samples. Use `zero_division` parameter to control this behavior.\n",
      "  _warn_prf(average, modifier, f\"{metric.capitalize()} is\", len(result))\n",
      "/opt/anaconda3/lib/python3.12/site-packages/sklearn/metrics/_classification.py:1531: UndefinedMetricWarning: Precision is ill-defined and being set to 0.0 in labels with no predicted samples. Use `zero_division` parameter to control this behavior.\n",
      "  _warn_prf(average, modifier, f\"{metric.capitalize()} is\", len(result))\n",
      "/opt/anaconda3/lib/python3.12/site-packages/sklearn/metrics/_classification.py:1531: UndefinedMetricWarning: Precision is ill-defined and being set to 0.0 in labels with no predicted samples. Use `zero_division` parameter to control this behavior.\n",
      "  _warn_prf(average, modifier, f\"{metric.capitalize()} is\", len(result))\n",
      "[I 2025-01-07 11:30:47,856] Trial 2 finished with value: 0.6 and parameters: {'DIMENSION': 146, 'EPOCHS': 191, 'LEARNING_RATE': 0.00032387709873161027, 'LEARNING_RATE_DECAY': 0.003999273904526169, 'SIGMA': 12, 'SIGMA_DECAY': 0.0665223084102556}. Best is trial 0 with value: 0.8666666666666667.\n",
      "Training SOM: 100%|██████████| 135/135 [00:16<00:00,  8.35epoch/s]\n",
      "[I 2025-01-07 11:31:04,111] Trial 3 finished with value: 0.7333333333333333 and parameters: {'DIMENSION': 138, 'EPOCHS': 135, 'LEARNING_RATE': 0.0007003775074871426, 'LEARNING_RATE_DECAY': 0.005691214959134285, 'SIGMA': 17, 'SIGMA_DECAY': 0.01953287248355159}. Best is trial 0 with value: 0.8666666666666667.\n",
      "Training SOM: 100%|██████████| 97/97 [00:07<00:00, 12.14epoch/s]\n",
      "/opt/anaconda3/lib/python3.12/site-packages/sklearn/metrics/_classification.py:1531: UndefinedMetricWarning: Precision is ill-defined and being set to 0.0 in labels with no predicted samples. Use `zero_division` parameter to control this behavior.\n",
      "  _warn_prf(average, modifier, f\"{metric.capitalize()} is\", len(result))\n",
      "/opt/anaconda3/lib/python3.12/site-packages/sklearn/metrics/_classification.py:1531: UndefinedMetricWarning: Precision is ill-defined and being set to 0.0 in labels with no predicted samples. Use `zero_division` parameter to control this behavior.\n",
      "  _warn_prf(average, modifier, f\"{metric.capitalize()} is\", len(result))\n",
      "/opt/anaconda3/lib/python3.12/site-packages/sklearn/metrics/_classification.py:1531: UndefinedMetricWarning: Precision is ill-defined and being set to 0.0 in labels with no predicted samples. Use `zero_division` parameter to control this behavior.\n",
      "  _warn_prf(average, modifier, f\"{metric.capitalize()} is\", len(result))\n",
      "[I 2025-01-07 11:31:12,169] Trial 4 finished with value: 0.4 and parameters: {'DIMENSION': 115, 'EPOCHS': 97, 'LEARNING_RATE': 0.00011452064248585382, 'LEARNING_RATE_DECAY': 0.005733568554439879, 'SIGMA': 25, 'SIGMA_DECAY': 0.09220769124204219}. Best is trial 0 with value: 0.8666666666666667.\n",
      "Training SOM: 100%|██████████| 127/127 [00:14<00:00,  8.58epoch/s]\n",
      "[I 2025-01-07 11:31:27,067] Trial 5 finished with value: 0.7333333333333333 and parameters: {'DIMENSION': 138, 'EPOCHS': 127, 'LEARNING_RATE': 0.00027420031571688595, 'LEARNING_RATE_DECAY': 0.0002462118273895, 'SIGMA': 21, 'SIGMA_DECAY': 0.03690670590753629}. Best is trial 0 with value: 0.8666666666666667.\n",
      "Training SOM: 100%|██████████| 150/150 [00:11<00:00, 13.09epoch/s]\n",
      "/opt/anaconda3/lib/python3.12/site-packages/sklearn/metrics/_classification.py:1531: UndefinedMetricWarning: Precision is ill-defined and being set to 0.0 in labels with no predicted samples. Use `zero_division` parameter to control this behavior.\n",
      "  _warn_prf(average, modifier, f\"{metric.capitalize()} is\", len(result))\n",
      "/opt/anaconda3/lib/python3.12/site-packages/sklearn/metrics/_classification.py:1531: UndefinedMetricWarning: Precision is ill-defined and being set to 0.0 in labels with no predicted samples. Use `zero_division` parameter to control this behavior.\n",
      "  _warn_prf(average, modifier, f\"{metric.capitalize()} is\", len(result))\n",
      "/opt/anaconda3/lib/python3.12/site-packages/sklearn/metrics/_classification.py:1531: UndefinedMetricWarning: Precision is ill-defined and being set to 0.0 in labels with no predicted samples. Use `zero_division` parameter to control this behavior.\n",
      "  _warn_prf(average, modifier, f\"{metric.capitalize()} is\", len(result))\n",
      "[I 2025-01-07 11:31:38,582] Trial 6 finished with value: 0.4 and parameters: {'DIMENSION': 105, 'EPOCHS': 150, 'LEARNING_RATE': 0.003861268027008242, 'LEARNING_RATE_DECAY': 0.0005847377611431834, 'SIGMA': 16, 'SIGMA_DECAY': 0.012014406989182744}. Best is trial 0 with value: 0.8666666666666667.\n",
      "Training SOM: 100%|██████████| 133/133 [00:08<00:00, 15.31epoch/s]\n",
      "/opt/anaconda3/lib/python3.12/site-packages/sklearn/metrics/_classification.py:1531: UndefinedMetricWarning: Precision is ill-defined and being set to 0.0 in labels with no predicted samples. Use `zero_division` parameter to control this behavior.\n",
      "  _warn_prf(average, modifier, f\"{metric.capitalize()} is\", len(result))\n",
      "/opt/anaconda3/lib/python3.12/site-packages/sklearn/metrics/_classification.py:1531: UndefinedMetricWarning: Precision is ill-defined and being set to 0.0 in labels with no predicted samples. Use `zero_division` parameter to control this behavior.\n",
      "  _warn_prf(average, modifier, f\"{metric.capitalize()} is\", len(result))\n",
      "/opt/anaconda3/lib/python3.12/site-packages/sklearn/metrics/_classification.py:1531: UndefinedMetricWarning: Precision is ill-defined and being set to 0.0 in labels with no predicted samples. Use `zero_division` parameter to control this behavior.\n",
      "  _warn_prf(average, modifier, f\"{metric.capitalize()} is\", len(result))\n",
      "[I 2025-01-07 11:31:47,328] Trial 7 finished with value: 0.6 and parameters: {'DIMENSION': 93, 'EPOCHS': 133, 'LEARNING_RATE': 0.00019923582542850183, 'LEARNING_RATE_DECAY': 0.0016730607634079507, 'SIGMA': 24, 'SIGMA_DECAY': 0.029503168378954097}. Best is trial 0 with value: 0.8666666666666667.\n",
      "Training SOM: 100%|██████████| 111/111 [00:12<00:00,  9.22epoch/s]\n",
      "/opt/anaconda3/lib/python3.12/site-packages/sklearn/metrics/_classification.py:1531: UndefinedMetricWarning: Precision is ill-defined and being set to 0.0 in labels with no predicted samples. Use `zero_division` parameter to control this behavior.\n",
      "  _warn_prf(average, modifier, f\"{metric.capitalize()} is\", len(result))\n",
      "/opt/anaconda3/lib/python3.12/site-packages/sklearn/metrics/_classification.py:1531: UndefinedMetricWarning: Precision is ill-defined and being set to 0.0 in labels with no predicted samples. Use `zero_division` parameter to control this behavior.\n",
      "  _warn_prf(average, modifier, f\"{metric.capitalize()} is\", len(result))\n",
      "/opt/anaconda3/lib/python3.12/site-packages/sklearn/metrics/_classification.py:1531: UndefinedMetricWarning: Precision is ill-defined and being set to 0.0 in labels with no predicted samples. Use `zero_division` parameter to control this behavior.\n",
      "  _warn_prf(average, modifier, f\"{metric.capitalize()} is\", len(result))\n",
      "[I 2025-01-07 11:31:59,635] Trial 8 finished with value: 0.6 and parameters: {'DIMENSION': 129, 'EPOCHS': 111, 'LEARNING_RATE': 0.0003977824526639798, 'LEARNING_RATE_DECAY': 0.0051563129594363885, 'SIGMA': 14, 'SIGMA_DECAY': 0.010528935013708822}. Best is trial 0 with value: 0.8666666666666667.\n",
      "Training SOM: 100%|██████████| 197/197 [00:17<00:00, 11.17epoch/s]\n",
      "[I 2025-01-07 11:32:17,349] Trial 9 finished with value: 0.6666666666666666 and parameters: {'DIMENSION': 122, 'EPOCHS': 197, 'LEARNING_RATE': 0.0055760572018379905, 'LEARNING_RATE_DECAY': 0.0015563564035270805, 'SIGMA': 14, 'SIGMA_DECAY': 0.03719979533297856}. Best is trial 0 with value: 0.8666666666666667.\n",
      "Training SOM: 100%|██████████| 70/70 [00:02<00:00, 24.22epoch/s]\n",
      "[I 2025-01-07 11:32:20,320] Trial 10 finished with value: 0.8 and parameters: {'DIMENSION': 73, 'EPOCHS': 70, 'LEARNING_RATE': 0.002280019903565712, 'LEARNING_RATE_DECAY': 0.0004429029492186989, 'SIGMA': 10, 'SIGMA_DECAY': 0.05958616594857688}. Best is trial 0 with value: 0.8666666666666667.\n",
      "Training SOM: 100%|██████████| 70/70 [00:03<00:00, 22.81epoch/s]\n",
      "[I 2025-01-07 11:32:23,458] Trial 11 finished with value: 0.8 and parameters: {'DIMENSION': 73, 'EPOCHS': 70, 'LEARNING_RATE': 0.0020751634254735983, 'LEARNING_RATE_DECAY': 0.0004294840227000144, 'SIGMA': 10, 'SIGMA_DECAY': 0.056836543847550935}. Best is trial 0 with value: 0.8666666666666667.\n",
      "Training SOM: 100%|██████████| 94/94 [00:03<00:00, 25.74epoch/s]\n",
      "[I 2025-01-07 11:32:27,187] Trial 12 finished with value: 1.0 and parameters: {'DIMENSION': 71, 'EPOCHS': 94, 'LEARNING_RATE': 0.0015934214447742246, 'LEARNING_RATE_DECAY': 0.00012526558943837593, 'SIGMA': 10, 'SIGMA_DECAY': 0.09860079627277106}. Best is trial 12 with value: 1.0.\n",
      "Training SOM: 100%|██████████| 101/101 [00:05<00:00, 19.54epoch/s]\n",
      "[I 2025-01-07 11:32:32,431] Trial 13 finished with value: 1.0 and parameters: {'DIMENSION': 86, 'EPOCHS': 101, 'LEARNING_RATE': 0.0011624203728466678, 'LEARNING_RATE_DECAY': 0.000111894100768416, 'SIGMA': 12, 'SIGMA_DECAY': 0.09473803134534475}. Best is trial 12 with value: 1.0.\n",
      "Training SOM: 100%|██████████| 108/108 [00:06<00:00, 17.86epoch/s]\n",
      "[I 2025-01-07 11:32:38,553] Trial 14 finished with value: 1.0 and parameters: {'DIMENSION': 90, 'EPOCHS': 108, 'LEARNING_RATE': 0.0012602679619450699, 'LEARNING_RATE_DECAY': 0.00010990052211480658, 'SIGMA': 13, 'SIGMA_DECAY': 0.09857190289127146}. Best is trial 12 with value: 1.0.\n",
      "Training SOM: 100%|██████████| 153/153 [00:09<00:00, 15.57epoch/s]\n",
      "[I 2025-01-07 11:32:48,474] Trial 15 finished with value: 0.5333333333333333 and parameters: {'DIMENSION': 100, 'EPOCHS': 153, 'LEARNING_RATE': 0.009969192740637454, 'LEARNING_RATE_DECAY': 0.00010038580629000259, 'SIGMA': 12, 'SIGMA_DECAY': 0.04999968010292483}. Best is trial 12 with value: 1.0.\n",
      "Training SOM: 100%|██████████| 113/113 [00:05<00:00, 19.86epoch/s]\n",
      "[I 2025-01-07 11:32:54,238] Trial 16 finished with value: 0.9333333333333333 and parameters: {'DIMENSION': 82, 'EPOCHS': 113, 'LEARNING_RATE': 0.0011818395496944706, 'LEARNING_RATE_DECAY': 0.00023545246351626355, 'SIGMA': 20, 'SIGMA_DECAY': 0.07893986366846092}. Best is trial 12 with value: 1.0.\n",
      "Training SOM: 100%|██████████| 95/95 [00:03<00:00, 24.79epoch/s]\n",
      "[I 2025-01-07 11:32:58,222] Trial 17 finished with value: 0.7333333333333333 and parameters: {'DIMENSION': 70, 'EPOCHS': 95, 'LEARNING_RATE': 0.00172328141157755, 'LEARNING_RATE_DECAY': 0.0008467036188654452, 'SIGMA': 15, 'SIGMA_DECAY': 0.045455460935042186}. Best is trial 12 with value: 1.0.\n",
      "Training SOM: 100%|██████████| 165/165 [00:07<00:00, 20.68epoch/s]\n",
      "[I 2025-01-07 11:33:06,304] Trial 18 finished with value: 0.8666666666666667 and parameters: {'DIMENSION': 84, 'EPOCHS': 165, 'LEARNING_RATE': 0.0008230583424685431, 'LEARNING_RATE_DECAY': 0.00017141267910981438, 'SIGMA': 12, 'SIGMA_DECAY': 0.09876418594521987}. Best is trial 12 with value: 1.0.\n",
      "Training SOM: 100%|██████████| 121/121 [00:08<00:00, 15.01epoch/s]\n",
      "[I 2025-01-07 11:33:14,464] Trial 19 finished with value: 0.6 and parameters: {'DIMENSION': 97, 'EPOCHS': 121, 'LEARNING_RATE': 0.0030802513968571222, 'LEARNING_RATE_DECAY': 0.002245663120667549, 'SIGMA': 19, 'SIGMA_DECAY': 0.027841213326679156}. Best is trial 12 with value: 1.0.\n",
      "Training SOM: 100%|██████████| 99/99 [00:04<00:00, 21.99epoch/s]\n",
      "[I 2025-01-07 11:33:19,038] Trial 20 finished with value: 1.0 and parameters: {'DIMENSION': 79, 'EPOCHS': 99, 'LEARNING_RATE': 0.0013740960940448075, 'LEARNING_RATE_DECAY': 0.00035385388024732414, 'SIGMA': 11, 'SIGMA_DECAY': 0.0746111137252365}. Best is trial 12 with value: 1.0.\n",
      "Training SOM: 100%|██████████| 111/111 [00:06<00:00, 17.81epoch/s]\n",
      "[I 2025-01-07 11:33:25,349] Trial 21 finished with value: 1.0 and parameters: {'DIMENSION': 90, 'EPOCHS': 111, 'LEARNING_RATE': 0.001081344560270527, 'LEARNING_RATE_DECAY': 0.00010138023736918049, 'SIGMA': 13, 'SIGMA_DECAY': 0.09692034858909251}. Best is trial 12 with value: 1.0.\n",
      "Training SOM: 100%|██████████| 106/106 [00:05<00:00, 18.27epoch/s]\n",
      "[I 2025-01-07 11:33:31,229] Trial 22 finished with value: 0.8 and parameters: {'DIMENSION': 89, 'EPOCHS': 106, 'LEARNING_RATE': 0.0006260236522472847, 'LEARNING_RATE_DECAY': 0.00015095902966005543, 'SIGMA': 14, 'SIGMA_DECAY': 0.08096663040347425}. Best is trial 12 with value: 1.0.\n",
      "Training SOM: 100%|██████████| 85/85 [00:06<00:00, 13.59epoch/s]\n",
      "[I 2025-01-07 11:33:37,575] Trial 23 finished with value: 0.9333333333333333 and parameters: {'DIMENSION': 110, 'EPOCHS': 85, 'LEARNING_RATE': 0.0014971418620396606, 'LEARNING_RATE_DECAY': 0.00013079222305490781, 'SIGMA': 12, 'SIGMA_DECAY': 0.09930688523636635}. Best is trial 12 with value: 1.0.\n",
      "Training SOM: 100%|██████████| 120/120 [00:05<00:00, 23.25epoch/s]\n",
      "[I 2025-01-07 11:33:42,809] Trial 24 finished with value: 1.0 and parameters: {'DIMENSION': 76, 'EPOCHS': 120, 'LEARNING_RATE': 0.0008802770201711245, 'LEARNING_RATE_DECAY': 0.00021566423684164698, 'SIGMA': 11, 'SIGMA_DECAY': 0.06252846979855342}. Best is trial 12 with value: 1.0.\n",
      "Training SOM: 100%|██████████| 102/102 [00:06<00:00, 16.45epoch/s]\n",
      "[I 2025-01-07 11:33:49,092] Trial 25 finished with value: 0.6666666666666666 and parameters: {'DIMENSION': 89, 'EPOCHS': 102, 'LEARNING_RATE': 0.0027447231804041575, 'LEARNING_RATE_DECAY': 0.00010437746512811562, 'SIGMA': 16, 'SIGMA_DECAY': 0.046885143584000165}. Best is trial 12 with value: 1.0.\n",
      "Training SOM: 100%|██████████| 79/79 [00:05<00:00, 15.72epoch/s]\n",
      "[I 2025-01-07 11:33:54,206] Trial 26 finished with value: 0.6 and parameters: {'DIMENSION': 99, 'EPOCHS': 79, 'LEARNING_RATE': 0.006625508650886832, 'LEARNING_RATE_DECAY': 0.0008030296163520879, 'SIGMA': 13, 'SIGMA_DECAY': 0.06754883880319713}. Best is trial 12 with value: 1.0.\n",
      "Training SOM: 100%|██████████| 91/91 [00:04<00:00, 18.58epoch/s]\n",
      "/opt/anaconda3/lib/python3.12/site-packages/sklearn/metrics/_classification.py:1531: UndefinedMetricWarning: Precision is ill-defined and being set to 0.0 in labels with no predicted samples. Use `zero_division` parameter to control this behavior.\n",
      "  _warn_prf(average, modifier, f\"{metric.capitalize()} is\", len(result))\n",
      "/opt/anaconda3/lib/python3.12/site-packages/sklearn/metrics/_classification.py:1531: UndefinedMetricWarning: Precision is ill-defined and being set to 0.0 in labels with no predicted samples. Use `zero_division` parameter to control this behavior.\n",
      "  _warn_prf(average, modifier, f\"{metric.capitalize()} is\", len(result))\n",
      "/opt/anaconda3/lib/python3.12/site-packages/sklearn/metrics/_classification.py:1531: UndefinedMetricWarning: Precision is ill-defined and being set to 0.0 in labels with no predicted samples. Use `zero_division` parameter to control this behavior.\n",
      "  _warn_prf(average, modifier, f\"{metric.capitalize()} is\", len(result))\n",
      "[I 2025-01-07 11:33:59,249] Trial 27 finished with value: 0.6 and parameters: {'DIMENSION': 87, 'EPOCHS': 91, 'LEARNING_RATE': 0.0004865697841636264, 'LEARNING_RATE_DECAY': 0.008988491117287214, 'SIGMA': 11, 'SIGMA_DECAY': 0.08365484604291405}. Best is trial 12 with value: 1.0.\n",
      "Training SOM: 100%|██████████| 143/143 [00:07<00:00, 19.73epoch/s]\n",
      "/opt/anaconda3/lib/python3.12/site-packages/sklearn/metrics/_classification.py:1531: UndefinedMetricWarning: Precision is ill-defined and being set to 0.0 in labels with no predicted samples. Use `zero_division` parameter to control this behavior.\n",
      "  _warn_prf(average, modifier, f\"{metric.capitalize()} is\", len(result))\n",
      "/opt/anaconda3/lib/python3.12/site-packages/sklearn/metrics/_classification.py:1531: UndefinedMetricWarning: Precision is ill-defined and being set to 0.0 in labels with no predicted samples. Use `zero_division` parameter to control this behavior.\n",
      "  _warn_prf(average, modifier, f\"{metric.capitalize()} is\", len(result))\n",
      "/opt/anaconda3/lib/python3.12/site-packages/sklearn/metrics/_classification.py:1531: UndefinedMetricWarning: Precision is ill-defined and being set to 0.0 in labels with no predicted samples. Use `zero_division` parameter to control this behavior.\n",
      "  _warn_prf(average, modifier, f\"{metric.capitalize()} is\", len(result))\n",
      "[I 2025-01-07 11:34:06,575] Trial 28 finished with value: 0.5333333333333333 and parameters: {'DIMENSION': 77, 'EPOCHS': 143, 'LEARNING_RATE': 0.0017262887339119406, 'LEARNING_RATE_DECAY': 0.000310788785898428, 'SIGMA': 22, 'SIGMA_DECAY': 0.0161233856950725}. Best is trial 12 with value: 1.0.\n",
      "Training SOM: 100%|██████████| 122/122 [00:05<00:00, 20.56epoch/s]\n",
      "[I 2025-01-07 11:34:12,596] Trial 29 finished with value: 0.8666666666666667 and parameters: {'DIMENSION': 83, 'EPOCHS': 122, 'LEARNING_RATE': 0.0036680003489261135, 'LEARNING_RATE_DECAY': 0.00020087622809389594, 'SIGMA': 10, 'SIGMA_DECAY': 0.07488774525798726}. Best is trial 12 with value: 1.0.\n"
     ]
    },
    {
     "name": "stdout",
     "output_type": "stream",
     "text": [
      "Best parameters: {'DIMENSION': 71, 'EPOCHS': 94, 'LEARNING_RATE': 0.0015934214447742246, 'LEARNING_RATE_DECAY': 0.00012526558943837593, 'SIGMA': 10, 'SIGMA_DECAY': 0.09860079627277106}\n",
      "Best accuracy: 1.0\n"
     ]
    }
   ],
   "source": [
    "import optuna\n",
    "from sklearn.metrics import classification_report\n",
    "\n",
    "def objective(trial):\n",
    "    # Suggest parameters\n",
    "    DIMENSION = trial.suggest_int(\"DIMENSION\", 70, 150)\n",
    "    EPOCHS = trial.suggest_int(\"EPOCHS\", 70, 200)\n",
    "    LEARNING_RATE = trial.suggest_float(\"LEARNING_RATE\", 1e-4, 1e-2, log = True)\n",
    "    LEARNING_RATE_DECAY = trial.suggest_float(\"LEARNING_RATE_DECAY\", 1e-4, 1e-2, log = True)\n",
    "    SIGMA = trial.suggest_int(\"SIGMA\", 10, 25)\n",
    "    SIGMA_DECAY = trial.suggest_float(\"SIGMA_DECAY\", 1e-2, 1e-1, log=True)\n",
    "    \n",
    "    # Train SOM with suggested parameters\n",
    "    som_iris = SOM(\n",
    "        [28, 28],\n",
    "        iris_x_train,\n",
    "        DIMENSION,\n",
    "        EPOCHS,\n",
    "        LEARNING_RATE,\n",
    "        LEARNING_RATE_DECAY,\n",
    "        SIGMA,\n",
    "        SIGMA_DECAY,\n",
    "        showMode=0\n",
    "    )\n",
    "    \n",
    "    label_map = createLabelMap(som_iris, iris_x_train, iris_y_train)\n",
    "    test_predictions = classifySOM(som_iris, label_map, iris_x_test)\n",
    "    \n",
    "    # Evaluate performance\n",
    "    score = classification_report(iris_y_test, test_predictions, output_dict=True)[\"accuracy\"]\n",
    "    return score\n",
    "\n",
    "# Run Bayesian optimization\n",
    "study = optuna.create_study(direction=\"maximize\")\n",
    "study.optimize(objective, n_trials=30)\n",
    "\n",
    "print(\"Best parameters:\", study.best_params)\n",
    "print(\"Best accuracy:\", study.best_value)"
   ]
  },
  {
   "cell_type": "code",
   "execution_count": 54,
   "metadata": {},
   "outputs": [
    {
     "name": "stderr",
     "output_type": "stream",
     "text": [
      "Training SOM: 100%|██████████| 94/94 [00:04<00:00, 19.25epoch/s]\n"
     ]
    },
    {
     "name": "stdout",
     "output_type": "stream",
     "text": [
      "Classification Report for Test Set\n",
      "              precision    recall  f1-score   support\n",
      "\n",
      "           0       0.83      1.00      0.91         5\n",
      "           1       1.00      0.83      0.91         6\n",
      "           2       1.00      1.00      1.00         4\n",
      "\n",
      "    accuracy                           0.93        15\n",
      "   macro avg       0.94      0.94      0.94        15\n",
      "weighted avg       0.94      0.93      0.93        15\n",
      "\n"
     ]
    },
    {
     "data": {
      "image/png": "[encoded data removed]",
      "text/plain": [
       "<Figure size 1000x800 with 2 Axes>"
      ]
     },
     "metadata": {},
     "output_type": "display_data"
    }
   ],
   "source": [
    "DIMENSION = 71\n",
    "EPOCHS = 94\n",
    "LEARNING_RATE = 0.001593\n",
    "LEARNING_RATE_DECAY = 0.00012526\n",
    "SIGMA = 20\n",
    "SIGMA_DECAY = 0.0986\n",
    "som_iris = SOM([28,28],iris_x_train, DIMENSION,EPOCHS,LEARNING_RATE,LEARNING_RATE_DECAY,SIGMA,SIGMA_DECAY, showMode=0)\n",
    "\n",
    "label_map = createLabelMap(som_iris, iris_x_train, iris_y_train)\n",
    "\n",
    "# Classify test data\n",
    "predictions = classifySOM(som_iris, label_map, iris_x_train)\n",
    "\n",
    "\n",
    "# Classify on training set\n",
    "train_predictions = classifySOM(som_iris, label_map, iris_x_train)\n",
    "\n",
    "# Classify on test set\n",
    "test_predictions = classifySOM(som_iris, label_map, iris_x_test)\n",
    "\n",
    "print(\"Classification Report for Test Set\")\n",
    "print(classification_report(iris_y_test, test_predictions))\n",
    "plot_confusion_matrix(iris_y_test, test_predictions, title=\"Confusion Matrix - Test Set\")"
   ]
  },
  {
   "cell_type": "markdown",
   "metadata": {},
   "source": [
    "#### Breast cancer"
   ]
  },
  {
   "cell_type": "code",
   "execution_count": null,
   "metadata": {},
   "outputs": [
    {
     "name": "stderr",
     "output_type": "stream",
     "text": [
      "[I 2024-12-30 11:27:25,530] A new study created in memory with name: no-name-c842fde8-36af-4f58-8c3e-5776a7a3d21e\n",
      "/var/folders/v6/pl0_dkns3pdd4gyq5whvz4nr0000gn/T/ipykernel_18392/2969257550.py:8: FutureWarning: suggest_loguniform has been deprecated in v3.0.0. This feature will be removed in v6.0.0. See https://github.com/optuna/optuna/releases/tag/v3.0.0. Use suggest_float(..., log=True) instead.\n",
      "  LEARNING_RATE = trial.suggest_loguniform(\"LEARNING_RATE\", 1e-4, 1e-2)\n",
      "/var/folders/v6/pl0_dkns3pdd4gyq5whvz4nr0000gn/T/ipykernel_18392/2969257550.py:9: FutureWarning: suggest_loguniform has been deprecated in v3.0.0. This feature will be removed in v6.0.0. See https://github.com/optuna/optuna/releases/tag/v3.0.0. Use suggest_float(..., log=True) instead.\n",
      "  LEARNING_RATE_DECAY = trial.suggest_loguniform(\"LEARNING_RATE_DECAY\", 1e-4, 1e-2)\n",
      "/var/folders/v6/pl0_dkns3pdd4gyq5whvz4nr0000gn/T/ipykernel_18392/2969257550.py:11: FutureWarning: suggest_loguniform has been deprecated in v3.0.0. This feature will be removed in v6.0.0. See https://github.com/optuna/optuna/releases/tag/v3.0.0. Use suggest_float(..., log=True) instead.\n",
      "  SIGMA_DECAY = trial.suggest_loguniform(\"SIGMA_DECAY\", 1e-2, 1e-1)\n",
      "Training SOM: 100%|██████████| 115/115 [02:30<00:00,  1.31s/epoch]\n",
      "[I 2024-12-30 11:29:57,404] Trial 0 finished with value: 0.5701754385964912 and parameters: {'DIMENSION': 152, 'EPOCHS': 115, 'LEARNING_RATE': 0.00509949781259373, 'LEARNING_RATE_DECAY': 0.0001968846935404459, 'SIGMA': 21, 'SIGMA_DECAY': 0.06489256539262862}. Best is trial 0 with value: 0.5701754385964912.\n",
      "/var/folders/v6/pl0_dkns3pdd4gyq5whvz4nr0000gn/T/ipykernel_18392/2969257550.py:8: FutureWarning: suggest_loguniform has been deprecated in v3.0.0. This feature will be removed in v6.0.0. See https://github.com/optuna/optuna/releases/tag/v3.0.0. Use suggest_float(..., log=True) instead.\n",
      "  LEARNING_RATE = trial.suggest_loguniform(\"LEARNING_RATE\", 1e-4, 1e-2)\n",
      "/var/folders/v6/pl0_dkns3pdd4gyq5whvz4nr0000gn/T/ipykernel_18392/2969257550.py:9: FutureWarning: suggest_loguniform has been deprecated in v3.0.0. This feature will be removed in v6.0.0. See https://github.com/optuna/optuna/releases/tag/v3.0.0. Use suggest_float(..., log=True) instead.\n",
      "  LEARNING_RATE_DECAY = trial.suggest_loguniform(\"LEARNING_RATE_DECAY\", 1e-4, 1e-2)\n",
      "/var/folders/v6/pl0_dkns3pdd4gyq5whvz4nr0000gn/T/ipykernel_18392/2969257550.py:11: FutureWarning: suggest_loguniform has been deprecated in v3.0.0. This feature will be removed in v6.0.0. See https://github.com/optuna/optuna/releases/tag/v3.0.0. Use suggest_float(..., log=True) instead.\n",
      "  SIGMA_DECAY = trial.suggest_loguniform(\"SIGMA_DECAY\", 1e-2, 1e-1)\n",
      "Training SOM: 100%|██████████| 166/166 [03:03<00:00,  1.10s/epoch]\n",
      "[I 2024-12-30 11:33:01,714] Trial 1 finished with value: 0.7982456140350878 and parameters: {'DIMENSION': 128, 'EPOCHS': 166, 'LEARNING_RATE': 0.00026882981344379095, 'LEARNING_RATE_DECAY': 0.00023223837167030874, 'SIGMA': 18, 'SIGMA_DECAY': 0.02323505212598178}. Best is trial 1 with value: 0.7982456140350878.\n",
      "/var/folders/v6/pl0_dkns3pdd4gyq5whvz4nr0000gn/T/ipykernel_18392/2969257550.py:8: FutureWarning: suggest_loguniform has been deprecated in v3.0.0. This feature will be removed in v6.0.0. See https://github.com/optuna/optuna/releases/tag/v3.0.0. Use suggest_float(..., log=True) instead.\n",
      "  LEARNING_RATE = trial.suggest_loguniform(\"LEARNING_RATE\", 1e-4, 1e-2)\n",
      "/var/folders/v6/pl0_dkns3pdd4gyq5whvz4nr0000gn/T/ipykernel_18392/2969257550.py:9: FutureWarning: suggest_loguniform has been deprecated in v3.0.0. This feature will be removed in v6.0.0. See https://github.com/optuna/optuna/releases/tag/v3.0.0. Use suggest_float(..., log=True) instead.\n",
      "  LEARNING_RATE_DECAY = trial.suggest_loguniform(\"LEARNING_RATE_DECAY\", 1e-4, 1e-2)\n",
      "/var/folders/v6/pl0_dkns3pdd4gyq5whvz4nr0000gn/T/ipykernel_18392/2969257550.py:11: FutureWarning: suggest_loguniform has been deprecated in v3.0.0. This feature will be removed in v6.0.0. See https://github.com/optuna/optuna/releases/tag/v3.0.0. Use suggest_float(..., log=True) instead.\n",
      "  SIGMA_DECAY = trial.suggest_loguniform(\"SIGMA_DECAY\", 1e-2, 1e-1)\n",
      "Training SOM: 100%|██████████| 283/283 [09:13<00:00,  1.96s/epoch]\n",
      "[I 2024-12-30 11:42:17,302] Trial 2 finished with value: 0.7807017543859649 and parameters: {'DIMENSION': 180, 'EPOCHS': 283, 'LEARNING_RATE': 0.0005027756187205025, 'LEARNING_RATE_DECAY': 0.001089240826047385, 'SIGMA': 15, 'SIGMA_DECAY': 0.03176463101134283}. Best is trial 1 with value: 0.7982456140350878.\n",
      "/var/folders/v6/pl0_dkns3pdd4gyq5whvz4nr0000gn/T/ipykernel_18392/2969257550.py:8: FutureWarning: suggest_loguniform has been deprecated in v3.0.0. This feature will be removed in v6.0.0. See https://github.com/optuna/optuna/releases/tag/v3.0.0. Use suggest_float(..., log=True) instead.\n",
      "  LEARNING_RATE = trial.suggest_loguniform(\"LEARNING_RATE\", 1e-4, 1e-2)\n",
      "/var/folders/v6/pl0_dkns3pdd4gyq5whvz4nr0000gn/T/ipykernel_18392/2969257550.py:9: FutureWarning: suggest_loguniform has been deprecated in v3.0.0. This feature will be removed in v6.0.0. See https://github.com/optuna/optuna/releases/tag/v3.0.0. Use suggest_float(..., log=True) instead.\n",
      "  LEARNING_RATE_DECAY = trial.suggest_loguniform(\"LEARNING_RATE_DECAY\", 1e-4, 1e-2)\n",
      "/var/folders/v6/pl0_dkns3pdd4gyq5whvz4nr0000gn/T/ipykernel_18392/2969257550.py:11: FutureWarning: suggest_loguniform has been deprecated in v3.0.0. This feature will be removed in v6.0.0. See https://github.com/optuna/optuna/releases/tag/v3.0.0. Use suggest_float(..., log=True) instead.\n",
      "  SIGMA_DECAY = trial.suggest_loguniform(\"SIGMA_DECAY\", 1e-2, 1e-1)\n",
      "Training SOM: 100%|██████████| 100/100 [03:50<00:00,  2.31s/epoch]\n",
      "[I 2024-12-30 11:46:10,239] Trial 3 finished with value: 0.43859649122807015 and parameters: {'DIMENSION': 182, 'EPOCHS': 100, 'LEARNING_RATE': 0.008530142581542974, 'LEARNING_RATE_DECAY': 0.0008087782124597445, 'SIGMA': 23, 'SIGMA_DECAY': 0.04057288375502084}. Best is trial 1 with value: 0.7982456140350878.\n",
      "/var/folders/v6/pl0_dkns3pdd4gyq5whvz4nr0000gn/T/ipykernel_18392/2969257550.py:8: FutureWarning: suggest_loguniform has been deprecated in v3.0.0. This feature will be removed in v6.0.0. See https://github.com/optuna/optuna/releases/tag/v3.0.0. Use suggest_float(..., log=True) instead.\n",
      "  LEARNING_RATE = trial.suggest_loguniform(\"LEARNING_RATE\", 1e-4, 1e-2)\n",
      "/var/folders/v6/pl0_dkns3pdd4gyq5whvz4nr0000gn/T/ipykernel_18392/2969257550.py:9: FutureWarning: suggest_loguniform has been deprecated in v3.0.0. This feature will be removed in v6.0.0. See https://github.com/optuna/optuna/releases/tag/v3.0.0. Use suggest_float(..., log=True) instead.\n",
      "  LEARNING_RATE_DECAY = trial.suggest_loguniform(\"LEARNING_RATE_DECAY\", 1e-4, 1e-2)\n",
      "/var/folders/v6/pl0_dkns3pdd4gyq5whvz4nr0000gn/T/ipykernel_18392/2969257550.py:11: FutureWarning: suggest_loguniform has been deprecated in v3.0.0. This feature will be removed in v6.0.0. See https://github.com/optuna/optuna/releases/tag/v3.0.0. Use suggest_float(..., log=True) instead.\n",
      "  SIGMA_DECAY = trial.suggest_loguniform(\"SIGMA_DECAY\", 1e-2, 1e-1)\n",
      "Training SOM: 100%|██████████| 263/263 [09:24<00:00,  2.14s/epoch]\n",
      "[I 2024-12-30 11:55:36,527] Trial 4 finished with value: 0.7807017543859649 and parameters: {'DIMENSION': 190, 'EPOCHS': 263, 'LEARNING_RATE': 0.001202978657298849, 'LEARNING_RATE_DECAY': 0.0034585678859464096, 'SIGMA': 10, 'SIGMA_DECAY': 0.05625671442751914}. Best is trial 1 with value: 0.7982456140350878.\n",
      "/var/folders/v6/pl0_dkns3pdd4gyq5whvz4nr0000gn/T/ipykernel_18392/2969257550.py:8: FutureWarning: suggest_loguniform has been deprecated in v3.0.0. This feature will be removed in v6.0.0. See https://github.com/optuna/optuna/releases/tag/v3.0.0. Use suggest_float(..., log=True) instead.\n",
      "  LEARNING_RATE = trial.suggest_loguniform(\"LEARNING_RATE\", 1e-4, 1e-2)\n",
      "/var/folders/v6/pl0_dkns3pdd4gyq5whvz4nr0000gn/T/ipykernel_18392/2969257550.py:9: FutureWarning: suggest_loguniform has been deprecated in v3.0.0. This feature will be removed in v6.0.0. See https://github.com/optuna/optuna/releases/tag/v3.0.0. Use suggest_float(..., log=True) instead.\n",
      "  LEARNING_RATE_DECAY = trial.suggest_loguniform(\"LEARNING_RATE_DECAY\", 1e-4, 1e-2)\n",
      "/var/folders/v6/pl0_dkns3pdd4gyq5whvz4nr0000gn/T/ipykernel_18392/2969257550.py:11: FutureWarning: suggest_loguniform has been deprecated in v3.0.0. This feature will be removed in v6.0.0. See https://github.com/optuna/optuna/releases/tag/v3.0.0. Use suggest_float(..., log=True) instead.\n",
      "  SIGMA_DECAY = trial.suggest_loguniform(\"SIGMA_DECAY\", 1e-2, 1e-1)\n",
      "Training SOM: 100%|██████████| 213/213 [03:43<00:00,  1.05s/epoch]\n",
      "[I 2024-12-30 11:59:21,300] Trial 5 finished with value: 0.5701754385964912 and parameters: {'DIMENSION': 128, 'EPOCHS': 213, 'LEARNING_RATE': 0.0008966262969412646, 'LEARNING_RATE_DECAY': 0.0005835765961729123, 'SIGMA': 24, 'SIGMA_DECAY': 0.02799505439492317}. Best is trial 1 with value: 0.7982456140350878.\n",
      "/var/folders/v6/pl0_dkns3pdd4gyq5whvz4nr0000gn/T/ipykernel_18392/2969257550.py:8: FutureWarning: suggest_loguniform has been deprecated in v3.0.0. This feature will be removed in v6.0.0. See https://github.com/optuna/optuna/releases/tag/v3.0.0. Use suggest_float(..., log=True) instead.\n",
      "  LEARNING_RATE = trial.suggest_loguniform(\"LEARNING_RATE\", 1e-4, 1e-2)\n",
      "/var/folders/v6/pl0_dkns3pdd4gyq5whvz4nr0000gn/T/ipykernel_18392/2969257550.py:9: FutureWarning: suggest_loguniform has been deprecated in v3.0.0. This feature will be removed in v6.0.0. See https://github.com/optuna/optuna/releases/tag/v3.0.0. Use suggest_float(..., log=True) instead.\n",
      "  LEARNING_RATE_DECAY = trial.suggest_loguniform(\"LEARNING_RATE_DECAY\", 1e-4, 1e-2)\n",
      "/var/folders/v6/pl0_dkns3pdd4gyq5whvz4nr0000gn/T/ipykernel_18392/2969257550.py:11: FutureWarning: suggest_loguniform has been deprecated in v3.0.0. This feature will be removed in v6.0.0. See https://github.com/optuna/optuna/releases/tag/v3.0.0. Use suggest_float(..., log=True) instead.\n",
      "  SIGMA_DECAY = trial.suggest_loguniform(\"SIGMA_DECAY\", 1e-2, 1e-1)\n",
      "Training SOM: 100%|██████████| 120/120 [04:04<00:00,  2.03s/epoch]\n",
      "[I 2024-12-30 12:03:27,627] Trial 6 finished with value: 0.5877192982456141 and parameters: {'DIMENSION': 187, 'EPOCHS': 120, 'LEARNING_RATE': 0.002869723580225738, 'LEARNING_RATE_DECAY': 0.0008121055815834826, 'SIGMA': 23, 'SIGMA_DECAY': 0.08078395584261894}. Best is trial 1 with value: 0.7982456140350878.\n",
      "/var/folders/v6/pl0_dkns3pdd4gyq5whvz4nr0000gn/T/ipykernel_18392/2969257550.py:8: FutureWarning: suggest_loguniform has been deprecated in v3.0.0. This feature will be removed in v6.0.0. See https://github.com/optuna/optuna/releases/tag/v3.0.0. Use suggest_float(..., log=True) instead.\n",
      "  LEARNING_RATE = trial.suggest_loguniform(\"LEARNING_RATE\", 1e-4, 1e-2)\n",
      "/var/folders/v6/pl0_dkns3pdd4gyq5whvz4nr0000gn/T/ipykernel_18392/2969257550.py:9: FutureWarning: suggest_loguniform has been deprecated in v3.0.0. This feature will be removed in v6.0.0. See https://github.com/optuna/optuna/releases/tag/v3.0.0. Use suggest_float(..., log=True) instead.\n",
      "  LEARNING_RATE_DECAY = trial.suggest_loguniform(\"LEARNING_RATE_DECAY\", 1e-4, 1e-2)\n",
      "/var/folders/v6/pl0_dkns3pdd4gyq5whvz4nr0000gn/T/ipykernel_18392/2969257550.py:11: FutureWarning: suggest_loguniform has been deprecated in v3.0.0. This feature will be removed in v6.0.0. See https://github.com/optuna/optuna/releases/tag/v3.0.0. Use suggest_float(..., log=True) instead.\n",
      "  SIGMA_DECAY = trial.suggest_loguniform(\"SIGMA_DECAY\", 1e-2, 1e-1)\n",
      "Training SOM: 100%|██████████| 121/121 [01:28<00:00,  1.37epoch/s]\n",
      "[I 2024-12-30 12:04:56,288] Trial 7 finished with value: 0.47368421052631576 and parameters: {'DIMENSION': 111, 'EPOCHS': 121, 'LEARNING_RATE': 0.00988415695341979, 'LEARNING_RATE_DECAY': 0.0002567063318530294, 'SIGMA': 11, 'SIGMA_DECAY': 0.02234824762018612}. Best is trial 1 with value: 0.7982456140350878.\n",
      "/var/folders/v6/pl0_dkns3pdd4gyq5whvz4nr0000gn/T/ipykernel_18392/2969257550.py:8: FutureWarning: suggest_loguniform has been deprecated in v3.0.0. This feature will be removed in v6.0.0. See https://github.com/optuna/optuna/releases/tag/v3.0.0. Use suggest_float(..., log=True) instead.\n",
      "  LEARNING_RATE = trial.suggest_loguniform(\"LEARNING_RATE\", 1e-4, 1e-2)\n",
      "/var/folders/v6/pl0_dkns3pdd4gyq5whvz4nr0000gn/T/ipykernel_18392/2969257550.py:9: FutureWarning: suggest_loguniform has been deprecated in v3.0.0. This feature will be removed in v6.0.0. See https://github.com/optuna/optuna/releases/tag/v3.0.0. Use suggest_float(..., log=True) instead.\n",
      "  LEARNING_RATE_DECAY = trial.suggest_loguniform(\"LEARNING_RATE_DECAY\", 1e-4, 1e-2)\n",
      "/var/folders/v6/pl0_dkns3pdd4gyq5whvz4nr0000gn/T/ipykernel_18392/2969257550.py:11: FutureWarning: suggest_loguniform has been deprecated in v3.0.0. This feature will be removed in v6.0.0. See https://github.com/optuna/optuna/releases/tag/v3.0.0. Use suggest_float(..., log=True) instead.\n",
      "  SIGMA_DECAY = trial.suggest_loguniform(\"SIGMA_DECAY\", 1e-2, 1e-1)\n",
      "Training SOM: 100%|██████████| 191/191 [03:49<00:00,  1.20s/epoch]\n",
      "[I 2024-12-30 12:08:47,673] Trial 8 finished with value: 0.9035087719298246 and parameters: {'DIMENSION': 142, 'EPOCHS': 191, 'LEARNING_RATE': 0.00025090798052142016, 'LEARNING_RATE_DECAY': 0.0023453777736303152, 'SIGMA': 12, 'SIGMA_DECAY': 0.05775764292459306}. Best is trial 8 with value: 0.9035087719298246.\n",
      "/var/folders/v6/pl0_dkns3pdd4gyq5whvz4nr0000gn/T/ipykernel_18392/2969257550.py:8: FutureWarning: suggest_loguniform has been deprecated in v3.0.0. This feature will be removed in v6.0.0. See https://github.com/optuna/optuna/releases/tag/v3.0.0. Use suggest_float(..., log=True) instead.\n",
      "  LEARNING_RATE = trial.suggest_loguniform(\"LEARNING_RATE\", 1e-4, 1e-2)\n",
      "/var/folders/v6/pl0_dkns3pdd4gyq5whvz4nr0000gn/T/ipykernel_18392/2969257550.py:9: FutureWarning: suggest_loguniform has been deprecated in v3.0.0. This feature will be removed in v6.0.0. See https://github.com/optuna/optuna/releases/tag/v3.0.0. Use suggest_float(..., log=True) instead.\n",
      "  LEARNING_RATE_DECAY = trial.suggest_loguniform(\"LEARNING_RATE_DECAY\", 1e-4, 1e-2)\n",
      "/var/folders/v6/pl0_dkns3pdd4gyq5whvz4nr0000gn/T/ipykernel_18392/2969257550.py:11: FutureWarning: suggest_loguniform has been deprecated in v3.0.0. This feature will be removed in v6.0.0. See https://github.com/optuna/optuna/releases/tag/v3.0.0. Use suggest_float(..., log=True) instead.\n",
      "  SIGMA_DECAY = trial.suggest_loguniform(\"SIGMA_DECAY\", 1e-2, 1e-1)\n",
      "Training SOM: 100%|██████████| 270/270 [10:51<00:00,  2.41s/epoch]\n",
      "[I 2024-12-30 12:19:41,503] Trial 9 finished with value: 0.5789473684210527 and parameters: {'DIMENSION': 194, 'EPOCHS': 270, 'LEARNING_RATE': 0.0010613753256766122, 'LEARNING_RATE_DECAY': 0.0014047078342135438, 'SIGMA': 25, 'SIGMA_DECAY': 0.03391739347485439}. Best is trial 8 with value: 0.9035087719298246.\n",
      "/var/folders/v6/pl0_dkns3pdd4gyq5whvz4nr0000gn/T/ipykernel_18392/2969257550.py:8: FutureWarning: suggest_loguniform has been deprecated in v3.0.0. This feature will be removed in v6.0.0. See https://github.com/optuna/optuna/releases/tag/v3.0.0. Use suggest_float(..., log=True) instead.\n",
      "  LEARNING_RATE = trial.suggest_loguniform(\"LEARNING_RATE\", 1e-4, 1e-2)\n",
      "/var/folders/v6/pl0_dkns3pdd4gyq5whvz4nr0000gn/T/ipykernel_18392/2969257550.py:9: FutureWarning: suggest_loguniform has been deprecated in v3.0.0. This feature will be removed in v6.0.0. See https://github.com/optuna/optuna/releases/tag/v3.0.0. Use suggest_float(..., log=True) instead.\n",
      "  LEARNING_RATE_DECAY = trial.suggest_loguniform(\"LEARNING_RATE_DECAY\", 1e-4, 1e-2)\n",
      "/var/folders/v6/pl0_dkns3pdd4gyq5whvz4nr0000gn/T/ipykernel_18392/2969257550.py:11: FutureWarning: suggest_loguniform has been deprecated in v3.0.0. This feature will be removed in v6.0.0. See https://github.com/optuna/optuna/releases/tag/v3.0.0. Use suggest_float(..., log=True) instead.\n",
      "  SIGMA_DECAY = trial.suggest_loguniform(\"SIGMA_DECAY\", 1e-2, 1e-1)\n",
      "Training SOM: 100%|██████████| 206/206 [05:38<00:00,  1.64s/epoch]\n",
      "[I 2024-12-30 12:25:21,412] Trial 10 finished with value: 0.8508771929824561 and parameters: {'DIMENSION': 160, 'EPOCHS': 206, 'LEARNING_RATE': 0.00012931301220462125, 'LEARNING_RATE_DECAY': 0.00998288728898366, 'SIGMA': 13, 'SIGMA_DECAY': 0.012664527094992554}. Best is trial 8 with value: 0.9035087719298246.\n",
      "/var/folders/v6/pl0_dkns3pdd4gyq5whvz4nr0000gn/T/ipykernel_18392/2969257550.py:8: FutureWarning: suggest_loguniform has been deprecated in v3.0.0. This feature will be removed in v6.0.0. See https://github.com/optuna/optuna/releases/tag/v3.0.0. Use suggest_float(..., log=True) instead.\n",
      "  LEARNING_RATE = trial.suggest_loguniform(\"LEARNING_RATE\", 1e-4, 1e-2)\n",
      "/var/folders/v6/pl0_dkns3pdd4gyq5whvz4nr0000gn/T/ipykernel_18392/2969257550.py:9: FutureWarning: suggest_loguniform has been deprecated in v3.0.0. This feature will be removed in v6.0.0. See https://github.com/optuna/optuna/releases/tag/v3.0.0. Use suggest_float(..., log=True) instead.\n",
      "  LEARNING_RATE_DECAY = trial.suggest_loguniform(\"LEARNING_RATE_DECAY\", 1e-4, 1e-2)\n",
      "/var/folders/v6/pl0_dkns3pdd4gyq5whvz4nr0000gn/T/ipykernel_18392/2969257550.py:11: FutureWarning: suggest_loguniform has been deprecated in v3.0.0. This feature will be removed in v6.0.0. See https://github.com/optuna/optuna/releases/tag/v3.0.0. Use suggest_float(..., log=True) instead.\n",
      "  SIGMA_DECAY = trial.suggest_loguniform(\"SIGMA_DECAY\", 1e-2, 1e-1)\n",
      "Training SOM: 100%|██████████| 207/207 [06:01<00:00,  1.75s/epoch]\n",
      "[I 2024-12-30 12:31:24,179] Trial 11 finished with value: 0.8596491228070176 and parameters: {'DIMENSION': 154, 'EPOCHS': 207, 'LEARNING_RATE': 0.00013563234093918046, 'LEARNING_RATE_DECAY': 0.009834169651937945, 'SIGMA': 14, 'SIGMA_DECAY': 0.01121832568694814}. Best is trial 8 with value: 0.9035087719298246.\n",
      "/var/folders/v6/pl0_dkns3pdd4gyq5whvz4nr0000gn/T/ipykernel_18392/2969257550.py:8: FutureWarning: suggest_loguniform has been deprecated in v3.0.0. This feature will be removed in v6.0.0. See https://github.com/optuna/optuna/releases/tag/v3.0.0. Use suggest_float(..., log=True) instead.\n",
      "  LEARNING_RATE = trial.suggest_loguniform(\"LEARNING_RATE\", 1e-4, 1e-2)\n",
      "/var/folders/v6/pl0_dkns3pdd4gyq5whvz4nr0000gn/T/ipykernel_18392/2969257550.py:9: FutureWarning: suggest_loguniform has been deprecated in v3.0.0. This feature will be removed in v6.0.0. See https://github.com/optuna/optuna/releases/tag/v3.0.0. Use suggest_float(..., log=True) instead.\n",
      "  LEARNING_RATE_DECAY = trial.suggest_loguniform(\"LEARNING_RATE_DECAY\", 1e-4, 1e-2)\n",
      "/var/folders/v6/pl0_dkns3pdd4gyq5whvz4nr0000gn/T/ipykernel_18392/2969257550.py:11: FutureWarning: suggest_loguniform has been deprecated in v3.0.0. This feature will be removed in v6.0.0. See https://github.com/optuna/optuna/releases/tag/v3.0.0. Use suggest_float(..., log=True) instead.\n",
      "  SIGMA_DECAY = trial.suggest_loguniform(\"SIGMA_DECAY\", 1e-2, 1e-1)\n",
      "Training SOM: 100%|██████████| 167/167 [04:23<00:00,  1.58s/epoch]\n",
      "[I 2024-12-30 12:35:48,372] Trial 12 finished with value: 0.8596491228070176 and parameters: {'DIMENSION': 137, 'EPOCHS': 167, 'LEARNING_RATE': 0.00011103289114346317, 'LEARNING_RATE_DECAY': 0.008660424392506829, 'SIGMA': 15, 'SIGMA_DECAY': 0.010885499273196202}. Best is trial 8 with value: 0.9035087719298246.\n",
      "/var/folders/v6/pl0_dkns3pdd4gyq5whvz4nr0000gn/T/ipykernel_18392/2969257550.py:8: FutureWarning: suggest_loguniform has been deprecated in v3.0.0. This feature will be removed in v6.0.0. See https://github.com/optuna/optuna/releases/tag/v3.0.0. Use suggest_float(..., log=True) instead.\n",
      "  LEARNING_RATE = trial.suggest_loguniform(\"LEARNING_RATE\", 1e-4, 1e-2)\n",
      "/var/folders/v6/pl0_dkns3pdd4gyq5whvz4nr0000gn/T/ipykernel_18392/2969257550.py:9: FutureWarning: suggest_loguniform has been deprecated in v3.0.0. This feature will be removed in v6.0.0. See https://github.com/optuna/optuna/releases/tag/v3.0.0. Use suggest_float(..., log=True) instead.\n",
      "  LEARNING_RATE_DECAY = trial.suggest_loguniform(\"LEARNING_RATE_DECAY\", 1e-4, 1e-2)\n",
      "/var/folders/v6/pl0_dkns3pdd4gyq5whvz4nr0000gn/T/ipykernel_18392/2969257550.py:11: FutureWarning: suggest_loguniform has been deprecated in v3.0.0. This feature will be removed in v6.0.0. See https://github.com/optuna/optuna/releases/tag/v3.0.0. Use suggest_float(..., log=True) instead.\n",
      "  SIGMA_DECAY = trial.suggest_loguniform(\"SIGMA_DECAY\", 1e-2, 1e-1)\n",
      "Training SOM: 100%|██████████| 235/235 [06:47<00:00,  1.73s/epoch]\n",
      "[I 2024-12-30 12:42:37,665] Trial 13 finished with value: 0.7894736842105263 and parameters: {'DIMENSION': 166, 'EPOCHS': 235, 'LEARNING_RATE': 0.00024560328319458963, 'LEARNING_RATE_DECAY': 0.003520594872998532, 'SIGMA': 13, 'SIGMA_DECAY': 0.01669400287989612}. Best is trial 8 with value: 0.9035087719298246.\n",
      "/var/folders/v6/pl0_dkns3pdd4gyq5whvz4nr0000gn/T/ipykernel_18392/2969257550.py:8: FutureWarning: suggest_loguniform has been deprecated in v3.0.0. This feature will be removed in v6.0.0. See https://github.com/optuna/optuna/releases/tag/v3.0.0. Use suggest_float(..., log=True) instead.\n",
      "  LEARNING_RATE = trial.suggest_loguniform(\"LEARNING_RATE\", 1e-4, 1e-2)\n",
      "/var/folders/v6/pl0_dkns3pdd4gyq5whvz4nr0000gn/T/ipykernel_18392/2969257550.py:9: FutureWarning: suggest_loguniform has been deprecated in v3.0.0. This feature will be removed in v6.0.0. See https://github.com/optuna/optuna/releases/tag/v3.0.0. Use suggest_float(..., log=True) instead.\n",
      "  LEARNING_RATE_DECAY = trial.suggest_loguniform(\"LEARNING_RATE_DECAY\", 1e-4, 1e-2)\n",
      "/var/folders/v6/pl0_dkns3pdd4gyq5whvz4nr0000gn/T/ipykernel_18392/2969257550.py:11: FutureWarning: suggest_loguniform has been deprecated in v3.0.0. This feature will be removed in v6.0.0. See https://github.com/optuna/optuna/releases/tag/v3.0.0. Use suggest_float(..., log=True) instead.\n",
      "  SIGMA_DECAY = trial.suggest_loguniform(\"SIGMA_DECAY\", 1e-2, 1e-1)\n",
      "Training SOM: 100%|██████████| 170/170 [03:42<00:00,  1.31s/epoch]\n",
      "[I 2024-12-30 12:46:21,432] Trial 14 finished with value: 0.9122807017543859 and parameters: {'DIMENSION': 144, 'EPOCHS': 170, 'LEARNING_RATE': 0.0002416658591933565, 'LEARNING_RATE_DECAY': 0.0035993295311626855, 'SIGMA': 18, 'SIGMA_DECAY': 0.09467983483854396}. Best is trial 14 with value: 0.9122807017543859.\n",
      "/var/folders/v6/pl0_dkns3pdd4gyq5whvz4nr0000gn/T/ipykernel_18392/2969257550.py:8: FutureWarning: suggest_loguniform has been deprecated in v3.0.0. This feature will be removed in v6.0.0. See https://github.com/optuna/optuna/releases/tag/v3.0.0. Use suggest_float(..., log=True) instead.\n",
      "  LEARNING_RATE = trial.suggest_loguniform(\"LEARNING_RATE\", 1e-4, 1e-2)\n",
      "/var/folders/v6/pl0_dkns3pdd4gyq5whvz4nr0000gn/T/ipykernel_18392/2969257550.py:9: FutureWarning: suggest_loguniform has been deprecated in v3.0.0. This feature will be removed in v6.0.0. See https://github.com/optuna/optuna/releases/tag/v3.0.0. Use suggest_float(..., log=True) instead.\n",
      "  LEARNING_RATE_DECAY = trial.suggest_loguniform(\"LEARNING_RATE_DECAY\", 1e-4, 1e-2)\n",
      "/var/folders/v6/pl0_dkns3pdd4gyq5whvz4nr0000gn/T/ipykernel_18392/2969257550.py:11: FutureWarning: suggest_loguniform has been deprecated in v3.0.0. This feature will be removed in v6.0.0. See https://github.com/optuna/optuna/releases/tag/v3.0.0. Use suggest_float(..., log=True) instead.\n",
      "  SIGMA_DECAY = trial.suggest_loguniform(\"SIGMA_DECAY\", 1e-2, 1e-1)\n",
      "Training SOM: 100%|██████████| 171/171 [01:49<00:00,  1.56epoch/s]\n",
      "[I 2024-12-30 12:48:11,433] Trial 15 finished with value: 0.9122807017543859 and parameters: {'DIMENSION': 102, 'EPOCHS': 171, 'LEARNING_RATE': 0.0003995055238724637, 'LEARNING_RATE_DECAY': 0.0026641926806352523, 'SIGMA': 18, 'SIGMA_DECAY': 0.0933724900693925}. Best is trial 14 with value: 0.9122807017543859.\n",
      "/var/folders/v6/pl0_dkns3pdd4gyq5whvz4nr0000gn/T/ipykernel_18392/2969257550.py:8: FutureWarning: suggest_loguniform has been deprecated in v3.0.0. This feature will be removed in v6.0.0. See https://github.com/optuna/optuna/releases/tag/v3.0.0. Use suggest_float(..., log=True) instead.\n",
      "  LEARNING_RATE = trial.suggest_loguniform(\"LEARNING_RATE\", 1e-4, 1e-2)\n",
      "/var/folders/v6/pl0_dkns3pdd4gyq5whvz4nr0000gn/T/ipykernel_18392/2969257550.py:9: FutureWarning: suggest_loguniform has been deprecated in v3.0.0. This feature will be removed in v6.0.0. See https://github.com/optuna/optuna/releases/tag/v3.0.0. Use suggest_float(..., log=True) instead.\n",
      "  LEARNING_RATE_DECAY = trial.suggest_loguniform(\"LEARNING_RATE_DECAY\", 1e-4, 1e-2)\n",
      "/var/folders/v6/pl0_dkns3pdd4gyq5whvz4nr0000gn/T/ipykernel_18392/2969257550.py:11: FutureWarning: suggest_loguniform has been deprecated in v3.0.0. This feature will be removed in v6.0.0. See https://github.com/optuna/optuna/releases/tag/v3.0.0. Use suggest_float(..., log=True) instead.\n",
      "  SIGMA_DECAY = trial.suggest_loguniform(\"SIGMA_DECAY\", 1e-2, 1e-1)\n",
      "Training SOM: 100%|██████████| 153/153 [01:23<00:00,  1.83epoch/s]\n",
      "[I 2024-12-30 12:49:35,623] Trial 16 finished with value: 0.8859649122807017 and parameters: {'DIMENSION': 100, 'EPOCHS': 153, 'LEARNING_RATE': 0.0005788572361353145, 'LEARNING_RATE_DECAY': 0.004018981681783113, 'SIGMA': 18, 'SIGMA_DECAY': 0.09775568520875585}. Best is trial 14 with value: 0.9122807017543859.\n",
      "/var/folders/v6/pl0_dkns3pdd4gyq5whvz4nr0000gn/T/ipykernel_18392/2969257550.py:8: FutureWarning: suggest_loguniform has been deprecated in v3.0.0. This feature will be removed in v6.0.0. See https://github.com/optuna/optuna/releases/tag/v3.0.0. Use suggest_float(..., log=True) instead.\n",
      "  LEARNING_RATE = trial.suggest_loguniform(\"LEARNING_RATE\", 1e-4, 1e-2)\n",
      "/var/folders/v6/pl0_dkns3pdd4gyq5whvz4nr0000gn/T/ipykernel_18392/2969257550.py:9: FutureWarning: suggest_loguniform has been deprecated in v3.0.0. This feature will be removed in v6.0.0. See https://github.com/optuna/optuna/releases/tag/v3.0.0. Use suggest_float(..., log=True) instead.\n",
      "  LEARNING_RATE_DECAY = trial.suggest_loguniform(\"LEARNING_RATE_DECAY\", 1e-4, 1e-2)\n",
      "/var/folders/v6/pl0_dkns3pdd4gyq5whvz4nr0000gn/T/ipykernel_18392/2969257550.py:11: FutureWarning: suggest_loguniform has been deprecated in v3.0.0. This feature will be removed in v6.0.0. See https://github.com/optuna/optuna/releases/tag/v3.0.0. Use suggest_float(..., log=True) instead.\n",
      "  SIGMA_DECAY = trial.suggest_loguniform(\"SIGMA_DECAY\", 1e-2, 1e-1)\n",
      "Training SOM: 100%|██████████| 144/144 [01:40<00:00,  1.43epoch/s]\n",
      "[I 2024-12-30 12:51:16,692] Trial 17 finished with value: 0.868421052631579 and parameters: {'DIMENSION': 114, 'EPOCHS': 144, 'LEARNING_RATE': 0.000432209039902689, 'LEARNING_RATE_DECAY': 0.0019716515100575344, 'SIGMA': 19, 'SIGMA_DECAY': 0.09795272071620668}. Best is trial 14 with value: 0.9122807017543859.\n",
      "/var/folders/v6/pl0_dkns3pdd4gyq5whvz4nr0000gn/T/ipykernel_18392/2969257550.py:8: FutureWarning: suggest_loguniform has been deprecated in v3.0.0. This feature will be removed in v6.0.0. See https://github.com/optuna/optuna/releases/tag/v3.0.0. Use suggest_float(..., log=True) instead.\n",
      "  LEARNING_RATE = trial.suggest_loguniform(\"LEARNING_RATE\", 1e-4, 1e-2)\n",
      "/var/folders/v6/pl0_dkns3pdd4gyq5whvz4nr0000gn/T/ipykernel_18392/2969257550.py:9: FutureWarning: suggest_loguniform has been deprecated in v3.0.0. This feature will be removed in v6.0.0. See https://github.com/optuna/optuna/releases/tag/v3.0.0. Use suggest_float(..., log=True) instead.\n",
      "  LEARNING_RATE_DECAY = trial.suggest_loguniform(\"LEARNING_RATE_DECAY\", 1e-4, 1e-2)\n",
      "/var/folders/v6/pl0_dkns3pdd4gyq5whvz4nr0000gn/T/ipykernel_18392/2969257550.py:11: FutureWarning: suggest_loguniform has been deprecated in v3.0.0. This feature will be removed in v6.0.0. See https://github.com/optuna/optuna/releases/tag/v3.0.0. Use suggest_float(..., log=True) instead.\n",
      "  SIGMA_DECAY = trial.suggest_loguniform(\"SIGMA_DECAY\", 1e-2, 1e-1)\n",
      "Training SOM: 100%|██████████| 182/182 [05:40<00:00,  1.87s/epoch]\n",
      "[I 2024-12-30 12:56:58,710] Trial 18 finished with value: 0.5526315789473685 and parameters: {'DIMENSION': 169, 'EPOCHS': 182, 'LEARNING_RATE': 0.0025204222508722935, 'LEARNING_RATE_DECAY': 0.005667187487416374, 'SIGMA': 20, 'SIGMA_DECAY': 0.048192645068730784}. Best is trial 14 with value: 0.9122807017543859.\n",
      "/var/folders/v6/pl0_dkns3pdd4gyq5whvz4nr0000gn/T/ipykernel_18392/2969257550.py:8: FutureWarning: suggest_loguniform has been deprecated in v3.0.0. This feature will be removed in v6.0.0. See https://github.com/optuna/optuna/releases/tag/v3.0.0. Use suggest_float(..., log=True) instead.\n",
      "  LEARNING_RATE = trial.suggest_loguniform(\"LEARNING_RATE\", 1e-4, 1e-2)\n",
      "/var/folders/v6/pl0_dkns3pdd4gyq5whvz4nr0000gn/T/ipykernel_18392/2969257550.py:9: FutureWarning: suggest_loguniform has been deprecated in v3.0.0. This feature will be removed in v6.0.0. See https://github.com/optuna/optuna/releases/tag/v3.0.0. Use suggest_float(..., log=True) instead.\n",
      "  LEARNING_RATE_DECAY = trial.suggest_loguniform(\"LEARNING_RATE_DECAY\", 1e-4, 1e-2)\n",
      "/var/folders/v6/pl0_dkns3pdd4gyq5whvz4nr0000gn/T/ipykernel_18392/2969257550.py:11: FutureWarning: suggest_loguniform has been deprecated in v3.0.0. This feature will be removed in v6.0.0. See https://github.com/optuna/optuna/releases/tag/v3.0.0. Use suggest_float(..., log=True) instead.\n",
      "  SIGMA_DECAY = trial.suggest_loguniform(\"SIGMA_DECAY\", 1e-2, 1e-1)\n",
      "Training SOM: 100%|██████████| 231/231 [02:27<00:00,  1.57epoch/s]\n",
      "[I 2024-12-30 12:59:26,940] Trial 19 finished with value: 0.8947368421052632 and parameters: {'DIMENSION': 100, 'EPOCHS': 231, 'LEARNING_RATE': 0.00033938148677754176, 'LEARNING_RATE_DECAY': 0.001973960181868367, 'SIGMA': 16, 'SIGMA_DECAY': 0.07778094266126513}. Best is trial 14 with value: 0.9122807017543859.\n",
      "/var/folders/v6/pl0_dkns3pdd4gyq5whvz4nr0000gn/T/ipykernel_18392/2969257550.py:8: FutureWarning: suggest_loguniform has been deprecated in v3.0.0. This feature will be removed in v6.0.0. See https://github.com/optuna/optuna/releases/tag/v3.0.0. Use suggest_float(..., log=True) instead.\n",
      "  LEARNING_RATE = trial.suggest_loguniform(\"LEARNING_RATE\", 1e-4, 1e-2)\n",
      "/var/folders/v6/pl0_dkns3pdd4gyq5whvz4nr0000gn/T/ipykernel_18392/2969257550.py:9: FutureWarning: suggest_loguniform has been deprecated in v3.0.0. This feature will be removed in v6.0.0. See https://github.com/optuna/optuna/releases/tag/v3.0.0. Use suggest_float(..., log=True) instead.\n",
      "  LEARNING_RATE_DECAY = trial.suggest_loguniform(\"LEARNING_RATE_DECAY\", 1e-4, 1e-2)\n",
      "/var/folders/v6/pl0_dkns3pdd4gyq5whvz4nr0000gn/T/ipykernel_18392/2969257550.py:11: FutureWarning: suggest_loguniform has been deprecated in v3.0.0. This feature will be removed in v6.0.0. See https://github.com/optuna/optuna/releases/tag/v3.0.0. Use suggest_float(..., log=True) instead.\n",
      "  SIGMA_DECAY = trial.suggest_loguniform(\"SIGMA_DECAY\", 1e-2, 1e-1)\n",
      "Training SOM: 100%|██████████| 139/139 [02:20<00:00,  1.01s/epoch]\n",
      "[I 2024-12-30 13:01:48,390] Trial 20 finished with value: 0.9210526315789473 and parameters: {'DIMENSION': 120, 'EPOCHS': 139, 'LEARNING_RATE': 0.00018873615074605526, 'LEARNING_RATE_DECAY': 0.0004924344593934852, 'SIGMA': 21, 'SIGMA_DECAY': 0.07018509806778907}. Best is trial 20 with value: 0.9210526315789473.\n",
      "/var/folders/v6/pl0_dkns3pdd4gyq5whvz4nr0000gn/T/ipykernel_18392/2969257550.py:8: FutureWarning: suggest_loguniform has been deprecated in v3.0.0. This feature will be removed in v6.0.0. See https://github.com/optuna/optuna/releases/tag/v3.0.0. Use suggest_float(..., log=True) instead.\n",
      "  LEARNING_RATE = trial.suggest_loguniform(\"LEARNING_RATE\", 1e-4, 1e-2)\n",
      "/var/folders/v6/pl0_dkns3pdd4gyq5whvz4nr0000gn/T/ipykernel_18392/2969257550.py:9: FutureWarning: suggest_loguniform has been deprecated in v3.0.0. This feature will be removed in v6.0.0. See https://github.com/optuna/optuna/releases/tag/v3.0.0. Use suggest_float(..., log=True) instead.\n",
      "  LEARNING_RATE_DECAY = trial.suggest_loguniform(\"LEARNING_RATE_DECAY\", 1e-4, 1e-2)\n",
      "/var/folders/v6/pl0_dkns3pdd4gyq5whvz4nr0000gn/T/ipykernel_18392/2969257550.py:11: FutureWarning: suggest_loguniform has been deprecated in v3.0.0. This feature will be removed in v6.0.0. See https://github.com/optuna/optuna/releases/tag/v3.0.0. Use suggest_float(..., log=True) instead.\n",
      "  SIGMA_DECAY = trial.suggest_loguniform(\"SIGMA_DECAY\", 1e-2, 1e-1)\n",
      "Training SOM: 100%|██████████| 139/139 [02:05<00:00,  1.10epoch/s]\n",
      "[I 2024-12-30 13:03:55,189] Trial 21 finished with value: 0.9298245614035088 and parameters: {'DIMENSION': 116, 'EPOCHS': 139, 'LEARNING_RATE': 0.00017893784512016043, 'LEARNING_RATE_DECAY': 0.00041211333798097966, 'SIGMA': 21, 'SIGMA_DECAY': 0.07403139692974837}. Best is trial 21 with value: 0.9298245614035088.\n",
      "/var/folders/v6/pl0_dkns3pdd4gyq5whvz4nr0000gn/T/ipykernel_18392/2969257550.py:8: FutureWarning: suggest_loguniform has been deprecated in v3.0.0. This feature will be removed in v6.0.0. See https://github.com/optuna/optuna/releases/tag/v3.0.0. Use suggest_float(..., log=True) instead.\n",
      "  LEARNING_RATE = trial.suggest_loguniform(\"LEARNING_RATE\", 1e-4, 1e-2)\n",
      "/var/folders/v6/pl0_dkns3pdd4gyq5whvz4nr0000gn/T/ipykernel_18392/2969257550.py:9: FutureWarning: suggest_loguniform has been deprecated in v3.0.0. This feature will be removed in v6.0.0. See https://github.com/optuna/optuna/releases/tag/v3.0.0. Use suggest_float(..., log=True) instead.\n",
      "  LEARNING_RATE_DECAY = trial.suggest_loguniform(\"LEARNING_RATE_DECAY\", 1e-4, 1e-2)\n",
      "/var/folders/v6/pl0_dkns3pdd4gyq5whvz4nr0000gn/T/ipykernel_18392/2969257550.py:11: FutureWarning: suggest_loguniform has been deprecated in v3.0.0. This feature will be removed in v6.0.0. See https://github.com/optuna/optuna/releases/tag/v3.0.0. Use suggest_float(..., log=True) instead.\n",
      "  SIGMA_DECAY = trial.suggest_loguniform(\"SIGMA_DECAY\", 1e-2, 1e-1)\n",
      "Training SOM: 100%|██████████| 135/135 [02:10<00:00,  1.03epoch/s]\n",
      "[I 2024-12-30 13:06:06,841] Trial 22 finished with value: 0.9385964912280702 and parameters: {'DIMENSION': 122, 'EPOCHS': 135, 'LEARNING_RATE': 0.00017099875329526444, 'LEARNING_RATE_DECAY': 0.000495519563354145, 'SIGMA': 21, 'SIGMA_DECAY': 0.07365565896056785}. Best is trial 22 with value: 0.9385964912280702.\n",
      "/var/folders/v6/pl0_dkns3pdd4gyq5whvz4nr0000gn/T/ipykernel_18392/2969257550.py:8: FutureWarning: suggest_loguniform has been deprecated in v3.0.0. This feature will be removed in v6.0.0. See https://github.com/optuna/optuna/releases/tag/v3.0.0. Use suggest_float(..., log=True) instead.\n",
      "  LEARNING_RATE = trial.suggest_loguniform(\"LEARNING_RATE\", 1e-4, 1e-2)\n",
      "/var/folders/v6/pl0_dkns3pdd4gyq5whvz4nr0000gn/T/ipykernel_18392/2969257550.py:9: FutureWarning: suggest_loguniform has been deprecated in v3.0.0. This feature will be removed in v6.0.0. See https://github.com/optuna/optuna/releases/tag/v3.0.0. Use suggest_float(..., log=True) instead.\n",
      "  LEARNING_RATE_DECAY = trial.suggest_loguniform(\"LEARNING_RATE_DECAY\", 1e-4, 1e-2)\n",
      "/var/folders/v6/pl0_dkns3pdd4gyq5whvz4nr0000gn/T/ipykernel_18392/2969257550.py:11: FutureWarning: suggest_loguniform has been deprecated in v3.0.0. This feature will be removed in v6.0.0. See https://github.com/optuna/optuna/releases/tag/v3.0.0. Use suggest_float(..., log=True) instead.\n",
      "  SIGMA_DECAY = trial.suggest_loguniform(\"SIGMA_DECAY\", 1e-2, 1e-1)\n",
      "Training SOM: 100%|██████████| 140/140 [02:13<00:00,  1.05epoch/s]\n",
      "[I 2024-12-30 13:08:21,233] Trial 23 finished with value: 0.9210526315789473 and parameters: {'DIMENSION': 123, 'EPOCHS': 140, 'LEARNING_RATE': 0.00016012778360319091, 'LEARNING_RATE_DECAY': 0.0004346999071142531, 'SIGMA': 21, 'SIGMA_DECAY': 0.07019299623576876}. Best is trial 22 with value: 0.9385964912280702.\n",
      "/var/folders/v6/pl0_dkns3pdd4gyq5whvz4nr0000gn/T/ipykernel_18392/2969257550.py:8: FutureWarning: suggest_loguniform has been deprecated in v3.0.0. This feature will be removed in v6.0.0. See https://github.com/optuna/optuna/releases/tag/v3.0.0. Use suggest_float(..., log=True) instead.\n",
      "  LEARNING_RATE = trial.suggest_loguniform(\"LEARNING_RATE\", 1e-4, 1e-2)\n",
      "/var/folders/v6/pl0_dkns3pdd4gyq5whvz4nr0000gn/T/ipykernel_18392/2969257550.py:9: FutureWarning: suggest_loguniform has been deprecated in v3.0.0. This feature will be removed in v6.0.0. See https://github.com/optuna/optuna/releases/tag/v3.0.0. Use suggest_float(..., log=True) instead.\n",
      "  LEARNING_RATE_DECAY = trial.suggest_loguniform(\"LEARNING_RATE_DECAY\", 1e-4, 1e-2)\n",
      "/var/folders/v6/pl0_dkns3pdd4gyq5whvz4nr0000gn/T/ipykernel_18392/2969257550.py:11: FutureWarning: suggest_loguniform has been deprecated in v3.0.0. This feature will be removed in v6.0.0. See https://github.com/optuna/optuna/releases/tag/v3.0.0. Use suggest_float(..., log=True) instead.\n",
      "  SIGMA_DECAY = trial.suggest_loguniform(\"SIGMA_DECAY\", 1e-2, 1e-1)\n",
      "Training SOM: 100%|██████████| 136/136 [02:19<00:00,  1.02s/epoch]\n",
      "[I 2024-12-30 13:10:41,341] Trial 24 finished with value: 0.8771929824561403 and parameters: {'DIMENSION': 117, 'EPOCHS': 136, 'LEARNING_RATE': 0.0001548079066667711, 'LEARNING_RATE_DECAY': 0.0001005555067179307, 'SIGMA': 21, 'SIGMA_DECAY': 0.04263005356126379}. Best is trial 22 with value: 0.9385964912280702.\n",
      "/var/folders/v6/pl0_dkns3pdd4gyq5whvz4nr0000gn/T/ipykernel_18392/2969257550.py:8: FutureWarning: suggest_loguniform has been deprecated in v3.0.0. This feature will be removed in v6.0.0. See https://github.com/optuna/optuna/releases/tag/v3.0.0. Use suggest_float(..., log=True) instead.\n",
      "  LEARNING_RATE = trial.suggest_loguniform(\"LEARNING_RATE\", 1e-4, 1e-2)\n",
      "/var/folders/v6/pl0_dkns3pdd4gyq5whvz4nr0000gn/T/ipykernel_18392/2969257550.py:9: FutureWarning: suggest_loguniform has been deprecated in v3.0.0. This feature will be removed in v6.0.0. See https://github.com/optuna/optuna/releases/tag/v3.0.0. Use suggest_float(..., log=True) instead.\n",
      "  LEARNING_RATE_DECAY = trial.suggest_loguniform(\"LEARNING_RATE_DECAY\", 1e-4, 1e-2)\n",
      "/var/folders/v6/pl0_dkns3pdd4gyq5whvz4nr0000gn/T/ipykernel_18392/2969257550.py:11: FutureWarning: suggest_loguniform has been deprecated in v3.0.0. This feature will be removed in v6.0.0. See https://github.com/optuna/optuna/releases/tag/v3.0.0. Use suggest_float(..., log=True) instead.\n",
      "  SIGMA_DECAY = trial.suggest_loguniform(\"SIGMA_DECAY\", 1e-2, 1e-1)\n",
      "Training SOM: 100%|██████████| 101/101 [02:12<00:00,  1.31s/epoch]\n",
      "[I 2024-12-30 13:12:55,090] Trial 25 finished with value: 0.868421052631579 and parameters: {'DIMENSION': 135, 'EPOCHS': 101, 'LEARNING_RATE': 0.00020178120958600542, 'LEARNING_RATE_DECAY': 0.0003482569272489985, 'SIGMA': 23, 'SIGMA_DECAY': 0.05023606320534488}. Best is trial 22 with value: 0.9385964912280702.\n",
      "/var/folders/v6/pl0_dkns3pdd4gyq5whvz4nr0000gn/T/ipykernel_18392/2969257550.py:8: FutureWarning: suggest_loguniform has been deprecated in v3.0.0. This feature will be removed in v6.0.0. See https://github.com/optuna/optuna/releases/tag/v3.0.0. Use suggest_float(..., log=True) instead.\n",
      "  LEARNING_RATE = trial.suggest_loguniform(\"LEARNING_RATE\", 1e-4, 1e-2)\n",
      "/var/folders/v6/pl0_dkns3pdd4gyq5whvz4nr0000gn/T/ipykernel_18392/2969257550.py:9: FutureWarning: suggest_loguniform has been deprecated in v3.0.0. This feature will be removed in v6.0.0. See https://github.com/optuna/optuna/releases/tag/v3.0.0. Use suggest_float(..., log=True) instead.\n",
      "  LEARNING_RATE_DECAY = trial.suggest_loguniform(\"LEARNING_RATE_DECAY\", 1e-4, 1e-2)\n",
      "/var/folders/v6/pl0_dkns3pdd4gyq5whvz4nr0000gn/T/ipykernel_18392/2969257550.py:11: FutureWarning: suggest_loguniform has been deprecated in v3.0.0. This feature will be removed in v6.0.0. See https://github.com/optuna/optuna/releases/tag/v3.0.0. Use suggest_float(..., log=True) instead.\n",
      "  SIGMA_DECAY = trial.suggest_loguniform(\"SIGMA_DECAY\", 1e-2, 1e-1)\n",
      "Training SOM: 100%|██████████| 130/130 [01:55<00:00,  1.13epoch/s]\n",
      "[I 2024-12-30 13:14:51,123] Trial 26 finished with value: 0.7894736842105263 and parameters: {'DIMENSION': 111, 'EPOCHS': 130, 'LEARNING_RATE': 0.0006151638770286122, 'LEARNING_RATE_DECAY': 0.000534929094290103, 'SIGMA': 22, 'SIGMA_DECAY': 0.06404288587832585}. Best is trial 22 with value: 0.9385964912280702.\n",
      "/var/folders/v6/pl0_dkns3pdd4gyq5whvz4nr0000gn/T/ipykernel_18392/2969257550.py:8: FutureWarning: suggest_loguniform has been deprecated in v3.0.0. This feature will be removed in v6.0.0. See https://github.com/optuna/optuna/releases/tag/v3.0.0. Use suggest_float(..., log=True) instead.\n",
      "  LEARNING_RATE = trial.suggest_loguniform(\"LEARNING_RATE\", 1e-4, 1e-2)\n",
      "/var/folders/v6/pl0_dkns3pdd4gyq5whvz4nr0000gn/T/ipykernel_18392/2969257550.py:9: FutureWarning: suggest_loguniform has been deprecated in v3.0.0. This feature will be removed in v6.0.0. See https://github.com/optuna/optuna/releases/tag/v3.0.0. Use suggest_float(..., log=True) instead.\n",
      "  LEARNING_RATE_DECAY = trial.suggest_loguniform(\"LEARNING_RATE_DECAY\", 1e-4, 1e-2)\n",
      "/var/folders/v6/pl0_dkns3pdd4gyq5whvz4nr0000gn/T/ipykernel_18392/2969257550.py:11: FutureWarning: suggest_loguniform has been deprecated in v3.0.0. This feature will be removed in v6.0.0. See https://github.com/optuna/optuna/releases/tag/v3.0.0. Use suggest_float(..., log=True) instead.\n",
      "  SIGMA_DECAY = trial.suggest_loguniform(\"SIGMA_DECAY\", 1e-2, 1e-1)\n",
      "Training SOM: 100%|██████████| 149/149 [02:03<00:00,  1.21epoch/s]\n",
      "[I 2024-12-30 13:16:55,481] Trial 27 finished with value: 0.9385964912280702 and parameters: {'DIMENSION': 122, 'EPOCHS': 149, 'LEARNING_RATE': 0.00017015021739097714, 'LEARNING_RATE_DECAY': 0.00013653129154199672, 'SIGMA': 20, 'SIGMA_DECAY': 0.07791471939262266}. Best is trial 22 with value: 0.9385964912280702.\n",
      "/var/folders/v6/pl0_dkns3pdd4gyq5whvz4nr0000gn/T/ipykernel_18392/2969257550.py:8: FutureWarning: suggest_loguniform has been deprecated in v3.0.0. This feature will be removed in v6.0.0. See https://github.com/optuna/optuna/releases/tag/v3.0.0. Use suggest_float(..., log=True) instead.\n",
      "  LEARNING_RATE = trial.suggest_loguniform(\"LEARNING_RATE\", 1e-4, 1e-2)\n",
      "/var/folders/v6/pl0_dkns3pdd4gyq5whvz4nr0000gn/T/ipykernel_18392/2969257550.py:9: FutureWarning: suggest_loguniform has been deprecated in v3.0.0. This feature will be removed in v6.0.0. See https://github.com/optuna/optuna/releases/tag/v3.0.0. Use suggest_float(..., log=True) instead.\n",
      "  LEARNING_RATE_DECAY = trial.suggest_loguniform(\"LEARNING_RATE_DECAY\", 1e-4, 1e-2)\n",
      "/var/folders/v6/pl0_dkns3pdd4gyq5whvz4nr0000gn/T/ipykernel_18392/2969257550.py:11: FutureWarning: suggest_loguniform has been deprecated in v3.0.0. This feature will be removed in v6.0.0. See https://github.com/optuna/optuna/releases/tag/v3.0.0. Use suggest_float(..., log=True) instead.\n",
      "  SIGMA_DECAY = trial.suggest_loguniform(\"SIGMA_DECAY\", 1e-2, 1e-1)\n",
      "Training SOM: 100%|██████████| 153/153 [02:24<00:00,  1.06epoch/s]\n",
      "[I 2024-12-30 13:19:20,945] Trial 28 finished with value: 0.6666666666666666 and parameters: {'DIMENSION': 128, 'EPOCHS': 153, 'LEARNING_RATE': 0.0016440349837147053, 'LEARNING_RATE_DECAY': 0.00013452198788382847, 'SIGMA': 20, 'SIGMA_DECAY': 0.07890855152952392}. Best is trial 22 with value: 0.9385964912280702.\n",
      "/var/folders/v6/pl0_dkns3pdd4gyq5whvz4nr0000gn/T/ipykernel_18392/2969257550.py:8: FutureWarning: suggest_loguniform has been deprecated in v3.0.0. This feature will be removed in v6.0.0. See https://github.com/optuna/optuna/releases/tag/v3.0.0. Use suggest_float(..., log=True) instead.\n",
      "  LEARNING_RATE = trial.suggest_loguniform(\"LEARNING_RATE\", 1e-4, 1e-2)\n",
      "/var/folders/v6/pl0_dkns3pdd4gyq5whvz4nr0000gn/T/ipykernel_18392/2969257550.py:9: FutureWarning: suggest_loguniform has been deprecated in v3.0.0. This feature will be removed in v6.0.0. See https://github.com/optuna/optuna/releases/tag/v3.0.0. Use suggest_float(..., log=True) instead.\n",
      "  LEARNING_RATE_DECAY = trial.suggest_loguniform(\"LEARNING_RATE_DECAY\", 1e-4, 1e-2)\n",
      "/var/folders/v6/pl0_dkns3pdd4gyq5whvz4nr0000gn/T/ipykernel_18392/2969257550.py:11: FutureWarning: suggest_loguniform has been deprecated in v3.0.0. This feature will be removed in v6.0.0. See https://github.com/optuna/optuna/releases/tag/v3.0.0. Use suggest_float(..., log=True) instead.\n",
      "  SIGMA_DECAY = trial.suggest_loguniform(\"SIGMA_DECAY\", 1e-2, 1e-1)\n",
      "Training SOM: 100%|██████████| 111/111 [02:02<00:00,  1.11s/epoch]\n",
      "[I 2024-12-30 13:21:24,615] Trial 29 finished with value: 0.8859649122807017 and parameters: {'DIMENSION': 135, 'EPOCHS': 111, 'LEARNING_RATE': 0.00033599163139731855, 'LEARNING_RATE_DECAY': 0.00016728752919295176, 'SIGMA': 20, 'SIGMA_DECAY': 0.05882155120554419}. Best is trial 22 with value: 0.9385964912280702.\n"
     ]
    },
    {
     "name": "stdout",
     "output_type": "stream",
     "text": [
      "Best parameters: {'DIMENSION': 122, 'EPOCHS': 135, 'LEARNING_RATE': 0.00017099875329526444, 'LEARNING_RATE_DECAY': 0.000495519563354145, 'SIGMA': 21, 'SIGMA_DECAY': 0.07365565896056785}\n",
      "Best accuracy: 0.9385964912280702\n"
     ]
    }
   ],
   "source": [
    "import optuna\n",
    "from sklearn.metrics import classification_report\n",
    "\n",
    "def objective(trial):\n",
    "    # Suggest parameters\n",
    "    DIMENSION = trial.suggest_int(\"DIMENSION\", 100, 200)\n",
    "    EPOCHS = trial.suggest_int(\"EPOCHS\", 100, 300)\n",
    "    LEARNING_RATE = trial.suggest_float(\"LEARNING_RATE\", 1e-4, 1e-2, log = True)\n",
    "    LEARNING_RATE_DECAY = trial.suggest_float(\"LEARNING_RATE_DECAY\", 1e-4, 1e-2, log = True)\n",
    "    SIGMA = trial.suggest_int(\"SIGMA\", 10, 25)\n",
    "    SIGMA_DECAY = trial.suggest_float(\"SIGMA_DECAY\", 1e-2, 1e-1, log=True)\n",
    "    \n",
    "    # Train SOM with suggested parameters\n",
    "    som = SOM(\n",
    "        [28, 28],\n",
    "        cancer_x_train,\n",
    "        DIMENSION,\n",
    "        EPOCHS,\n",
    "        LEARNING_RATE,\n",
    "        LEARNING_RATE_DECAY,\n",
    "        SIGMA,\n",
    "        SIGMA_DECAY,\n",
    "        showMode=0\n",
    "    )\n",
    "    \n",
    "    label_map = createLabelMap(som, cancer_x_train, cancer_y_train)\n",
    "    test_predictions = classifySOM(som, label_map, cancer_x_test)\n",
    "    \n",
    "    # Evaluate performance\n",
    "    score = classification_report(cancer_y_test, test_predictions, output_dict=True)[\"accuracy\"]\n",
    "    return score\n",
    "\n",
    "# Run Bayesian optimization\n",
    "study = optuna.create_study(direction=\"maximize\")\n",
    "study.optimize(objective, n_trials=30)\n",
    "\n",
    "print(\"Best parameters:\", study.best_params)\n",
    "print(\"Best accuracy:\", study.best_value)"
   ]
  },
  {
   "cell_type": "markdown",
   "metadata": {},
   "source": [
    "Best parameters: {'DIMENSION': 122, 'EPOCHS': 135, 'LEARNING_RATE': 0.00017099875329526444, 'LEARNING_RATE_DECAY': 0.000495519563354145, 'SIGMA': 21, 'SIGMA_DECAY': 0.07365565896056785}\n",
    "Best accuracy: 0.9385964912280702"
   ]
  },
  {
   "cell_type": "code",
   "execution_count": null,
   "metadata": {},
   "outputs": [
    {
     "name": "stderr",
     "output_type": "stream",
     "text": [
      "Training SOM: 100%|██████████| 135/135 [01:51<00:00,  1.21epoch/s]\n"
     ]
    },
    {
     "name": "stdout",
     "output_type": "stream",
     "text": [
      "Classification Report for Test Set\n",
      "              precision    recall  f1-score   support\n",
      "\n",
      "           0       0.90      0.90      0.90        42\n",
      "           1       0.94      0.94      0.94        72\n",
      "\n",
      "    accuracy                           0.93       114\n",
      "   macro avg       0.92      0.92      0.92       114\n",
      "weighted avg       0.93      0.93      0.93       114\n",
      "\n"
     ]
    },
    {
     "data": {
      "image/png": "[encoded data removed]",
      "text/plain": [
       "<Figure size 1000x800 with 2 Axes>"
      ]
     },
     "metadata": {},
     "output_type": "display_data"
    }
   ],
   "source": [
    "DIMENSION = 122\n",
    "EPOCHS = 135\n",
    "LEARNING_RATE = 0.0001709\n",
    "LEARNING_RATE_DECAY = 0.000495519563354145\n",
    "SIGMA = 21\n",
    "SIGMA_DECAY = 0.07365\n",
    "\n",
    "cancer_som = SOM([28,28],cancer_x_train, DIMENSION,EPOCHS,LEARNING_RATE,LEARNING_RATE_DECAY,SIGMA,SIGMA_DECAY, showMode=0)\n",
    "\n",
    "label_map = createLabelMap(cancer_som, cancer_x_train, cancer_y_train)\n",
    "\n",
    "\n",
    "# Classify test data\n",
    "predictions = classifySOM(cancer_som, label_map, cancer_x_train)\n",
    "\n",
    "\n",
    "# Classify on training set\n",
    "train_predictions = classifySOM(cancer_som, label_map, cancer_x_train)\n",
    "\n",
    "# Classify on test set\n",
    "test_predictions = classifySOM(cancer_som, label_map, cancer_x_test)\n",
    "\n",
    "print(\"Classification Report for Test Set\")\n",
    "print(classification_report(cancer_y_test, test_predictions))\n",
    "plot_confusion_matrix(cancer_y_test, test_predictions, title=\"Confusion Matrix - Test Set\")"
   ]
  },
  {
   "cell_type": "markdown",
   "metadata": {},
   "source": [
    "#### Wine"
   ]
  },
  {
   "cell_type": "code",
   "execution_count": 20,
   "metadata": {},
   "outputs": [
    {
     "name": "stderr",
     "output_type": "stream",
     "text": [
      "[I 2024-12-30 13:50:06,405] A new study created in memory with name: no-name-da73e42d-d5ba-410e-9e11-b0e6df8844f5\n",
      "Training SOM: 100%|██████████| 175/175 [00:21<00:00,  8.23epoch/s]\n",
      "[I 2024-12-30 13:50:27,787] Trial 0 finished with value: 0.5555555555555556 and parameters: {'DIMENSION': 102, 'EPOCHS': 175, 'LEARNING_RATE': 0.0032751137132232327, 'LEARNING_RATE_DECAY': 0.0011372401889566271, 'SIGMA': 25, 'SIGMA_DECAY': 0.09345348273343088}. Best is trial 0 with value: 0.5555555555555556.\n",
      "Training SOM: 100%|██████████| 174/174 [00:18<00:00,  9.17epoch/s]\n",
      "[I 2024-12-30 13:50:46,862] Trial 1 finished with value: 0.5833333333333334 and parameters: {'DIMENSION': 99, 'EPOCHS': 174, 'LEARNING_RATE': 0.0008578055764023521, 'LEARNING_RATE_DECAY': 0.0038772983076267383, 'SIGMA': 12, 'SIGMA_DECAY': 0.023583502616232894}. Best is trial 1 with value: 0.5833333333333334.\n",
      "Training SOM: 100%|██████████| 155/155 [00:22<00:00,  6.77epoch/s]\n",
      "[I 2024-12-30 13:51:09,891] Trial 2 finished with value: 0.6388888888888888 and parameters: {'DIMENSION': 113, 'EPOCHS': 155, 'LEARNING_RATE': 0.0006346072068262518, 'LEARNING_RATE_DECAY': 0.00035470425665894763, 'SIGMA': 14, 'SIGMA_DECAY': 0.028398132671303096}. Best is trial 2 with value: 0.6388888888888888.\n",
      "Training SOM: 100%|██████████| 75/75 [00:14<00:00,  5.11epoch/s]\n",
      "[I 2024-12-30 13:51:24,741] Trial 3 finished with value: 0.5277777777777778 and parameters: {'DIMENSION': 137, 'EPOCHS': 75, 'LEARNING_RATE': 0.003910805743337216, 'LEARNING_RATE_DECAY': 0.00010148293294594438, 'SIGMA': 12, 'SIGMA_DECAY': 0.07016884887581759}. Best is trial 2 with value: 0.6388888888888888.\n",
      "Training SOM: 100%|██████████| 192/192 [00:18<00:00, 10.16epoch/s]\n",
      "[I 2024-12-30 13:51:43,799] Trial 4 finished with value: 0.5 and parameters: {'DIMENSION': 99, 'EPOCHS': 192, 'LEARNING_RATE': 0.0037378491568692503, 'LEARNING_RATE_DECAY': 0.00010107220173710774, 'SIGMA': 11, 'SIGMA_DECAY': 0.045039047891721556}. Best is trial 2 with value: 0.6388888888888888.\n",
      "Training SOM: 100%|██████████| 143/143 [00:12<00:00, 11.83epoch/s]\n",
      "[I 2024-12-30 13:51:55,966] Trial 5 finished with value: 0.5555555555555556 and parameters: {'DIMENSION': 86, 'EPOCHS': 143, 'LEARNING_RATE': 0.0010058230006394053, 'LEARNING_RATE_DECAY': 0.00010725427752571739, 'SIGMA': 10, 'SIGMA_DECAY': 0.020749573997916552}. Best is trial 2 with value: 0.6388888888888888.\n",
      "Training SOM: 100%|██████████| 160/160 [00:19<00:00,  8.12epoch/s]\n",
      "[I 2024-12-30 13:52:15,775] Trial 6 finished with value: 0.6111111111111112 and parameters: {'DIMENSION': 109, 'EPOCHS': 160, 'LEARNING_RATE': 0.0004890536464185959, 'LEARNING_RATE_DECAY': 0.00029476571818327224, 'SIGMA': 19, 'SIGMA_DECAY': 0.051644340519673565}. Best is trial 2 with value: 0.6388888888888888.\n",
      "Training SOM: 100%|██████████| 131/131 [00:12<00:00, 10.66epoch/s]\n",
      "[I 2024-12-30 13:52:28,149] Trial 7 finished with value: 0.5277777777777778 and parameters: {'DIMENSION': 93, 'EPOCHS': 131, 'LEARNING_RATE': 0.0006718420562699199, 'LEARNING_RATE_DECAY': 0.006936134523307129, 'SIGMA': 25, 'SIGMA_DECAY': 0.06477639666481924}. Best is trial 2 with value: 0.6388888888888888.\n",
      "Training SOM: 100%|██████████| 160/160 [00:17<00:00,  9.09epoch/s]\n",
      "[I 2024-12-30 13:52:45,848] Trial 8 finished with value: 0.5555555555555556 and parameters: {'DIMENSION': 102, 'EPOCHS': 160, 'LEARNING_RATE': 0.0026675430448631476, 'LEARNING_RATE_DECAY': 0.001754271623854635, 'SIGMA': 10, 'SIGMA_DECAY': 0.033805664889579874}. Best is trial 2 with value: 0.6388888888888888.\n",
      "Training SOM: 100%|██████████| 145/145 [00:27<00:00,  5.23epoch/s]\n",
      "[I 2024-12-30 13:53:13,714] Trial 9 finished with value: 0.4722222222222222 and parameters: {'DIMENSION': 126, 'EPOCHS': 145, 'LEARNING_RATE': 0.002539865228293778, 'LEARNING_RATE_DECAY': 0.00031428250567019814, 'SIGMA': 25, 'SIGMA_DECAY': 0.04223676346897996}. Best is trial 2 with value: 0.6388888888888888.\n",
      "Training SOM: 100%|██████████| 109/109 [00:08<00:00, 12.87epoch/s]\n",
      "[I 2024-12-30 13:53:22,268] Trial 10 finished with value: 0.3055555555555556 and parameters: {'DIMENSION': 74, 'EPOCHS': 109, 'LEARNING_RATE': 0.00010761654124849646, 'LEARNING_RATE_DECAY': 0.0004410025797721107, 'SIGMA': 16, 'SIGMA_DECAY': 0.010515215825287975}. Best is trial 2 with value: 0.6388888888888888.\n",
      "Training SOM: 100%|██████████| 116/116 [00:19<00:00,  5.90epoch/s]\n",
      "[I 2024-12-30 13:53:42,063] Trial 11 finished with value: 0.5833333333333334 and parameters: {'DIMENSION': 117, 'EPOCHS': 116, 'LEARNING_RATE': 0.0002719260514855182, 'LEARNING_RATE_DECAY': 0.00044579507165792674, 'SIGMA': 19, 'SIGMA_DECAY': 0.01978302809019264}. Best is trial 2 with value: 0.6388888888888888.\n",
      "Training SOM: 100%|██████████| 199/199 [00:35<00:00,  5.61epoch/s]\n",
      "[I 2024-12-30 13:54:17,674] Trial 12 finished with value: 0.5277777777777778 and parameters: {'DIMENSION': 118, 'EPOCHS': 199, 'LEARNING_RATE': 0.0003701971946892505, 'LEARNING_RATE_DECAY': 0.0002534270931052002, 'SIGMA': 18, 'SIGMA_DECAY': 0.013467547102870885}. Best is trial 2 with value: 0.6388888888888888.\n",
      "Training SOM: 100%|██████████| 165/165 [00:39<00:00,  4.20epoch/s]\n",
      "[I 2024-12-30 13:54:57,307] Trial 13 finished with value: 0.4444444444444444 and parameters: {'DIMENSION': 149, 'EPOCHS': 165, 'LEARNING_RATE': 0.008433435002897371, 'LEARNING_RATE_DECAY': 0.0007162934641389647, 'SIGMA': 15, 'SIGMA_DECAY': 0.05135505209654067}. Best is trial 2 with value: 0.6388888888888888.\n",
      "Training SOM: 100%|██████████| 126/126 [00:22<00:00,  5.52epoch/s]\n",
      "[I 2024-12-30 13:55:20,286] Trial 14 finished with value: 0.5555555555555556 and parameters: {'DIMENSION': 114, 'EPOCHS': 126, 'LEARNING_RATE': 0.0002430558955228224, 'LEARNING_RATE_DECAY': 0.00023104724674473254, 'SIGMA': 21, 'SIGMA_DECAY': 0.02831221574947986}. Best is trial 2 with value: 0.6388888888888888.\n",
      "Training SOM: 100%|██████████| 95/95 [00:19<00:00,  4.78epoch/s]\n",
      "[I 2024-12-30 13:55:40,322] Trial 15 finished with value: 0.5 and parameters: {'DIMENSION': 129, 'EPOCHS': 95, 'LEARNING_RATE': 0.0005172068486293648, 'LEARNING_RATE_DECAY': 0.0008213672132033991, 'SIGMA': 21, 'SIGMA_DECAY': 0.03467256671337689}. Best is trial 2 with value: 0.6388888888888888.\n",
      "Training SOM: 100%|██████████| 153/153 [00:12<00:00, 12.28epoch/s]\n",
      "[I 2024-12-30 13:55:52,893] Trial 16 finished with value: 0.4444444444444444 and parameters: {'DIMENSION': 81, 'EPOCHS': 153, 'LEARNING_RATE': 0.0012403033312151123, 'LEARNING_RATE_DECAY': 0.0016373749001667708, 'SIGMA': 14, 'SIGMA_DECAY': 0.016406093543005467}. Best is trial 2 with value: 0.6388888888888888.\n",
      "Training SOM: 100%|██████████| 181/181 [00:24<00:00,  7.45epoch/s]\n",
      "/opt/anaconda3/lib/python3.12/site-packages/sklearn/metrics/_classification.py:1531: UndefinedMetricWarning: Precision is ill-defined and being set to 0.0 in labels with no predicted samples. Use `zero_division` parameter to control this behavior.\n",
      "  _warn_prf(average, modifier, f\"{metric.capitalize()} is\", len(result))\n",
      "/opt/anaconda3/lib/python3.12/site-packages/sklearn/metrics/_classification.py:1531: UndefinedMetricWarning: Precision is ill-defined and being set to 0.0 in labels with no predicted samples. Use `zero_division` parameter to control this behavior.\n",
      "  _warn_prf(average, modifier, f\"{metric.capitalize()} is\", len(result))\n",
      "/opt/anaconda3/lib/python3.12/site-packages/sklearn/metrics/_classification.py:1531: UndefinedMetricWarning: Precision is ill-defined and being set to 0.0 in labels with no predicted samples. Use `zero_division` parameter to control this behavior.\n",
      "  _warn_prf(average, modifier, f\"{metric.capitalize()} is\", len(result))\n",
      "[I 2024-12-30 13:56:17,366] Trial 17 finished with value: 0.3055555555555556 and parameters: {'DIMENSION': 107, 'EPOCHS': 181, 'LEARNING_RATE': 0.00014498689184945458, 'LEARNING_RATE_DECAY': 0.00021272747705407616, 'SIGMA': 21, 'SIGMA_DECAY': 0.05962213632235797}. Best is trial 2 with value: 0.6388888888888888.\n",
      "Training SOM: 100%|██████████| 151/151 [00:27<00:00,  5.48epoch/s]\n",
      "[I 2024-12-30 13:56:45,219] Trial 18 finished with value: 0.5555555555555556 and parameters: {'DIMENSION': 125, 'EPOCHS': 151, 'LEARNING_RATE': 0.0016712119996178327, 'LEARNING_RATE_DECAY': 0.0004422708059613689, 'SIGMA': 17, 'SIGMA_DECAY': 0.027425422882660217}. Best is trial 2 with value: 0.6388888888888888.\n",
      "Training SOM: 100%|██████████| 166/166 [00:41<00:00,  3.96epoch/s]\n",
      "[I 2024-12-30 13:57:27,420] Trial 19 finished with value: 0.6388888888888888 and parameters: {'DIMENSION': 140, 'EPOCHS': 166, 'LEARNING_RATE': 0.0004971147462214302, 'LEARNING_RATE_DECAY': 0.00016747454354686212, 'SIGMA': 14, 'SIGMA_DECAY': 0.09899372422377527}. Best is trial 2 with value: 0.6388888888888888.\n",
      "Training SOM: 100%|██████████| 187/187 [00:44<00:00,  4.17epoch/s]\n",
      "/opt/anaconda3/lib/python3.12/site-packages/sklearn/metrics/_classification.py:1531: UndefinedMetricWarning: Precision is ill-defined and being set to 0.0 in labels with no predicted samples. Use `zero_division` parameter to control this behavior.\n",
      "  _warn_prf(average, modifier, f\"{metric.capitalize()} is\", len(result))\n",
      "/opt/anaconda3/lib/python3.12/site-packages/sklearn/metrics/_classification.py:1531: UndefinedMetricWarning: Precision is ill-defined and being set to 0.0 in labels with no predicted samples. Use `zero_division` parameter to control this behavior.\n",
      "  _warn_prf(average, modifier, f\"{metric.capitalize()} is\", len(result))\n",
      "/opt/anaconda3/lib/python3.12/site-packages/sklearn/metrics/_classification.py:1531: UndefinedMetricWarning: Precision is ill-defined and being set to 0.0 in labels with no predicted samples. Use `zero_division` parameter to control this behavior.\n",
      "  _warn_prf(average, modifier, f\"{metric.capitalize()} is\", len(result))\n",
      "[I 2024-12-30 13:58:12,545] Trial 20 finished with value: 0.6944444444444444 and parameters: {'DIMENSION': 147, 'EPOCHS': 187, 'LEARNING_RATE': 0.00023463748382567237, 'LEARNING_RATE_DECAY': 0.00014665406487567823, 'SIGMA': 14, 'SIGMA_DECAY': 0.07978938778579464}. Best is trial 20 with value: 0.6944444444444444.\n",
      "Training SOM: 100%|██████████| 190/190 [00:44<00:00,  4.25epoch/s]\n",
      "[I 2024-12-30 13:58:57,504] Trial 21 finished with value: 0.7777777777777778 and parameters: {'DIMENSION': 150, 'EPOCHS': 190, 'LEARNING_RATE': 0.00024145409895647447, 'LEARNING_RATE_DECAY': 0.00017608625358495866, 'SIGMA': 14, 'SIGMA_DECAY': 0.09344589365143731}. Best is trial 21 with value: 0.7777777777777778.\n",
      "Training SOM: 100%|██████████| 188/188 [00:41<00:00,  4.49epoch/s]\n",
      "/opt/anaconda3/lib/python3.12/site-packages/sklearn/metrics/_classification.py:1531: UndefinedMetricWarning: Precision is ill-defined and being set to 0.0 in labels with no predicted samples. Use `zero_division` parameter to control this behavior.\n",
      "  _warn_prf(average, modifier, f\"{metric.capitalize()} is\", len(result))\n",
      "/opt/anaconda3/lib/python3.12/site-packages/sklearn/metrics/_classification.py:1531: UndefinedMetricWarning: Precision is ill-defined and being set to 0.0 in labels with no predicted samples. Use `zero_division` parameter to control this behavior.\n",
      "  _warn_prf(average, modifier, f\"{metric.capitalize()} is\", len(result))\n",
      "/opt/anaconda3/lib/python3.12/site-packages/sklearn/metrics/_classification.py:1531: UndefinedMetricWarning: Precision is ill-defined and being set to 0.0 in labels with no predicted samples. Use `zero_division` parameter to control this behavior.\n",
      "  _warn_prf(average, modifier, f\"{metric.capitalize()} is\", len(result))\n",
      "[I 2024-12-30 13:59:39,588] Trial 22 finished with value: 0.6388888888888888 and parameters: {'DIMENSION': 149, 'EPOCHS': 188, 'LEARNING_RATE': 0.0001895664564944562, 'LEARNING_RATE_DECAY': 0.00015597138070424187, 'SIGMA': 13, 'SIGMA_DECAY': 0.07618525134585875}. Best is trial 21 with value: 0.7777777777777778.\n",
      "Training SOM: 100%|██████████| 200/200 [00:38<00:00,  5.16epoch/s]\n",
      "[I 2024-12-30 14:00:18,560] Trial 23 finished with value: 0.6666666666666666 and parameters: {'DIMENSION': 140, 'EPOCHS': 200, 'LEARNING_RATE': 0.00033585464285427075, 'LEARNING_RATE_DECAY': 0.00016789870893699086, 'SIGMA': 15, 'SIGMA_DECAY': 0.083457316974649}. Best is trial 21 with value: 0.7777777777777778.\n",
      "Training SOM: 100%|██████████| 199/199 [00:43<00:00,  4.59epoch/s]\n",
      "[I 2024-12-30 14:01:02,159] Trial 24 finished with value: 0.6666666666666666 and parameters: {'DIMENSION': 141, 'EPOCHS': 199, 'LEARNING_RATE': 0.00032296315281366456, 'LEARNING_RATE_DECAY': 0.00015458640543864946, 'SIGMA': 16, 'SIGMA_DECAY': 0.08916844589679082}. Best is trial 21 with value: 0.7777777777777778.\n",
      "Training SOM: 100%|██████████| 186/186 [00:36<00:00,  5.09epoch/s]\n",
      "/opt/anaconda3/lib/python3.12/site-packages/sklearn/metrics/_classification.py:1531: UndefinedMetricWarning: Precision is ill-defined and being set to 0.0 in labels with no predicted samples. Use `zero_division` parameter to control this behavior.\n",
      "  _warn_prf(average, modifier, f\"{metric.capitalize()} is\", len(result))\n",
      "/opt/anaconda3/lib/python3.12/site-packages/sklearn/metrics/_classification.py:1531: UndefinedMetricWarning: Precision is ill-defined and being set to 0.0 in labels with no predicted samples. Use `zero_division` parameter to control this behavior.\n",
      "  _warn_prf(average, modifier, f\"{metric.capitalize()} is\", len(result))\n",
      "/opt/anaconda3/lib/python3.12/site-packages/sklearn/metrics/_classification.py:1531: UndefinedMetricWarning: Precision is ill-defined and being set to 0.0 in labels with no predicted samples. Use `zero_division` parameter to control this behavior.\n",
      "  _warn_prf(average, modifier, f\"{metric.capitalize()} is\", len(result))\n",
      "[I 2024-12-30 14:01:38,956] Trial 25 finished with value: 0.3611111111111111 and parameters: {'DIMENSION': 134, 'EPOCHS': 186, 'LEARNING_RATE': 0.0001728288107199725, 'LEARNING_RATE_DECAY': 0.0006118823868542847, 'SIGMA': 16, 'SIGMA_DECAY': 0.07681109379598065}. Best is trial 21 with value: 0.7777777777777778.\n",
      "Training SOM: 100%|██████████| 176/176 [00:37<00:00,  4.68epoch/s]\n",
      "/opt/anaconda3/lib/python3.12/site-packages/sklearn/metrics/_classification.py:1531: UndefinedMetricWarning: Precision is ill-defined and being set to 0.0 in labels with no predicted samples. Use `zero_division` parameter to control this behavior.\n",
      "  _warn_prf(average, modifier, f\"{metric.capitalize()} is\", len(result))\n",
      "/opt/anaconda3/lib/python3.12/site-packages/sklearn/metrics/_classification.py:1531: UndefinedMetricWarning: Precision is ill-defined and being set to 0.0 in labels with no predicted samples. Use `zero_division` parameter to control this behavior.\n",
      "  _warn_prf(average, modifier, f\"{metric.capitalize()} is\", len(result))\n",
      "/opt/anaconda3/lib/python3.12/site-packages/sklearn/metrics/_classification.py:1531: UndefinedMetricWarning: Precision is ill-defined and being set to 0.0 in labels with no predicted samples. Use `zero_division` parameter to control this behavior.\n",
      "  _warn_prf(average, modifier, f\"{metric.capitalize()} is\", len(result))\n",
      "[I 2024-12-30 14:02:16,828] Trial 26 finished with value: 0.3611111111111111 and parameters: {'DIMENSION': 145, 'EPOCHS': 176, 'LEARNING_RATE': 0.00011212874762639751, 'LEARNING_RATE_DECAY': 0.0001581201091309999, 'SIGMA': 13, 'SIGMA_DECAY': 0.08191551402691412}. Best is trial 21 with value: 0.7777777777777778.\n",
      "Training SOM: 100%|██████████| 192/192 [00:34<00:00,  5.62epoch/s]\n",
      "[I 2024-12-30 14:02:51,235] Trial 27 finished with value: 0.6944444444444444 and parameters: {'DIMENSION': 132, 'EPOCHS': 192, 'LEARNING_RATE': 0.00024363374128079748, 'LEARNING_RATE_DECAY': 0.00019124636207409272, 'SIGMA': 15, 'SIGMA_DECAY': 0.059250960052457086}. Best is trial 21 with value: 0.7777777777777778.\n",
      "Training SOM: 100%|██████████| 190/190 [00:34<00:00,  5.54epoch/s]\n",
      "[I 2024-12-30 14:03:25,733] Trial 28 finished with value: 0.6111111111111112 and parameters: {'DIMENSION': 130, 'EPOCHS': 190, 'LEARNING_RATE': 0.0002177668176306221, 'LEARNING_RATE_DECAY': 0.000210188917033818, 'SIGMA': 12, 'SIGMA_DECAY': 0.05861579747791649}. Best is trial 21 with value: 0.7777777777777778.\n",
      "Training SOM: 100%|██████████| 174/174 [00:39<00:00,  4.36epoch/s]\n",
      "/opt/anaconda3/lib/python3.12/site-packages/sklearn/metrics/_classification.py:1531: UndefinedMetricWarning: Precision is ill-defined and being set to 0.0 in labels with no predicted samples. Use `zero_division` parameter to control this behavior.\n",
      "  _warn_prf(average, modifier, f\"{metric.capitalize()} is\", len(result))\n",
      "/opt/anaconda3/lib/python3.12/site-packages/sklearn/metrics/_classification.py:1531: UndefinedMetricWarning: Precision is ill-defined and being set to 0.0 in labels with no predicted samples. Use `zero_division` parameter to control this behavior.\n",
      "  _warn_prf(average, modifier, f\"{metric.capitalize()} is\", len(result))\n",
      "/opt/anaconda3/lib/python3.12/site-packages/sklearn/metrics/_classification.py:1531: UndefinedMetricWarning: Precision is ill-defined and being set to 0.0 in labels with no predicted samples. Use `zero_division` parameter to control this behavior.\n",
      "  _warn_prf(average, modifier, f\"{metric.capitalize()} is\", len(result))\n",
      "[I 2024-12-30 14:04:05,919] Trial 29 finished with value: 0.3055555555555556 and parameters: {'DIMENSION': 150, 'EPOCHS': 174, 'LEARNING_RATE': 0.00015581976539427616, 'LEARNING_RATE_DECAY': 0.0014555219634914207, 'SIGMA': 17, 'SIGMA_DECAY': 0.09774968657465244}. Best is trial 21 with value: 0.7777777777777778.\n"
     ]
    },
    {
     "name": "stdout",
     "output_type": "stream",
     "text": [
      "Best parameters: {'DIMENSION': 150, 'EPOCHS': 190, 'LEARNING_RATE': 0.00024145409895647447, 'LEARNING_RATE_DECAY': 0.00017608625358495866, 'SIGMA': 14, 'SIGMA_DECAY': 0.09344589365143731}\n",
      "Best accuracy: 0.7777777777777778\n"
     ]
    }
   ],
   "source": [
    "import optuna\n",
    "from sklearn.metrics import classification_report\n",
    "\n",
    "def objective(trial):\n",
    "    # Suggest parameters\n",
    "    DIMENSION = trial.suggest_int(\"DIMENSION\", 70, 150)\n",
    "    EPOCHS = trial.suggest_int(\"EPOCHS\", 70, 200)\n",
    "    LEARNING_RATE = trial.suggest_float(\"LEARNING_RATE\", 1e-4, 1e-2, log = True)\n",
    "    LEARNING_RATE_DECAY = trial.suggest_float(\"LEARNING_RATE_DECAY\", 1e-4, 1e-2, log = True)\n",
    "    SIGMA = trial.suggest_int(\"SIGMA\", 10, 25)\n",
    "    SIGMA_DECAY = trial.suggest_float(\"SIGMA_DECAY\", 1e-2, 1e-1, log=True)\n",
    "    \n",
    "    # Train SOM with suggested parameters\n",
    "    som_wine = SOM(\n",
    "        [28, 28],\n",
    "        wine_x_train,\n",
    "        DIMENSION,\n",
    "        EPOCHS,\n",
    "        LEARNING_RATE,\n",
    "        LEARNING_RATE_DECAY,\n",
    "        SIGMA,\n",
    "        SIGMA_DECAY,\n",
    "        showMode=0\n",
    "    )\n",
    "    \n",
    "    label_map = createLabelMap(som_wine, wine_x_train, wine_y_train)\n",
    "    test_predictions = classifySOM(som_wine, label_map, wine_x_test)\n",
    "    \n",
    "    # Evaluate performance\n",
    "    score = classification_report(wine_y_test, test_predictions, output_dict=True)[\"accuracy\"]\n",
    "    return score\n",
    "\n",
    "# Run Bayesian optimization\n",
    "study = optuna.create_study(direction=\"maximize\")\n",
    "study.optimize(objective, n_trials=30)\n",
    "\n",
    "print(\"Best parameters:\", study.best_params)\n",
    "print(\"Best accuracy:\", study.best_value)\n"
   ]
  },
  {
   "cell_type": "markdown",
   "metadata": {},
   "source": [
    "Best parameters: {'DIMENSION': 150, 'EPOCHS': 190, 'LEARNING_RATE': 0.00024145409895647447, 'LEARNING_RATE_DECAY': 0.00017608625358495866, 'SIGMA': 14, 'SIGMA_DECAY': 0.09344589365143731}\n",
    "Best accuracy: 0.7777777777777778"
   ]
  },
  {
   "cell_type": "code",
   "execution_count": null,
   "metadata": {},
   "outputs": [
    {
     "name": "stderr",
     "output_type": "stream",
     "text": [
      "Training SOM: 100%|██████████| 190/190 [01:25<00:00,  2.21epoch/s]\n"
     ]
    },
    {
     "name": "stdout",
     "output_type": "stream",
     "text": [
      "Classification Report for Test Set\n",
      "              precision    recall  f1-score   support\n",
      "\n",
      "           0       0.93      0.93      0.93        14\n",
      "           1       0.80      0.62      0.70        13\n",
      "           2       0.58      0.78      0.67         9\n",
      "\n",
      "    accuracy                           0.78        36\n",
      "   macro avg       0.77      0.77      0.76        36\n",
      "weighted avg       0.80      0.78      0.78        36\n",
      "\n"
     ]
    },
    {
     "data": {
      "image/png": "[encoded data removed]",
      "text/plain": [
       "<Figure size 1000x800 with 2 Axes>"
      ]
     },
     "metadata": {},
     "output_type": "display_data"
    }
   ],
   "source": [
    "from scipy.stats import uniform\n",
    "from sklearn.model_selection import RandomizedSearchCV\n",
    "DIMENSION = 200\n",
    "EPOCHS = 190\n",
    "LEARNING_RATE = 0.00024145409895647447\n",
    "LEARNING_RATE_DECAY = 0.00017608625358495866\n",
    "SIGMA = 14\n",
    "SIGMA_DECAY = 0.09344589365143731\n",
    "\n",
    "\n",
    "som_wine = SOM([28,28],wine_x_train, DIMENSION,EPOCHS,LEARNING_RATE,LEARNING_RATE_DECAY,SIGMA,SIGMA_DECAY, showMode=0)\n",
    "\n",
    "label_map = createLabelMap(som_wine, wine_x_train, wine_y_train)\n",
    "\n",
    "# Classify test data\n",
    "predictions = classifySOM(som_wine, label_map, wine_x_train)\n",
    "\n",
    "\n",
    "# Classify on training set\n",
    "train_predictions = classifySOM(som_wine, label_map, wine_x_train)\n",
    "\n",
    "# Classify on test set\n",
    "test_predictions = classifySOM(som_wine, label_map, wine_x_test)\n",
    "\n",
    "print(\"Classification Report for Test Set\")\n",
    "print(classification_report(wine_y_test, test_predictions))\n",
    "plot_confusion_matrix(wine_y_test, test_predictions, title=\"Confusion Matrix - Test Set\")\n"
   ]
  },
  {
   "cell_type": "markdown",
   "metadata": {},
   "source": [
    "#### Car eval"
   ]
  },
  {
   "cell_type": "code",
   "execution_count": 51,
   "metadata": {},
   "outputs": [
    {
     "name": "stderr",
     "output_type": "stream",
     "text": [
      "[I 2024-12-30 15:58:29,380] A new study created in memory with name: no-name-05489650-a9bf-4a36-a442-1ce8df4bca9d\n",
      "Training SOM: 100%|██████████| 72/72 [03:39<00:00,  3.05s/epoch]\n",
      "[I 2024-12-30 16:02:11,644] Trial 0 finished with value: 0.3988439306358382 and parameters: {'DIMENSION': 189, 'EPOCHS': 72, 'LEARNING_RATE': 0.0035247193115559763, 'LEARNING_RATE_DECAY': 0.0007642631280902845, 'SIGMA': 18, 'SIGMA_DECAY': 0.026228520538181296}. Best is trial 0 with value: 0.3988439306358382.\n",
      "Training SOM: 100%|██████████| 106/106 [04:51<00:00,  2.75s/epoch]\n",
      "[I 2024-12-30 16:07:04,942] Trial 1 finished with value: 0.6763005780346821 and parameters: {'DIMENSION': 189, 'EPOCHS': 106, 'LEARNING_RATE': 0.00885418754725835, 'LEARNING_RATE_DECAY': 0.0011866252987578233, 'SIGMA': 16, 'SIGMA_DECAY': 0.0692903250766259}. Best is trial 1 with value: 0.6763005780346821.\n",
      "Training SOM: 100%|██████████| 130/130 [03:22<00:00,  1.56s/epoch]\n",
      "[I 2024-12-30 16:10:28,994] Trial 2 finished with value: 0.6271676300578035 and parameters: {'DIMENSION': 137, 'EPOCHS': 130, 'LEARNING_RATE': 0.008449177413084902, 'LEARNING_RATE_DECAY': 0.003789022986058182, 'SIGMA': 13, 'SIGMA_DECAY': 0.04279827324234784}. Best is trial 1 with value: 0.6763005780346821.\n",
      "Training SOM: 100%|██████████| 161/161 [05:14<00:00,  1.95s/epoch]\n",
      "[I 2024-12-30 16:15:44,958] Trial 3 finished with value: 0.6069364161849711 and parameters: {'DIMENSION': 149, 'EPOCHS': 161, 'LEARNING_RATE': 0.006975625096787073, 'LEARNING_RATE_DECAY': 0.0003094531612242237, 'SIGMA': 23, 'SIGMA_DECAY': 0.030790935971861017}. Best is trial 1 with value: 0.6763005780346821.\n",
      "Training SOM: 100%|██████████| 195/195 [07:13<00:00,  2.22s/epoch]\n",
      "[I 2024-12-30 16:23:01,388] Trial 4 finished with value: 0.5895953757225434 and parameters: {'DIMENSION': 164, 'EPOCHS': 195, 'LEARNING_RATE': 0.0007859130895495549, 'LEARNING_RATE_DECAY': 0.0007264852438114302, 'SIGMA': 17, 'SIGMA_DECAY': 0.02235714058852931}. Best is trial 1 with value: 0.6763005780346821.\n",
      "Training SOM: 100%|██████████| 130/130 [02:13<00:00,  1.03s/epoch]\n",
      "[I 2024-12-30 16:25:15,741] Trial 5 finished with value: 0.6127167630057804 and parameters: {'DIMENSION': 105, 'EPOCHS': 130, 'LEARNING_RATE': 0.004143905851394854, 'LEARNING_RATE_DECAY': 0.004702240813702674, 'SIGMA': 15, 'SIGMA_DECAY': 0.02627424811320747}. Best is trial 1 with value: 0.6763005780346821.\n",
      "Training SOM: 100%|██████████| 92/92 [04:03<00:00,  2.65s/epoch]\n",
      "[I 2024-12-30 16:29:21,357] Trial 6 finished with value: 0.3265895953757225 and parameters: {'DIMENSION': 178, 'EPOCHS': 92, 'LEARNING_RATE': 0.001308314662532546, 'LEARNING_RATE_DECAY': 0.00014253357468651262, 'SIGMA': 15, 'SIGMA_DECAY': 0.018330467895656274}. Best is trial 1 with value: 0.6763005780346821.\n",
      "Training SOM: 100%|██████████| 179/179 [01:54<00:00,  1.57epoch/s]\n",
      "[I 2024-12-30 16:31:16,001] Trial 7 finished with value: 0.476878612716763 and parameters: {'DIMENSION': 87, 'EPOCHS': 179, 'LEARNING_RATE': 0.00015128696098081442, 'LEARNING_RATE_DECAY': 0.0005058890578431761, 'SIGMA': 12, 'SIGMA_DECAY': 0.05149552918048463}. Best is trial 1 with value: 0.6763005780346821.\n",
      "Training SOM: 100%|██████████| 176/176 [05:26<00:00,  1.85s/epoch]\n",
      "[I 2024-12-30 16:36:43,665] Trial 8 finished with value: 0.5086705202312138 and parameters: {'DIMENSION': 156, 'EPOCHS': 176, 'LEARNING_RATE': 0.0005809134279821708, 'LEARNING_RATE_DECAY': 0.0001065979957493741, 'SIGMA': 13, 'SIGMA_DECAY': 0.09220052282498009}. Best is trial 1 with value: 0.6763005780346821.\n",
      "Training SOM: 100%|██████████| 196/196 [05:16<00:00,  1.61s/epoch]\n",
      "[I 2024-12-30 16:42:00,991] Trial 9 finished with value: 0.523121387283237 and parameters: {'DIMENSION': 135, 'EPOCHS': 196, 'LEARNING_RATE': 0.0016554613105578936, 'LEARNING_RATE_DECAY': 0.0018057163986538037, 'SIGMA': 21, 'SIGMA_DECAY': 0.016445437661911002}. Best is trial 1 with value: 0.6763005780346821.\n",
      "Training SOM: 100%|██████████| 101/101 [00:37<00:00,  2.66epoch/s]\n",
      "[I 2024-12-30 16:42:39,266] Trial 10 finished with value: 0.5057803468208093 and parameters: {'DIMENSION': 60, 'EPOCHS': 101, 'LEARNING_RATE': 0.0002916366256146676, 'LEARNING_RATE_DECAY': 0.0019156808432357873, 'SIGMA': 10, 'SIGMA_DECAY': 0.08551818259816404}. Best is trial 1 with value: 0.6763005780346821.\n",
      "Training SOM: 100%|██████████| 132/132 [02:20<00:00,  1.07s/epoch]\n",
      "[I 2024-12-30 16:45:00,985] Trial 11 finished with value: 0.6676300578034682 and parameters: {'DIMENSION': 116, 'EPOCHS': 132, 'LEARNING_RATE': 0.009934333947014842, 'LEARNING_RATE_DECAY': 0.00975323027934751, 'SIGMA': 18, 'SIGMA_DECAY': 0.05136269216182241}. Best is trial 1 with value: 0.6763005780346821.\n",
      "Training SOM: 100%|██████████| 111/111 [01:46<00:00,  1.05epoch/s]\n",
      "[I 2024-12-30 16:46:47,733] Trial 12 finished with value: 0.7225433526011561 and parameters: {'DIMENSION': 110, 'EPOCHS': 111, 'LEARNING_RATE': 0.009547280780622459, 'LEARNING_RATE_DECAY': 0.009444201386650192, 'SIGMA': 19, 'SIGMA_DECAY': 0.05825968779232311}. Best is trial 12 with value: 0.7225433526011561.\n",
      "Training SOM: 100%|██████████| 108/108 [01:05<00:00,  1.64epoch/s]\n",
      "[I 2024-12-30 16:47:53,857] Trial 13 finished with value: 0.6416184971098265 and parameters: {'DIMENSION': 83, 'EPOCHS': 108, 'LEARNING_RATE': 0.002755234900135725, 'LEARNING_RATE_DECAY': 0.009434580902995805, 'SIGMA': 21, 'SIGMA_DECAY': 0.0659627690219844}. Best is trial 12 with value: 0.7225433526011561.\n",
      "Training SOM: 100%|██████████| 113/113 [06:22<00:00,  3.39s/epoch]\n",
      "[I 2024-12-30 16:54:18,859] Trial 14 finished with value: 0.27167630057803466 and parameters: {'DIMENSION': 200, 'EPOCHS': 113, 'LEARNING_RATE': 0.005081300085653697, 'LEARNING_RATE_DECAY': 0.0017538768458874989, 'SIGMA': 20, 'SIGMA_DECAY': 0.011123739390639462}. Best is trial 12 with value: 0.7225433526011561.\n",
      "Training SOM: 100%|██████████| 82/82 [01:03<00:00,  1.29epoch/s]\n",
      "[I 2024-12-30 16:55:22,814] Trial 15 finished with value: 0.615606936416185 and parameters: {'DIMENSION': 93, 'EPOCHS': 82, 'LEARNING_RATE': 0.0021086543160393338, 'LEARNING_RATE_DECAY': 0.0035893469037583483, 'SIGMA': 25, 'SIGMA_DECAY': 0.0682392868240491}. Best is trial 12 with value: 0.7225433526011561.\n",
      "Training SOM: 100%|██████████| 151/151 [01:09<00:00,  2.17epoch/s]\n",
      "[I 2024-12-30 16:56:32,734] Trial 16 finished with value: 0.6878612716763006 and parameters: {'DIMENSION': 64, 'EPOCHS': 151, 'LEARNING_RATE': 0.004684752518947963, 'LEARNING_RATE_DECAY': 0.0002809140288205119, 'SIGMA': 16, 'SIGMA_DECAY': 0.04151559963310901}. Best is trial 12 with value: 0.7225433526011561.\n",
      "Training SOM: 100%|██████████| 152/152 [01:04<00:00,  2.37epoch/s]\n",
      "[I 2024-12-30 16:57:37,241] Trial 17 finished with value: 0.6647398843930635 and parameters: {'DIMENSION': 57, 'EPOCHS': 152, 'LEARNING_RATE': 0.005511765407764431, 'LEARNING_RATE_DECAY': 0.0002672605590708556, 'SIGMA': 19, 'SIGMA_DECAY': 0.039399754734614344}. Best is trial 12 with value: 0.7225433526011561.\n",
      "Training SOM: 100%|██████████| 148/148 [01:34<00:00,  1.57epoch/s]\n",
      "[I 2024-12-30 16:59:11,721] Trial 18 finished with value: 0.6907514450867052 and parameters: {'DIMENSION': 71, 'EPOCHS': 148, 'LEARNING_RATE': 0.0027156045574253255, 'LEARNING_RATE_DECAY': 0.00024758174316303906, 'SIGMA': 23, 'SIGMA_DECAY': 0.039568272280411196}. Best is trial 12 with value: 0.7225433526011561.\n",
      "Training SOM: 100%|██████████| 122/122 [01:13<00:00,  1.66epoch/s]\n",
      "[I 2024-12-30 17:00:25,494] Trial 19 finished with value: 0.5317919075144508 and parameters: {'DIMENSION': 71, 'EPOCHS': 122, 'LEARNING_RATE': 0.00045001756850087104, 'LEARNING_RATE_DECAY': 0.00016515747915267693, 'SIGMA': 23, 'SIGMA_DECAY': 0.05306558190871404}. Best is trial 12 with value: 0.7225433526011561.\n",
      "Training SOM: 100%|██████████| 143/143 [02:25<00:00,  1.02s/epoch]\n",
      "[I 2024-12-30 17:02:52,047] Trial 20 finished with value: 0.7109826589595376 and parameters: {'DIMENSION': 106, 'EPOCHS': 143, 'LEARNING_RATE': 0.002363597393499955, 'LEARNING_RATE_DECAY': 0.00044536297530654677, 'SIGMA': 25, 'SIGMA_DECAY': 0.03273728145974735}. Best is trial 12 with value: 0.7225433526011561.\n",
      "Training SOM: 100%|██████████| 148/148 [02:18<00:00,  1.07epoch/s]\n",
      "[I 2024-12-30 17:05:11,197] Trial 21 finished with value: 0.6907514450867052 and parameters: {'DIMENSION': 107, 'EPOCHS': 148, 'LEARNING_RATE': 0.002494042982933543, 'LEARNING_RATE_DECAY': 0.0004307169089912703, 'SIGMA': 25, 'SIGMA_DECAY': 0.03639319403366491}. Best is trial 12 with value: 0.7225433526011561.\n",
      "Training SOM: 100%|██████████| 141/141 [02:56<00:00,  1.25s/epoch]\n",
      "[I 2024-12-30 17:08:08,739] Trial 22 finished with value: 0.5953757225433526 and parameters: {'DIMENSION': 119, 'EPOCHS': 141, 'LEARNING_RATE': 0.0012095308825847458, 'LEARNING_RATE_DECAY': 0.00020201949447146625, 'SIGMA': 23, 'SIGMA_DECAY': 0.03220380226597409}. Best is trial 12 with value: 0.7225433526011561.\n",
      "Training SOM: 100%|██████████| 161/161 [02:12<00:00,  1.21epoch/s]\n",
      "[I 2024-12-30 17:10:21,902] Trial 23 finished with value: 0.653179190751445 and parameters: {'DIMENSION': 98, 'EPOCHS': 161, 'LEARNING_RATE': 0.0030021960134963056, 'LEARNING_RATE_DECAY': 0.0005011607808342337, 'SIGMA': 24, 'SIGMA_DECAY': 0.056150184235364116}. Best is trial 12 with value: 0.7225433526011561.\n",
      "Training SOM: 100%|██████████| 118/118 [01:14<00:00,  1.57epoch/s]\n",
      "[I 2024-12-30 17:11:37,286] Trial 24 finished with value: 0.615606936416185 and parameters: {'DIMENSION': 74, 'EPOCHS': 118, 'LEARNING_RATE': 0.0017499701015321215, 'LEARNING_RATE_DECAY': 0.0010559684088998276, 'SIGMA': 22, 'SIGMA_DECAY': 0.0319207841093828}. Best is trial 12 with value: 0.7225433526011561.\n",
      "Training SOM: 100%|██████████| 167/167 [03:48<00:00,  1.37s/epoch]\n",
      "[I 2024-12-30 17:15:26,688] Trial 25 finished with value: 0.6040462427745664 and parameters: {'DIMENSION': 131, 'EPOCHS': 167, 'LEARNING_RATE': 0.0009787602005848573, 'LEARNING_RATE_DECAY': 0.00040740350240703804, 'SIGMA': 25, 'SIGMA_DECAY': 0.04460822215222337}. Best is trial 12 with value: 0.7225433526011561.\n",
      "Training SOM: 100%|██████████| 140/140 [02:40<00:00,  1.14s/epoch]\n",
      "[I 2024-12-30 17:18:07,616] Trial 26 finished with value: 0.3930635838150289 and parameters: {'DIMENSION': 113, 'EPOCHS': 140, 'LEARNING_RATE': 0.006307679796903146, 'LEARNING_RATE_DECAY': 0.00010147980136244786, 'SIGMA': 20, 'SIGMA_DECAY': 0.023023725613407924}. Best is trial 12 with value: 0.7225433526011561.\n",
      "Training SOM: 100%|██████████| 93/93 [01:01<00:00,  1.51epoch/s]\n",
      "[I 2024-12-30 17:19:09,661] Trial 27 finished with value: 0.6791907514450867 and parameters: {'DIMENSION': 78, 'EPOCHS': 93, 'LEARNING_RATE': 0.0036635427147840103, 'LEARNING_RATE_DECAY': 0.006337106231718702, 'SIGMA': 22, 'SIGMA_DECAY': 0.058759123724061085}. Best is trial 12 with value: 0.7225433526011561.\n",
      "Training SOM: 100%|██████████| 123/123 [01:59<00:00,  1.03epoch/s]\n",
      "[I 2024-12-30 17:21:10,415] Trial 28 finished with value: 0.684971098265896 and parameters: {'DIMENSION': 98, 'EPOCHS': 123, 'LEARNING_RATE': 0.0019129672166547154, 'LEARNING_RATE_DECAY': 0.0007178411694667406, 'SIGMA': 24, 'SIGMA_DECAY': 0.036491821013282945}. Best is trial 12 with value: 0.7225433526011561.\n",
      "Training SOM: 100%|██████████| 78/78 [00:30<00:00,  2.56epoch/s]\n",
      "[I 2024-12-30 17:21:41,139] Trial 29 finished with value: 0.661849710982659 and parameters: {'DIMENSION': 50, 'EPOCHS': 78, 'LEARNING_RATE': 0.003255103884162126, 'LEARNING_RATE_DECAY': 0.0025615308579539447, 'SIGMA': 20, 'SIGMA_DECAY': 0.07610800645885037}. Best is trial 12 with value: 0.7225433526011561.\n"
     ]
    },
    {
     "name": "stdout",
     "output_type": "stream",
     "text": [
      "Best parameters: {'DIMENSION': 110, 'EPOCHS': 111, 'LEARNING_RATE': 0.009547280780622459, 'LEARNING_RATE_DECAY': 0.009444201386650192, 'SIGMA': 19, 'SIGMA_DECAY': 0.05825968779232311}\n",
      "Best accuracy: 0.7225433526011561\n"
     ]
    }
   ],
   "source": [
    "import optuna\n",
    "from sklearn.metrics import classification_report\n",
    "\n",
    "def objective(trial):\n",
    "    # Suggest parameters\n",
    "    DIMENSION = trial.suggest_int(\"DIMENSION\", 50, 200)\n",
    "    EPOCHS = trial.suggest_int(\"EPOCHS\", 70, 200)\n",
    "    LEARNING_RATE = trial.suggest_float(\"LEARNING_RATE\", 1e-4, 1e-2, log = True)\n",
    "    LEARNING_RATE_DECAY = trial.suggest_float(\"LEARNING_RATE_DECAY\", 1e-4, 1e-2, log = True)\n",
    "    SIGMA = trial.suggest_int(\"SIGMA\", 10, 25)\n",
    "    SIGMA_DECAY = trial.suggest_float(\"SIGMA_DECAY\", 1e-2, 1e-1, log=True)\n",
    "    \n",
    "    # Train SOM with suggested parameters\n",
    "    som_car = SOM(\n",
    "        [28, 28],\n",
    "        car_x_train,\n",
    "        DIMENSION,\n",
    "        EPOCHS,\n",
    "        LEARNING_RATE,\n",
    "        LEARNING_RATE_DECAY,\n",
    "        SIGMA,\n",
    "        SIGMA_DECAY,\n",
    "        showMode=0\n",
    "    )\n",
    "    \n",
    "    label_map = createLabelMap(som_car, car_x_train, car_y_train)\n",
    "    test_predictions = classifySOM(som_car, label_map, car_x_test)\n",
    "    \n",
    "    # Evaluate performance\n",
    "    score = classification_report(car_y_test, test_predictions, output_dict=True)[\"accuracy\"]\n",
    "    return score\n",
    "\n",
    "# Run Bayesian optimization\n",
    "study = optuna.create_study(direction=\"maximize\")\n",
    "study.optimize(objective, n_trials=30)\n",
    "\n",
    "print(\"Best parameters:\", study.best_params)\n",
    "print(\"Best accuracy:\", study.best_value)\n"
   ]
  },
  {
   "cell_type": "markdown",
   "metadata": {},
   "source": [
    "Best parameters: {'DIMENSION': 110, 'EPOCHS': 111, 'LEARNING_RATE': 0.009547280780622459, 'LEARNING_RATE_DECAY': 0.009444201386650192, 'SIGMA': 19, 'SIGMA_DECAY': 0.05825968779232311}\n",
    "Best accuracy: 0.7225433526011561"
   ]
  },
  {
   "cell_type": "code",
   "execution_count": 54,
   "metadata": {},
   "outputs": [
    {
     "name": "stderr",
     "output_type": "stream",
     "text": [
      "Training SOM: 100%|██████████| 111/111 [01:48<00:00,  1.03epoch/s]\n"
     ]
    },
    {
     "name": "stdout",
     "output_type": "stream",
     "text": [
      "Classification Report for Test Set\n",
      "              precision    recall  f1-score   support\n",
      "\n",
      "           0       0.34      0.59      0.43        59\n",
      "           1       0.40      0.57      0.47        14\n",
      "           2       0.92      0.75      0.82       260\n",
      "           3       0.55      0.46      0.50        13\n",
      "\n",
      "    accuracy                           0.70       346\n",
      "   macro avg       0.55      0.59      0.56       346\n",
      "weighted avg       0.78      0.70      0.73       346\n",
      "\n"
     ]
    },
    {
     "data": {
      "image/png": "[encoded data removed]",
      "text/plain": [
       "<Figure size 1000x800 with 2 Axes>"
      ]
     },
     "metadata": {},
     "output_type": "display_data"
    }
   ],
   "source": [
    "from scipy.stats import uniform\n",
    "from sklearn.model_selection import RandomizedSearchCV\n",
    "DIMENSION = 110\n",
    "EPOCHS = 111\n",
    "LEARNING_RATE = 0.009547280780622459\n",
    "LEARNING_RATE_DECAY = 0.009444201386650192\n",
    "SIGMA = 19\n",
    "SIGMA_DECAY = 0.05825968779232311\n",
    "\n",
    "\n",
    "som_car = SOM([28,28],car_x_train, DIMENSION,EPOCHS,LEARNING_RATE,LEARNING_RATE_DECAY,SIGMA,SIGMA_DECAY, showMode=0)\n",
    "\n",
    "label_map = createLabelMap(som_car, car_x_train, car_y_train)\n",
    "\n",
    "# Classify test data\n",
    "predictions = classifySOM(som_car, label_map, car_x_train)\n",
    "\n",
    "# Classify on test set\n",
    "test_predictions = classifySOM(som_car, label_map, car_x_test)\n",
    "\n",
    "print(\"Classification Report for Test Set\")\n",
    "print(classification_report(car_y_test, test_predictions))\n",
    "plot_confusion_matrix(car_y_test, test_predictions, title=\"Confusion Matrix - Test Set\")\n"
   ]
  },
  {
   "cell_type": "markdown",
   "metadata": {},
   "source": [
    "#### Arrythmia"
   ]
  },
  {
   "cell_type": "code",
   "execution_count": 97,
   "metadata": {},
   "outputs": [
    {
     "name": "stderr",
     "output_type": "stream",
     "text": [
      "[I 2024-12-30 18:25:19,908] A new study created in memory with name: no-name-da835d14-9907-4c86-89b9-8a11ae99c6f0\n",
      "Training SOM: 100%|██████████| 152/152 [22:00<00:00,  8.69s/epoch]\n",
      "/opt/anaconda3/lib/python3.12/site-packages/sklearn/metrics/_classification.py:1531: UndefinedMetricWarning: Precision is ill-defined and being set to 0.0 in labels with no predicted samples. Use `zero_division` parameter to control this behavior.\n",
      "  _warn_prf(average, modifier, f\"{metric.capitalize()} is\", len(result))\n",
      "/opt/anaconda3/lib/python3.12/site-packages/sklearn/metrics/_classification.py:1531: UndefinedMetricWarning: Precision is ill-defined and being set to 0.0 in labels with no predicted samples. Use `zero_division` parameter to control this behavior.\n",
      "  _warn_prf(average, modifier, f\"{metric.capitalize()} is\", len(result))\n",
      "/opt/anaconda3/lib/python3.12/site-packages/sklearn/metrics/_classification.py:1531: UndefinedMetricWarning: Precision is ill-defined and being set to 0.0 in labels with no predicted samples. Use `zero_division` parameter to control this behavior.\n",
      "  _warn_prf(average, modifier, f\"{metric.capitalize()} is\", len(result))\n",
      "[I 2024-12-30 18:47:31,251] Trial 0 finished with value: 0.01098901098901099 and parameters: {'DIMENSION': 146, 'EPOCHS': 152, 'LEARNING_RATE': 0.0002667112104851474, 'LEARNING_RATE_DECAY': 0.00046451240879922834, 'SIGMA': 14, 'SIGMA_DECAY': 0.08521120756753868}. Best is trial 0 with value: 0.01098901098901099.\n",
      "Training SOM: 100%|██████████| 117/117 [17:45<00:00,  9.11s/epoch]\n",
      "/opt/anaconda3/lib/python3.12/site-packages/sklearn/metrics/_classification.py:1531: UndefinedMetricWarning: Precision is ill-defined and being set to 0.0 in labels with no predicted samples. Use `zero_division` parameter to control this behavior.\n",
      "  _warn_prf(average, modifier, f\"{metric.capitalize()} is\", len(result))\n",
      "/opt/anaconda3/lib/python3.12/site-packages/sklearn/metrics/_classification.py:1531: UndefinedMetricWarning: Precision is ill-defined and being set to 0.0 in labels with no predicted samples. Use `zero_division` parameter to control this behavior.\n",
      "  _warn_prf(average, modifier, f\"{metric.capitalize()} is\", len(result))\n",
      "/opt/anaconda3/lib/python3.12/site-packages/sklearn/metrics/_classification.py:1531: UndefinedMetricWarning: Precision is ill-defined and being set to 0.0 in labels with no predicted samples. Use `zero_division` parameter to control this behavior.\n",
      "  _warn_prf(average, modifier, f\"{metric.capitalize()} is\", len(result))\n",
      "[I 2024-12-30 19:05:26,991] Trial 1 finished with value: 0.01098901098901099 and parameters: {'DIMENSION': 148, 'EPOCHS': 117, 'LEARNING_RATE': 0.00011780337369496982, 'LEARNING_RATE_DECAY': 0.005646248699166863, 'SIGMA': 20, 'SIGMA_DECAY': 0.027423923639975638}. Best is trial 0 with value: 0.01098901098901099.\n",
      "Training SOM: 100%|██████████| 182/182 [20:28<00:00,  6.75s/epoch]\n",
      "/opt/anaconda3/lib/python3.12/site-packages/sklearn/metrics/_classification.py:1531: UndefinedMetricWarning: Precision is ill-defined and being set to 0.0 in labels with no predicted samples. Use `zero_division` parameter to control this behavior.\n",
      "  _warn_prf(average, modifier, f\"{metric.capitalize()} is\", len(result))\n",
      "/opt/anaconda3/lib/python3.12/site-packages/sklearn/metrics/_classification.py:1531: UndefinedMetricWarning: Precision is ill-defined and being set to 0.0 in labels with no predicted samples. Use `zero_division` parameter to control this behavior.\n",
      "  _warn_prf(average, modifier, f\"{metric.capitalize()} is\", len(result))\n",
      "/opt/anaconda3/lib/python3.12/site-packages/sklearn/metrics/_classification.py:1531: UndefinedMetricWarning: Precision is ill-defined and being set to 0.0 in labels with no predicted samples. Use `zero_division` parameter to control this behavior.\n",
      "  _warn_prf(average, modifier, f\"{metric.capitalize()} is\", len(result))\n",
      "[I 2024-12-30 19:26:03,555] Trial 2 finished with value: 0.01098901098901099 and parameters: {'DIMENSION': 125, 'EPOCHS': 182, 'LEARNING_RATE': 0.0002651269726438328, 'LEARNING_RATE_DECAY': 0.0026231124959760032, 'SIGMA': 12, 'SIGMA_DECAY': 0.014886394054018986}. Best is trial 0 with value: 0.01098901098901099.\n",
      "Training SOM: 100%|██████████| 88/88 [06:08<00:00,  4.19s/epoch]\n",
      "/opt/anaconda3/lib/python3.12/site-packages/sklearn/metrics/_classification.py:1531: UndefinedMetricWarning: Precision is ill-defined and being set to 0.0 in labels with no predicted samples. Use `zero_division` parameter to control this behavior.\n",
      "  _warn_prf(average, modifier, f\"{metric.capitalize()} is\", len(result))\n",
      "/opt/anaconda3/lib/python3.12/site-packages/sklearn/metrics/_classification.py:1531: UndefinedMetricWarning: Precision is ill-defined and being set to 0.0 in labels with no predicted samples. Use `zero_division` parameter to control this behavior.\n",
      "  _warn_prf(average, modifier, f\"{metric.capitalize()} is\", len(result))\n",
      "/opt/anaconda3/lib/python3.12/site-packages/sklearn/metrics/_classification.py:1531: UndefinedMetricWarning: Precision is ill-defined and being set to 0.0 in labels with no predicted samples. Use `zero_division` parameter to control this behavior.\n",
      "  _warn_prf(average, modifier, f\"{metric.capitalize()} is\", len(result))\n",
      "[I 2024-12-30 19:32:16,403] Trial 3 finished with value: 0.01098901098901099 and parameters: {'DIMENSION': 92, 'EPOCHS': 88, 'LEARNING_RATE': 0.00011459249839158903, 'LEARNING_RATE_DECAY': 0.0008900522449040709, 'SIGMA': 22, 'SIGMA_DECAY': 0.054877329763042125}. Best is trial 0 with value: 0.01098901098901099.\n",
      "Training SOM: 100%|██████████| 188/188 [07:32<00:00,  2.41s/epoch]\n",
      "/opt/anaconda3/lib/python3.12/site-packages/sklearn/metrics/_classification.py:1531: UndefinedMetricWarning: Precision is ill-defined and being set to 0.0 in labels with no predicted samples. Use `zero_division` parameter to control this behavior.\n",
      "  _warn_prf(average, modifier, f\"{metric.capitalize()} is\", len(result))\n",
      "/opt/anaconda3/lib/python3.12/site-packages/sklearn/metrics/_classification.py:1531: UndefinedMetricWarning: Precision is ill-defined and being set to 0.0 in labels with no predicted samples. Use `zero_division` parameter to control this behavior.\n",
      "  _warn_prf(average, modifier, f\"{metric.capitalize()} is\", len(result))\n",
      "/opt/anaconda3/lib/python3.12/site-packages/sklearn/metrics/_classification.py:1531: UndefinedMetricWarning: Precision is ill-defined and being set to 0.0 in labels with no predicted samples. Use `zero_division` parameter to control this behavior.\n",
      "  _warn_prf(average, modifier, f\"{metric.capitalize()} is\", len(result))\n",
      "[I 2024-12-30 19:39:51,367] Trial 4 finished with value: 0.01098901098901099 and parameters: {'DIMENSION': 73, 'EPOCHS': 188, 'LEARNING_RATE': 0.004595879309858925, 'LEARNING_RATE_DECAY': 0.001529245783401806, 'SIGMA': 10, 'SIGMA_DECAY': 0.07225948451378064}. Best is trial 0 with value: 0.01098901098901099.\n",
      "Training SOM: 100%|██████████| 100/100 [05:16<00:00,  3.16s/epoch]\n",
      "/opt/anaconda3/lib/python3.12/site-packages/sklearn/metrics/_classification.py:1531: UndefinedMetricWarning: Precision is ill-defined and being set to 0.0 in labels with no predicted samples. Use `zero_division` parameter to control this behavior.\n",
      "  _warn_prf(average, modifier, f\"{metric.capitalize()} is\", len(result))\n",
      "/opt/anaconda3/lib/python3.12/site-packages/sklearn/metrics/_classification.py:1531: UndefinedMetricWarning: Precision is ill-defined and being set to 0.0 in labels with no predicted samples. Use `zero_division` parameter to control this behavior.\n",
      "  _warn_prf(average, modifier, f\"{metric.capitalize()} is\", len(result))\n",
      "/opt/anaconda3/lib/python3.12/site-packages/sklearn/metrics/_classification.py:1531: UndefinedMetricWarning: Precision is ill-defined and being set to 0.0 in labels with no predicted samples. Use `zero_division` parameter to control this behavior.\n",
      "  _warn_prf(average, modifier, f\"{metric.capitalize()} is\", len(result))\n",
      "[I 2024-12-30 19:45:11,475] Trial 5 finished with value: 0.01098901098901099 and parameters: {'DIMENSION': 88, 'EPOCHS': 100, 'LEARNING_RATE': 0.0074123578373233535, 'LEARNING_RATE_DECAY': 0.000624351903570338, 'SIGMA': 10, 'SIGMA_DECAY': 0.08251570536804263}. Best is trial 0 with value: 0.01098901098901099.\n",
      "Training SOM: 100%|██████████| 122/122 [07:39<00:00,  3.76s/epoch]\n",
      "/opt/anaconda3/lib/python3.12/site-packages/sklearn/metrics/_classification.py:1531: UndefinedMetricWarning: Precision is ill-defined and being set to 0.0 in labels with no predicted samples. Use `zero_division` parameter to control this behavior.\n",
      "  _warn_prf(average, modifier, f\"{metric.capitalize()} is\", len(result))\n",
      "/opt/anaconda3/lib/python3.12/site-packages/sklearn/metrics/_classification.py:1531: UndefinedMetricWarning: Precision is ill-defined and being set to 0.0 in labels with no predicted samples. Use `zero_division` parameter to control this behavior.\n",
      "  _warn_prf(average, modifier, f\"{metric.capitalize()} is\", len(result))\n",
      "/opt/anaconda3/lib/python3.12/site-packages/sklearn/metrics/_classification.py:1531: UndefinedMetricWarning: Precision is ill-defined and being set to 0.0 in labels with no predicted samples. Use `zero_division` parameter to control this behavior.\n",
      "  _warn_prf(average, modifier, f\"{metric.capitalize()} is\", len(result))\n",
      "[I 2024-12-30 19:52:53,373] Trial 6 finished with value: 0.01098901098901099 and parameters: {'DIMENSION': 71, 'EPOCHS': 122, 'LEARNING_RATE': 0.0009938091386698252, 'LEARNING_RATE_DECAY': 0.00230016657509219, 'SIGMA': 19, 'SIGMA_DECAY': 0.01077006048533526}. Best is trial 0 with value: 0.01098901098901099.\n",
      "Training SOM: 100%|██████████| 118/118 [10:59<00:00,  5.59s/epoch]\n",
      "/opt/anaconda3/lib/python3.12/site-packages/sklearn/metrics/_classification.py:1531: UndefinedMetricWarning: Precision is ill-defined and being set to 0.0 in labels with no predicted samples. Use `zero_division` parameter to control this behavior.\n",
      "  _warn_prf(average, modifier, f\"{metric.capitalize()} is\", len(result))\n",
      "/opt/anaconda3/lib/python3.12/site-packages/sklearn/metrics/_classification.py:1531: UndefinedMetricWarning: Precision is ill-defined and being set to 0.0 in labels with no predicted samples. Use `zero_division` parameter to control this behavior.\n",
      "  _warn_prf(average, modifier, f\"{metric.capitalize()} is\", len(result))\n",
      "/opt/anaconda3/lib/python3.12/site-packages/sklearn/metrics/_classification.py:1531: UndefinedMetricWarning: Precision is ill-defined and being set to 0.0 in labels with no predicted samples. Use `zero_division` parameter to control this behavior.\n",
      "  _warn_prf(average, modifier, f\"{metric.capitalize()} is\", len(result))\n",
      "[I 2024-12-30 20:03:58,726] Trial 7 finished with value: 0.01098901098901099 and parameters: {'DIMENSION': 110, 'EPOCHS': 118, 'LEARNING_RATE': 0.0032102560619516004, 'LEARNING_RATE_DECAY': 0.001028202835666578, 'SIGMA': 18, 'SIGMA_DECAY': 0.01847605427235941}. Best is trial 0 with value: 0.01098901098901099.\n",
      "Training SOM: 100%|██████████| 113/113 [07:46<00:00,  4.12s/epoch]\n",
      "/opt/anaconda3/lib/python3.12/site-packages/sklearn/metrics/_classification.py:1531: UndefinedMetricWarning: Precision is ill-defined and being set to 0.0 in labels with no predicted samples. Use `zero_division` parameter to control this behavior.\n",
      "  _warn_prf(average, modifier, f\"{metric.capitalize()} is\", len(result))\n",
      "/opt/anaconda3/lib/python3.12/site-packages/sklearn/metrics/_classification.py:1531: UndefinedMetricWarning: Precision is ill-defined and being set to 0.0 in labels with no predicted samples. Use `zero_division` parameter to control this behavior.\n",
      "  _warn_prf(average, modifier, f\"{metric.capitalize()} is\", len(result))\n",
      "/opt/anaconda3/lib/python3.12/site-packages/sklearn/metrics/_classification.py:1531: UndefinedMetricWarning: Precision is ill-defined and being set to 0.0 in labels with no predicted samples. Use `zero_division` parameter to control this behavior.\n",
      "  _warn_prf(average, modifier, f\"{metric.capitalize()} is\", len(result))\n",
      "[I 2024-12-30 20:11:48,713] Trial 8 finished with value: 0.01098901098901099 and parameters: {'DIMENSION': 86, 'EPOCHS': 113, 'LEARNING_RATE': 0.0017624696255353642, 'LEARNING_RATE_DECAY': 0.008243979895480655, 'SIGMA': 23, 'SIGMA_DECAY': 0.03442770779020251}. Best is trial 0 with value: 0.01098901098901099.\n",
      "Training SOM: 100%|██████████| 188/188 [23:34<00:00,  7.52s/epoch]\n",
      "/opt/anaconda3/lib/python3.12/site-packages/sklearn/metrics/_classification.py:1531: UndefinedMetricWarning: Precision is ill-defined and being set to 0.0 in labels with no predicted samples. Use `zero_division` parameter to control this behavior.\n",
      "  _warn_prf(average, modifier, f\"{metric.capitalize()} is\", len(result))\n",
      "/opt/anaconda3/lib/python3.12/site-packages/sklearn/metrics/_classification.py:1531: UndefinedMetricWarning: Precision is ill-defined and being set to 0.0 in labels with no predicted samples. Use `zero_division` parameter to control this behavior.\n",
      "  _warn_prf(average, modifier, f\"{metric.capitalize()} is\", len(result))\n",
      "/opt/anaconda3/lib/python3.12/site-packages/sklearn/metrics/_classification.py:1531: UndefinedMetricWarning: Precision is ill-defined and being set to 0.0 in labels with no predicted samples. Use `zero_division` parameter to control this behavior.\n",
      "  _warn_prf(average, modifier, f\"{metric.capitalize()} is\", len(result))\n",
      "[I 2024-12-30 20:35:32,609] Trial 9 finished with value: 0.01098901098901099 and parameters: {'DIMENSION': 139, 'EPOCHS': 188, 'LEARNING_RATE': 0.0037175713473053536, 'LEARNING_RATE_DECAY': 0.0009930685624803767, 'SIGMA': 13, 'SIGMA_DECAY': 0.05067497588835119}. Best is trial 0 with value: 0.01098901098901099.\n",
      "Training SOM: 100%|██████████| 155/155 [15:52<00:00,  6.14s/epoch]\n",
      "/opt/anaconda3/lib/python3.12/site-packages/sklearn/metrics/_classification.py:1531: UndefinedMetricWarning: Precision is ill-defined and being set to 0.0 in labels with no predicted samples. Use `zero_division` parameter to control this behavior.\n",
      "  _warn_prf(average, modifier, f\"{metric.capitalize()} is\", len(result))\n",
      "/opt/anaconda3/lib/python3.12/site-packages/sklearn/metrics/_classification.py:1531: UndefinedMetricWarning: Precision is ill-defined and being set to 0.0 in labels with no predicted samples. Use `zero_division` parameter to control this behavior.\n",
      "  _warn_prf(average, modifier, f\"{metric.capitalize()} is\", len(result))\n",
      "/opt/anaconda3/lib/python3.12/site-packages/sklearn/metrics/_classification.py:1531: UndefinedMetricWarning: Precision is ill-defined and being set to 0.0 in labels with no predicted samples. Use `zero_division` parameter to control this behavior.\n",
      "  _warn_prf(average, modifier, f\"{metric.capitalize()} is\", len(result))\n",
      "[I 2024-12-30 20:51:32,165] Trial 10 finished with value: 0.01098901098901099 and parameters: {'DIMENSION': 123, 'EPOCHS': 155, 'LEARNING_RATE': 0.0004194271611016059, 'LEARNING_RATE_DECAY': 0.00017276753901007255, 'SIGMA': 15, 'SIGMA_DECAY': 0.09925964675620166}. Best is trial 0 with value: 0.01098901098901099.\n",
      "Training SOM: 100%|██████████| 147/147 [21:56<00:00,  8.96s/epoch]\n",
      "/opt/anaconda3/lib/python3.12/site-packages/sklearn/metrics/_classification.py:1531: UndefinedMetricWarning: Precision is ill-defined and being set to 0.0 in labels with no predicted samples. Use `zero_division` parameter to control this behavior.\n",
      "  _warn_prf(average, modifier, f\"{metric.capitalize()} is\", len(result))\n",
      "/opt/anaconda3/lib/python3.12/site-packages/sklearn/metrics/_classification.py:1531: UndefinedMetricWarning: Precision is ill-defined and being set to 0.0 in labels with no predicted samples. Use `zero_division` parameter to control this behavior.\n",
      "  _warn_prf(average, modifier, f\"{metric.capitalize()} is\", len(result))\n",
      "/opt/anaconda3/lib/python3.12/site-packages/sklearn/metrics/_classification.py:1531: UndefinedMetricWarning: Precision is ill-defined and being set to 0.0 in labels with no predicted samples. Use `zero_division` parameter to control this behavior.\n",
      "  _warn_prf(average, modifier, f\"{metric.capitalize()} is\", len(result))\n",
      "[I 2024-12-30 21:13:39,754] Trial 11 finished with value: 0.01098901098901099 and parameters: {'DIMENSION': 149, 'EPOCHS': 147, 'LEARNING_RATE': 0.00010370912715659463, 'LEARNING_RATE_DECAY': 0.0002790460424557534, 'SIGMA': 16, 'SIGMA_DECAY': 0.02942087183493839}. Best is trial 0 with value: 0.01098901098901099.\n",
      "Training SOM: 100%|██████████| 156/156 [24:52<00:00,  9.57s/epoch]\n",
      "/opt/anaconda3/lib/python3.12/site-packages/sklearn/metrics/_classification.py:1531: UndefinedMetricWarning: Precision is ill-defined and being set to 0.0 in labels with no predicted samples. Use `zero_division` parameter to control this behavior.\n",
      "  _warn_prf(average, modifier, f\"{metric.capitalize()} is\", len(result))\n",
      "/opt/anaconda3/lib/python3.12/site-packages/sklearn/metrics/_classification.py:1531: UndefinedMetricWarning: Precision is ill-defined and being set to 0.0 in labels with no predicted samples. Use `zero_division` parameter to control this behavior.\n",
      "  _warn_prf(average, modifier, f\"{metric.capitalize()} is\", len(result))\n",
      "/opt/anaconda3/lib/python3.12/site-packages/sklearn/metrics/_classification.py:1531: UndefinedMetricWarning: Precision is ill-defined and being set to 0.0 in labels with no predicted samples. Use `zero_division` parameter to control this behavior.\n",
      "  _warn_prf(average, modifier, f\"{metric.capitalize()} is\", len(result))\n",
      "[I 2024-12-30 21:38:43,523] Trial 12 finished with value: 0.01098901098901099 and parameters: {'DIMENSION': 150, 'EPOCHS': 156, 'LEARNING_RATE': 0.0002880880850806336, 'LEARNING_RATE_DECAY': 0.005474657259160545, 'SIGMA': 20, 'SIGMA_DECAY': 0.028237342312313923}. Best is trial 0 with value: 0.01098901098901099.\n",
      "Training SOM:  38%|███▊      | 28/73 [05:00<08:03, 10.75s/epoch]\n",
      "[W 2024-12-30 21:43:44,640] Trial 13 failed with parameters: {'DIMENSION': 132, 'EPOCHS': 73, 'LEARNING_RATE': 0.0006605398038472035, 'LEARNING_RATE_DECAY': 0.0005106471537416542, 'SIGMA': 25, 'SIGMA_DECAY': 0.03994388157043777} because of the following error: KeyboardInterrupt().\n",
      "Traceback (most recent call last):\n",
      "  File \"/opt/anaconda3/lib/python3.12/site-packages/optuna/study/_optimize.py\", line 197, in _run_trial\n",
      "    value_or_values = func(trial)\n",
      "                      ^^^^^^^^^^^\n",
      "  File \"/var/folders/v6/pl0_dkns3pdd4gyq5whvz4nr0000gn/T/ipykernel_18392/1991628241.py\", line 14, in objective\n",
      "    som_arr = SOM(\n",
      "              ^^^^\n",
      "  File \"/var/folders/v6/pl0_dkns3pdd4gyq5whvz4nr0000gn/T/ipykernel_18392/2152228980.py\", line 65, in SOM\n",
      "    dist = getEuclideanDistance(trainingVector, som);\n",
      "           ^^^^^^^^^^^^^^^^^^^^^^^^^^^^^^^^^^^^^^^^^\n",
      "  File \"/var/folders/v6/pl0_dkns3pdd4gyq5whvz4nr0000gn/T/ipykernel_18392/2152228980.py\", line 17, in getEuclideanDistance\n",
      "    dist = np.sum(dist, axis=1)\n",
      "           ^^^^^^^^^^^^^^^^^^^^\n",
      "  File \"/opt/anaconda3/lib/python3.12/site-packages/numpy/core/fromnumeric.py\", line 2172, in _sum_dispatcher\n",
      "    def _sum_dispatcher(a, axis=None, dtype=None, out=None, keepdims=None,\n",
      "    \n",
      "KeyboardInterrupt\n",
      "[W 2024-12-30 21:43:44,643] Trial 13 failed with value None.\n"
     ]
    },
    {
     "ename": "KeyboardInterrupt",
     "evalue": "",
     "output_type": "error",
     "traceback": [
      "\u001b[0;31m---------------------------------------------------------------------------\u001b[0m",
      "\u001b[0;31mKeyboardInterrupt\u001b[0m                         Traceback (most recent call last)",
      "Cell \u001b[0;32mIn[97], line 35\u001b[0m\n\u001b[1;32m     33\u001b[0m \u001b[38;5;66;03m# Run Bayesian optimization\u001b[39;00m\n\u001b[1;32m     34\u001b[0m study \u001b[38;5;241m=\u001b[39m optuna\u001b[38;5;241m.\u001b[39mcreate_study(direction\u001b[38;5;241m=\u001b[39m\u001b[38;5;124m\"\u001b[39m\u001b[38;5;124mmaximize\u001b[39m\u001b[38;5;124m\"\u001b[39m)\n\u001b[0;32m---> 35\u001b[0m study\u001b[38;5;241m.\u001b[39moptimize(objective, n_trials\u001b[38;5;241m=\u001b[39m\u001b[38;5;241m30\u001b[39m)\n\u001b[1;32m     37\u001b[0m \u001b[38;5;28mprint\u001b[39m(\u001b[38;5;124m\"\u001b[39m\u001b[38;5;124mBest parameters:\u001b[39m\u001b[38;5;124m\"\u001b[39m, study\u001b[38;5;241m.\u001b[39mbest_params)\n\u001b[1;32m     38\u001b[0m \u001b[38;5;28mprint\u001b[39m(\u001b[38;5;124m\"\u001b[39m\u001b[38;5;124mBest accuracy:\u001b[39m\u001b[38;5;124m\"\u001b[39m, study\u001b[38;5;241m.\u001b[39mbest_value)\n",
      "File \u001b[0;32m/opt/anaconda3/lib/python3.12/site-packages/optuna/study/study.py:475\u001b[0m, in \u001b[0;36mStudy.optimize\u001b[0;34m(self, func, n_trials, timeout, n_jobs, catch, callbacks, gc_after_trial, show_progress_bar)\u001b[0m\n\u001b[1;32m    373\u001b[0m \u001b[38;5;28;01mdef\u001b[39;00m \u001b[38;5;21moptimize\u001b[39m(\n\u001b[1;32m    374\u001b[0m     \u001b[38;5;28mself\u001b[39m,\n\u001b[1;32m    375\u001b[0m     func: ObjectiveFuncType,\n\u001b[0;32m   (...)\u001b[0m\n\u001b[1;32m    382\u001b[0m     show_progress_bar: \u001b[38;5;28mbool\u001b[39m \u001b[38;5;241m=\u001b[39m \u001b[38;5;28;01mFalse\u001b[39;00m,\n\u001b[1;32m    383\u001b[0m ) \u001b[38;5;241m-\u001b[39m\u001b[38;5;241m>\u001b[39m \u001b[38;5;28;01mNone\u001b[39;00m:\n\u001b[1;32m    384\u001b[0m \u001b[38;5;250m    \u001b[39m\u001b[38;5;124;03m\"\"\"Optimize an objective function.\u001b[39;00m\n\u001b[1;32m    385\u001b[0m \n\u001b[1;32m    386\u001b[0m \u001b[38;5;124;03m    Optimization is done by choosing a suitable set of hyperparameter values from a given\u001b[39;00m\n\u001b[0;32m   (...)\u001b[0m\n\u001b[1;32m    473\u001b[0m \u001b[38;5;124;03m            If nested invocation of this method occurs.\u001b[39;00m\n\u001b[1;32m    474\u001b[0m \u001b[38;5;124;03m    \"\"\"\u001b[39;00m\n\u001b[0;32m--> 475\u001b[0m     _optimize(\n\u001b[1;32m    476\u001b[0m         study\u001b[38;5;241m=\u001b[39m\u001b[38;5;28mself\u001b[39m,\n\u001b[1;32m    477\u001b[0m         func\u001b[38;5;241m=\u001b[39mfunc,\n\u001b[1;32m    478\u001b[0m         n_trials\u001b[38;5;241m=\u001b[39mn_trials,\n\u001b[1;32m    479\u001b[0m         timeout\u001b[38;5;241m=\u001b[39mtimeout,\n\u001b[1;32m    480\u001b[0m         n_jobs\u001b[38;5;241m=\u001b[39mn_jobs,\n\u001b[1;32m    481\u001b[0m         catch\u001b[38;5;241m=\u001b[39m\u001b[38;5;28mtuple\u001b[39m(catch) \u001b[38;5;28;01mif\u001b[39;00m \u001b[38;5;28misinstance\u001b[39m(catch, Iterable) \u001b[38;5;28;01melse\u001b[39;00m (catch,),\n\u001b[1;32m    482\u001b[0m         callbacks\u001b[38;5;241m=\u001b[39mcallbacks,\n\u001b[1;32m    483\u001b[0m         gc_after_trial\u001b[38;5;241m=\u001b[39mgc_after_trial,\n\u001b[1;32m    484\u001b[0m         show_progress_bar\u001b[38;5;241m=\u001b[39mshow_progress_bar,\n\u001b[1;32m    485\u001b[0m     )\n",
      "File \u001b[0;32m/opt/anaconda3/lib/python3.12/site-packages/optuna/study/_optimize.py:63\u001b[0m, in \u001b[0;36m_optimize\u001b[0;34m(study, func, n_trials, timeout, n_jobs, catch, callbacks, gc_after_trial, show_progress_bar)\u001b[0m\n\u001b[1;32m     61\u001b[0m \u001b[38;5;28;01mtry\u001b[39;00m:\n\u001b[1;32m     62\u001b[0m     \u001b[38;5;28;01mif\u001b[39;00m n_jobs \u001b[38;5;241m==\u001b[39m \u001b[38;5;241m1\u001b[39m:\n\u001b[0;32m---> 63\u001b[0m         _optimize_sequential(\n\u001b[1;32m     64\u001b[0m             study,\n\u001b[1;32m     65\u001b[0m             func,\n\u001b[1;32m     66\u001b[0m             n_trials,\n\u001b[1;32m     67\u001b[0m             timeout,\n\u001b[1;32m     68\u001b[0m             catch,\n\u001b[1;32m     69\u001b[0m             callbacks,\n\u001b[1;32m     70\u001b[0m             gc_after_trial,\n\u001b[1;32m     71\u001b[0m             reseed_sampler_rng\u001b[38;5;241m=\u001b[39m\u001b[38;5;28;01mFalse\u001b[39;00m,\n\u001b[1;32m     72\u001b[0m             time_start\u001b[38;5;241m=\u001b[39m\u001b[38;5;28;01mNone\u001b[39;00m,\n\u001b[1;32m     73\u001b[0m             progress_bar\u001b[38;5;241m=\u001b[39mprogress_bar,\n\u001b[1;32m     74\u001b[0m         )\n\u001b[1;32m     75\u001b[0m     \u001b[38;5;28;01melse\u001b[39;00m:\n\u001b[1;32m     76\u001b[0m         \u001b[38;5;28;01mif\u001b[39;00m n_jobs \u001b[38;5;241m==\u001b[39m \u001b[38;5;241m-\u001b[39m\u001b[38;5;241m1\u001b[39m:\n",
      "File \u001b[0;32m/opt/anaconda3/lib/python3.12/site-packages/optuna/study/_optimize.py:160\u001b[0m, in \u001b[0;36m_optimize_sequential\u001b[0;34m(study, func, n_trials, timeout, catch, callbacks, gc_after_trial, reseed_sampler_rng, time_start, progress_bar)\u001b[0m\n\u001b[1;32m    157\u001b[0m         \u001b[38;5;28;01mbreak\u001b[39;00m\n\u001b[1;32m    159\u001b[0m \u001b[38;5;28;01mtry\u001b[39;00m:\n\u001b[0;32m--> 160\u001b[0m     frozen_trial \u001b[38;5;241m=\u001b[39m _run_trial(study, func, catch)\n\u001b[1;32m    161\u001b[0m \u001b[38;5;28;01mfinally\u001b[39;00m:\n\u001b[1;32m    162\u001b[0m     \u001b[38;5;66;03m# The following line mitigates memory problems that can be occurred in some\u001b[39;00m\n\u001b[1;32m    163\u001b[0m     \u001b[38;5;66;03m# environments (e.g., services that use computing containers such as GitHub Actions).\u001b[39;00m\n\u001b[1;32m    164\u001b[0m     \u001b[38;5;66;03m# Please refer to the following PR for further details:\u001b[39;00m\n\u001b[1;32m    165\u001b[0m     \u001b[38;5;66;03m# https://github.com/optuna/optuna/pull/325.\u001b[39;00m\n\u001b[1;32m    166\u001b[0m     \u001b[38;5;28;01mif\u001b[39;00m gc_after_trial:\n",
      "File \u001b[0;32m/opt/anaconda3/lib/python3.12/site-packages/optuna/study/_optimize.py:248\u001b[0m, in \u001b[0;36m_run_trial\u001b[0;34m(study, func, catch)\u001b[0m\n\u001b[1;32m    241\u001b[0m         \u001b[38;5;28;01massert\u001b[39;00m \u001b[38;5;28;01mFalse\u001b[39;00m, \u001b[38;5;124m\"\u001b[39m\u001b[38;5;124mShould not reach.\u001b[39m\u001b[38;5;124m\"\u001b[39m\n\u001b[1;32m    243\u001b[0m \u001b[38;5;28;01mif\u001b[39;00m (\n\u001b[1;32m    244\u001b[0m     frozen_trial\u001b[38;5;241m.\u001b[39mstate \u001b[38;5;241m==\u001b[39m TrialState\u001b[38;5;241m.\u001b[39mFAIL\n\u001b[1;32m    245\u001b[0m     \u001b[38;5;129;01mand\u001b[39;00m func_err \u001b[38;5;129;01mis\u001b[39;00m \u001b[38;5;129;01mnot\u001b[39;00m \u001b[38;5;28;01mNone\u001b[39;00m\n\u001b[1;32m    246\u001b[0m     \u001b[38;5;129;01mand\u001b[39;00m \u001b[38;5;129;01mnot\u001b[39;00m \u001b[38;5;28misinstance\u001b[39m(func_err, catch)\n\u001b[1;32m    247\u001b[0m ):\n\u001b[0;32m--> 248\u001b[0m     \u001b[38;5;28;01mraise\u001b[39;00m func_err\n\u001b[1;32m    249\u001b[0m \u001b[38;5;28;01mreturn\u001b[39;00m frozen_trial\n",
      "File \u001b[0;32m/opt/anaconda3/lib/python3.12/site-packages/optuna/study/_optimize.py:197\u001b[0m, in \u001b[0;36m_run_trial\u001b[0;34m(study, func, catch)\u001b[0m\n\u001b[1;32m    195\u001b[0m \u001b[38;5;28;01mwith\u001b[39;00m get_heartbeat_thread(trial\u001b[38;5;241m.\u001b[39m_trial_id, study\u001b[38;5;241m.\u001b[39m_storage):\n\u001b[1;32m    196\u001b[0m     \u001b[38;5;28;01mtry\u001b[39;00m:\n\u001b[0;32m--> 197\u001b[0m         value_or_values \u001b[38;5;241m=\u001b[39m func(trial)\n\u001b[1;32m    198\u001b[0m     \u001b[38;5;28;01mexcept\u001b[39;00m exceptions\u001b[38;5;241m.\u001b[39mTrialPruned \u001b[38;5;28;01mas\u001b[39;00m e:\n\u001b[1;32m    199\u001b[0m         \u001b[38;5;66;03m# TODO(mamu): Handle multi-objective cases.\u001b[39;00m\n\u001b[1;32m    200\u001b[0m         state \u001b[38;5;241m=\u001b[39m TrialState\u001b[38;5;241m.\u001b[39mPRUNED\n",
      "Cell \u001b[0;32mIn[97], line 14\u001b[0m, in \u001b[0;36mobjective\u001b[0;34m(trial)\u001b[0m\n\u001b[1;32m     11\u001b[0m SIGMA_DECAY \u001b[38;5;241m=\u001b[39m trial\u001b[38;5;241m.\u001b[39msuggest_float(\u001b[38;5;124m\"\u001b[39m\u001b[38;5;124mSIGMA_DECAY\u001b[39m\u001b[38;5;124m\"\u001b[39m, \u001b[38;5;241m1e-2\u001b[39m, \u001b[38;5;241m1e-1\u001b[39m, log\u001b[38;5;241m=\u001b[39m\u001b[38;5;28;01mTrue\u001b[39;00m)\n\u001b[1;32m     13\u001b[0m \u001b[38;5;66;03m# Train SOM with suggested parameters\u001b[39;00m\n\u001b[0;32m---> 14\u001b[0m som_arr \u001b[38;5;241m=\u001b[39m SOM(\n\u001b[1;32m     15\u001b[0m     [\u001b[38;5;241m28\u001b[39m, \u001b[38;5;241m28\u001b[39m],\n\u001b[1;32m     16\u001b[0m     arr_x_train,\n\u001b[1;32m     17\u001b[0m     DIMENSION,\n\u001b[1;32m     18\u001b[0m     EPOCHS,\n\u001b[1;32m     19\u001b[0m     LEARNING_RATE,\n\u001b[1;32m     20\u001b[0m     LEARNING_RATE_DECAY,\n\u001b[1;32m     21\u001b[0m     SIGMA,\n\u001b[1;32m     22\u001b[0m     SIGMA_DECAY,\n\u001b[1;32m     23\u001b[0m     showMode\u001b[38;5;241m=\u001b[39m\u001b[38;5;241m0\u001b[39m\n\u001b[1;32m     24\u001b[0m )\n\u001b[1;32m     26\u001b[0m label_map \u001b[38;5;241m=\u001b[39m createLabelMap(som_arr, arr_x_train, arr_y_train)\n\u001b[1;32m     27\u001b[0m test_predictions \u001b[38;5;241m=\u001b[39m classifySOM(som_arr, label_map, arr_x_test)\n",
      "Cell \u001b[0;32mIn[11], line 65\u001b[0m, in \u001b[0;36mSOM\u001b[0;34m(dispRes, trainingData, ndim, nepochs, eta0, etadecay, sgm0, sgmdecay, showMode)\u001b[0m\n\u001b[1;32m     61\u001b[0m trainingVector \u001b[38;5;241m=\u001b[39m trainingData[ntraining,:];\n\u001b[1;32m     63\u001b[0m \u001b[38;5;66;03m# Compute the Euclidean distance between the training vector and\u001b[39;00m\n\u001b[1;32m     64\u001b[0m \u001b[38;5;66;03m# each neuron in the SOM map\u001b[39;00m\n\u001b[0;32m---> 65\u001b[0m dist \u001b[38;5;241m=\u001b[39m getEuclideanDistance(trainingVector, som);\n\u001b[1;32m     67\u001b[0m \u001b[38;5;66;03m# Find 2D coordinates of the Best Matching Unit (bmu)\u001b[39;00m\n\u001b[1;32m     68\u001b[0m bmurow, bmucol \u001b[38;5;241m=\u001b[39mnp\u001b[38;5;241m.\u001b[39munravel_index(np\u001b[38;5;241m.\u001b[39margmin(dist, axis\u001b[38;5;241m=\u001b[39m\u001b[38;5;28;01mNone\u001b[39;00m), dist\u001b[38;5;241m.\u001b[39mshape) ;\n",
      "Cell \u001b[0;32mIn[11], line 17\u001b[0m, in \u001b[0;36mgetEuclideanDistance\u001b[0;34m(single_point, array)\u001b[0m\n\u001b[1;32m     14\u001b[0m points\u001b[38;5;241m=\u001b[39marray\u001b[38;5;241m.\u001b[39mreshape((nrows\u001b[38;5;241m*\u001b[39mncols,nfeatures))\n\u001b[1;32m     16\u001b[0m dist \u001b[38;5;241m=\u001b[39m (points \u001b[38;5;241m-\u001b[39m single_point)\u001b[38;5;241m*\u001b[39m\u001b[38;5;241m*\u001b[39m\u001b[38;5;241m2\u001b[39m\n\u001b[0;32m---> 17\u001b[0m dist \u001b[38;5;241m=\u001b[39m np\u001b[38;5;241m.\u001b[39msum(dist, axis\u001b[38;5;241m=\u001b[39m\u001b[38;5;241m1\u001b[39m)\n\u001b[1;32m     18\u001b[0m dist \u001b[38;5;241m=\u001b[39m np\u001b[38;5;241m.\u001b[39msqrt(dist)\n\u001b[1;32m     20\u001b[0m dist\u001b[38;5;241m=\u001b[39mdist\u001b[38;5;241m.\u001b[39mreshape((nrows,ncols))\n",
      "File \u001b[0;32m/opt/anaconda3/lib/python3.12/site-packages/numpy/core/fromnumeric.py:2172\u001b[0m, in \u001b[0;36m_sum_dispatcher\u001b[0;34m(a, axis, dtype, out, keepdims, initial, where)\u001b[0m\n\u001b[1;32m   2102\u001b[0m \u001b[38;5;250m    \u001b[39m\u001b[38;5;124;03m\"\"\"\u001b[39;00m\n\u001b[1;32m   2103\u001b[0m \u001b[38;5;124;03m    Clip (limit) the values in an array.\u001b[39;00m\n\u001b[1;32m   2104\u001b[0m \n\u001b[0;32m   (...)\u001b[0m\n\u001b[1;32m   2167\u001b[0m \n\u001b[1;32m   2168\u001b[0m \u001b[38;5;124;03m    \"\"\"\u001b[39;00m\n\u001b[1;32m   2169\u001b[0m     \u001b[38;5;28;01mreturn\u001b[39;00m _wrapfunc(a, \u001b[38;5;124m'\u001b[39m\u001b[38;5;124mclip\u001b[39m\u001b[38;5;124m'\u001b[39m, a_min, a_max, out\u001b[38;5;241m=\u001b[39mout, \u001b[38;5;241m*\u001b[39m\u001b[38;5;241m*\u001b[39mkwargs)\n\u001b[0;32m-> 2172\u001b[0m \u001b[38;5;28;01mdef\u001b[39;00m \u001b[38;5;21m_sum_dispatcher\u001b[39m(a, axis\u001b[38;5;241m=\u001b[39m\u001b[38;5;28;01mNone\u001b[39;00m, dtype\u001b[38;5;241m=\u001b[39m\u001b[38;5;28;01mNone\u001b[39;00m, out\u001b[38;5;241m=\u001b[39m\u001b[38;5;28;01mNone\u001b[39;00m, keepdims\u001b[38;5;241m=\u001b[39m\u001b[38;5;28;01mNone\u001b[39;00m,\n\u001b[1;32m   2173\u001b[0m                     initial\u001b[38;5;241m=\u001b[39m\u001b[38;5;28;01mNone\u001b[39;00m, where\u001b[38;5;241m=\u001b[39m\u001b[38;5;28;01mNone\u001b[39;00m):\n\u001b[1;32m   2174\u001b[0m     \u001b[38;5;28;01mreturn\u001b[39;00m (a, out)\n\u001b[1;32m   2177\u001b[0m \u001b[38;5;129m@array_function_dispatch\u001b[39m(_sum_dispatcher)\n\u001b[1;32m   2178\u001b[0m \u001b[38;5;28;01mdef\u001b[39;00m \u001b[38;5;21msum\u001b[39m(a, axis\u001b[38;5;241m=\u001b[39m\u001b[38;5;28;01mNone\u001b[39;00m, dtype\u001b[38;5;241m=\u001b[39m\u001b[38;5;28;01mNone\u001b[39;00m, out\u001b[38;5;241m=\u001b[39m\u001b[38;5;28;01mNone\u001b[39;00m, keepdims\u001b[38;5;241m=\u001b[39mnp\u001b[38;5;241m.\u001b[39m_NoValue,\n\u001b[1;32m   2179\u001b[0m         initial\u001b[38;5;241m=\u001b[39mnp\u001b[38;5;241m.\u001b[39m_NoValue, where\u001b[38;5;241m=\u001b[39mnp\u001b[38;5;241m.\u001b[39m_NoValue):\n",
      "\u001b[0;31mKeyboardInterrupt\u001b[0m: "
     ]
    }
   ],
   "source": [
    "import optuna\n",
    "from sklearn.metrics import classification_report\n",
    "\n",
    "def objective(trial):\n",
    "    # Suggest parameters\n",
    "    DIMENSION = trial.suggest_int(\"DIMENSION\", 70, 150)\n",
    "    EPOCHS = trial.suggest_int(\"EPOCHS\", 70, 200)\n",
    "    LEARNING_RATE = trial.suggest_float(\"LEARNING_RATE\", 1e-4, 1e-2, log = True)\n",
    "    LEARNING_RATE_DECAY = trial.suggest_float(\"LEARNING_RATE_DECAY\", 1e-4, 1e-2, log = True)\n",
    "    SIGMA = trial.suggest_int(\"SIGMA\", 10, 25)\n",
    "    SIGMA_DECAY = trial.suggest_float(\"SIGMA_DECAY\", 1e-2, 1e-1, log=True)\n",
    "    \n",
    "    # Train SOM with suggested parameters\n",
    "    som_arr = SOM(\n",
    "        [28, 28],\n",
    "        arr_x_train,\n",
    "        DIMENSION,\n",
    "        EPOCHS,\n",
    "        LEARNING_RATE,\n",
    "        LEARNING_RATE_DECAY,\n",
    "        SIGMA,\n",
    "        SIGMA_DECAY,\n",
    "        showMode=0\n",
    "    )\n",
    "    \n",
    "    label_map = createLabelMap(som_arr, arr_x_train, arr_y_train)\n",
    "    test_predictions = classifySOM(som_arr, label_map, arr_x_test)\n",
    "    \n",
    "    # Evaluate performance\n",
    "    score = classification_report(arr_y_test, test_predictions, output_dict=True)[\"accuracy\"]\n",
    "    return score\n",
    "\n",
    "# Run Bayesian optimization\n",
    "study = optuna.create_study(direction=\"maximize\")\n",
    "study.optimize(objective, n_trials=30)\n",
    "\n",
    "print(\"Best parameters:\", study.best_params)\n",
    "print(\"Best accuracy:\", study.best_value)\n"
   ]
  },
  {
   "cell_type": "code",
   "execution_count": 104,
   "metadata": {},
   "outputs": [
    {
     "data": {
      "text/plain": [
       "0.01098901098901099"
      ]
     },
     "execution_count": 104,
     "metadata": {},
     "output_type": "execute_result"
    }
   ],
   "source": [
    "study.best_value"
   ]
  },
  {
   "cell_type": "code",
   "execution_count": null,
   "metadata": {},
   "outputs": [
    {
     "data": {
      "text/plain": [
       "{'DIMENSION': 146,\n",
       " 'EPOCHS': 152,\n",
       " 'LEARNING_RATE': 0.0002667112104851474,\n",
       " 'LEARNING_RATE_DECAY': 0.00046451240879922834,\n",
       " 'SIGMA': 14,\n",
       " 'SIGMA_DECAY': 0.08521120756753868}"
      ]
     },
     "execution_count": 103,
     "metadata": {},
     "output_type": "execute_result"
    }
   ],
   "source": [
    "study.best_params"
   ]
  },
  {
   "cell_type": "code",
   "execution_count": 16,
   "metadata": {},
   "outputs": [
    {
     "name": "stderr",
     "output_type": "stream",
     "text": [
      "Training SOM: 100%|██████████| 100/100 [1:52:11<00:00, 67.32s/epoch]\n"
     ]
    },
    {
     "name": "stdout",
     "output_type": "stream",
     "text": [
      "Classification Report for Test Set\n",
      "              precision    recall  f1-score   support\n",
      "\n",
      "           1       0.00      0.00      0.00        52\n",
      "           2       0.00      0.00      0.00         8\n",
      "           3       0.00      0.00      0.00         4\n",
      "           4       0.01      1.00      0.02         1\n",
      "           5       0.00      0.00      0.00         2\n",
      "           6       0.00      0.00      0.00         3\n",
      "           7       0.00      0.00      0.00         1\n",
      "           9       0.00      0.00      0.00         2\n",
      "          10       0.00      0.00      0.00        10\n",
      "          14       0.00      0.00      0.00         2\n",
      "          16       0.00      0.00      0.00         6\n",
      "\n",
      "    accuracy                           0.01        91\n",
      "   macro avg       0.00      0.09      0.00        91\n",
      "weighted avg       0.00      0.01      0.00        91\n",
      "\n"
     ]
    },
    {
     "name": "stderr",
     "output_type": "stream",
     "text": [
      "/opt/anaconda3/lib/python3.12/site-packages/sklearn/metrics/_classification.py:1531: UndefinedMetricWarning: Precision is ill-defined and being set to 0.0 in labels with no predicted samples. Use `zero_division` parameter to control this behavior.\n",
      "  _warn_prf(average, modifier, f\"{metric.capitalize()} is\", len(result))\n",
      "/opt/anaconda3/lib/python3.12/site-packages/sklearn/metrics/_classification.py:1531: UndefinedMetricWarning: Precision is ill-defined and being set to 0.0 in labels with no predicted samples. Use `zero_division` parameter to control this behavior.\n",
      "  _warn_prf(average, modifier, f\"{metric.capitalize()} is\", len(result))\n",
      "/opt/anaconda3/lib/python3.12/site-packages/sklearn/metrics/_classification.py:1531: UndefinedMetricWarning: Precision is ill-defined and being set to 0.0 in labels with no predicted samples. Use `zero_division` parameter to control this behavior.\n",
      "  _warn_prf(average, modifier, f\"{metric.capitalize()} is\", len(result))\n"
     ]
    },
    {
     "data": {
      "image/png": "[encoded data removed]",
      "text/plain": [
       "<Figure size 1000x800 with 2 Axes>"
      ]
     },
     "metadata": {},
     "output_type": "display_data"
    }
   ],
   "source": [
    "DIMENSION = 300\n",
    "EPOCHS = 100\n",
    "LEARNING_RATE = 0.005\n",
    "LEARNING_RATE_DECAY = 0.03\n",
    "SIGMA = 25\n",
    "SIGMA_DECAY = 0.0852\n",
    "som_arr = SOM([28,28],arr_x_train, DIMENSION,EPOCHS,LEARNING_RATE,LEARNING_RATE_DECAY,SIGMA,SIGMA_DECAY, showMode=0)\n",
    "from sklearn.metrics import classification_report\n",
    "label_map = createLabelMap(som_arr, arr_x_train, arr_y_train)\n",
    "\n",
    "# Classify on test set\n",
    "test_predictions = classifySOM(som_arr, label_map, arr_x_test)\n",
    "\n",
    "print(\"Classification Report for Test Set\")\n",
    "print(classification_report(arr_y_test, test_predictions))\n",
    "plot_confusion_matrix(arr_y_test, test_predictions, title=\"Confusion Matrix - Test Set\")"
   ]
  },
  {
   "cell_type": "markdown",
   "metadata": {},
   "source": [
    "### Using smote"
   ]
  },
  {
   "cell_type": "code",
   "execution_count": null,
   "metadata": {},
   "outputs": [
    {
     "name": "stderr",
     "output_type": "stream",
     "text": [
      "[I 2025-01-07 12:01:07,766] A new study created in memory with name: no-name-e058b38a-2967-4a5e-b3f8-21b2aa358d57\n",
      "Training SOM:   0%|          | 0/102 [00:00<?, ?epoch/s]"
     ]
    }
   ],
   "source": [
    "import optuna\n",
    "from sklearn.metrics import classification_report\n",
    "\n",
    "def objective(trial):\n",
    "    # Suggest parameters\n",
    "    DIMENSION = trial.suggest_int(\"DIMENSION\", 70, 150)\n",
    "    EPOCHS = trial.suggest_int(\"EPOCHS\", 70, 200)\n",
    "    LEARNING_RATE = trial.suggest_float(\"LEARNING_RATE\", 1e-4, 1e-2, log = True)\n",
    "    LEARNING_RATE_DECAY = trial.suggest_float(\"LEARNING_RATE_DECAY\", 1e-4, 1e-2, log = True)\n",
    "    SIGMA = trial.suggest_int(\"SIGMA\", 10, 25)\n",
    "    SIGMA_DECAY = trial.suggest_float(\"SIGMA_DECAY\", 1e-2, 1e-1, log=True)\n",
    "    \n",
    "    # Train SOM with suggested parameters\n",
    "    som_arr = SOM(\n",
    "        [28, 28],\n",
    "        arr_x_train_smote,\n",
    "        DIMENSION,\n",
    "        EPOCHS,\n",
    "        LEARNING_RATE,\n",
    "        LEARNING_RATE_DECAY,\n",
    "        SIGMA,\n",
    "        SIGMA_DECAY,\n",
    "        showMode=0\n",
    "    )\n",
    "    \n",
    "    label_map = createLabelMap(som_arr, arr_x_train_smote, arr_y_train_smote)\n",
    "    test_predictions = classifySOM(som_arr, label_map, arr_x_test)\n",
    "    \n",
    "    # Evaluate performance\n",
    "    score = classification_report(arr_y_test, test_predictions, output_dict=True)[\"accuracy\"]\n",
    "    return score\n",
    "\n",
    "# Run Bayesian optimization\n",
    "study = optuna.create_study(direction=\"maximize\")\n",
    "study.optimize(objective, n_trials=20)\n",
    "\n",
    "print(\"Best parameters:\", study.best_params)\n",
    "print(\"Best accuracy:\", study.best_value)\n"
   ]
  },
  {
   "cell_type": "code",
   "execution_count": 42,
   "metadata": {},
   "outputs": [
    {
     "ename": "KeyboardInterrupt",
     "evalue": "",
     "output_type": "error",
     "traceback": [
      "\u001b[0;31m---------------------------------------------------------------------------\u001b[0m",
      "\u001b[0;31mKeyboardInterrupt\u001b[0m                         Traceback (most recent call last)",
      "Cell \u001b[0;32mIn[42], line 9\u001b[0m\n\u001b[1;32m      7\u001b[0m \u001b[38;5;66;03m#som_arr = SOM([28,28],arr_x_train_smote, DIMENSION,EPOCHS,LEARNING_RATE,LEARNING_RATE_DECAY,SIGMA,SIGMA_DECAY, showMode=0)\u001b[39;00m\n\u001b[1;32m      8\u001b[0m \u001b[38;5;28;01mfrom\u001b[39;00m \u001b[38;5;21;01msklearn\u001b[39;00m\u001b[38;5;21;01m.\u001b[39;00m\u001b[38;5;21;01mmetrics\u001b[39;00m \u001b[38;5;28;01mimport\u001b[39;00m classification_report\n\u001b[0;32m----> 9\u001b[0m label_map \u001b[38;5;241m=\u001b[39m createLabelMap(som_arr, arr_x_train_smote, arr_y_train_smote)\n\u001b[1;32m     11\u001b[0m \u001b[38;5;66;03m# Classify on test set\u001b[39;00m\n\u001b[1;32m     12\u001b[0m test_predictions \u001b[38;5;241m=\u001b[39m classifySOM(som_arr, label_map, arr_x_test)\n",
      "Cell \u001b[0;32mIn[4], line 136\u001b[0m, in \u001b[0;36mcreateLabelMap\u001b[0;34m(som, trainingData, labels)\u001b[0m\n\u001b[1;32m    134\u001b[0m label \u001b[38;5;241m=\u001b[39m labels[i]\n\u001b[1;32m    135\u001b[0m \u001b[38;5;66;03m# get distance (or likeliness of vector)\u001b[39;00m\n\u001b[0;32m--> 136\u001b[0m dist \u001b[38;5;241m=\u001b[39m getEuclideanDistance(trainingVector, som)\n\u001b[1;32m    137\u001b[0m bmurow, bmucol \u001b[38;5;241m=\u001b[39m np\u001b[38;5;241m.\u001b[39munravel_index(np\u001b[38;5;241m.\u001b[39margmin(dist, axis\u001b[38;5;241m=\u001b[39m\u001b[38;5;28;01mNone\u001b[39;00m), dist\u001b[38;5;241m.\u001b[39mshape)\n\u001b[1;32m    139\u001b[0m \u001b[38;5;66;03m# take label values for each BMU\u001b[39;00m\n",
      "Cell \u001b[0;32mIn[4], line 17\u001b[0m, in \u001b[0;36mgetEuclideanDistance\u001b[0;34m(single_point, array)\u001b[0m\n\u001b[1;32m     14\u001b[0m points\u001b[38;5;241m=\u001b[39marray\u001b[38;5;241m.\u001b[39mreshape((nrows\u001b[38;5;241m*\u001b[39mncols,nfeatures))\n\u001b[1;32m     16\u001b[0m dist \u001b[38;5;241m=\u001b[39m (points \u001b[38;5;241m-\u001b[39m single_point)\u001b[38;5;241m*\u001b[39m\u001b[38;5;241m*\u001b[39m\u001b[38;5;241m2\u001b[39m\n\u001b[0;32m---> 17\u001b[0m dist \u001b[38;5;241m=\u001b[39m np\u001b[38;5;241m.\u001b[39msum(dist, axis\u001b[38;5;241m=\u001b[39m\u001b[38;5;241m1\u001b[39m)\n\u001b[1;32m     18\u001b[0m dist \u001b[38;5;241m=\u001b[39m np\u001b[38;5;241m.\u001b[39msqrt(dist)\n\u001b[1;32m     20\u001b[0m dist\u001b[38;5;241m=\u001b[39mdist\u001b[38;5;241m.\u001b[39mreshape((nrows,ncols))\n",
      "File \u001b[0;32m/opt/anaconda3/lib/python3.12/site-packages/numpy/core/fromnumeric.py:2172\u001b[0m, in \u001b[0;36m_sum_dispatcher\u001b[0;34m(a, axis, dtype, out, keepdims, initial, where)\u001b[0m\n\u001b[1;32m   2102\u001b[0m \u001b[38;5;250m    \u001b[39m\u001b[38;5;124;03m\"\"\"\u001b[39;00m\n\u001b[1;32m   2103\u001b[0m \u001b[38;5;124;03m    Clip (limit) the values in an array.\u001b[39;00m\n\u001b[1;32m   2104\u001b[0m \n\u001b[0;32m   (...)\u001b[0m\n\u001b[1;32m   2167\u001b[0m \n\u001b[1;32m   2168\u001b[0m \u001b[38;5;124;03m    \"\"\"\u001b[39;00m\n\u001b[1;32m   2169\u001b[0m     \u001b[38;5;28;01mreturn\u001b[39;00m _wrapfunc(a, \u001b[38;5;124m'\u001b[39m\u001b[38;5;124mclip\u001b[39m\u001b[38;5;124m'\u001b[39m, a_min, a_max, out\u001b[38;5;241m=\u001b[39mout, \u001b[38;5;241m*\u001b[39m\u001b[38;5;241m*\u001b[39mkwargs)\n\u001b[0;32m-> 2172\u001b[0m \u001b[38;5;28;01mdef\u001b[39;00m \u001b[38;5;21m_sum_dispatcher\u001b[39m(a, axis\u001b[38;5;241m=\u001b[39m\u001b[38;5;28;01mNone\u001b[39;00m, dtype\u001b[38;5;241m=\u001b[39m\u001b[38;5;28;01mNone\u001b[39;00m, out\u001b[38;5;241m=\u001b[39m\u001b[38;5;28;01mNone\u001b[39;00m, keepdims\u001b[38;5;241m=\u001b[39m\u001b[38;5;28;01mNone\u001b[39;00m,\n\u001b[1;32m   2173\u001b[0m                     initial\u001b[38;5;241m=\u001b[39m\u001b[38;5;28;01mNone\u001b[39;00m, where\u001b[38;5;241m=\u001b[39m\u001b[38;5;28;01mNone\u001b[39;00m):\n\u001b[1;32m   2174\u001b[0m     \u001b[38;5;28;01mreturn\u001b[39;00m (a, out)\n\u001b[1;32m   2177\u001b[0m \u001b[38;5;129m@array_function_dispatch\u001b[39m(_sum_dispatcher)\n\u001b[1;32m   2178\u001b[0m \u001b[38;5;28;01mdef\u001b[39;00m \u001b[38;5;21msum\u001b[39m(a, axis\u001b[38;5;241m=\u001b[39m\u001b[38;5;28;01mNone\u001b[39;00m, dtype\u001b[38;5;241m=\u001b[39m\u001b[38;5;28;01mNone\u001b[39;00m, out\u001b[38;5;241m=\u001b[39m\u001b[38;5;28;01mNone\u001b[39;00m, keepdims\u001b[38;5;241m=\u001b[39mnp\u001b[38;5;241m.\u001b[39m_NoValue,\n\u001b[1;32m   2179\u001b[0m         initial\u001b[38;5;241m=\u001b[39mnp\u001b[38;5;241m.\u001b[39m_NoValue, where\u001b[38;5;241m=\u001b[39mnp\u001b[38;5;241m.\u001b[39m_NoValue):\n",
      "\u001b[0;31mKeyboardInterrupt\u001b[0m: "
     ]
    }
   ],
   "source": [
    "DIMENSION = 100\n",
    "EPOCHS = 50\n",
    "LEARNING_RATE = 0.005\n",
    "LEARNING_RATE_DECAY = 0.03\n",
    "SIGMA = 25\n",
    "SIGMA_DECAY = 0.0852\n",
    "#som_arr = SOM([28,28],arr_x_train_smote, DIMENSION,EPOCHS,LEARNING_RATE,LEARNING_RATE_DECAY,SIGMA,SIGMA_DECAY, showMode=0)\n",
    "from sklearn.metrics import classification_report\n",
    "label_map = createLabelMap(som_arr, arr_x_train_smote, arr_y_train_smote)\n",
    "\n",
    "# Classify on test set\n",
    "test_predictions = classifySOM(som_arr, label_map, arr_x_test)\n",
    "\n",
    "print(\"Classification Report for Test Set\")\n",
    "print(classification_report(arr_y_test, test_predictions))\n",
    "plot_confusion_matrix(arr_y_test, test_predictions, title=\"Confusion Matrix - Arrythmia SMOTE\")"
   ]
  },
  {
   "cell_type": "code",
   "execution_count": null,
   "metadata": {},
   "outputs": [],
   "source": []
  }
 ],
 "metadata": {
  "kernelspec": {
   "display_name": "base",
   "language": "python",
   "name": "python3"
  },
  "language_info": {
   "codemirror_mode": {
    "name": "ipython",
    "version": 3
   },
   "file_extension": ".py",
   "mimetype": "text/x-python",
   "name": "python",
   "nbconvert_exporter": "python",
   "pygments_lexer": "ipython3",
   "version": "3.12.7"
  }
 },
 "nbformat": 4,
 "nbformat_minor": 2
}
